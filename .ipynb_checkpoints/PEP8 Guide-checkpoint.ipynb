{
 "cells": [
  {
   "cell_type": "markdown",
   "id": "dd051aec-586c-43c8-b99c-8e04e8a13b44",
   "metadata": {},
   "source": [
    "# How to Write Beautiful Python Code With PEP 8\n",
    "* Code is read much more often than it is written\n",
    "* PEP 8 exists to improve the readability of Python code\n",
    "\n",
    "Source: https://realpython.com/python-pep8/#naming-conventions"
   ]
  },
  {
   "cell_type": "markdown",
   "id": "e5a5a7a8-2d14-434a-b9b3-ceb373b33fc5",
   "metadata": {},
   "source": [
    "## Naming conventions"
   ]
  },
  {
   "cell_type": "markdown",
   "id": "2545894c-d746-4543-89dd-1cb7a1dc231f",
   "metadata": {},
   "source": [
    "### Naming styles"
   ]
  },
  {
   "cell_type": "markdown",
   "id": "4564fb52-0535-41fc-accd-253155650820",
   "metadata": {},
   "source": [
    "#### Function"
   ]
  },
  {
   "cell_type": "markdown",
   "id": "7b067b80-79bd-4de5-b115-72fb30d4be67",
   "metadata": {},
   "source": [
    "|Type|Naming Convention|Examples|\n",
    "|---|---|---|\n",
    "|Function|Use a lowercase word or words. Separate words by underscores.|function, my_function|"
   ]
  },
  {
   "cell_type": "markdown",
   "id": "d65e4b0d-2e65-4a11-aa1f-aae16a32f487",
   "metadata": {},
   "source": [
    "#### Variable"
   ]
  },
  {
   "cell_type": "markdown",
   "id": "5279dccd-9bcb-4a01-80c7-c85cafb90b97",
   "metadata": {},
   "source": [
    "|Type|Naming Convention|Examples|\n",
    "|---|---|---|\n",
    "|Variable|Use a lowercase single letter, word, or words. Separate words with underscores.|x, var, my_variable|"
   ]
  },
  {
   "cell_type": "markdown",
   "id": "2fcff8b6-73cc-414d-932c-bdd5284df46a",
   "metadata": {},
   "source": [
    "#### Class"
   ]
  },
  {
   "cell_type": "markdown",
   "id": "391d27bb-2303-4614-b783-1d7f8891c5f5",
   "metadata": {},
   "source": [
    "|Type|Naming Convention|Examples|\n",
    "|---|---|---|\n",
    "|Class|Start each word with a capital letter. Do not separate words with underscores.|Model, MyClass|\n",
    "\n",
    "Note: This style is called camel case or pascal case."
   ]
  },
  {
   "cell_type": "markdown",
   "id": "803f1c13-e449-4794-8714-7e8a7332179e",
   "metadata": {},
   "source": [
    "#### Method\n"
   ]
  },
  {
   "cell_type": "markdown",
   "id": "6db2857a-c05c-40de-a206-0f4976f3ee4e",
   "metadata": {},
   "source": [
    "|Type|Naming Convention|Examples|\n",
    "|---|---|---|\n",
    "|Method|Use a lowercase word or words. Separate words with underscores.|class_method, method|"
   ]
  },
  {
   "cell_type": "markdown",
   "id": "76442f95-65cf-4e89-8c96-d9e4a89c0a8c",
   "metadata": {},
   "source": [
    "#### Constant"
   ]
  },
  {
   "cell_type": "markdown",
   "id": "5aef6b59-31e3-4ce6-bede-6a99fb8fa0ec",
   "metadata": {},
   "source": [
    "|Type|Naming Convention|Examples|\n",
    "|---|---|---|\n",
    "|Constant|Use an uppercase single letter, word, or words. Separate words with underscores.|CONSTANT, MY_CONSTANT, MY_LONG_CONSTANT|"
   ]
  },
  {
   "cell_type": "markdown",
   "id": "6121fe66-09b7-4dc3-b149-58d021431c6f",
   "metadata": {},
   "source": [
    "#### Module"
   ]
  },
  {
   "cell_type": "markdown",
   "id": "d0fbd3fb-3d80-4056-88dc-060c99596a90",
   "metadata": {},
   "source": [
    "|Type|Naming Convention|Examples|\n",
    "|---|---|---|\n",
    "|Module|Use a short, lowercase word or words. Separate words with underscores.|module.py, my_module.py|"
   ]
  },
  {
   "cell_type": "markdown",
   "id": "6383987e-5339-4eed-8c77-c434c3ebb9e5",
   "metadata": {},
   "source": [
    "#### Package"
   ]
  },
  {
   "cell_type": "markdown",
   "id": "6d10ea8a-482a-4f1d-8ce3-25d4a37ef181",
   "metadata": {},
   "source": [
    "|Type|Naming Convention|Examples|\n",
    "|---|---|---|\n",
    "|Module|Use a short, lowercase word or words. Do not separate words with underscores.|package, mypackage|"
   ]
  },
  {
   "cell_type": "markdown",
   "id": "d7711f8c-8bd9-4173-a1be-1f9eb9b2ef5f",
   "metadata": {},
   "source": [
    "### Name choice\n",
    "1. Always try to use the most concise but descriptive names possible\n",
    "2. Use descriptive names to make it clear what the object represents\n",
    "3. Avoid abbreviatinons as it can be more difficult to remember their meaning"
   ]
  },
  {
   "cell_type": "markdown",
   "id": "82c90012-e510-4d9b-b1bd-c0142be0f30e",
   "metadata": {},
   "source": [
    "## Code layout"
   ]
  },
  {
   "cell_type": "markdown",
   "id": "d5363e1a-76c7-4dfe-bb1e-5029b6df81d5",
   "metadata": {},
   "source": [
    "### Blank lines\n",
    "\n",
    "1. Surround top-level functions and classes with two blank lines.\n",
    "2. Surround method definitions inside classes with a single blank line.\n",
    "3. Use blank lines sparingly inside functions to show clear steps. "
   ]
  },
  {
   "cell_type": "code",
   "execution_count": 4,
   "id": "9a319cb6-0329-4d97-950b-298667d23876",
   "metadata": {},
   "outputs": [],
   "source": [
    "# 1. Surround top-level functions and classes with two blank lines.\n",
    "class MyFirstClass:\n",
    "    pass\n",
    "\n",
    "\n",
    "class MySecondClass:\n",
    "    pass\n",
    "\n",
    "\n",
    "def top_level_function():\n",
    "    return None"
   ]
  },
  {
   "cell_type": "code",
   "execution_count": 3,
   "id": "6704d953-db25-4e14-a986-4b20ecf9b70b",
   "metadata": {},
   "outputs": [],
   "source": [
    "# 2. Surround method definitions inside classes with a single blank line.\n",
    "class MyClass:\n",
    "    def first_method(self):\n",
    "        return None\n",
    "\n",
    "    def second_method(self):\n",
    "        return None"
   ]
  },
  {
   "cell_type": "code",
   "execution_count": 2,
   "id": "ece99c80-3d12-4cd4-8e55-f4d599e52b2b",
   "metadata": {},
   "outputs": [],
   "source": [
    "# 3. Use blank lines sparingly inside functions to show clear steps.\n",
    "def calculate_variance(number_list):\n",
    "    sum_list = 0\n",
    "    for number in number_list:\n",
    "        sum_list = sum_list + number\n",
    "    mean = sum_list / len(number_list)\n",
    "\n",
    "    sum_squares = 0\n",
    "    for number in number_list:\n",
    "        sum_squares = sum_squares + number**2\n",
    "    mean_squares = sum_squares / len(number_list)\n",
    "\n",
    "    return mean_squares - mean**2"
   ]
  },
  {
   "cell_type": "markdown",
   "id": "fea81947-334b-4192-a6df-d908fb630fb0",
   "metadata": {},
   "source": [
    "### Line breaking\n",
    "\n",
    "1. Lines should be limited to 79 characters.\n",
    "2. Two approaches to line breaking. Use the first when possible.\n",
    "   - Python assumes line continuation if code is contained within parentheses(), brackets[], or braces{}\n",
    "   - Use backslashes to break lines\n",
    "3. If line breaking needs to occur around binary operators, like + and *, it should occur before the operator. "
   ]
  },
  {
   "cell_type": "code",
   "execution_count": null,
   "id": "45fafe55-e52a-4766-a527-9718abce0f02",
   "metadata": {},
   "outputs": [],
   "source": [
    "# 2. Line break within parentheses()\n",
    "def function(arg_one, arg_two,\n",
    "             arg_three, arg_four):\n",
    "    return arg_one"
   ]
  },
  {
   "cell_type": "code",
   "execution_count": 5,
   "id": "d214237c-63e5-429c-8b78-a06e030c0e7f",
   "metadata": {},
   "outputs": [
    {
     "ename": "ModuleNotFoundError",
     "evalue": "No module named 'mypkg'",
     "output_type": "error",
     "traceback": [
      "\u001b[1;31m---------------------------------------------------------------------------\u001b[0m",
      "\u001b[1;31mModuleNotFoundError\u001b[0m                       Traceback (most recent call last)",
      "Cell \u001b[1;32mIn[5], line 2\u001b[0m\n\u001b[0;32m      1\u001b[0m \u001b[38;5;66;03m# 2. Line break via backslash\u001b[39;00m\n\u001b[1;32m----> 2\u001b[0m \u001b[38;5;28;01mfrom\u001b[39;00m \u001b[38;5;21;01mmypkg\u001b[39;00m \u001b[38;5;28;01mimport\u001b[39;00m example1, \\\n\u001b[0;32m      3\u001b[0m     example2, example3\n",
      "\u001b[1;31mModuleNotFoundError\u001b[0m: No module named 'mypkg'"
     ]
    }
   ],
   "source": [
    "# 2. Line break via backslash\n",
    "from mypkg import example1, \\\n",
    "    example2, example3"
   ]
  },
  {
   "cell_type": "code",
   "execution_count": 8,
   "id": "43856dac-a404-457d-849e-5196863fb52f",
   "metadata": {},
   "outputs": [],
   "source": [
    "# 3. Line breaking should occur before binary operators\n",
    "first_variable = 1\n",
    "second_variable = 2\n",
    "third_variable = 3\n",
    "\n",
    "total = (first_variable\n",
    "         + second_variable\n",
    "         - third_variable)"
   ]
  },
  {
   "cell_type": "markdown",
   "id": "c70deca7-2524-4fcb-a9b6-ee5342cf48d0",
   "metadata": {},
   "source": [
    "## Indentation\n",
    "1. Use 4 consecutive spaces to indicate indentation\n",
    "2. Prefer spaces over tabs\n",
    "3. Be consistent\n",
    "\n",
    "Note: Text editors can be configured so the tab button gives 4 spaces! "
   ]
  },
  {
   "cell_type": "markdown",
   "id": "d4b2964b-04fd-48f0-9141-aedd73999039",
   "metadata": {},
   "source": [
    "### Indentation following line breaks\n",
    "Following a line break, there are two styles of indentation you can use:\n",
    "\n",
    "**Style 1** : Align the indented block with the opening delimiter\n",
    "   - For if statements, insert a comment after the final condition to make it clear where the nested statement begins and ends"
   ]
  },
  {
   "cell_type": "code",
   "execution_count": 19,
   "id": "f3301041-8210-4878-99e5-d18b0767871f",
   "metadata": {},
   "outputs": [],
   "source": [
    "#  1. Align the indented block with the opening delimiter\n",
    "def function(arg_one, arg_two,\n",
    "             arg_three, arg_four):\n",
    "    return arg_one"
   ]
  },
  {
   "cell_type": "code",
   "execution_count": 23,
   "id": "61d7d6c7-ec83-4d5a-86e9-ea27ccfff476",
   "metadata": {},
   "outputs": [
    {
     "name": "stdout",
     "output_type": "stream",
     "text": [
      "5\n"
     ]
    }
   ],
   "source": [
    "#  1. For if statements, insert a comment after the final condition to make it clear where the nested statement begins and ends\n",
    "x = 5\n",
    "if (x > 3 and\n",
    "    x < 10):\n",
    "    # Both conditions satisfied\n",
    "    print(x)"
   ]
  },
  {
   "cell_type": "markdown",
   "id": "433934fa-e6a9-433f-89cf-3318701f32ec",
   "metadata": {},
   "source": [
    "**Style 2**: Use a hanging indent where every line but the first in a paragraph or statement is indented\n",
    "- There must not be any arguments on the first line\n",
    "- To distinguish between function arguments and the function body, add extra indentation to distinguish the continued line from code contained inside the function"
   ]
  },
  {
   "cell_type": "code",
   "execution_count": 24,
   "id": "bedcf696-269a-476c-80d7-cfb4e99071c6",
   "metadata": {},
   "outputs": [],
   "source": [
    "# 2. Every line but the first in a paragraph or statement is indented. There must not be any arguments on the first line\n",
    "arg_one, arg_two, arg_three, arg_four = range(4)\n",
    "\n",
    "var = function(\n",
    "    arg_one, arg_two,\n",
    "    arg_three, arg_four)"
   ]
  },
  {
   "cell_type": "code",
   "execution_count": 25,
   "id": "abe0f210-15d5-4d6b-8b07-eb500f6b1a8e",
   "metadata": {},
   "outputs": [],
   "source": [
    "# 2. To distinguish between function arguments and the function body, add extra indentation to distinguish the continued line from code contained inside the function\n",
    "def function(\n",
    "        arg_one, arg_two,\n",
    "        arg_three, arg_four):\n",
    "    return arg_one"
   ]
  },
  {
   "cell_type": "markdown",
   "id": "30984f50-66d9-4d6f-b621-366ef04afc5d",
   "metadata": {},
   "source": [
    "### Cosing brackets\n",
    "Two options for the position of the closing brace in implied line continuations:\n",
    "1. Line up the closing brace with the first non-whitespace character of the previous line\n",
    "2. Line up the closing brace with the first character of the line that starts the construct\n",
    "\n",
    "Note: Be consistent!"
   ]
  },
  {
   "cell_type": "code",
   "execution_count": 26,
   "id": "e580f879-3f0b-4f7c-9aea-65b28c5686e8",
   "metadata": {},
   "outputs": [],
   "source": [
    "# 1. Line up the closing brace with the first non-whitespace character of the previous line\n",
    "list_of_numbers = [\n",
    "    1, 2, 3,\n",
    "    4, 5, 6,\n",
    "    7, 8, 9\n",
    "    ]"
   ]
  },
  {
   "cell_type": "code",
   "execution_count": 27,
   "id": "a6dc0e38-5491-4902-a5f7-30d4348cbfa4",
   "metadata": {},
   "outputs": [],
   "source": [
    "# 2. Line up the closing brace with the first character of the line that starts the construct\n",
    "list_of_numbers = [\n",
    "    1, 2, 3,\n",
    "    4, 5, 6,\n",
    "    7, 8, 9\n",
    "]"
   ]
  },
  {
   "cell_type": "markdown",
   "id": "fc858a24-55d1-48d8-b996-9fe7ca9ee55c",
   "metadata": {},
   "source": [
    "## Comments\n",
    "1. Limit the line length of comments and docstrings to 72 characters\n",
    "2. Use complete sentences, starting with a capital letter\n",
    "3. Make sure to update comments if you change your code"
   ]
  },
  {
   "cell_type": "markdown",
   "id": "56f90a36-7480-4816-905e-d314de112301",
   "metadata": {},
   "source": [
    "### Block comments\n",
    "Use block comments to document a small section of code\n",
    "1. Indent block comments to same level as the piece of code they describe\n",
    "2. Start each line with a single # followed by a space\n",
    "3. Seperate paragraphs by a line with a single #"
   ]
  },
  {
   "cell_type": "code",
   "execution_count": 29,
   "id": "8099e57f-5407-4de9-a9b2-f77cb073c477",
   "metadata": {},
   "outputs": [
    {
     "name": "stdout",
     "output_type": "stream",
     "text": [
      "0 \n",
      "\n"
     ]
    }
   ],
   "source": [
    "for i in range(0, 1):\n",
    "    # Loop over i ten times and print out the value of i, followed by a\n",
    "    # new line character\n",
    "    print(i, '\\n')"
   ]
  },
  {
   "cell_type": "code",
   "execution_count": 30,
   "id": "1e241f61-4064-4637-8b9d-f67a497d3764",
   "metadata": {},
   "outputs": [],
   "source": [
    "def quadratic(a, b, c, x):\n",
    "    # Calculate the solution to a quadratic equation using the quadratic\n",
    "    # formula.\n",
    "    #\n",
    "    # There are always two solutions to a quadratic equation, x_1 and x_2.\n",
    "    x_1 = (- b+(b**2-4*a*c)**(1/2)) / (2*a)\n",
    "    x_2 = (- b-(b**2-4*a*c)**(1/2)) / (2*a)\n",
    "    return x_1, x_2"
   ]
  },
  {
   "cell_type": "markdown",
   "id": "d0634c31-a034-4336-9b33-20b8cd27c847",
   "metadata": {},
   "source": [
    "### Inline comments\n",
    "Inline comments explain a single statement in a piece of code\n",
    "1. Use sparingly (e.g. renaming the below variable student_name would remove the need for an inline comment)\n",
    "2. Write on the same line they correspond to\n",
    "3. Seperate by >= two spaces from the corresponding code\n",
    "4. Begin with a single # followed by a space"
   ]
  },
  {
   "cell_type": "code",
   "execution_count": 32,
   "id": "50ddf4ed-5657-45cf-87aa-bc7bdfd9f8f9",
   "metadata": {},
   "outputs": [],
   "source": [
    "x = 'John Smith'  # Student Name"
   ]
  },
  {
   "cell_type": "markdown",
   "id": "c3369a8e-9947-442e-8ed4-0bd7f8fbe2a2",
   "metadata": {},
   "source": [
    "### Documentation strings (docstrings)\n",
    "Docstrings appear on the first line of any function, class, method, or module\n",
    "1. They are enclosed in double (\"\"\") or single (''') quotation marks\n",
    "2. Write them for all public functions, classes, methods and modules\n",
    "3. For multiline docstrings, put the \"\"\" that ends the docstring on a new line\n",
    "4. For singleline docstrings, put the \"\"\" that ends the docstring on the same line"
   ]
  },
  {
   "cell_type": "code",
   "execution_count": null,
   "id": "351f1f57-3f11-4c35-96c8-d04200353738",
   "metadata": {},
   "outputs": [],
   "source": [
    "def quadratic(a, b, c, x):\n",
    "    \"\"\"Solve quadratic equation via the quadratic formula.\n",
    "\n",
    "    A quadratic equation has the following form:\n",
    "    ax**2 + bx + c = 0\n",
    "\n",
    "    There always two solutions to a quadratic equation: x_1 & x_2.\n",
    "    \"\"\"\n",
    "    x_1 = (- b+(b**2-4*a*c)**(1/2)) / (2*a)\n",
    "    x_2 = (- b-(b**2-4*a*c)**(1/2)) / (2*a)\n",
    "\n",
    "    return x_1, x_2"
   ]
  },
  {
   "cell_type": "code",
   "execution_count": 33,
   "id": "089f13f4-c452-4735-8686-2f81ef090af7",
   "metadata": {},
   "outputs": [],
   "source": [
    "def quadratic(a, b, c, x):\n",
    "    \"\"\"Use the quadratic formula\"\"\"\n",
    "    x_1 = (- b+(b**2-4*a*c)**(1/2)) / (2*a)\n",
    "    x_2 = (- b-(b**2-4*a*c)**(1/2)) / (2*a)\n",
    "\n",
    "    return x_1, x_2"
   ]
  },
  {
   "cell_type": "markdown",
   "id": "44e96782-21de-4329-a47a-96e5e3d43fb9",
   "metadata": {},
   "source": [
    "## Whitespace in Expressions and Statements"
   ]
  },
  {
   "cell_type": "markdown",
   "id": "4db181cb-5b3f-40de-92be-38e7b0121642",
   "metadata": {},
   "source": [
    "### Whitespace around binary operators\n",
    "Surround the following binary operators with a single space on either side:\n",
    "1. Assignment operators: =, +=, -=, ...\n",
    "2. Comparison operators: ==, !=, >=, <=, is, is not, in, not in, ...\n",
    "3. Boolean operators: and, or, not\n",
    "\n",
    "You should surround most operators with whitespace. Exceptions:\n",
    "* When = is used to assign a default value to a function argument, do not surround it with spaces\n",
    "* When there is more than one operator in a statement, only add space around operators with the lowest priority\n",
    "\n",
    "Note: You must use the same amount of whitespace either side of an operator!"
   ]
  },
  {
   "cell_type": "code",
   "execution_count": 35,
   "id": "c6a1606a-5cbe-465b-b35e-5c08499e9924",
   "metadata": {},
   "outputs": [],
   "source": [
    "def function(default_parameter=5):\n",
    "    pass"
   ]
  },
  {
   "cell_type": "code",
   "execution_count": 40,
   "id": "e12e64ce-fa85-42e8-bf6e-47af7cb207e0",
   "metadata": {},
   "outputs": [],
   "source": [
    "x = 2\n",
    "y = x**2 + 5\n",
    "z = (x+y) * (x-y)"
   ]
  },
  {
   "cell_type": "code",
   "execution_count": 39,
   "id": "adeb24c4-0029-4904-997f-499dfd15b2a3",
   "metadata": {},
   "outputs": [],
   "source": [
    "# The and operator has lowest priority\n",
    "if x>5 and x%2==0:\n",
    "    print('x is larger than 5 and divisible by 2!')"
   ]
  },
  {
   "cell_type": "code",
   "execution_count": 41,
   "id": "91fcba35-1b6b-4b25-a6d6-efdf296ac267",
   "metadata": {},
   "outputs": [
    {
     "data": {
      "text/plain": [
       "list[slice(3, 4, None)]"
      ]
     },
     "execution_count": 41,
     "metadata": {},
     "output_type": "execute_result"
    }
   ],
   "source": [
    "# Treat the colon in a slice as the operator with lowest priority\n",
    "list[x+1 : x+2]"
   ]
  },
  {
   "cell_type": "markdown",
   "id": "aff4715f-9d38-4fcd-a33b-a14d456adf8f",
   "metadata": {},
   "source": [
    "### When NOT TO ADD whitespace\n",
    "1. At the end of a line (trailing spaces)\n",
    "2. Immediately inside parentheses, brackets and braces\n",
    "3. Before a comma, colon or semicolon\n",
    "4. Before the open parenthesis containing the argument list when calling a function\n",
    "5. Before the open bracket that starts an index or slice\n",
    "6. Between a trailing comma and a parenthesis\n",
    "7. To align operators"
   ]
  },
  {
   "cell_type": "code",
   "execution_count": 44,
   "id": "f7dc195e-1782-4c4d-be90-40d163e83745",
   "metadata": {},
   "outputs": [],
   "source": [
    "# Recommended\n",
    "my_list = [1, 2, 3]"
   ]
  },
  {
   "cell_type": "code",
   "execution_count": 43,
   "id": "08e357d6-e8c8-47cc-b723-e77b55e56465",
   "metadata": {},
   "outputs": [
    {
     "name": "stdout",
     "output_type": "stream",
     "text": [
      "5 6\n"
     ]
    }
   ],
   "source": [
    "x = 5\n",
    "y = 6\n",
    "\n",
    "# Recommended\n",
    "print(x, y)"
   ]
  },
  {
   "cell_type": "code",
   "execution_count": 45,
   "id": "e089bddb-6e96-48c3-80be-93493a9fc0fd",
   "metadata": {},
   "outputs": [
    {
     "data": {
      "text/plain": [
       "6"
      ]
     },
     "execution_count": 45,
     "metadata": {},
     "output_type": "execute_result"
    }
   ],
   "source": [
    "def double(x):\n",
    "    return x * 2\n",
    "\n",
    "# Recommended\n",
    "double(3)"
   ]
  },
  {
   "cell_type": "code",
   "execution_count": 46,
   "id": "91da4e90-e64f-4949-9bdd-9900b44b8968",
   "metadata": {},
   "outputs": [
    {
     "data": {
      "text/plain": [
       "list[3]"
      ]
     },
     "execution_count": 46,
     "metadata": {},
     "output_type": "execute_result"
    }
   ],
   "source": [
    "# Recommended\n",
    "list[3]"
   ]
  },
  {
   "cell_type": "code",
   "execution_count": 47,
   "id": "f0b4bddc-f80a-4a0a-834c-437c125dd18c",
   "metadata": {},
   "outputs": [],
   "source": [
    "# Recommended\n",
    "tuple = (1,)"
   ]
  },
  {
   "cell_type": "code",
   "execution_count": 48,
   "id": "df196189-74f5-4be3-acb8-7d673a5c4235",
   "metadata": {},
   "outputs": [],
   "source": [
    "# Recommended\n",
    "var1 = 5\n",
    "var2 = 6\n",
    "some_long_var = 7"
   ]
  },
  {
   "cell_type": "markdown",
   "id": "29020056-e5bb-40bb-8b43-50d13ca7c523",
   "metadata": {},
   "source": [
    "## Programming Recommendations"
   ]
  },
  {
   "cell_type": "markdown",
   "id": "de940e25-8706-4dfe-b777-9a2be083715c",
   "metadata": {},
   "source": [
    "### If statements\n",
    "* The below tips relate to if statements. \n",
    "* Remember, the expression before the colon is evaluated first, the if statement is then based on the outcome."
   ]
  },
  {
   "cell_type": "markdown",
   "id": "8e7df74d-692c-45c8-8e88-be41e895add9",
   "metadata": {},
   "source": [
    "**1. Don’t compare Boolean values to True or False using the equivalence operator**"
   ]
  },
  {
   "cell_type": "code",
   "execution_count": 51,
   "id": "a82cae42-ca69-4dff-bc23-07322ef6622a",
   "metadata": {},
   "outputs": [],
   "source": [
    "# Recommended\n",
    "my_bool = 6 > 5\n",
    "\n",
    "if my_bool:\n",
    "    '6 is bigger than 5'"
   ]
  },
  {
   "cell_type": "code",
   "execution_count": 52,
   "id": "f5dfd7d5-d244-4422-b574-6aa457714940",
   "metadata": {},
   "outputs": [],
   "source": [
    "# Not recommended\n",
    "my_bool = 6 > 5\n",
    "\n",
    "if my_bool == True:\n",
    "    '6 is bigger than 5'"
   ]
  },
  {
   "cell_type": "markdown",
   "id": "8a94f64b-4b0e-4f2a-8677-4f3eb66245e3",
   "metadata": {},
   "source": [
    "**2. Use the fact that empty sequences are falsy in if statements**\n",
    "\n",
    "Note: Falsy means they are interpreted as false."
   ]
  },
  {
   "cell_type": "code",
   "execution_count": 53,
   "id": "6afd61e2-06ce-4945-8a16-26c3ee3b4dff",
   "metadata": {},
   "outputs": [
    {
     "name": "stdout",
     "output_type": "stream",
     "text": [
      "List is empty!\n"
     ]
    }
   ],
   "source": [
    "# Recommended\n",
    "my_list = []\n",
    "\n",
    "if not my_list:\n",
    "    print('List is empty!')"
   ]
  },
  {
   "cell_type": "code",
   "execution_count": 54,
   "id": "3064dbf7-f133-46ca-851b-6ae3b7fbe1d2",
   "metadata": {},
   "outputs": [
    {
     "name": "stdout",
     "output_type": "stream",
     "text": [
      "List is empty!\n"
     ]
    }
   ],
   "source": [
    "# Not recommended\n",
    "my_list = []\n",
    "\n",
    "if not len(my_list):\n",
    "    print('List is empty!')"
   ]
  },
  {
   "cell_type": "markdown",
   "id": "071860bb-6df6-4913-9910-c82a0fb4508c",
   "metadata": {},
   "source": [
    "**3. Use is not rather than not ... is in if statements**"
   ]
  },
  {
   "cell_type": "code",
   "execution_count": 63,
   "id": "23f3b136-4ea9-4b2c-a792-b55bae08b1b6",
   "metadata": {},
   "outputs": [
    {
     "name": "stdout",
     "output_type": "stream",
     "text": [
      "x exists!\n"
     ]
    }
   ],
   "source": [
    "# Recommended\n",
    "x = 1\n",
    "\n",
    "if x is not None:\n",
    "    print('x exists!')"
   ]
  },
  {
   "cell_type": "code",
   "execution_count": 64,
   "id": "e57a9f3c-1373-44e0-acd6-682cce275633",
   "metadata": {},
   "outputs": [
    {
     "name": "stdout",
     "output_type": "stream",
     "text": [
      "x exists!\n"
     ]
    }
   ],
   "source": [
    "# Not recommended\n",
    "x = 1\n",
    "\n",
    "if not x is None:\n",
    "    print('x exists!')"
   ]
  },
  {
   "cell_type": "markdown",
   "id": "1eb4c6aa-1375-4c2e-a49a-fc6c670e2535",
   "metadata": {},
   "source": [
    "**4. Don’t use if x: when you mean if x is not None**\n",
    "* not None and truthy are not equivalent (e.g. empty list is not None but falsy)\n",
    "* A common mistake when checking if a function argument (with default None value) has been given a value is to check if it's truthy\n",
    "* Instead, check that arg is not None\n"
   ]
  },
  {
   "cell_type": "code",
   "execution_count": 74,
   "id": "7f911a86-6197-4e94-955d-c89663fe7110",
   "metadata": {},
   "outputs": [
    {
     "ename": "SyntaxError",
     "evalue": "incomplete input (1589509120.py, line 3)",
     "output_type": "error",
     "traceback": [
      "\u001b[1;36m  Cell \u001b[1;32mIn[74], line 3\u001b[1;36m\u001b[0m\n\u001b[1;33m    # Do something with arg...\u001b[0m\n\u001b[1;37m                              ^\u001b[0m\n\u001b[1;31mSyntaxError\u001b[0m\u001b[1;31m:\u001b[0m incomplete input\n"
     ]
    }
   ],
   "source": [
    "# Recommended\n",
    "if arg is not None:\n",
    "    # Do something with arg..."
   ]
  },
  {
   "cell_type": "code",
   "execution_count": 73,
   "id": "5a8ff60c-9c58-4124-8f1d-8930541085c0",
   "metadata": {},
   "outputs": [
    {
     "ename": "SyntaxError",
     "evalue": "incomplete input (3860567812.py, line 3)",
     "output_type": "error",
     "traceback": [
      "\u001b[1;36m  Cell \u001b[1;32mIn[73], line 3\u001b[1;36m\u001b[0m\n\u001b[1;33m    # Do something with arg..\u001b[0m\n\u001b[1;37m                             ^\u001b[0m\n\u001b[1;31mSyntaxError\u001b[0m\u001b[1;31m:\u001b[0m incomplete input\n"
     ]
    }
   ],
   "source": [
    "# Not Recommended\n",
    "if arg:\n",
    "    # Do something with arg.."
   ]
  },
  {
   "cell_type": "markdown",
   "id": "771e529e-9c3a-44af-802f-7426b9382881",
   "metadata": {},
   "source": [
    "### Slicing strings"
   ]
  },
  {
   "cell_type": "markdown",
   "id": "5f06f640-b1cb-4269-885f-d6cae7c03be0",
   "metadata": {},
   "source": [
    "**1. Use .startswith() and .endswith() instead of slicing with a colon operator**"
   ]
  },
  {
   "cell_type": "code",
   "execution_count": 68,
   "id": "2d8b4506-9fb4-46ec-9dde-6757fec71293",
   "metadata": {},
   "outputs": [
    {
     "name": "stdout",
     "output_type": "stream",
     "text": [
      "The word starts with \"cat\"\n"
     ]
    }
   ],
   "source": [
    "# Recommended\n",
    "word = 'cathode'\n",
    "\n",
    "if word.startswith('cat'):\n",
    "    print('The word starts with \"cat\"')"
   ]
  },
  {
   "cell_type": "code",
   "execution_count": 71,
   "id": "4e8e1b2d-d0a2-4e8e-875c-7525d4b3e554",
   "metadata": {},
   "outputs": [
    {
     "name": "stdout",
     "output_type": "stream",
     "text": [
      "The name ends with \"Pitchford\"\n"
     ]
    }
   ],
   "source": [
    "# Recommended\n",
    "name = 'Billy Pitchford'\n",
    "\n",
    "if name.endswith('Pitchford'):\n",
    "    print('The name ends with \"Pitchford\"')"
   ]
  },
  {
   "cell_type": "code",
   "execution_count": 69,
   "id": "565ff4a1-879e-4607-9dd2-d046a34f16fc",
   "metadata": {},
   "outputs": [
    {
     "name": "stdout",
     "output_type": "stream",
     "text": [
      "The word starts with \"cat\"\n"
     ]
    }
   ],
   "source": [
    "# Not Recommended\n",
    "word = 'cathode'\n",
    "\n",
    "if word[:3]:\n",
    "    print('The word starts with \"cat\"')"
   ]
  },
  {
   "cell_type": "code",
   "execution_count": 72,
   "id": "d9b2878c-c395-42e6-a368-c34ae27b8109",
   "metadata": {},
   "outputs": [
    {
     "name": "stdout",
     "output_type": "stream",
     "text": [
      "The name ends with \"Pitchford\"\n"
     ]
    }
   ],
   "source": [
    "# Not Recommended\n",
    "name = 'Billy Pitchford'\n",
    "\n",
    "if name[-9:]:\n",
    "    print('The name ends with \"Pitchford\"')"
   ]
  }
 ],
 "metadata": {
  "kernelspec": {
   "display_name": "nl2vis",
   "language": "python",
   "name": "nl2vis"
  },
  "language_info": {
   "codemirror_mode": {
    "name": "ipython",
    "version": 3
   },
   "file_extension": ".py",
   "mimetype": "text/x-python",
   "name": "python",
   "nbconvert_exporter": "python",
   "pygments_lexer": "ipython3",
   "version": "3.10.12"
  }
 },
 "nbformat": 4,
 "nbformat_minor": 5
}
