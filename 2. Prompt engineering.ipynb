{
 "cells": [
  {
   "cell_type": "markdown",
   "id": "bbc37ee7-99b2-4849-b89d-9bd973f0ecf6",
   "metadata": {},
   "source": [
    "# Set-up"
   ]
  },
  {
   "cell_type": "markdown",
   "id": "4ef4625b",
   "metadata": {},
   "source": [
    "## Import dependencies"
   ]
  },
  {
   "cell_type": "code",
   "execution_count": 1,
   "id": "8c51d77d",
   "metadata": {},
   "outputs": [],
   "source": [
    "import ast\n",
    "import matplotlib.pyplot as plt\n",
    "import pandas as pd\n",
    "import pickle\n",
    "from sklearn.model_selection import KFold\n",
    "from sklearn.model_selection import train_test_split\n",
    "from sentence_transformers import SentenceTransformer\n",
    "from sentence_transformers import util\n",
    "import torch\n",
    "from transformers import AutoTokenizer"
   ]
  },
  {
   "cell_type": "markdown",
   "id": "2f89cfa7",
   "metadata": {},
   "source": [
    "## Top-level functions"
   ]
  },
  {
   "cell_type": "code",
   "execution_count": 2,
   "id": "29a9e232-371f-4ed2-9331-4385f62504fd",
   "metadata": {},
   "outputs": [],
   "source": [
    "def chart_type(spec):\n",
    "    \"\"\"Returns mark type for a given vega-lite specification\"\"\"\n",
    "    if 'mark' in ast.literal_eval(spec).keys():\n",
    "        return ast.literal_eval(spec)['mark']['type']\n",
    "    else:\n",
    "        return ast.literal_eval(spec)['hconcat'][0]['mark']\n",
    "\n",
    "\n",
    "def summarise_data(df, column):\n",
    "    \"\"\"Outputs the value count for a given column in a dataframe.\"\"\"\n",
    "    summary = pd.DataFrame(dict(count=df[column].value_counts(),\n",
    "                             perc=df[column].value_counts(normalize=True)\n",
    "                               ))\n",
    "    summary.loc['All'] = [df.shape[0], 1]\n",
    "    return summary\n",
    "\n",
    "\n",
    "def incontext_example(row):\n",
    "    \"\"\"Generates complete incontext example for a given a query\"\"\"\n",
    "    return \"Task: Using data from \" + row['datasetURL'] + \", \" + row['query'] + \"\\n\" + \\\n",
    "        \"Dataset schema: \" + row['metaData'] + \"\\n\" + \"Specification: \" + row['spec']\n",
    "\n",
    "\n",
    "def prompt(row):\n",
    "    \"\"\"Generates incomplete prompt for a given query\"\"\"\n",
    "    return \"Task: Using data from \" + row['datasetURL'] + \", \" + row['query'] + \"\\n\" + \"Dataset schema: \" + \\\n",
    "        row['metaData'] + \"\\n\" + \"Specification: {'$schema': 'https://vega.github.io/schema/vega-lite/v4.17.0.json',\"\n",
    "\n",
    "\n",
    "def training_set(train_df, indices):\n",
    "    \"\"\"Creates a sub-training set (DataFrame) with a sentence embedding and completed example for each query\"\"\"\n",
    "    sub_train = train_df.iloc[indices, :].copy()\n",
    "    sub_train.reset_index(inplace=True, drop=True)\n",
    "    sub_train['complete_example']=sub_train.apply(incontext_example, axis=1)\n",
    "    \n",
    "    # # Add query embeddings\n",
    "    # train_query_vectors = sentence_embedder.encode(sub_train[\"query\"].tolist(),\n",
    "    #                                    convert_to_tensor=True)\n",
    "    # sub_train['query_embedding'] = train_query_vectors.tolist()\n",
    "    return sub_train\n",
    "\n",
    "\n",
    "def validation_set(train_df, indices):\n",
    "    \"\"\"Creates a validation set (DataFrame) with a sentence embedding and prompt for each query.\n",
    "    Uncomment relevant code to filter by spec_type\"\"\"\n",
    "    vset = train_df.iloc[indices, :].copy()\n",
    "    vset['prompt'] = vset.apply(prompt, axis=1)\n",
    "    # vset = vset.loc[vset[\"type\"] == spec_type]\n",
    "    vset.reset_index(inplace=True, drop=True)\n",
    "\n",
    "    # # Add query embeddings\n",
    "    # vset_query_vectors = sentence_embedder.encode(vset[\"query\"].tolist(),\n",
    "    #                                   convert_to_tensor=True)\n",
    "    # vset['query_embedding'] = vset_query_vectors.tolist()\n",
    "    return vset\n",
    "\n",
    "\n",
    "def test_set(test_df):\n",
    "    \"\"\"Adds a sentence embedding and prompt for each query\"\"\"\n",
    "    test_df['prompt'] = test_df.apply(prompt, axis=1)\n",
    "\n",
    "    # # Add query embeddings\n",
    "    # test_query_vectors = sentence_embedder.encode(test_df[\"query\"].tolist(),\n",
    "    #                                    convert_to_tensor=True)\n",
    "    # test_df['query_embedding'] = test_query_vectors.tolist()\n",
    "    return test_df\n",
    "\n",
    "\n",
    "def similarity_match(row, sub_train):\n",
    "    \"\"\"Finds top 'nshot' matches between validation set queries and out-of-domain sub-training data\"\"\"\n",
    "    if OOD:\n",
    "        sub_train = sub_train.loc[row['dataset']!=sub_train['dataset']]\n",
    "        \n",
    "    similarity_scores = util.cos_sim(torch.tensor(row['query_embedding']),\n",
    "                                     torch.tensor(sub_train['query_embedding'].tolist())\n",
    "                                    )[0]\n",
    "    top_matches = torch.topk(similarity_scores, largest=True, k=nshot)\n",
    "    \n",
    "    # Update top match indices so they reflect indices before filtering by domain\n",
    "    updated_indices = torch.tensor([sub_train.index[i] for i in top_matches.indices.tolist()])\n",
    "    for i in range(nshot):\n",
    "        top_matches.indices[i] = updated_indices[i]\n",
    "    return top_matches\n",
    "\n",
    "\n",
    "def model_input(row, sub_train):\n",
    "    \"\"\" Adds the top 'nshot' queries and corresponding similarity scores to the validation set DataFrame.\n",
    "    The full context for each validation set query is then produced along with the final model input.\n",
    "    The length of the final input in tokens is also determiend.\"\"\"\n",
    "    row['example_queries'] = [sub_train.loc[i, 'query'] for i in row['similarity_output'].indices.tolist()]\n",
    "    row['example_scores'] = row['similarity_output'].values.tolist()\n",
    "    \n",
    "    complete_examples = [sub_train.loc[i, 'complete_example'] for i in row['similarity_output'].indices.tolist()]\n",
    "    row['incontext_examples'] = 'Generate a vega-lite specification for the task\\n' + '\\n'.join(complete_examples[::-1])\n",
    "    row['model_input'] = row['incontext_examples'] + '\\n' + row['prompt']\n",
    "    row['model_input_length'] = local_tokenizer(row['model_input'], return_tensors=\"pt\", padding=False).input_ids.shape[1]\n",
    "    row['spec_length'] = local_tokenizer(row['spec'], return_tensors=\"pt\", padding=False).input_ids.shape[1]\n",
    "    return row"
   ]
  },
  {
   "cell_type": "markdown",
   "id": "c0743f5c",
   "metadata": {},
   "source": [
    "## Parameters"
   ]
  },
  {
   "cell_type": "code",
   "execution_count": 3,
   "id": "daca5109",
   "metadata": {},
   "outputs": [],
   "source": [
    "raw_data_dir = 'C:/Users/billy/OneDrive/Documents/Python Scripts/1. Portfolio/1. NL2VIS/'\n",
    "spec_type = 'Fully specified'\n",
    "kfold_splits = 10\n",
    "nshot = 3  # Max number of in-context examples in the train set\n",
    "test_nshot = 3  # Max number of in-context examples in the test set\n",
    "max_position_embeddings = 2048/1.1 # Max input size\n",
    "OOD = False # Enter True for OOD matches\n",
    "\n",
    "if spec_type == 'Under specified':\n",
    "    spec_type_acronym = 'US'\n",
    "elif spec_type == 'Fully specified':\n",
    "    spec_type_acronym = 'FS'"
   ]
  },
  {
   "cell_type": "markdown",
   "id": "1ba6ad3b",
   "metadata": {},
   "source": [
    "## Import data"
   ]
  },
  {
   "cell_type": "code",
   "execution_count": 4,
   "id": "52e23582",
   "metadata": {},
   "outputs": [],
   "source": [
    "NLV_corpus = pd.read_csv(raw_data_dir + 'NLVcorpus.csv')\n",
    "NL4DV_corpus = pd.read_csv(raw_data_dir + \"NL4DVcorpus.csv\")\n",
    "\n",
    "corpus = pd.concat([\n",
    "    NLV_corpus,\n",
    "    NL4DV_corpus,\n",
    "])\n",
    "corpus.drop_duplicates(subset='query', keep='first', inplace=True)"
   ]
  },
  {
   "cell_type": "markdown",
   "id": "3173382c",
   "metadata": {},
   "source": [
    "# Instantiate models"
   ]
  },
  {
   "cell_type": "markdown",
   "id": "d0c728f9-c073-4f00-9d9a-55d0e8155711",
   "metadata": {},
   "source": [
    "## Tokenizer"
   ]
  },
  {
   "cell_type": "code",
   "execution_count": 5,
   "id": "1046c345",
   "metadata": {},
   "outputs": [],
   "source": [
    "tokenizer_directory = 'EleutherAI/gpt-neo-125M'\n",
    "local_tokenizer = AutoTokenizer.from_pretrained(tokenizer_directory)\n",
    "\n",
    "local_tokenizer.padding_side = \"left\"\n",
    "local_tokenizer.pad_token = local_tokenizer.eos_token"
   ]
  },
  {
   "cell_type": "markdown",
   "id": "1e4fccee",
   "metadata": {},
   "source": [
    "## Sentence embedder"
   ]
  },
  {
   "cell_type": "code",
   "execution_count": 6,
   "id": "6530dbda",
   "metadata": {},
   "outputs": [],
   "source": [
    "sentence_embedder = SentenceTransformer(\"paraphrase-MiniLM-L6-v2\")  # https://huggingface.co/sentence-transformers/paraphrase-MiniLM-L6-v2\n",
    "# sentence_embedder = SentenceTransformer('all-mpnet-base-v2')"
   ]
  },
  {
   "cell_type": "markdown",
   "id": "6c900b1b",
   "metadata": {},
   "source": [
    "# Pre-processing steps"
   ]
  },
  {
   "cell_type": "markdown",
   "id": "4a6abb77-2db1-45b6-9f50-d21eaf86f399",
   "metadata": {},
   "source": [
    "## Corpus amendments"
   ]
  },
  {
   "cell_type": "code",
   "execution_count": 7,
   "id": "35ec38eb-15c1-49cb-9cf0-30e216da1349",
   "metadata": {},
   "outputs": [
    {
     "data": {
      "text/html": [
       "<div>\n",
       "<style scoped>\n",
       "    .dataframe tbody tr th:only-of-type {\n",
       "        vertical-align: middle;\n",
       "    }\n",
       "\n",
       "    .dataframe tbody tr th {\n",
       "        vertical-align: top;\n",
       "    }\n",
       "\n",
       "    .dataframe thead th {\n",
       "        text-align: right;\n",
       "    }\n",
       "</style>\n",
       "<table border=\"1\" class=\"dataframe\">\n",
       "  <thead>\n",
       "    <tr style=\"text-align: right;\">\n",
       "      <th></th>\n",
       "      <th>query</th>\n",
       "      <th>type</th>\n",
       "      <th>dataset</th>\n",
       "      <th>datasetURL</th>\n",
       "      <th>metaData</th>\n",
       "      <th>spec</th>\n",
       "      <th>markType</th>\n",
       "      <th>query_embedding</th>\n",
       "    </tr>\n",
       "  </thead>\n",
       "  <tbody>\n",
       "    <tr>\n",
       "      <th>0</th>\n",
       "      <td>Scatterplot mpg vs displacement color by origin</td>\n",
       "      <td>Fully specified</td>\n",
       "      <td>cars</td>\n",
       "      <td>https://raw.githubusercontent.com/nlvcorpus/nl...</td>\n",
       "      <td>{fields: [{field: Model, type: nominal}, {fiel...</td>\n",
       "      <td>{'$schema': 'https://vega.github.io/schema/veg...</td>\n",
       "      <td>point</td>\n",
       "      <td>[-0.28238457441329956, -0.3850893974304199, -0...</td>\n",
       "    </tr>\n",
       "    <tr>\n",
       "      <th>1</th>\n",
       "      <td>Relationship between IMDB Rating and Rotten To...</td>\n",
       "      <td>Under specified</td>\n",
       "      <td>movies</td>\n",
       "      <td>https://raw.githubusercontent.com/nlvcorpus/nl...</td>\n",
       "      <td>{fields: [{field: Title, type: nominal}, {fiel...</td>\n",
       "      <td>{'$schema': 'https://vega.github.io/schema/veg...</td>\n",
       "      <td>point</td>\n",
       "      <td>[0.2175920456647873, -0.11958479136228561, -0....</td>\n",
       "    </tr>\n",
       "    <tr>\n",
       "      <th>2</th>\n",
       "      <td>Cylinders count bar chart Color by origin</td>\n",
       "      <td>Fully specified</td>\n",
       "      <td>cars</td>\n",
       "      <td>https://raw.githubusercontent.com/nlvcorpus/nl...</td>\n",
       "      <td>{fields: [{field: Model, type: nominal}, {fiel...</td>\n",
       "      <td>{'$schema': 'https://vega.github.io/schema/veg...</td>\n",
       "      <td>bar</td>\n",
       "      <td>[0.3103927969932556, 0.424814909696579, -0.187...</td>\n",
       "    </tr>\n",
       "    <tr>\n",
       "      <th>3</th>\n",
       "      <td>histogram of running time</td>\n",
       "      <td>Fully specified</td>\n",
       "      <td>movies</td>\n",
       "      <td>https://raw.githubusercontent.com/nlvcorpus/nl...</td>\n",
       "      <td>{fields: [{field: Title, type: nominal}, {fiel...</td>\n",
       "      <td>{'$schema': 'https://vega.github.io/schema/veg...</td>\n",
       "      <td>bar</td>\n",
       "      <td>[-0.007709309458732605, -0.07974489778280258, ...</td>\n",
       "    </tr>\n",
       "    <tr>\n",
       "      <th>4</th>\n",
       "      <td>Cylinders average mpg</td>\n",
       "      <td>Under specified</td>\n",
       "      <td>cars</td>\n",
       "      <td>https://raw.githubusercontent.com/nlvcorpus/nl...</td>\n",
       "      <td>{fields: [{field: Model, type: nominal}, {fiel...</td>\n",
       "      <td>{'$schema': 'https://vega.github.io/schema/veg...</td>\n",
       "      <td>bar</td>\n",
       "      <td>[0.27286240458488464, -0.09565886110067368, 0....</td>\n",
       "    </tr>\n",
       "  </tbody>\n",
       "</table>\n",
       "</div>"
      ],
      "text/plain": [
       "                                               query             type dataset  \\\n",
       "0    Scatterplot mpg vs displacement color by origin  Fully specified    cars   \n",
       "1  Relationship between IMDB Rating and Rotten To...  Under specified  movies   \n",
       "2          Cylinders count bar chart Color by origin  Fully specified    cars   \n",
       "3                          histogram of running time  Fully specified  movies   \n",
       "4                              Cylinders average mpg  Under specified    cars   \n",
       "\n",
       "                                          datasetURL  \\\n",
       "0  https://raw.githubusercontent.com/nlvcorpus/nl...   \n",
       "1  https://raw.githubusercontent.com/nlvcorpus/nl...   \n",
       "2  https://raw.githubusercontent.com/nlvcorpus/nl...   \n",
       "3  https://raw.githubusercontent.com/nlvcorpus/nl...   \n",
       "4  https://raw.githubusercontent.com/nlvcorpus/nl...   \n",
       "\n",
       "                                            metaData  \\\n",
       "0  {fields: [{field: Model, type: nominal}, {fiel...   \n",
       "1  {fields: [{field: Title, type: nominal}, {fiel...   \n",
       "2  {fields: [{field: Model, type: nominal}, {fiel...   \n",
       "3  {fields: [{field: Title, type: nominal}, {fiel...   \n",
       "4  {fields: [{field: Model, type: nominal}, {fiel...   \n",
       "\n",
       "                                                spec markType  \\\n",
       "0  {'$schema': 'https://vega.github.io/schema/veg...    point   \n",
       "1  {'$schema': 'https://vega.github.io/schema/veg...    point   \n",
       "2  {'$schema': 'https://vega.github.io/schema/veg...      bar   \n",
       "3  {'$schema': 'https://vega.github.io/schema/veg...      bar   \n",
       "4  {'$schema': 'https://vega.github.io/schema/veg...      bar   \n",
       "\n",
       "                                     query_embedding  \n",
       "0  [-0.28238457441329956, -0.3850893974304199, -0...  \n",
       "1  [0.2175920456647873, -0.11958479136228561, -0....  \n",
       "2  [0.3103927969932556, 0.424814909696579, -0.187...  \n",
       "3  [-0.007709309458732605, -0.07974489778280258, ...  \n",
       "4  [0.27286240458488464, -0.09565886110067368, 0....  "
      ]
     },
     "execution_count": 7,
     "metadata": {},
     "output_type": "execute_result"
    }
   ],
   "source": [
    "# Remove unnecessary suffixes from domains\n",
    "corpus['dataset'] = corpus['dataset'].apply(lambda x: x.removesuffix('.csv'))\n",
    "corpus[\"dataset\"] = corpus['dataset'].apply(lambda x: x.removesuffix('-w-year'))\n",
    "\n",
    "# Add chart type\n",
    "corpus['markType'] = corpus['spec'].map(lambda x: chart_type(x))\n",
    "\n",
    "# Add query embedding\n",
    "sentence_embeddings = sentence_embedder.encode(list(corpus.iloc[:, corpus.columns=='query'].values.flatten()),\n",
    "                                               convert_to_tensor=True)\n",
    "corpus['query_embedding'] = sentence_embeddings.tolist()\n",
    "corpus.head()"
   ]
  },
  {
   "cell_type": "markdown",
   "id": "5e33bb26",
   "metadata": {},
   "source": [
    "## Training/test split"
   ]
  },
  {
   "cell_type": "code",
   "execution_count": 8,
   "id": "9e30027c",
   "metadata": {},
   "outputs": [],
   "source": [
    "train, test = train_test_split(\n",
    "    corpus,\n",
    "    test_size=0.2,\n",
    "    random_state=0,\n",
    "    shuffle=True\n",
    ")\n",
    "train.reset_index(\n",
    "    drop=True,\n",
    "    inplace=True\n",
    ")\n",
    "\n",
    "test.reset_index(\n",
    "    drop=True,\n",
    "    inplace=True\n",
    ")"
   ]
  },
  {
   "cell_type": "code",
   "execution_count": 9,
   "id": "02a6c687-905f-4ebb-9184-1be759fc7c24",
   "metadata": {},
   "outputs": [
    {
     "name": "stdout",
     "output_type": "stream",
     "text": [
      "                 count  perc\n",
      "type                        \n",
      "Under specified    416  0.65\n",
      "Fully specified    224  0.35\n",
      "All                640  1.00\n",
      "            count      perc\n",
      "dataset                    \n",
      "cars          255  0.398438\n",
      "movies        209  0.326562\n",
      "superstore    166  0.259375\n",
      "euro           10  0.015625\n",
      "All           640  1.000000\n",
      "          count      perc\n",
      "markType                 \n",
      "bar         322  0.503125\n",
      "point       183  0.285938\n",
      "line        126  0.196875\n",
      "tick          4  0.006250\n",
      "arc           2  0.003125\n",
      "area          1  0.001563\n",
      "text          1  0.001563\n",
      "boxplot       1  0.001563\n",
      "All         640  1.000000\n"
     ]
    }
   ],
   "source": [
    "# Training set - query type breakdown\n",
    "train_qtype_summary = summarise_data(train, 'type')\n",
    "print(train_qtype_summary)\n",
    "\n",
    "# Training set - data source breakdown\n",
    "train_dsource_summary = summarise_data(train, 'dataset')\n",
    "print(train_dsource_summary)\n",
    "\n",
    "# Training set - mark type breakdown\n",
    "train_mtype_summary = summarise_data(train, 'markType')\n",
    "print(train_mtype_summary)"
   ]
  },
  {
   "cell_type": "code",
   "execution_count": 10,
   "id": "e1f0db75-8acb-4453-bde1-944005b2c624",
   "metadata": {},
   "outputs": [
    {
     "name": "stdout",
     "output_type": "stream",
     "text": [
      "                 count      perc\n",
      "type                            \n",
      "Under specified    103  0.639752\n",
      "Fully specified     58  0.360248\n",
      "All                161  1.000000\n",
      "            count      perc\n",
      "dataset                    \n",
      "movies         57  0.354037\n",
      "cars           57  0.354037\n",
      "superstore     45  0.279503\n",
      "euro            2  0.012422\n",
      "All           161  1.000000\n",
      "          count      perc\n",
      "markType                 \n",
      "bar          83  0.515528\n",
      "point        50  0.310559\n",
      "line         25  0.155280\n",
      "text          1  0.006211\n",
      "area          1  0.006211\n",
      "tick          1  0.006211\n",
      "All         161  1.000000\n"
     ]
    }
   ],
   "source": [
    "# Test set - query type breakdown\n",
    "test_qtype_summary = summarise_data(test, 'type')\n",
    "print(test_qtype_summary)\n",
    "\n",
    "# Test set - data source breakdown\n",
    "test_dsource_summary = summarise_data(test, 'dataset')\n",
    "print(test_dsource_summary)\n",
    "\n",
    "# Test set - mark type breakdown\n",
    "test_mtype_summary = summarise_data(test, 'markType')\n",
    "print(test_mtype_summary)"
   ]
  },
  {
   "cell_type": "markdown",
   "id": "e119faa1-9342-4c0e-8e75-9d6f7caea1c7",
   "metadata": {},
   "source": [
    "# Prompt engineering"
   ]
  },
  {
   "cell_type": "markdown",
   "id": "405b344f",
   "metadata": {},
   "source": [
    "## Validation sets"
   ]
  },
  {
   "cell_type": "code",
   "execution_count": 11,
   "id": "326c500b-8000-49ab-9695-dca1d99b6419",
   "metadata": {},
   "outputs": [],
   "source": [
    "# Slit training data into K training/validation sets\n",
    "# Source: https://scikit-learn.org/stable/modules/generated/sklearn.model_selection.KFold.html\n",
    "kf = KFold(\n",
    "    n_splits=kfold_splits,\n",
    "    random_state=0,\n",
    "    shuffle=True\n",
    ")"
   ]
  },
  {
   "cell_type": "code",
   "execution_count": 12,
   "id": "e09d559e-2c08-4a89-867a-e00410bc3984",
   "metadata": {},
   "outputs": [
    {
     "name": "stderr",
     "output_type": "stream",
     "text": [
      "Token indices sequence length is longer than the specified maximum sequence length for this model (2112 > 2048). Running this sequence through the model will result in indexing errors\n"
     ]
    }
   ],
   "source": [
    "# Configure validation sets\n",
    "cv_vsets = []\n",
    "for sub_train_indices, vset_indices in kf.split(train):\n",
    "\n",
    "    # Create validation set\n",
    "    vset = validation_set(train, vset_indices)\n",
    "\n",
    "    # Create training data for producing in-context examples\n",
    "    sub_train = training_set(train, sub_train_indices)\n",
    "\n",
    "    # Match validation set queries with training data examples\n",
    "    vset['similarity_output'] = vset.apply(lambda row: similarity_match(row, sub_train), axis=1)\n",
    "\n",
    "    # Create final model inputs\n",
    "    vset = vset.apply(lambda row: model_input(row, sub_train), axis=1)\n",
    "\n",
    "    # Filter inputs larger than max_position_embeddings\n",
    "    vset = vset.loc[vset['model_input_length'] + vset['spec_length'] <= max_position_embeddings]\n",
    "    vset.reset_index(drop=True, inplace=True)\n",
    "    cv_vsets.append(vset)"
   ]
  },
  {
   "cell_type": "code",
   "execution_count": 13,
   "id": "200d43a7-9ee0-47aa-af89-0d5246c875bf",
   "metadata": {},
   "outputs": [
    {
     "data": {
      "image/png": "[encoded data removed]",
      "text/plain": [
       "<Figure size 640x480 with 1 Axes>"
      ]
     },
     "metadata": {},
     "output_type": "display_data"
    }
   ],
   "source": [
    "# Total prompt size\n",
    "fig, axes = plt.subplots(nrows=1, ncols=1)\n",
    "plt.style.use('seaborn-v0_8-muted')\n",
    "\n",
    "count, length, _ = plt.hist(pd.concat([v['model_input_length'] for v in cv_vsets], axis=0))\n",
    "plt.vlines(max_position_embeddings,\n",
    "          ymin=0,\n",
    "          ymax=max(count),\n",
    "           linestyles='dashed',\n",
    "          colors='r',\n",
    "          label='Max input size')\n",
    "\n",
    "axes.set_xlabel('Prompt length / tokens')\n",
    "axes.set_ylabel('Count')\n",
    "axes.grid(True)\n",
    "axes.legend();"
   ]
  },
  {
   "cell_type": "code",
   "execution_count": 14,
   "id": "d362c8f9-35eb-4826-8719-1bc9d550037d",
   "metadata": {},
   "outputs": [
    {
     "data": {
      "image/png": "[encoded data removed]",
      "text/plain": [
       "<Figure size 640x480 with 3 Axes>"
      ]
     },
     "metadata": {},
     "output_type": "display_data"
    }
   ],
   "source": [
    "# Similarity score by position\n",
    "def my_plotter(ax, i, data, param_dict={}):\n",
    "    out = ax.boxplot(data, **param_dict)\n",
    "    ax.set_xticks([1], labels=[i+1])\n",
    "    return out\n",
    "\n",
    "fig, axes = plt.subplots(nrows=1, ncols=3, sharey=True, constrained_layout=True)\n",
    "plt.style.use('seaborn-v0_8-muted')\n",
    "for i, ax in enumerate(axes):\n",
    "    data = pd.concat([v['example_scores'].map(lambda x: x[i]) for v in cv_vsets], axis=0)            \n",
    "    my_plotter(ax, i, data)\n",
    "\n",
    "fig.supxlabel('Rank', size='small');\n",
    "fig.supylabel('Cosine similarity', size='small');"
   ]
  },
  {
   "cell_type": "code",
   "execution_count": 15,
   "id": "31918ba6-97ce-4cbe-8b01-b364f8c11065",
   "metadata": {},
   "outputs": [
    {
     "data": {
      "text/html": [
       "<div>\n",
       "<style scoped>\n",
       "    .dataframe tbody tr th:only-of-type {\n",
       "        vertical-align: middle;\n",
       "    }\n",
       "\n",
       "    .dataframe tbody tr th {\n",
       "        vertical-align: top;\n",
       "    }\n",
       "\n",
       "    .dataframe thead th {\n",
       "        text-align: right;\n",
       "    }\n",
       "</style>\n",
       "<table border=\"1\" class=\"dataframe\">\n",
       "  <thead>\n",
       "    <tr style=\"text-align: right;\">\n",
       "      <th></th>\n",
       "      <th>Rank 0</th>\n",
       "      <th>Rank 1</th>\n",
       "      <th>Rank 2</th>\n",
       "    </tr>\n",
       "  </thead>\n",
       "  <tbody>\n",
       "    <tr>\n",
       "      <th>count</th>\n",
       "      <td>606.000000</td>\n",
       "      <td>606.000000</td>\n",
       "      <td>606.000000</td>\n",
       "    </tr>\n",
       "    <tr>\n",
       "      <th>mean</th>\n",
       "      <td>0.840187</td>\n",
       "      <td>0.795044</td>\n",
       "      <td>0.768908</td>\n",
       "    </tr>\n",
       "    <tr>\n",
       "      <th>std</th>\n",
       "      <td>0.098013</td>\n",
       "      <td>0.099163</td>\n",
       "      <td>0.099395</td>\n",
       "    </tr>\n",
       "    <tr>\n",
       "      <th>min</th>\n",
       "      <td>0.481630</td>\n",
       "      <td>0.415807</td>\n",
       "      <td>0.376272</td>\n",
       "    </tr>\n",
       "    <tr>\n",
       "      <th>25%</th>\n",
       "      <td>0.781284</td>\n",
       "      <td>0.741489</td>\n",
       "      <td>0.712755</td>\n",
       "    </tr>\n",
       "    <tr>\n",
       "      <th>50%</th>\n",
       "      <td>0.853904</td>\n",
       "      <td>0.802987</td>\n",
       "      <td>0.778586</td>\n",
       "    </tr>\n",
       "    <tr>\n",
       "      <th>75%</th>\n",
       "      <td>0.912902</td>\n",
       "      <td>0.861720</td>\n",
       "      <td>0.840254</td>\n",
       "    </tr>\n",
       "    <tr>\n",
       "      <th>max</th>\n",
       "      <td>1.000000</td>\n",
       "      <td>0.976896</td>\n",
       "      <td>0.958351</td>\n",
       "    </tr>\n",
       "  </tbody>\n",
       "</table>\n",
       "</div>"
      ],
      "text/plain": [
       "           Rank 0      Rank 1      Rank 2\n",
       "count  606.000000  606.000000  606.000000\n",
       "mean     0.840187    0.795044    0.768908\n",
       "std      0.098013    0.099163    0.099395\n",
       "min      0.481630    0.415807    0.376272\n",
       "25%      0.781284    0.741489    0.712755\n",
       "50%      0.853904    0.802987    0.778586\n",
       "75%      0.912902    0.861720    0.840254\n",
       "max      1.000000    0.976896    0.958351"
      ]
     },
     "execution_count": 15,
     "metadata": {},
     "output_type": "execute_result"
    }
   ],
   "source": [
    "# Similarity score stats by position\n",
    "data = pd.concat([v['example_scores'] for v in cv_vsets])\n",
    "vset_similarity_summary = pd.concat([data.map(\n",
    "    lambda x: x[i]).describe().rename(f\"Rank {i}\") for i in range(nshot)], axis=1)\n",
    "vset_similarity_summary"
   ]
  },
  {
   "cell_type": "markdown",
   "id": "fcbee133-0df0-48d9-8fc2-cc5392ee6e8b",
   "metadata": {},
   "source": [
    "## Test set"
   ]
  },
  {
   "cell_type": "code",
   "execution_count": 16,
   "id": "3f4e9aac-21cf-44e9-8ed1-c262229342c2",
   "metadata": {
    "scrolled": true
   },
   "outputs": [],
   "source": [
    "# Match test set queries with training data examples\n",
    "test = test_set(test)\n",
    "train = training_set(train,\n",
    "                 train.index==train.index)\n",
    "\n",
    "test['similarity_output'] = test.apply(lambda row: similarity_match(row, train), axis=1)\n",
    "test = test.apply(lambda row: model_input(row, train), axis=1)\n",
    "test = test.loc[test['model_input_length'] + test['spec_length'] <= max_position_embeddings]\n",
    "test.reset_index(drop=True, inplace=True)"
   ]
  },
  {
   "cell_type": "code",
   "execution_count": 17,
   "id": "93b09b08-e61f-4714-96b0-6c2d32f761e8",
   "metadata": {},
   "outputs": [
    {
     "data": {
      "image/png": "[encoded data removed]",
      "text/plain": [
       "<Figure size 640x480 with 1 Axes>"
      ]
     },
     "metadata": {},
     "output_type": "display_data"
    }
   ],
   "source": [
    "# Total prompt size\n",
    "fig, axes = plt.subplots(nrows=1, ncols=1)\n",
    "plt.style.use('seaborn-v0_8-muted')\n",
    "\n",
    "count, length, _ = plt.hist(test['model_input_length'])\n",
    "plt.vlines(max_position_embeddings,\n",
    "          ymin=0,\n",
    "          ymax=max(count),\n",
    "           linestyles='dashed',\n",
    "          colors='r',\n",
    "          label='Max input size')\n",
    "\n",
    "axes.set_xlabel('Prompt length / tokens')\n",
    "axes.set_ylabel('Count')\n",
    "axes.grid(True)\n",
    "axes.legend();"
   ]
  },
  {
   "cell_type": "code",
   "execution_count": 18,
   "id": "8dd37410-5833-4702-84fb-605bab97ab50",
   "metadata": {},
   "outputs": [
    {
     "data": {
      "image/png": "[encoded data removed]",
      "text/plain": [
       "<Figure size 640x480 with 3 Axes>"
      ]
     },
     "metadata": {},
     "output_type": "display_data"
    }
   ],
   "source": [
    "# Similarity score by position\n",
    "def my_plotter(ax, i, data, param_dict={}):\n",
    "    out = ax.boxplot(data, **param_dict)\n",
    "    ax.set_xticks([1], labels=[i+1])\n",
    "    return out\n",
    "\n",
    "fig, axes = plt.subplots(nrows=1, ncols=3, sharey=True, constrained_layout=True)\n",
    "plt.style.use('seaborn-v0_8-muted')\n",
    "for i, ax in enumerate(axes):       \n",
    "    my_plotter(ax,i,\n",
    "               test['example_scores'].map(lambda x: x[i])\n",
    "              )\n",
    "\n",
    "fig.supxlabel('Rank', size='small');\n",
    "fig.supylabel('Cosine similarity', size='small');"
   ]
  },
  {
   "cell_type": "code",
   "execution_count": 19,
   "id": "848ec698-ba4d-439c-bc31-4d376e499d53",
   "metadata": {},
   "outputs": [
    {
     "data": {
      "text/html": [
       "<div>\n",
       "<style scoped>\n",
       "    .dataframe tbody tr th:only-of-type {\n",
       "        vertical-align: middle;\n",
       "    }\n",
       "\n",
       "    .dataframe tbody tr th {\n",
       "        vertical-align: top;\n",
       "    }\n",
       "\n",
       "    .dataframe thead th {\n",
       "        text-align: right;\n",
       "    }\n",
       "</style>\n",
       "<table border=\"1\" class=\"dataframe\">\n",
       "  <thead>\n",
       "    <tr style=\"text-align: right;\">\n",
       "      <th></th>\n",
       "      <th>Rank 0</th>\n",
       "      <th>Rank 1</th>\n",
       "      <th>Rank 2</th>\n",
       "    </tr>\n",
       "  </thead>\n",
       "  <tbody>\n",
       "    <tr>\n",
       "      <th>count</th>\n",
       "      <td>149.000000</td>\n",
       "      <td>149.000000</td>\n",
       "      <td>149.000000</td>\n",
       "    </tr>\n",
       "    <tr>\n",
       "      <th>mean</th>\n",
       "      <td>0.844332</td>\n",
       "      <td>0.803306</td>\n",
       "      <td>0.770875</td>\n",
       "    </tr>\n",
       "    <tr>\n",
       "      <th>std</th>\n",
       "      <td>0.091836</td>\n",
       "      <td>0.092086</td>\n",
       "      <td>0.095752</td>\n",
       "    </tr>\n",
       "    <tr>\n",
       "      <th>min</th>\n",
       "      <td>0.533325</td>\n",
       "      <td>0.525665</td>\n",
       "      <td>0.514907</td>\n",
       "    </tr>\n",
       "    <tr>\n",
       "      <th>25%</th>\n",
       "      <td>0.788666</td>\n",
       "      <td>0.747828</td>\n",
       "      <td>0.711785</td>\n",
       "    </tr>\n",
       "    <tr>\n",
       "      <th>50%</th>\n",
       "      <td>0.853263</td>\n",
       "      <td>0.815347</td>\n",
       "      <td>0.787784</td>\n",
       "    </tr>\n",
       "    <tr>\n",
       "      <th>75%</th>\n",
       "      <td>0.901761</td>\n",
       "      <td>0.861050</td>\n",
       "      <td>0.834777</td>\n",
       "    </tr>\n",
       "    <tr>\n",
       "      <th>max</th>\n",
       "      <td>1.000000</td>\n",
       "      <td>0.976673</td>\n",
       "      <td>0.975562</td>\n",
       "    </tr>\n",
       "  </tbody>\n",
       "</table>\n",
       "</div>"
      ],
      "text/plain": [
       "           Rank 0      Rank 1      Rank 2\n",
       "count  149.000000  149.000000  149.000000\n",
       "mean     0.844332    0.803306    0.770875\n",
       "std      0.091836    0.092086    0.095752\n",
       "min      0.533325    0.525665    0.514907\n",
       "25%      0.788666    0.747828    0.711785\n",
       "50%      0.853263    0.815347    0.787784\n",
       "75%      0.901761    0.861050    0.834777\n",
       "max      1.000000    0.976673    0.975562"
      ]
     },
     "execution_count": 19,
     "metadata": {},
     "output_type": "execute_result"
    }
   ],
   "source": [
    "# Similarity score stats by position\n",
    "test_similarity_summary = pd.concat([test['example_scores'].map(\n",
    "    lambda x: x[i]).describe().rename(f\"Rank {i}\") for i in range(nshot)], axis=1)\n",
    "test_similarity_summary"
   ]
  },
  {
   "cell_type": "markdown",
   "id": "6d8ebf2d-8a8f-496c-b95a-558dc88d8641",
   "metadata": {},
   "source": [
    "# Save files"
   ]
  },
  {
   "cell_type": "code",
   "execution_count": 20,
   "id": "902f1904-3075-4986-8e2a-041f47728a6b",
   "metadata": {},
   "outputs": [],
   "source": [
    "# Save validation and test set objects via seriealisation into a binary format using pickle wb = write binary\n",
    "if OOD:\n",
    "    cv_file = '_'.join(['OOD', f'{str(nshot)}shot', f'{str(kfold_splits)}fold_vsets.pickle'])\n",
    "    test_file = '_'.join(['OOD', f'{str(nshot)}shot', 'test_set.pickle'])\n",
    "else:\n",
    "    cv_file = '_'.join(['ID', f'{str(nshot)}shot', f'{str(kfold_splits)}fold_vsets.pickle'])\n",
    "    test_file = '_'.join(['ID', f'{str(nshot)}shot', 'test_set.pickle'])\n",
    "\n",
    "with open(cv_file, 'wb') as f:\n",
    "    pickle.dump(cv_vsets, f)\n",
    "with open(test_file, 'wb') as f:\n",
    "    pickle.dump(test, f)"
   ]
  }
 ],
 "metadata": {
  "kernelspec": {
   "display_name": "nl2vis",
   "language": "python",
   "name": "nl2vis"
  },
  "language_info": {
   "codemirror_mode": {
    "name": "ipython",
    "version": 3
   },
   "file_extension": ".py",
   "mimetype": "text/x-python",
   "name": "python",
   "nbconvert_exporter": "python",
   "pygments_lexer": "ipython3",
   "version": "3.10.12"
  }
 },
 "nbformat": 4,
 "nbformat_minor": 5
}
