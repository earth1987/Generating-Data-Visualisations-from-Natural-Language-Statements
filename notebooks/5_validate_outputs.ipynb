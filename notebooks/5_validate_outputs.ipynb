{
 "cells": [
  {
   "cell_type": "markdown",
   "id": "bc7f8969",
   "metadata": {
    "id": "bc7f8969"
   },
   "source": [
    "# Set-up"
   ]
  },
  {
   "cell_type": "markdown",
   "id": "77cd15bf-a820-4483-bb21-bc04e714a311",
   "metadata": {
    "id": "77cd15bf-a820-4483-bb21-bc04e714a311"
   },
   "source": [
    "## Select Colab or HPC"
   ]
  },
  {
   "cell_type": "code",
   "execution_count": null,
   "id": "4360bd65-6e33-4fdb-875d-53bdb4008f66",
   "metadata": {
    "id": "4360bd65-6e33-4fdb-875d-53bdb4008f66"
   },
   "outputs": [],
   "source": [
    "PLATFORM = 'colab' # colab or HPC or laptop"
   ]
  },
  {
   "cell_type": "markdown",
   "id": "9b8e8303-bd4d-401e-86af-274b1f1ccf9b",
   "metadata": {
    "id": "9b8e8303-bd4d-401e-86af-274b1f1ccf9b"
   },
   "source": [
    "## Import dependencies"
   ]
  },
  {
   "cell_type": "code",
   "execution_count": 1,
   "id": "e7d7a1d8-df7a-4f66-82f8-505c69ac7eee",
   "metadata": {
    "executionInfo": {
     "elapsed": 642,
     "status": "ok",
     "timestamp": 1693508874234,
     "user": {
      "displayName": "Billy Pitchford",
      "userId": "05624495549174061003"
     },
     "user_tz": -60
    },
    "id": "e7d7a1d8-df7a-4f66-82f8-505c69ac7eee"
   },
   "outputs": [],
   "source": [
    "import altair as alt\n",
    "import argparse\n",
    "import ast\n",
    "import bz2\n",
    "from IPython.display import Image\n",
    "import json\n",
    "import jsonschema\n",
    "import matplotlib as mpl\n",
    "import matplotlib.pyplot as plt\n",
    "import numpy as np\n",
    "import pandas as pd\n",
    "import pickle\n",
    "import random\n",
    "import re\n",
    "import time\n",
    "import urllib"
   ]
  },
  {
   "cell_type": "code",
   "execution_count": null,
   "id": "ab8a4240-7a75-4038-a76f-668eb84d5948",
   "metadata": {
    "colab": {
     "base_uri": "https://localhost:8080/"
    },
    "executionInfo": {
     "elapsed": 14437,
     "status": "ok",
     "timestamp": 1693485762455,
     "user": {
      "displayName": "Billy Pitchford",
      "userId": "05624495549174061003"
     },
     "user_tz": -60
    },
    "id": "ab8a4240-7a75-4038-a76f-668eb84d5948",
    "outputId": "e7d99ae9-e1ac-4c69-f5b2-762c6b68efef"
   },
   "outputs": [
    {
     "name": "stdout",
     "output_type": "stream",
     "text": [
      "Drive already mounted at /content/drive; to attempt to forcibly remount, call drive.mount(\"/content/drive\", force_remount=True).\n"
     ]
    }
   ],
   "source": [
    "if PLATFORM == 'colab':\n",
    "\n",
    "    # Install Hugging Face library using a shell command\n",
    "    import os\n",
    "    os.system(\"pip install transformers\")\n",
    "\n",
    "    # Mount Google Drive and CD using a shell command\n",
    "    from google.colab import drive\n",
    "    drive.mount('/content/drive')\n",
    "    os.chdir(\"/content/drive/MyDrive/Data science jobs/2. Portfolio/3. NL2VIS/\")"
   ]
  },
  {
   "cell_type": "markdown",
   "id": "55f17840-8b9e-45fa-b31d-0f0c138d1110",
   "metadata": {
    "id": "55f17840-8b9e-45fa-b31d-0f0c138d1110"
   },
   "source": [
    "## Top level functions"
   ]
  },
  {
   "cell_type": "code",
   "execution_count": null,
   "id": "cee8d827-0a58-4c77-99b1-9c883dd3becc",
   "metadata": {
    "id": "cee8d827-0a58-4c77-99b1-9c883dd3becc"
   },
   "outputs": [],
   "source": [
    "def save_object(fname, data):\n",
    "    \"\"\"Pickle a file and compress it.\n",
    "    Source: https://betterprogramming.pub/load-fast-load-big-with-compressed-pickles-5f311584507e\n",
    "    \"\"\"\n",
    "    with bz2.open(fname, \"wb\") as f:\n",
    "        pickle.dump(data, f)\n",
    "\n",
    "\n",
    "def load_object(fname):\n",
    "    \"\"\"Load compressed pickle file\n",
    "    Source: https://betterprogramming.pub/load-fast-load-big-with-compressed-pickles-5f311584507e\n",
    "    \"\"\"\n",
    "    with bz2.open(fname, \"rb\") as f:\n",
    "        data = pickle.load(f)\n",
    "    return data\n",
    "\n",
    "\n",
    "def parse_raw_output(output):\n",
    "    \"\"\"Parses the decoded generated output sequence. Returns a json string when a match is found.\n",
    "    An attribute error is raised if there is no match (and therefore no group attribute). Please note\n",
    "    a match only occurs if the end of the dictionary is immediately followed by a line break.\n",
    "    \"\"\"\n",
    "    if \"OOD\" in MODEL_OUTPUT:\n",
    "        pattern = r'^Task:.*?\\nDataset schema:.*?\\nSpecification:\\s{.*?}\\s*$\\n'*3 + \\\n",
    "            r'^Task:.*?\\nDataset schema:.*?\\nSpecification:\\s({.*?})\\s*$'\n",
    "    else:\n",
    "        pattern = r'^Task:.*?\\nSpecification:\\s{.*?}\\s*$\\n'*3 + \\\n",
    "            r'^Task:.*?\\nSpecification:\\s({.*?})\\s*$'\n",
    "\n",
    "    patternObject = re.compile(pattern, re.M)\n",
    "    try:\n",
    "        spec = patternObject.search(output)\n",
    "        return spec.group(1)\n",
    "\n",
    "    except AttributeError:\n",
    "        return \"Attribute error\"\n",
    "\n",
    "\n",
    "def parse_json_string(spec_string):\n",
    "    \"\"\"This function transforms a string to a python literal. It therefore returns a dictionary from a JSON string.\n",
    "    To do this, it utilises the AST module (https://docs.python.org/3/library/ast.html). All errors are recorded\n",
    "    as syntax errors. However, they include:\n",
    "    1. Syntax error: If specString is a string but it doesnt contain a valid python literal (i.e. string,\n",
    "    numeric, collection (including dictionary), special).\n",
    "    2. Value error: Raised when malformed node or string.\n",
    "    3. Type error: Raised when an operation or function is applied to an object of inappropriate type.\n",
    "    \"\"\"\n",
    "    try:\n",
    "        spec = ast.literal_eval(spec_string)\n",
    "        return spec\n",
    "    except SyntaxError as e:\n",
    "        return 'Syntax error'\n",
    "    except ValueError as e:\n",
    "        return 'Syntax error'\n",
    "    except TypeError as e:\n",
    "        return 'Syntax error'\n",
    "\n",
    "\n",
    "def validate_json_schema(spec, vega_lite_schema):\n",
    "    \"\"\"Validates Vega-Lite specification via downloaded schema. For details, see\n",
    "    https://python-jsonschema.readthedocs.io/en/latest/validate/\n",
    "    \"\"\"\n",
    "    try:\n",
    "        jsonschema.validate(spec, vega_lite_schema)\n",
    "        # chart = alt.Chart(**spec)\n",
    "        # chart.display()\n",
    "        # save(chart, imageName)\n",
    "        # print(f\"Query {index}: Valid specification\")\n",
    "        return spec\n",
    "\n",
    "    except jsonschema.exceptions.ValidationError as e:\n",
    "        # print(f\"Query {index}: Validation error\")\n",
    "        # print(e)\n",
    "        # print(\"\\n\")\n",
    "        return \"Validation error\"\n",
    "\n",
    "    except jsonschema.exceptions.SchemaError as e:\n",
    "        # print(f\"Query {index}: Schema error\")\n",
    "        # print(e)\n",
    "        # print(\"\\n\")\n",
    "        return \"Validation error\"\n",
    "\n",
    "\n",
    "def validation_summary(validated_spec):\n",
    "  \"\"\"Calculates the % of problems where the first sample passes all validation tests (valid@1)\n",
    "  and at least one of the k samples passes all validation tests (valid@k)\n",
    "  \"\"\"\n",
    "  validated_spec_df = pd.DataFrame(validated_spec)\n",
    "  validated_spec_df = validated_spec_df.applymap(lambda x: 'Valid' if isinstance(x, dict) else x)\n",
    "\n",
    "  # Valid@1\n",
    "  valid_in_1 = validated_spec_df.apply(pd.Series.value_counts).apply(lambda x: x/x.sum()).transpose() * 100\n",
    "  valid_in_1 = valid_in_1.iloc[0].sort_values(ascending=False)\n",
    "  valid_in_1.name = 'Valid@1'\n",
    "\n",
    "  # Valid@k\n",
    "  is_valid = validated_spec_df == 'Valid'\n",
    "  valid_in_k = is_valid.sum(axis=1) >= 1\n",
    "  valid_in_k = valid_in_k.sum() / validated_spec_df.shape[0] * 100\n",
    "\n",
    "  # Valid@1 & Valid@k summary\n",
    "  valid_summary = pd.Series({\"Valid@1\": valid_in_1['Valid'],\n",
    "                          \"Valid@k\": valid_in_k})\n",
    "\n",
    "  return valid_in_1, valid_summary"
   ]
  },
  {
   "cell_type": "markdown",
   "id": "bd0ac997-4c87-4ebc-9a36-ef9c940103e8",
   "metadata": {
    "id": "bd0ac997-4c87-4ebc-9a36-ef9c940103e8"
   },
   "source": [
    "# Parameters"
   ]
  },
  {
   "cell_type": "markdown",
   "id": "8b78c6c9-ca9e-4cf7-8aec-ad6e2e63e3bf",
   "metadata": {
    "id": "8b78c6c9-ca9e-4cf7-8aec-ad6e2e63e3bf"
   },
   "source": [
    "## Command line arguments"
   ]
  },
  {
   "cell_type": "code",
   "execution_count": null,
   "id": "25186809",
   "metadata": {
    "id": "25186809"
   },
   "outputs": [],
   "source": [
    "# Create parser for command line arguments\n",
    "# Source: https://docs.python.org/3/library/argparse.html\n",
    "parser = argparse.ArgumentParser(description=\"Parse command line arguments\")\n",
    "parser.add_argument('-d',\n",
    "                    '--device',\n",
    "                    metavar='platform',\n",
    "                    type=str,\n",
    "                    nargs='?',\n",
    "                    default='hpc',\n",
    "                    help='Cuda or cpu.')\n",
    "\n",
    "parser.add_argument('-ds',\n",
    "                    '--decode',\n",
    "                    metavar='Decoding strategy',\n",
    "                    type=str,\n",
    "                    nargs='?',\n",
    "                    default='top_p',\n",
    "                    help='Top-P or Top-K');\n",
    "\n",
    "parser.add_argument('-m',\n",
    "                    '--model',\n",
    "                    metavar='device',\n",
    "                    type=str,\n",
    "                    nargs='?',\n",
    "                    default='gpt-neo-1.3B',\n",
    "                    help='Pre-trained transformer model.')\n",
    "\n",
    "parser.add_argument('-o',\n",
    "                    '--output',\n",
    "                    metavar='output filename',\n",
    "                    type=str,\n",
    "                    nargs='?',\n",
    "                    default='OOD_3shot_test_set-gpt-neo-125M-20230830-133808_results',\n",
    "                    help='Model output.')\n",
    "\n",
    "parser.add_argument('-p',\n",
    "                    '--prompts',\n",
    "                    metavar='prompt filename',\n",
    "                    type=str,\n",
    "                    nargs='?',\n",
    "                    default='OOD_3shot_test_set',\n",
    "                    help='Prompt filename.');"
   ]
  },
  {
   "cell_type": "code",
   "execution_count": null,
   "id": "d16a1d4c-e890-414e-badc-a160f41cfafc",
   "metadata": {
    "id": "d16a1d4c-e890-414e-badc-a160f41cfafc"
   },
   "outputs": [],
   "source": [
    "# Parse arguments via the parse_args() method\n",
    "if (PLATFORM=='colab') or (PLATFORM=='laptop'):\n",
    "    # args = parser.parse_args([])\n",
    "    args = parser.parse_args(['--decode', 'top_p',\n",
    "                              '--device', 'cpu',\n",
    "                              '--model', 'gpt-neo-125M',\n",
    "                              '--output', 'ID_3shot_test_set-gpt-neo-125M-20230830-114246_results',\n",
    "                              '--prompts', 'ID_3shot_test_set',\n",
    "                              ]\n",
    "                             )\n",
    "elif PLATFORM=='HPC':\n",
    "    args = parser.parse_args()"
   ]
  },
  {
   "cell_type": "code",
   "execution_count": null,
   "id": "9a8371f7",
   "metadata": {
    "id": "9a8371f7"
   },
   "outputs": [],
   "source": [
    "DECODE_STRATEGY = args.decode\n",
    "DEVICE_TYPE = args.device\n",
    "MODEL_TYPE = args.model\n",
    "MODEL_OUTPUT = args.output\n",
    "INPUT_PROMPTS = args.prompts\n",
    "SCHEMA_FILENAME = \"VegaLiteSchema\""
   ]
  },
  {
   "cell_type": "markdown",
   "id": "e0805142",
   "metadata": {
    "id": "e0805142"
   },
   "source": [
    "## File parameters"
   ]
  },
  {
   "cell_type": "code",
   "execution_count": null,
   "id": "77e4761b",
   "metadata": {
    "id": "77e4761b"
   },
   "outputs": [],
   "source": [
    "TIME_STRING = time.strftime(\"%Y%m%d-%H%M%S\")\n",
    "OUTPUT_FILENAME = MODEL_OUTPUT + '_validated'\n",
    "\n",
    "if PLATFORM == 'colab':\n",
    "    FILE_DIRECTORY = '/content/drive/MyDrive/Data science jobs/2. Portfolio/3. NL2VIS/'\n",
    "\n",
    "elif PLATFORM == 'hpc':\n",
    "    FILE_DIRECTORY = \"/mnt/scratch/users/adbz866/\"\n",
    "\n",
    "elif PLATFORM == 'laptop':\n",
    "    FILE_DIRECTORY = 'C:/Users/billy/OneDrive/Documents/Python Scripts/1. Portfolio/1. NL2VIS/'"
   ]
  },
  {
   "cell_type": "code",
   "execution_count": null,
   "id": "9b825248-d520-4b04-afc1-aa50bddda9fa",
   "metadata": {
    "colab": {
     "base_uri": "https://localhost:8080/"
    },
    "executionInfo": {
     "elapsed": 5,
     "status": "ok",
     "timestamp": 1693485762456,
     "user": {
      "displayName": "Billy Pitchford",
      "userId": "05624495549174061003"
     },
     "user_tz": -60
    },
    "id": "9b825248-d520-4b04-afc1-aa50bddda9fa",
    "outputId": "d347ba02-4cdc-4c8f-ee78-6bc2db270db8"
   },
   "outputs": [
    {
     "name": "stdout",
     "output_type": "stream",
     "text": [
      "Time: 20230831-124241\n",
      "File directory: /content/drive/MyDrive/Data science jobs/2. Portfolio/3. NL2VIS/\n",
      "\n",
      "\n",
      "Platform: colab\n",
      "Device: cpu\n",
      "Model: gpt-neo-125M\n",
      "Input prompts: ID_3shot_test_set\n",
      "Model output: ID_3shot_test_set-gpt-neo-125M-20230830-114246_results\n",
      "Decoding strategy: top_p\n",
      "Vega-lite schema file name: VegaLiteSchema\n"
     ]
    }
   ],
   "source": [
    "print(\"Time:\", TIME_STRING)\n",
    "print(\"File directory:\", FILE_DIRECTORY)\n",
    "print(\"\\n\")\n",
    "print(\"Platform:\", PLATFORM)\n",
    "print(\"Device:\", DEVICE_TYPE)\n",
    "print(\"Model:\", MODEL_TYPE)\n",
    "print(\"Input prompts:\", INPUT_PROMPTS)\n",
    "print(\"Model output:\", MODEL_OUTPUT)\n",
    "print(\"Decoding strategy:\", DECODE_STRATEGY)\n",
    "print(\"Vega-lite schema file name:\", SCHEMA_FILENAME)"
   ]
  },
  {
   "cell_type": "markdown",
   "id": "474e57b4",
   "metadata": {
    "id": "474e57b4"
   },
   "source": [
    "# Import data"
   ]
  },
  {
   "cell_type": "markdown",
   "id": "a1e0a6bf-76f9-4f6d-8c7a-f829fa46eb8e",
   "metadata": {
    "id": "a1e0a6bf-76f9-4f6d-8c7a-f829fa46eb8e"
   },
   "source": [
    "**Decoded generated sequences**"
   ]
  },
  {
   "cell_type": "code",
   "execution_count": null,
   "id": "d12ae6c2-d170-4057-b6c6-ea6baf74dfce",
   "metadata": {
    "id": "d12ae6c2-d170-4057-b6c6-ea6baf74dfce"
   },
   "outputs": [],
   "source": [
    "model_output = load_object(FILE_DIRECTORY + MODEL_OUTPUT)\n",
    "\n",
    "with open(FILE_DIRECTORY + INPUT_PROMPTS + '.pickle', 'rb') as f:\n",
    "    input_prompts = pickle.load(f)"
   ]
  },
  {
   "cell_type": "markdown",
   "id": "b8c423f8-a895-4f91-99b6-8d2193e5fab0",
   "metadata": {
    "id": "b8c423f8-a895-4f91-99b6-8d2193e5fab0"
   },
   "source": [
    "**Relevant vega-lite schema**"
   ]
  },
  {
   "cell_type": "code",
   "execution_count": null,
   "id": "c3614368",
   "metadata": {
    "id": "c3614368"
   },
   "outputs": [],
   "source": [
    "# vega_lite_schema = json.load(urllib.request.urlopen('https://vega.github.io/schema/vega-lite/v4.17.0.json'))\n",
    "# save_object(FILE_DIRECTORY + \"VegaLiteSchema\" + \".pickle\", vega_lite_schema)\n",
    "# del vega_lite_schema\n",
    "vega_lite_schema = load_object(FILE_DIRECTORY + SCHEMA_FILENAME + '.pickle')"
   ]
  },
  {
   "cell_type": "markdown",
   "id": "bb563968",
   "metadata": {
    "id": "bb563968"
   },
   "source": [
    "# Validation"
   ]
  },
  {
   "cell_type": "markdown",
   "id": "12a12ec5-4c34-4f67-88df-9b375fff67de",
   "metadata": {},
   "source": [
    "## Methodology"
   ]
  },
  {
   "cell_type": "markdown",
   "id": "0df8e92a-6a79-413e-a459-843ddcef8b0b",
   "metadata": {},
   "source": [
    "<img src=\"./figures/unit_testing_workflow.png\" \r\n",
    "     align=\"left\" \r\n",
    "     width=\"400\" />"
   ]
  },
  {
   "cell_type": "markdown",
   "id": "fc0e47d2-d41b-4fa7-a059-833f0624ddb9",
   "metadata": {
    "id": "fc0e47d2-d41b-4fa7-a059-833f0624ddb9"
   },
   "source": [
    "A series of unit tests are used to assess model outputs. When a problem fails a unit test, a unique error is raised and no further tests are conducted. The first test involves capturing the completed Vega-Lite specification using the relevant regular expression pattern. An attribute error is raised when no match is found. Next, the ast module (https://docs.python.org/3/library/ast.html) is used to check whether parsed outputs are valid Python dictionaries. An invalid dictionary raises a syntax error. Afterwards, the jsonschema module (https://python-jsonschema.readthedocs.io/) is used to check compliance with the Vega-Lite schema. A validation error is raised when an invalid instance was encountered.\n",
    "\n",
    "Note: All logical tests are conducted in a seperate notebook."
   ]
  },
  {
   "cell_type": "markdown",
   "id": "2ed39734-a682-422c-bc2c-8693426b0a46",
   "metadata": {
    "id": "2ed39734-a682-422c-bc2c-8693426b0a46"
   },
   "source": [
    "## Regular expression pattern matches?"
   ]
  },
  {
   "cell_type": "markdown",
   "id": "3d16b24c-c201-4234-afe2-568122298ca9",
   "metadata": {},
   "source": [
    "![](figures/regular_expression_pattern-1.png)"
   ]
  },
  {
   "cell_type": "markdown",
   "id": "cce84113-6ef2-4db3-b5cc-32d5d385170d",
   "metadata": {
    "id": "cce84113-6ef2-4db3-b5cc-32d5d385170d"
   },
   "source": [
    "* The regular expression patterns used to capture completed Vega-Lite specifications for A) out-of-domain\n",
    "problems and B) in-domain problems. The capturing group is highlighted in orange.\n",
    "* An attribute error is returned when no match is found.\n",
    "\n",
    "Note: Multiple outputs are generated for each problem. A nested for loop is therefore required below."
   ]
  },
  {
   "cell_type": "code",
   "execution_count": null,
   "id": "1a9ca994",
   "metadata": {
    "id": "1a9ca994"
   },
   "outputs": [],
   "source": [
    "model_output.update({'Parsed spec':[[parse_raw_output(decoded_seq)\n",
    "                                     for decoded_seq in problem]\n",
    "                                    for problem in model_output['Decoded sequences']]\n",
    "                    }\n",
    "                   )"
   ]
  },
  {
   "cell_type": "markdown",
   "id": "306271b1-e133-4004-aebf-f670b79e9129",
   "metadata": {
    "id": "306271b1-e133-4004-aebf-f670b79e9129"
   },
   "source": [
    "## Valid python dictionary?\n",
    "* The ast module is used to check whether captured specifications are valid Python dictionaries.\n",
    "* An invalid dictionary raises a syntax error.\n",
    "\n",
    "Note: Multiple outputs are generated for each problem. A nested for loop is therefore required below."
   ]
  },
  {
   "cell_type": "code",
   "execution_count": null,
   "id": "294669fa-3601-4fe2-8c99-0aee9272225e",
   "metadata": {
    "id": "294669fa-3601-4fe2-8c99-0aee9272225e"
   },
   "outputs": [],
   "source": [
    "model_output['Parsed spec'] = [[parse_json_string(json_string) if json_string != \"Attribute error\" else json_string\n",
    "                                for json_string in problem]\n",
    "                                for problem in model_output['Parsed spec']]"
   ]
  },
  {
   "cell_type": "markdown",
   "id": "0467eb84",
   "metadata": {
    "id": "0467eb84"
   },
   "source": [
    "## Valid Vega-Lite specification?\n",
    "* The jsonschema module is used to check compliance with the Vega-Lite schema.\n",
    "* A validation error is raised when an invalid instance was encountered.\n",
    "\n",
    "Note: Multiple outputs are generated for each problem. A nested for loop is therefore required below."
   ]
  },
  {
   "cell_type": "code",
   "execution_count": null,
   "id": "8c25b1b4",
   "metadata": {
    "id": "8c25b1b4"
   },
   "outputs": [],
   "source": [
    "errors = ['Attribute error', 'Syntax error']\n",
    "model_output.update({'Validated spec':[[validate_json_schema(spec, vega_lite_schema) if spec not in errors else spec\n",
    "                                        for spec in problem]\n",
    "                                       for problem in model_output['Parsed spec']]\n",
    "                    }\n",
    "                   )"
   ]
  },
  {
   "cell_type": "markdown",
   "id": "tnr7IRnk8CdY",
   "metadata": {
    "id": "tnr7IRnk8CdY"
   },
   "source": [
    "# Analyses"
   ]
  },
  {
   "cell_type": "markdown",
   "id": "GlsHRuyGQhue",
   "metadata": {
    "id": "GlsHRuyGQhue"
   },
   "source": [
    "## Valid@1"
   ]
  },
  {
   "cell_type": "code",
   "execution_count": null,
   "id": "gw2yagtPQrAe",
   "metadata": {
    "colab": {
     "base_uri": "https://localhost:8080/"
    },
    "executionInfo": {
     "elapsed": 21,
     "status": "ok",
     "timestamp": 1693486764419,
     "user": {
      "displayName": "Billy Pitchford",
      "userId": "05624495549174061003"
     },
     "user_tz": -60
    },
    "id": "gw2yagtPQrAe",
    "outputId": "0b24074f-a472-4a53-d2c8-452d4bdbd405"
   },
   "outputs": [
    {
     "name": "stdout",
     "output_type": "stream",
     "text": [
      "Valid               93.750\n",
      "Validation error     4.375\n",
      "Syntax error         1.875\n",
      "Name: Valid@1, dtype: float64\n"
     ]
    }
   ],
   "source": [
    "valid_in_1, _ = validation_summary(model_output['Validated spec'])\n",
    "print(valid_in_1)"
   ]
  },
  {
   "cell_type": "code",
   "execution_count": null,
   "id": "5A6aogNAQliq",
   "metadata": {
    "colab": {
     "base_uri": "https://localhost:8080/"
    },
    "executionInfo": {
     "elapsed": 468,
     "status": "ok",
     "timestamp": 1693486764883,
     "user": {
      "displayName": "Billy Pitchford",
      "userId": "05624495549174061003"
     },
     "user_tz": -60
    },
    "id": "5A6aogNAQliq",
    "outputId": "3994bff4-a35b-4ca9-d5da-3f90b992d16f"
   },
   "outputs": [
    {
     "data": {
      "image/png": "[encoded data removed]",
      "text/plain": [
       "<Figure size 640x480 with 1 Axes>"
      ]
     },
     "metadata": {},
     "output_type": "display_data"
    }
   ],
   "source": [
    "fig, axes = plt.subplots(nrows=1, ncols=1)\n",
    "valid_in_1.plot.bar(ax=axes)\n",
    "axes.set_ylim([0, 100])\n",
    "axes.set_ylabel('% of total')\n",
    "axes.set_xticklabels(labels=valid_in_1.index, rotation=45, ha='right')\n",
    "axes.set_title('Valid@1');"
   ]
  },
  {
   "cell_type": "markdown",
   "id": "jLEDmBgnQzxG",
   "metadata": {
    "id": "jLEDmBgnQzxG"
   },
   "source": [
    "## Valid@k"
   ]
  },
  {
   "cell_type": "code",
   "execution_count": null,
   "id": "RxduvlkSQ2X8",
   "metadata": {
    "colab": {
     "base_uri": "https://localhost:8080/"
    },
    "executionInfo": {
     "elapsed": 7,
     "status": "ok",
     "timestamp": 1693486764884,
     "user": {
      "displayName": "Billy Pitchford",
      "userId": "05624495549174061003"
     },
     "user_tz": -60
    },
    "id": "RxduvlkSQ2X8",
    "outputId": "241299a2-e2a4-4f35-e7be-f8de716f4ef1"
   },
   "outputs": [
    {
     "name": "stdout",
     "output_type": "stream",
     "text": [
      "Valid@1    93.75\n",
      "Valid@k    96.25\n",
      "dtype: float64\n"
     ]
    }
   ],
   "source": [
    "_, valid_in_k = validation_summary(model_output['Validated spec'])\n",
    "print(valid_in_k)"
   ]
  },
  {
   "cell_type": "code",
   "execution_count": null,
   "id": "hru_hLeBNm0Y",
   "metadata": {
    "colab": {
     "base_uri": "https://localhost:8080/"
    },
    "executionInfo": {
     "elapsed": 456,
     "status": "ok",
     "timestamp": 1693486765336,
     "user": {
      "displayName": "Billy Pitchford",
      "userId": "05624495549174061003"
     },
     "user_tz": -60
    },
    "id": "hru_hLeBNm0Y",
    "outputId": "6e5ecb78-9da5-4ba3-a77c-402bf691fcc1"
   },
   "outputs": [
    {
     "data": {
      "image/png": "[encoded data removed]",
      "text/plain": [
       "<Figure size 640x480 with 1 Axes>"
      ]
     },
     "metadata": {},
     "output_type": "display_data"
    }
   ],
   "source": [
    "fig, axes = plt.subplots(nrows=1, ncols=1)\n",
    "valid_in_k.plot.bar(ax=axes)\n",
    "axes.set_ylim([0, 100])\n",
    "axes.set_ylabel('% of total')\n",
    "axes.set_xticklabels(labels=valid_in_k.index, rotation=45, ha='right')\n",
    "axes.set_title('Valid@1 vs Valid@k');"
   ]
  },
  {
   "cell_type": "markdown",
   "id": "uV6oTJmjRQLl",
   "metadata": {
    "id": "uV6oTJmjRQLl"
   },
   "source": [
    "## Render visualistions"
   ]
  },
  {
   "cell_type": "code",
   "execution_count": null,
   "id": "4XwhRjOzUbps",
   "metadata": {
    "colab": {
     "base_uri": "https://localhost:8080/",
     "height": 1000
    },
    "executionInfo": {
     "elapsed": 12,
     "status": "ok",
     "timestamp": 1693486765337,
     "user": {
      "displayName": "Billy Pitchford",
      "userId": "05624495549174061003"
     },
     "user_tz": -60
    },
    "id": "4XwhRjOzUbps",
    "outputId": "bcdc18ba-533f-4039-8394-17f007333327"
   },
   "outputs": [
    {
     "name": "stdout",
     "output_type": "stream",
     "text": [
      "plot displacement by mpg', 'color by origin\n"
     ]
    },
    {
     "data": {
      "text/html": [
       "\n",
       "<div id=\"altair-viz-a7d73ebfd9894f7d95e47e52215d8c20\"></div>\n",
       "<script type=\"text/javascript\">\n",
       "  var VEGA_DEBUG = (typeof VEGA_DEBUG == \"undefined\") ? {} : VEGA_DEBUG;\n",
       "  (function(spec, embedOpt){\n",
       "    let outputDiv = document.currentScript.previousElementSibling;\n",
       "    if (outputDiv.id !== \"altair-viz-a7d73ebfd9894f7d95e47e52215d8c20\") {\n",
       "      outputDiv = document.getElementById(\"altair-viz-a7d73ebfd9894f7d95e47e52215d8c20\");\n",
       "    }\n",
       "    const paths = {\n",
       "      \"vega\": \"https://cdn.jsdelivr.net/npm//vega@5?noext\",\n",
       "      \"vega-lib\": \"https://cdn.jsdelivr.net/npm//vega-lib?noext\",\n",
       "      \"vega-lite\": \"https://cdn.jsdelivr.net/npm//vega-lite@4.17.0?noext\",\n",
       "      \"vega-embed\": \"https://cdn.jsdelivr.net/npm//vega-embed@6?noext\",\n",
       "    };\n",
       "\n",
       "    function maybeLoadScript(lib, version) {\n",
       "      var key = `${lib.replace(\"-\", \"\")}_version`;\n",
       "      return (VEGA_DEBUG[key] == version) ?\n",
       "        Promise.resolve(paths[lib]) :\n",
       "        new Promise(function(resolve, reject) {\n",
       "          var s = document.createElement('script');\n",
       "          document.getElementsByTagName(\"head\")[0].appendChild(s);\n",
       "          s.async = true;\n",
       "          s.onload = () => {\n",
       "            VEGA_DEBUG[key] = version;\n",
       "            return resolve(paths[lib]);\n",
       "          };\n",
       "          s.onerror = () => reject(`Error loading script: ${paths[lib]}`);\n",
       "          s.src = paths[lib];\n",
       "        });\n",
       "    }\n",
       "\n",
       "    function showError(err) {\n",
       "      outputDiv.innerHTML = `<div class=\"error\" style=\"color:red;\">${err}</div>`;\n",
       "      throw err;\n",
       "    }\n",
       "\n",
       "    function displayChart(vegaEmbed) {\n",
       "      vegaEmbed(outputDiv, spec, embedOpt)\n",
       "        .catch(err => showError(`Javascript Error: ${err.message}<br>This usually means there's a typo in your chart specification. See the javascript console for the full traceback.`));\n",
       "    }\n",
       "\n",
       "    if(typeof define === \"function\" && define.amd) {\n",
       "      requirejs.config({paths});\n",
       "      require([\"vega-embed\"], displayChart, err => showError(`Error loading script: ${err.message}`));\n",
       "    } else {\n",
       "      maybeLoadScript(\"vega\", \"5\")\n",
       "        .then(() => maybeLoadScript(\"vega-lite\", \"4.17.0\"))\n",
       "        .then(() => maybeLoadScript(\"vega-embed\", \"6\"))\n",
       "        .catch(showError)\n",
       "        .then(() => displayChart(vegaEmbed));\n",
       "    }\n",
       "  })({\"config\": {\"view\": {\"continuousWidth\": 400, \"continuousHeight\": 300}}, \"data\": {\"url\": \"https://raw.githubusercontent.com/nl4dv/nl4dv/master/examples/assets/data/cars-w-year.csv\"}, \"mark\": {\"type\": \"point\", \"filled\": true, \"opacity\": 0.8, \"tooltip\": null}, \"encoding\": {\"x\": {\"field\": \"Displacement\", \"type\": \"quantitative\", \"axis\": {\"format\": \"~s\"}}, \"y\": {\"field\": \"MPG\", \"type\": \"quantitative\", \"axis\": {\"format\": \"~s\"}}, \"color\": {\"field\": \"Origin\", \"type\": \"nominal\"}}, \"$schema\": \"https://vega.github.io/schema/vega-lite/v4.17.0.json\"}, {\"mode\": \"vega-lite\"});\n",
       "</script>"
      ],
      "text/plain": [
       "alt.Chart(...)"
      ]
     },
     "metadata": {},
     "output_type": "display_data"
    },
    {
     "name": "stdout",
     "output_type": "stream",
     "text": [
      "Show me the average profit by state\n"
     ]
    },
    {
     "data": {
      "text/html": [
       "\n",
       "<div id=\"altair-viz-933c15ca70454993b7bc2be75d29b7fe\"></div>\n",
       "<script type=\"text/javascript\">\n",
       "  var VEGA_DEBUG = (typeof VEGA_DEBUG == \"undefined\") ? {} : VEGA_DEBUG;\n",
       "  (function(spec, embedOpt){\n",
       "    let outputDiv = document.currentScript.previousElementSibling;\n",
       "    if (outputDiv.id !== \"altair-viz-933c15ca70454993b7bc2be75d29b7fe\") {\n",
       "      outputDiv = document.getElementById(\"altair-viz-933c15ca70454993b7bc2be75d29b7fe\");\n",
       "    }\n",
       "    const paths = {\n",
       "      \"vega\": \"https://cdn.jsdelivr.net/npm//vega@5?noext\",\n",
       "      \"vega-lib\": \"https://cdn.jsdelivr.net/npm//vega-lib?noext\",\n",
       "      \"vega-lite\": \"https://cdn.jsdelivr.net/npm//vega-lite@4.17.0?noext\",\n",
       "      \"vega-embed\": \"https://cdn.jsdelivr.net/npm//vega-embed@6?noext\",\n",
       "    };\n",
       "\n",
       "    function maybeLoadScript(lib, version) {\n",
       "      var key = `${lib.replace(\"-\", \"\")}_version`;\n",
       "      return (VEGA_DEBUG[key] == version) ?\n",
       "        Promise.resolve(paths[lib]) :\n",
       "        new Promise(function(resolve, reject) {\n",
       "          var s = document.createElement('script');\n",
       "          document.getElementsByTagName(\"head\")[0].appendChild(s);\n",
       "          s.async = true;\n",
       "          s.onload = () => {\n",
       "            VEGA_DEBUG[key] = version;\n",
       "            return resolve(paths[lib]);\n",
       "          };\n",
       "          s.onerror = () => reject(`Error loading script: ${paths[lib]}`);\n",
       "          s.src = paths[lib];\n",
       "        });\n",
       "    }\n",
       "\n",
       "    function showError(err) {\n",
       "      outputDiv.innerHTML = `<div class=\"error\" style=\"color:red;\">${err}</div>`;\n",
       "      throw err;\n",
       "    }\n",
       "\n",
       "    function displayChart(vegaEmbed) {\n",
       "      vegaEmbed(outputDiv, spec, embedOpt)\n",
       "        .catch(err => showError(`Javascript Error: ${err.message}<br>This usually means there's a typo in your chart specification. See the javascript console for the full traceback.`));\n",
       "    }\n",
       "\n",
       "    if(typeof define === \"function\" && define.amd) {\n",
       "      requirejs.config({paths});\n",
       "      require([\"vega-embed\"], displayChart, err => showError(`Error loading script: ${err.message}`));\n",
       "    } else {\n",
       "      maybeLoadScript(\"vega\", \"5\")\n",
       "        .then(() => maybeLoadScript(\"vega-lite\", \"4.17.0\"))\n",
       "        .then(() => maybeLoadScript(\"vega-embed\", \"6\"))\n",
       "        .catch(showError)\n",
       "        .then(() => displayChart(vegaEmbed));\n",
       "    }\n",
       "  })({\"config\": {\"view\": {\"continuousWidth\": 400, \"continuousHeight\": 300}}, \"data\": {\"url\": \"https://raw.githubusercontent.com/nlvcorpus/nlvcorpus.github.io/main/datasets/superstore.csv\"}, \"mark\": {\"type\": \"bar\", \"tooltip\": null}, \"encoding\": {\"x\": {\"field\": \"State\", \"type\": \"ordinal\"}, \"y\": {\"field\": \"Profit\", \"aggregate\": \"sum\", \"type\": \"quantitative\", \"axis\": {\"title\": \"AVG (Profit)\"}}}, \"$schema\": \"https://vega.github.io/schema/vega-lite/v4.17.0.json\"}, {\"mode\": \"vega-lite\"});\n",
       "</script>"
      ],
      "text/plain": [
       "alt.Chart(...)"
      ]
     },
     "metadata": {},
     "output_type": "display_data"
    },
    {
     "name": "stdout",
     "output_type": "stream",
     "text": [
      "Sum(Sales) X Sum(Profit) Y by region render cluster\n"
     ]
    },
    {
     "data": {
      "text/html": [
       "\n",
       "<div id=\"altair-viz-b7d34606a5584b578830f94a0ffe7f22\"></div>\n",
       "<script type=\"text/javascript\">\n",
       "  var VEGA_DEBUG = (typeof VEGA_DEBUG == \"undefined\") ? {} : VEGA_DEBUG;\n",
       "  (function(spec, embedOpt){\n",
       "    let outputDiv = document.currentScript.previousElementSibling;\n",
       "    if (outputDiv.id !== \"altair-viz-b7d34606a5584b578830f94a0ffe7f22\") {\n",
       "      outputDiv = document.getElementById(\"altair-viz-b7d34606a5584b578830f94a0ffe7f22\");\n",
       "    }\n",
       "    const paths = {\n",
       "      \"vega\": \"https://cdn.jsdelivr.net/npm//vega@5?noext\",\n",
       "      \"vega-lib\": \"https://cdn.jsdelivr.net/npm//vega-lib?noext\",\n",
       "      \"vega-lite\": \"https://cdn.jsdelivr.net/npm//vega-lite@4.17.0?noext\",\n",
       "      \"vega-embed\": \"https://cdn.jsdelivr.net/npm//vega-embed@6?noext\",\n",
       "    };\n",
       "\n",
       "    function maybeLoadScript(lib, version) {\n",
       "      var key = `${lib.replace(\"-\", \"\")}_version`;\n",
       "      return (VEGA_DEBUG[key] == version) ?\n",
       "        Promise.resolve(paths[lib]) :\n",
       "        new Promise(function(resolve, reject) {\n",
       "          var s = document.createElement('script');\n",
       "          document.getElementsByTagName(\"head\")[0].appendChild(s);\n",
       "          s.async = true;\n",
       "          s.onload = () => {\n",
       "            VEGA_DEBUG[key] = version;\n",
       "            return resolve(paths[lib]);\n",
       "          };\n",
       "          s.onerror = () => reject(`Error loading script: ${paths[lib]}`);\n",
       "          s.src = paths[lib];\n",
       "        });\n",
       "    }\n",
       "\n",
       "    function showError(err) {\n",
       "      outputDiv.innerHTML = `<div class=\"error\" style=\"color:red;\">${err}</div>`;\n",
       "      throw err;\n",
       "    }\n",
       "\n",
       "    function displayChart(vegaEmbed) {\n",
       "      vegaEmbed(outputDiv, spec, embedOpt)\n",
       "        .catch(err => showError(`Javascript Error: ${err.message}<br>This usually means there's a typo in your chart specification. See the javascript console for the full traceback.`));\n",
       "    }\n",
       "\n",
       "    if(typeof define === \"function\" && define.amd) {\n",
       "      requirejs.config({paths});\n",
       "      require([\"vega-embed\"], displayChart, err => showError(`Error loading script: ${err.message}`));\n",
       "    } else {\n",
       "      maybeLoadScript(\"vega\", \"5\")\n",
       "        .then(() => maybeLoadScript(\"vega-lite\", \"4.17.0\"))\n",
       "        .then(() => maybeLoadScript(\"vega-embed\", \"6\"))\n",
       "        .catch(showError)\n",
       "        .then(() => displayChart(vegaEmbed));\n",
       "    }\n",
       "  })({\"config\": {\"view\": {\"continuousWidth\": 400, \"continuousHeight\": 300}}, \"data\": {\"url\": \"https://raw.githubusercontent.com/nlvcorpus/nlvcorpus.github.io/main/datasets/superstore.csv\"}, \"mark\": {\"type\": \"point\", \"filled\": true, \"opacity\": 0.5, \"tooltip\": null}, \"encoding\": {\"x\": {\"field\": \"Profit\", \"type\": \"quantitative\"}, \"y\": {\"field\": \"Sales\", \"type\": \"quantitative\"}}, \"$schema\": \"https://vega.github.io/schema/vega-lite/v4.17.0.json\"}, {\"mode\": \"vega-lite\"});\n",
       "</script>"
      ],
      "text/plain": [
       "alt.Chart(...)"
      ]
     },
     "metadata": {},
     "output_type": "display_data"
    },
    {
     "name": "stdout",
     "output_type": "stream",
     "text": [
      "Stacked columns of Sum (profit) segmented by Ship Status vs Region\n"
     ]
    },
    {
     "data": {
      "text/html": [
       "\n",
       "<div id=\"altair-viz-528b226b19b4407a94c504d35faa2d95\"></div>\n",
       "<script type=\"text/javascript\">\n",
       "  var VEGA_DEBUG = (typeof VEGA_DEBUG == \"undefined\") ? {} : VEGA_DEBUG;\n",
       "  (function(spec, embedOpt){\n",
       "    let outputDiv = document.currentScript.previousElementSibling;\n",
       "    if (outputDiv.id !== \"altair-viz-528b226b19b4407a94c504d35faa2d95\") {\n",
       "      outputDiv = document.getElementById(\"altair-viz-528b226b19b4407a94c504d35faa2d95\");\n",
       "    }\n",
       "    const paths = {\n",
       "      \"vega\": \"https://cdn.jsdelivr.net/npm//vega@5?noext\",\n",
       "      \"vega-lib\": \"https://cdn.jsdelivr.net/npm//vega-lib?noext\",\n",
       "      \"vega-lite\": \"https://cdn.jsdelivr.net/npm//vega-lite@4.17.0?noext\",\n",
       "      \"vega-embed\": \"https://cdn.jsdelivr.net/npm//vega-embed@6?noext\",\n",
       "    };\n",
       "\n",
       "    function maybeLoadScript(lib, version) {\n",
       "      var key = `${lib.replace(\"-\", \"\")}_version`;\n",
       "      return (VEGA_DEBUG[key] == version) ?\n",
       "        Promise.resolve(paths[lib]) :\n",
       "        new Promise(function(resolve, reject) {\n",
       "          var s = document.createElement('script');\n",
       "          document.getElementsByTagName(\"head\")[0].appendChild(s);\n",
       "          s.async = true;\n",
       "          s.onload = () => {\n",
       "            VEGA_DEBUG[key] = version;\n",
       "            return resolve(paths[lib]);\n",
       "          };\n",
       "          s.onerror = () => reject(`Error loading script: ${paths[lib]}`);\n",
       "          s.src = paths[lib];\n",
       "        });\n",
       "    }\n",
       "\n",
       "    function showError(err) {\n",
       "      outputDiv.innerHTML = `<div class=\"error\" style=\"color:red;\">${err}</div>`;\n",
       "      throw err;\n",
       "    }\n",
       "\n",
       "    function displayChart(vegaEmbed) {\n",
       "      vegaEmbed(outputDiv, spec, embedOpt)\n",
       "        .catch(err => showError(`Javascript Error: ${err.message}<br>This usually means there's a typo in your chart specification. See the javascript console for the full traceback.`));\n",
       "    }\n",
       "\n",
       "    if(typeof define === \"function\" && define.amd) {\n",
       "      requirejs.config({paths});\n",
       "      require([\"vega-embed\"], displayChart, err => showError(`Error loading script: ${err.message}`));\n",
       "    } else {\n",
       "      maybeLoadScript(\"vega\", \"5\")\n",
       "        .then(() => maybeLoadScript(\"vega-lite\", \"4.17.0\"))\n",
       "        .then(() => maybeLoadScript(\"vega-embed\", \"6\"))\n",
       "        .catch(showError)\n",
       "        .then(() => displayChart(vegaEmbed));\n",
       "    }\n",
       "  })({\"config\": {\"view\": {\"continuousWidth\": 400, \"continuousHeight\": 300}}, \"data\": {\"url\": \"https://raw.githubusercontent.com/nlvcorpus/nlvcorpus.github.io/main/datasets/superstore.csv\"}, \"mark\": {\"type\": \"bar\", \"tooltip\": null}, \"encoding\": {\"x\": {\"field\": \"Region\", \"type\": \"ordinal\"}, \"y\": {\"aggregate\": \"sum\", \"field\": \"Profit\", \"type\": \"quantitative\", \"axis\": {\"title\": \"SUM (Profit)\"}}, \"color\": {\"field\": \"Ship Status\", \"type\": \"nominal\", \"legend\": {\"title\": \"Ship Status\"}}}, \"transform\": [], \"$schema\": \"https://vega.github.io/schema/vega-lite/v4.17.0.json\"}, {\"mode\": \"vega-lite\"});\n",
       "</script>"
      ],
      "text/plain": [
       "alt.Chart(...)"
      ]
     },
     "metadata": {},
     "output_type": "display_data"
    },
    {
     "name": "stdout",
     "output_type": "stream",
     "text": [
      "What is our profit based on shipping mode by customer segment?\n"
     ]
    },
    {
     "data": {
      "text/html": [
       "\n",
       "<div id=\"altair-viz-69e327f620234cdfb1cfaf9686ee9aa0\"></div>\n",
       "<script type=\"text/javascript\">\n",
       "  var VEGA_DEBUG = (typeof VEGA_DEBUG == \"undefined\") ? {} : VEGA_DEBUG;\n",
       "  (function(spec, embedOpt){\n",
       "    let outputDiv = document.currentScript.previousElementSibling;\n",
       "    if (outputDiv.id !== \"altair-viz-69e327f620234cdfb1cfaf9686ee9aa0\") {\n",
       "      outputDiv = document.getElementById(\"altair-viz-69e327f620234cdfb1cfaf9686ee9aa0\");\n",
       "    }\n",
       "    const paths = {\n",
       "      \"vega\": \"https://cdn.jsdelivr.net/npm//vega@5?noext\",\n",
       "      \"vega-lib\": \"https://cdn.jsdelivr.net/npm//vega-lib?noext\",\n",
       "      \"vega-lite\": \"https://cdn.jsdelivr.net/npm//vega-lite@4.17.0?noext\",\n",
       "      \"vega-embed\": \"https://cdn.jsdelivr.net/npm//vega-embed@6?noext\",\n",
       "    };\n",
       "\n",
       "    function maybeLoadScript(lib, version) {\n",
       "      var key = `${lib.replace(\"-\", \"\")}_version`;\n",
       "      return (VEGA_DEBUG[key] == version) ?\n",
       "        Promise.resolve(paths[lib]) :\n",
       "        new Promise(function(resolve, reject) {\n",
       "          var s = document.createElement('script');\n",
       "          document.getElementsByTagName(\"head\")[0].appendChild(s);\n",
       "          s.async = true;\n",
       "          s.onload = () => {\n",
       "            VEGA_DEBUG[key] = version;\n",
       "            return resolve(paths[lib]);\n",
       "          };\n",
       "          s.onerror = () => reject(`Error loading script: ${paths[lib]}`);\n",
       "          s.src = paths[lib];\n",
       "        });\n",
       "    }\n",
       "\n",
       "    function showError(err) {\n",
       "      outputDiv.innerHTML = `<div class=\"error\" style=\"color:red;\">${err}</div>`;\n",
       "      throw err;\n",
       "    }\n",
       "\n",
       "    function displayChart(vegaEmbed) {\n",
       "      vegaEmbed(outputDiv, spec, embedOpt)\n",
       "        .catch(err => showError(`Javascript Error: ${err.message}<br>This usually means there's a typo in your chart specification. See the javascript console for the full traceback.`));\n",
       "    }\n",
       "\n",
       "    if(typeof define === \"function\" && define.amd) {\n",
       "      requirejs.config({paths});\n",
       "      require([\"vega-embed\"], displayChart, err => showError(`Error loading script: ${err.message}`));\n",
       "    } else {\n",
       "      maybeLoadScript(\"vega\", \"5\")\n",
       "        .then(() => maybeLoadScript(\"vega-lite\", \"4.17.0\"))\n",
       "        .then(() => maybeLoadScript(\"vega-embed\", \"6\"))\n",
       "        .catch(showError)\n",
       "        .then(() => displayChart(vegaEmbed));\n",
       "    }\n",
       "  })({\"config\": {\"view\": {\"continuousWidth\": 400, \"continuousHeight\": 300}}, \"data\": {\"url\": \"https://raw.githubusercontent.com/nlvcorpus/nlvcorpus.github.io/main/datasets/superstore.csv\"}, \"mark\": {\"type\": \"bar\", \"tooltip\": null}, \"encoding\": {\"x\": {\"field\": \"Segment\", \"type\": \"ordinal\"}, \"y\": {\"aggregate\": \"mean\", \"field\": \"Profit\", \"type\": \"quantitative\", \"axis\": {\"title\": null, \"labels\": false, \"ticks\": false}}, \"color\": {\"field\": \"Segment\", \"type\": \"nominal\"}}, \"$schema\": \"https://vega.github.io/schema/vega-lite/v4.17.0.json\"}, {\"mode\": \"vega-lite\"});\n",
       "</script>"
      ],
      "text/plain": [
       "alt.Chart(...)"
      ]
     },
     "metadata": {},
     "output_type": "display_data"
    }
   ],
   "source": [
    "is_valid = pd.DataFrame(model_output['Validated spec'])\n",
    "is_valid = is_valid.applymap(lambda x: 'Valid' if isinstance(x, dict) else x)\n",
    "is_valid = is_valid=='Valid'\n",
    "is_valid = pd.Series(is_valid.to_numpy().flatten())\n",
    "\n",
    "validated_specs = pd.DataFrame(model_output['Validated spec'])\n",
    "validated_specs = pd.Series(validated_specs.to_numpy().flatten())\n",
    "validated_specs = validated_specs[is_valid]\n",
    "\n",
    "prompts = pd.concat([input_prompts['query'] for col in range(10)], axis=1)\n",
    "prompts.columns = list(range(10))\n",
    "prompts = pd.Series(prompts.to_numpy().flatten())\n",
    "\n",
    "random.seed(5)\n",
    "samples = random.sample(validated_specs.index.tolist(), 5)\n",
    "for index in samples:\n",
    "  print(prompts[index])\n",
    "  chart = alt.Chart(**validated_specs[index])\n",
    "  chart.display()"
   ]
  },
  {
   "cell_type": "markdown",
   "id": "17120c22",
   "metadata": {
    "id": "17120c22"
   },
   "source": [
    "# Save data"
   ]
  },
  {
   "cell_type": "code",
   "execution_count": null,
   "id": "66c8c659",
   "metadata": {
    "id": "66c8c659"
   },
   "outputs": [],
   "source": [
    "save_object(FILE_DIRECTORY + OUTPUT_FILENAME, model_output)"
   ]
  }
 ],
 "metadata": {
  "colab": {
   "provenance": [],
   "toc_visible": true
  },
  "kernelspec": {
   "display_name": "nl2vis",
   "language": "python",
   "name": "nl2vis"
  },
  "language_info": {
   "codemirror_mode": {
    "name": "ipython",
    "version": 3
   },
   "file_extension": ".py",
   "mimetype": "text/x-python",
   "name": "python",
   "nbconvert_exporter": "python",
   "pygments_lexer": "ipython3",
   "version": "3.10.12"
  },
  "toc": {
   "base_numbering": 1,
   "nav_menu": {},
   "number_sections": true,
   "sideBar": true,
   "skip_h1_title": false,
   "title_cell": "Table of Contents",
   "title_sidebar": "Contents",
   "toc_cell": false,
   "toc_position": {
    "height": "calc(100% - 180px)",
    "left": "10px",
    "top": "150px",
    "width": "375.2px"
   },
   "toc_section_display": true,
   "toc_window_display": true
  }
 },
 "nbformat": 4,
 "nbformat_minor": 5
}
