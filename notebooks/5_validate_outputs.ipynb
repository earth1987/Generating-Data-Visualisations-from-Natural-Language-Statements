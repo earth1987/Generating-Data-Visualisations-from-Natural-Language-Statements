{
  "cells": [
    {
      "cell_type": "markdown",
      "id": "bc7f8969",
      "metadata": {
        "id": "bc7f8969"
      },
      "source": [
        "# Set-up"
      ]
    },
    {
      "cell_type": "markdown",
      "id": "77cd15bf-a820-4483-bb21-bc04e714a311",
      "metadata": {
        "id": "77cd15bf-a820-4483-bb21-bc04e714a311"
      },
      "source": [
        "## Select Colab or HPC"
      ]
    },
    {
      "cell_type": "code",
      "execution_count": 32,
      "id": "4360bd65-6e33-4fdb-875d-53bdb4008f66",
      "metadata": {
        "id": "4360bd65-6e33-4fdb-875d-53bdb4008f66"
      },
      "outputs": [],
      "source": [
        "PLATFORM = 'colab' # colab or HPC or laptop"
      ]
    },
    {
      "cell_type": "markdown",
      "id": "9b8e8303-bd4d-401e-86af-274b1f1ccf9b",
      "metadata": {
        "id": "9b8e8303-bd4d-401e-86af-274b1f1ccf9b"
      },
      "source": [
        "## Import dependencies"
      ]
    },
    {
      "cell_type": "code",
      "execution_count": 33,
      "id": "e7d7a1d8-df7a-4f66-82f8-505c69ac7eee",
      "metadata": {
        "id": "e7d7a1d8-df7a-4f66-82f8-505c69ac7eee"
      },
      "outputs": [],
      "source": [
        "import altair as alt\n",
        "import argparse\n",
        "import ast\n",
        "import bz2\n",
        "import IPython.display\n",
        "import json\n",
        "import jsonschema\n",
        "import matplotlib as mpl\n",
        "import matplotlib.pyplot as plt\n",
        "import numpy as np\n",
        "import pandas as pd\n",
        "import pickle\n",
        "import random\n",
        "import re\n",
        "import time\n",
        "import urllib"
      ]
    },
    {
      "cell_type": "code",
      "execution_count": 34,
      "id": "ab8a4240-7a75-4038-a76f-668eb84d5948",
      "metadata": {
        "colab": {
          "base_uri": "https://localhost:8080/"
        },
        "id": "ab8a4240-7a75-4038-a76f-668eb84d5948",
        "outputId": "171f340a-39b9-4e25-e60b-ef477406f763"
      },
      "outputs": [
        {
          "output_type": "stream",
          "name": "stdout",
          "text": [
            "Drive already mounted at /content/drive; to attempt to forcibly remount, call drive.mount(\"/content/drive\", force_remount=True).\n"
          ]
        }
      ],
      "source": [
        "if PLATFORM == 'colab':\n",
        "\n",
        "    # Install Hugging Face library using a shell command\n",
        "    import os\n",
        "    os.system(\"pip install transformers\")\n",
        "\n",
        "    # Mount Google Drive and CD using a shell command\n",
        "    from google.colab import drive\n",
        "    drive.mount('/content/drive')\n",
        "    os.chdir(\"/content/drive/MyDrive/Data science jobs/2. Portfolio/3. NL2VIS/\")"
      ]
    },
    {
      "cell_type": "markdown",
      "id": "55f17840-8b9e-45fa-b31d-0f0c138d1110",
      "metadata": {
        "id": "55f17840-8b9e-45fa-b31d-0f0c138d1110"
      },
      "source": [
        "## Top level functions"
      ]
    },
    {
      "cell_type": "code",
      "execution_count": 35,
      "id": "cee8d827-0a58-4c77-99b1-9c883dd3becc",
      "metadata": {
        "id": "cee8d827-0a58-4c77-99b1-9c883dd3becc"
      },
      "outputs": [],
      "source": [
        "def save_object(fname, data):\n",
        "    \"\"\"Pickle a file and compress it.\n",
        "    Source: https://betterprogramming.pub/load-fast-load-big-with-compressed-pickles-5f311584507e\n",
        "    \"\"\"\n",
        "    with bz2.open(fname, \"wb\") as f:\n",
        "        pickle.dump(data, f)\n",
        "\n",
        "\n",
        "def load_object(fname):\n",
        "    \"\"\"Load compressed pickle file\n",
        "    Source: https://betterprogramming.pub/load-fast-load-big-with-compressed-pickles-5f311584507e\n",
        "    \"\"\"\n",
        "    with bz2.open(fname, \"rb\") as f:\n",
        "        data = pickle.load(f)\n",
        "    return data\n",
        "\n",
        "\n",
        "def parse_raw_output(output):\n",
        "    \"\"\"Parses the decoded generated output sequence. Returns a json string when a match is found.\n",
        "    An attribute error is raised if there is no match (and therefore no group attribute). Please note\n",
        "    a match only occurs if the end of the dictionary is immediately followed by a line break.\n",
        "    \"\"\"\n",
        "    if \"OOD\" in INPUT_FILENAME:\n",
        "        pattern = r'^Task:.*?\\nDataset schema:.*?\\nSpecification:\\s{.*?}\\s*$\\n'*3 + \\\n",
        "            r'^Task:.*?\\nDataset schema:.*?\\nSpecification:\\s({.*?})\\s*$'\n",
        "    else:\n",
        "        pattern = r'^Task:.*?\\nSpecification:\\s{.*?}\\s*$\\n'*3 + \\\n",
        "            r'^Task:.*?\\nSpecification:\\s({.*?})\\s*$'\n",
        "\n",
        "    patternObject = re.compile(pattern, re.M)\n",
        "    try:\n",
        "        spec = patternObject.search(output)\n",
        "        return spec.group(1)\n",
        "\n",
        "    except AttributeError:\n",
        "        return \"Attribute error\"\n",
        "\n",
        "\n",
        "def parse_json_string(spec_string):\n",
        "    \"\"\"This function transforms a string to a python literal. It therefore returns a dictionary from a JSON string.\n",
        "    To do this, it utilises the AST module (https://docs.python.org/3/library/ast.html). All errors are recorded\n",
        "    as syntax errors. However, they include:\n",
        "    1. Syntax error: If specString is a string but it doesnt contain a valid python literal (i.e. string,\n",
        "    numeric, collection (including dictionary), special).\n",
        "    2. Value error: Raised when malformed node or string.\n",
        "    3. Type error: Raised when an operation or function is applied to an object of inappropriate type.\n",
        "    \"\"\"\n",
        "    try:\n",
        "        spec = ast.literal_eval(spec_string)\n",
        "        return spec\n",
        "    except SyntaxError as e:\n",
        "        return 'Syntax error'\n",
        "    except ValueError as e:\n",
        "        return 'Syntax error'\n",
        "    except TypeError as e:\n",
        "        return 'Syntax error'\n",
        "\n",
        "\n",
        "def validate_json_schema(spec, vega_lite_schema):\n",
        "    \"\"\"Validates Vega-Lite specification via downloaded schema. For details, see\n",
        "    https://python-jsonschema.readthedocs.io/en/latest/validate/\n",
        "    \"\"\"\n",
        "    try:\n",
        "        jsonschema.validate(spec, vega_lite_schema)\n",
        "        # chart = alt.Chart(**spec)\n",
        "        # chart.display()\n",
        "        # save(chart, imageName)\n",
        "        # print(f\"Query {index}: Valid specification\")\n",
        "        return spec\n",
        "\n",
        "    except jsonschema.exceptions.ValidationError as e:\n",
        "        # print(f\"Query {index}: Validation error\")\n",
        "        # print(e)\n",
        "        # print(\"\\n\")\n",
        "        return \"Validation error\"\n",
        "\n",
        "    except jsonschema.exceptions.SchemaError as e:\n",
        "        # print(f\"Query {index}: Schema error\")\n",
        "        # print(e)\n",
        "        # print(\"\\n\")\n",
        "        return \"Validation error\""
      ]
    },
    {
      "cell_type": "markdown",
      "id": "bd0ac997-4c87-4ebc-9a36-ef9c940103e8",
      "metadata": {
        "id": "bd0ac997-4c87-4ebc-9a36-ef9c940103e8"
      },
      "source": [
        "# Parameters"
      ]
    },
    {
      "cell_type": "markdown",
      "id": "8b78c6c9-ca9e-4cf7-8aec-ad6e2e63e3bf",
      "metadata": {
        "id": "8b78c6c9-ca9e-4cf7-8aec-ad6e2e63e3bf"
      },
      "source": [
        "## Command line arguments"
      ]
    },
    {
      "cell_type": "code",
      "execution_count": 36,
      "id": "25186809",
      "metadata": {
        "id": "25186809"
      },
      "outputs": [],
      "source": [
        "# Create parser for command line arguments\n",
        "# Source: https://docs.python.org/3/library/argparse.html\n",
        "parser = argparse.ArgumentParser(description=\"Parse command line arguments\")\n",
        "parser.add_argument('-d',\n",
        "                    '--device',\n",
        "                    metavar='platform',\n",
        "                    type=str,\n",
        "                    nargs='?',\n",
        "                    default='hpc',\n",
        "                    help='Cuda or cpu.')\n",
        "\n",
        "parser.add_argument('-ds',\n",
        "                    '--decode',\n",
        "                    metavar='Decoding strategy',\n",
        "                    type=str,\n",
        "                    nargs='?',\n",
        "                    default='top_p',\n",
        "                    help='Top-P or Top-K');\n",
        "\n",
        "parser.add_argument('-i',\n",
        "                    '--input',\n",
        "                    metavar='input filename',\n",
        "                    type=str,\n",
        "                    nargs='?',\n",
        "                    default='0shot_10fold_FS_test',\n",
        "                    help='Input filename.')\n",
        "\n",
        "parser.add_argument('-m',\n",
        "                    '--model',\n",
        "                    metavar='device',\n",
        "                    type=str,\n",
        "                    nargs='?',\n",
        "                    default='gpt-neo-1.3B',\n",
        "                    help='Pre-trained transformer model.');"
      ]
    },
    {
      "cell_type": "code",
      "execution_count": 37,
      "id": "d16a1d4c-e890-414e-badc-a160f41cfafc",
      "metadata": {
        "id": "d16a1d4c-e890-414e-badc-a160f41cfafc"
      },
      "outputs": [],
      "source": [
        "# Parse arguments via the parse_args() method\n",
        "if (PLATFORM=='colab') or (PLATFORM=='laptop'):\n",
        "    # args = parser.parse_args([])\n",
        "    args = parser.parse_args(['--decode', 'top_p',\n",
        "                              '--device', 'cpu',\n",
        "                              '--input', 'OOD_3shot_test_set-gpt-neo-125M-20230830-133808_results',\n",
        "                              '--model', 'gpt-neo-125M'])\n",
        "elif PLATFORM=='HPC':\n",
        "    args = parser.parse_args()"
      ]
    },
    {
      "cell_type": "code",
      "execution_count": 38,
      "id": "9a8371f7",
      "metadata": {
        "id": "9a8371f7"
      },
      "outputs": [],
      "source": [
        "DECODE_STRATEGY = args.decode\n",
        "DEVICE_TYPE = args.device\n",
        "INPUT_FILENAME = args.input\n",
        "MODEL_TYPE = args.model\n",
        "SCHEMA_FILENAME = \"VegaLiteSchema\""
      ]
    },
    {
      "cell_type": "markdown",
      "id": "e0805142",
      "metadata": {
        "id": "e0805142"
      },
      "source": [
        "## File parameters"
      ]
    },
    {
      "cell_type": "code",
      "execution_count": 39,
      "id": "77e4761b",
      "metadata": {
        "id": "77e4761b"
      },
      "outputs": [],
      "source": [
        "TIME_STRING = time.strftime(\"%Y%m%d-%H%M%S\")\n",
        "OUTPUT_FILENAME = INPUT_FILENAME + '_validated'\n",
        "\n",
        "if PLATFORM == 'colab':\n",
        "    FILE_DIRECTORY = '/content/drive/MyDrive/Data science jobs/2. Portfolio/3. NL2VIS/'\n",
        "\n",
        "elif PLATFORM == 'hpc':\n",
        "    FILE_DIRECTORY = \"/mnt/scratch/users/adbz866/\"\n",
        "\n",
        "elif PLATFORM == 'laptop':\n",
        "    FILE_DIRECTORY = 'C:/Users/billy/OneDrive/Documents/Python Scripts/1. Portfolio/1. NL2VIS/'"
      ]
    },
    {
      "cell_type": "code",
      "execution_count": 40,
      "id": "9b825248-d520-4b04-afc1-aa50bddda9fa",
      "metadata": {
        "colab": {
          "base_uri": "https://localhost:8080/"
        },
        "id": "9b825248-d520-4b04-afc1-aa50bddda9fa",
        "outputId": "74a81e23-8732-470a-b41a-088ef7309880"
      },
      "outputs": [
        {
          "output_type": "stream",
          "name": "stdout",
          "text": [
            "Time: 20230830-142326\n",
            "File directory: /content/drive/MyDrive/Data science jobs/2. Portfolio/3. NL2VIS/\n",
            "Input file name: OOD_3shot_test_set-gpt-neo-125M-20230830-133808_results\n",
            "\n",
            "\n",
            "Platform: colab\n",
            "Device: cpu\n",
            "Model: gpt-neo-125M\n",
            "Decoding strategy: top_p\n",
            "Vega-lite schema file name: VegaLiteSchema\n",
            "\n",
            "\n",
            "Output file name: OOD_3shot_test_set-gpt-neo-125M-20230830-133808_results_validated\n"
          ]
        }
      ],
      "source": [
        "print(\"Time:\", TIME_STRING)\n",
        "print(\"File directory:\", FILE_DIRECTORY)\n",
        "print(\"Input file name:\", INPUT_FILENAME)\n",
        "print(\"\\n\")\n",
        "print(\"Platform:\", PLATFORM)\n",
        "print(\"Device:\", DEVICE_TYPE)\n",
        "print(\"Model:\", MODEL_TYPE)\n",
        "print(\"Decoding strategy:\", DECODE_STRATEGY)\n",
        "print(\"Vega-lite schema file name:\", SCHEMA_FILENAME)\n",
        "print(\"\\n\")\n",
        "print(\"Output file name:\", OUTPUT_FILENAME)"
      ]
    },
    {
      "cell_type": "markdown",
      "id": "474e57b4",
      "metadata": {
        "id": "474e57b4"
      },
      "source": [
        "# Import data"
      ]
    },
    {
      "cell_type": "markdown",
      "id": "a1e0a6bf-76f9-4f6d-8c7a-f829fa46eb8e",
      "metadata": {
        "id": "a1e0a6bf-76f9-4f6d-8c7a-f829fa46eb8e"
      },
      "source": [
        "**Decoded generated sequences**"
      ]
    },
    {
      "cell_type": "code",
      "execution_count": 41,
      "id": "d12ae6c2-d170-4057-b6c6-ea6baf74dfce",
      "metadata": {
        "id": "d12ae6c2-d170-4057-b6c6-ea6baf74dfce"
      },
      "outputs": [],
      "source": [
        "model_output = load_object(FILE_DIRECTORY + INPUT_FILENAME)"
      ]
    },
    {
      "cell_type": "markdown",
      "id": "b8c423f8-a895-4f91-99b6-8d2193e5fab0",
      "metadata": {
        "id": "b8c423f8-a895-4f91-99b6-8d2193e5fab0"
      },
      "source": [
        "**Relevant vega-lite schema**"
      ]
    },
    {
      "cell_type": "code",
      "execution_count": 42,
      "id": "c3614368",
      "metadata": {
        "id": "c3614368"
      },
      "outputs": [],
      "source": [
        "# vega_lite_schema = json.load(urllib.request.urlopen('https://vega.github.io/schema/vega-lite/v4.17.0.json'))\n",
        "# save_object(FILE_DIRECTORY + \"VegaLiteSchema\" + \".pickle\", vega_lite_schema)\n",
        "# del vega_lite_schema\n",
        "vega_lite_schema = load_object(FILE_DIRECTORY + SCHEMA_FILENAME + '.pickle')"
      ]
    },
    {
      "cell_type": "markdown",
      "id": "bb563968",
      "metadata": {
        "id": "bb563968"
      },
      "source": [
        "# Evaluation"
      ]
    },
    {
      "cell_type": "markdown",
      "id": "6ef3d67c-0328-4dd1-8607-9454592e9b69",
      "metadata": {
        "id": "6ef3d67c-0328-4dd1-8607-9454592e9b69"
      },
      "source": [
        "## Methodology"
      ]
    },
    {
      "cell_type": "markdown",
      "id": "d2b0356f-a1cd-4f5a-bcee-123cab0169ea",
      "metadata": {
        "id": "d2b0356f-a1cd-4f5a-bcee-123cab0169ea"
      },
      "source": [
        "![image.png](attachment:a9bfb8fc-3efe-4d54-920d-1ae920551d98.png)"
      ]
    },
    {
      "cell_type": "markdown",
      "id": "fc0e47d2-d41b-4fa7-a059-833f0624ddb9",
      "metadata": {
        "id": "fc0e47d2-d41b-4fa7-a059-833f0624ddb9"
      },
      "source": [
        "A series of unit tests are used to assess model outputs. When a problem fails a unit test, a unique error is raised and no further tests are conducted. The first test involves capturing the completed Vega-Lite specification using the relevant regular expression pattern. An attribute error is raised when no match is found. Next, the ast module (https://docs.python.org/3/library/ast.html) is used to check whether parsed outputs are valid Python dictionaries. An invalid dictionary raises a syntax error. Afterwards, the jsonschema module (https://python-jsonschema.readthedocs.io/) is used to check compliance with the Vega-Lite schema. A validation error is raised when an invalid instance was encountered.\n",
        "\n",
        "Note: All logical tests are conducted in a seperate notebook."
      ]
    },
    {
      "cell_type": "markdown",
      "id": "2ed39734-a682-422c-bc2c-8693426b0a46",
      "metadata": {
        "id": "2ed39734-a682-422c-bc2c-8693426b0a46"
      },
      "source": [
        "## Regular expression pattern matches?"
      ]
    },
    {
      "cell_type": "markdown",
      "id": "bd6dc4ac-a5b4-471f-a439-95f10e38af23",
      "metadata": {
        "id": "bd6dc4ac-a5b4-471f-a439-95f10e38af23"
      },
      "source": [
        "![image.png](attachment:7ecb1778-f690-4967-bf65-f3bb44036e50.png)"
      ]
    },
    {
      "cell_type": "markdown",
      "id": "cce84113-6ef2-4db3-b5cc-32d5d385170d",
      "metadata": {
        "id": "cce84113-6ef2-4db3-b5cc-32d5d385170d"
      },
      "source": [
        "* The regular expression patterns used to capture completed Vega-Lite specifications for A) out-of-domain\n",
        "problems and B) in-domain problems. The capturing group is highlighted in orange.\n",
        "* An attribute error is returned when no match is found.\n",
        "\n",
        "Note: Multiple outputs are generated for each problem. A nested for loop is therefore required below."
      ]
    },
    {
      "cell_type": "code",
      "execution_count": 43,
      "id": "1a9ca994",
      "metadata": {
        "id": "1a9ca994"
      },
      "outputs": [],
      "source": [
        "model_output.update({'Parsed spec':[[parse_raw_output(decoded_seq)\n",
        "                                     for decoded_seq in problem]\n",
        "                                    for problem in model_output['Decoded sequences']]\n",
        "                    }\n",
        "                   )"
      ]
    },
    {
      "cell_type": "markdown",
      "id": "306271b1-e133-4004-aebf-f670b79e9129",
      "metadata": {
        "id": "306271b1-e133-4004-aebf-f670b79e9129"
      },
      "source": [
        "## Valid python dictionary?\n",
        "* The ast module is used to check whether captured specifications are valid Python dictionaries.\n",
        "* An invalid dictionary raises a syntax error.\n",
        "\n",
        "Note: Multiple outputs are generated for each problem. A nested for loop is therefore required below."
      ]
    },
    {
      "cell_type": "code",
      "execution_count": 44,
      "id": "294669fa-3601-4fe2-8c99-0aee9272225e",
      "metadata": {
        "id": "294669fa-3601-4fe2-8c99-0aee9272225e"
      },
      "outputs": [],
      "source": [
        "model_output['Parsed spec'] = [[parse_json_string(json_string) if json_string != \"Attribute error\" else json_string\n",
        "                                for json_string in problem]\n",
        "                                for problem in model_output['Parsed spec']]"
      ]
    },
    {
      "cell_type": "markdown",
      "id": "0467eb84",
      "metadata": {
        "id": "0467eb84"
      },
      "source": [
        "## Valid Vega-Lite specification?\n",
        "* The jsonschema module is used to check compliance with the Vega-Lite schema.\n",
        "* A validation error is raised when an invalid instance was encountered.\n",
        "\n",
        "Note: Multiple outputs are generated for each problem. A nested for loop is therefore required below."
      ]
    },
    {
      "cell_type": "code",
      "execution_count": 45,
      "id": "8c25b1b4",
      "metadata": {
        "id": "8c25b1b4"
      },
      "outputs": [],
      "source": [
        "errors = ['Attribute error', 'Syntax error']\n",
        "model_output.update({\"Validated spec\":[[validate_json_schema(spec, vega_lite_schema) if spec not in errors else spec\n",
        "                                        for spec in problem]\n",
        "                                       for problem in model_output['Parsed spec']]\n",
        "                    }\n",
        "                   )"
      ]
    },
    {
      "cell_type": "markdown",
      "id": "17120c22",
      "metadata": {
        "id": "17120c22"
      },
      "source": [
        "# Save data"
      ]
    },
    {
      "cell_type": "code",
      "execution_count": 46,
      "id": "66c8c659",
      "metadata": {
        "id": "66c8c659"
      },
      "outputs": [],
      "source": [
        "save_object(FILE_DIRECTORY + OUTPUT_FILENAME, model_output)"
      ]
    }
  ],
  "metadata": {
    "colab": {
      "provenance": []
    },
    "kernelspec": {
      "display_name": "nl2vis",
      "language": "python",
      "name": "nl2vis"
    },
    "language_info": {
      "codemirror_mode": {
        "name": "ipython",
        "version": 3
      },
      "file_extension": ".py",
      "mimetype": "text/x-python",
      "name": "python",
      "nbconvert_exporter": "python",
      "pygments_lexer": "ipython3",
      "version": "3.10.12"
    },
    "toc": {
      "base_numbering": 1,
      "nav_menu": {},
      "number_sections": true,
      "sideBar": true,
      "skip_h1_title": false,
      "title_cell": "Table of Contents",
      "title_sidebar": "Contents",
      "toc_cell": false,
      "toc_position": {
        "height": "calc(100% - 180px)",
        "left": "10px",
        "top": "150px",
        "width": "375.2px"
      },
      "toc_section_display": true,
      "toc_window_display": true
    }
  },
  "nbformat": 4,
  "nbformat_minor": 5
}