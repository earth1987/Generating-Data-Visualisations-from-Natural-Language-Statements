{
 "cells": [
  {
   "cell_type": "code",
   "execution_count": null,
   "id": "aff37531",
   "metadata": {
    "id": "aff37531"
   },
   "outputs": [],
   "source": [
    "# Kernel fails unless:\n",
    "# Source: https://stackoverflow.com/questions/53014306/error-15-initializing-libiomp5-dylib-but-found-libiomp5-dylib-already-initial\n",
    "import os\n",
    "os.environ['KMP_DUPLICATE_LIB_OK']='True'"
   ]
  },
  {
   "cell_type": "code",
   "execution_count": null,
   "id": "WdOVWhXmLSjA",
   "metadata": {
    "id": "WdOVWhXmLSjA"
   },
   "outputs": [],
   "source": [
    "platform = \"laptop\"\n",
    "decode_strategy = \"top_p\"\n",
    "model_type = \"gpt-j-6b\"\n",
    "model_input_fname = '3shot_10fold_test'\n",
    "model_output_results_fname = '3shot_10fold_test-gpt-j-6B-20221201-143539'\n",
    "num_outputs = 10\n",
    "nshot = model_input_fname[0]\n",
    "topp = 0.3\n",
    "topk = 0\n",
    "temp = 1\n"
   ]
  },
  {
   "cell_type": "code",
   "execution_count": null,
   "id": "a10f7405",
   "metadata": {
    "id": "a10f7405"
   },
   "outputs": [],
   "source": [
    "# Relevant directories\n",
    "model_inputs_directory = \"C:\\\\Users\\\\sbnr014\\\\OneDrive - City, University of London\\Documents\\\\GitHub\\\\MSc-thesis\\\\1. Data prep\\\\3. Prompt engineering\\\\8. FS & US prompts with FS & US examples\\\\Test\\\\\"\n",
    "model_outputs_directory = \"W:\\\\SP&P\\\\Billy\\\\MSc Data Science\\\\6. Modules\\\\8. INM363 Individual Project\\\\2. NLP - Code & Viz generation\\\\13. Results\\Test sets\\\\Research objective 2\\\\\""
   ]
  },
  {
   "cell_type": "markdown",
   "id": "fb56f9a3",
   "metadata": {
    "id": "fb56f9a3"
   },
   "source": [
    "# Mount Google Drive"
   ]
  },
  {
   "cell_type": "code",
   "execution_count": null,
   "id": "d8dd4dbe",
   "metadata": {
    "id": "d8dd4dbe"
   },
   "outputs": [],
   "source": [
    "# Mount google drive if platform\n",
    "if platform == 'colab':\n",
    "\n",
    "    # Load the Drive helper and mount\n",
    "    from google.colab import drive\n",
    "\n",
    "    # This will prompt for authorization.\n",
    "    drive.mount('/content/drive')\n",
    "\n",
    "    # Cd to relevant google drive directory\n",
    "    # Note: Run a shell command using os.system\n",
    "    import os\n",
    "    os.chdir('/content/drive/MyDrive/Colab Notebooks/Final project/2. Models/1. Transformer-based LM/1. Autoregressive LMs/2. Top-K')"
   ]
  },
  {
   "cell_type": "markdown",
   "id": "DZVk6fC0PfnG",
   "metadata": {
    "id": "DZVk6fC0PfnG"
   },
   "source": [
    "# Import dependencies"
   ]
  },
  {
   "cell_type": "code",
   "execution_count": null,
   "id": "3148a24f",
   "metadata": {
    "id": "3148a24f"
   },
   "outputs": [],
   "source": [
    "# from save_load import save_compressed, load_compressed, load_pickle, set_directories\n",
    "from save_load import load_pickle, load_compressed, save_pickle\n",
    "import pandas as pd\n",
    "import matplotlib.pyplot as plt\n",
    "import matplotlib as mpl\n",
    "import numpy as np\n",
    "import altair as alt\n",
    "import IPython.display\n",
    "import random\n",
    "import ast\n",
    "import numpy as np\n",
    "import json\n",
    "import scipy\n",
    "import os"
   ]
  },
  {
   "cell_type": "markdown",
   "id": "gH32yh3dPbag",
   "metadata": {
    "id": "gH32yh3dPbag"
   },
   "source": [
    "# Directories"
   ]
  },
  {
   "cell_type": "code",
   "execution_count": null,
   "id": "pJcBVYb_P14l",
   "metadata": {
    "colab": {
     "base_uri": "https://localhost:8080/"
    },
    "executionInfo": {
     "elapsed": 13,
     "status": "ok",
     "timestamp": 1669588180824,
     "user": {
      "displayName": "Billy Pitchford",
      "userId": "01251209915329143145"
     },
     "user_tz": 0
    },
    "id": "pJcBVYb_P14l",
    "outputId": "9d9caf9b-321e-4dcf-8172-0160d06d9180"
   },
   "outputs": [
    {
     "name": "stdout",
     "output_type": "stream",
     "text": [
      "Model: gpt-j-6b\n",
      "Platform: laptop\n",
      "\n",
      "\n",
      "Model inputs file name: 3shot_10fold_test\n",
      "Model inputs directory: C:\\Users\\sbnr014\\OneDrive - City, University of London\\Documents\\GitHub\\MSc-thesis\\1. Data prep\\3. Prompt engineering\\8. FS & US prompts with FS & US examples\\Test\\\n",
      "\n",
      "\n",
      "Model outputs file names: 3shot_10fold_test-gpt-j-6B-20221201-143539\n",
      "Model outputs directory: W:\\SP&P\\Billy\\MSc Data Science\\6. Modules\\8. INM363 Individual Project\\2. NLP - Code & Viz generation\\13. Results\\Test sets\\Research objective 2\\\n",
      "\n",
      "\n",
      "Decoding strategy: top_p\n"
     ]
    }
   ],
   "source": [
    "# Print variables and directoripromptes\n",
    "print(\"Model:\", model_type)\n",
    "print(\"Platform:\", platform)\n",
    "print(\"\\n\")\n",
    "print(\"Model inputs file name:\", model_input_fname)\n",
    "print(\"Model inputs directory:\", model_inputs_directory)\n",
    "print(\"\\n\")\n",
    "print(\"Model outputs file names:\", model_output_results_fname)\n",
    "print(\"Model outputs directory:\", model_outputs_directory)\n",
    "print(\"\\n\")\n",
    "print(\"Decoding strategy:\", decode_strategy)"
   ]
  },
  {
   "cell_type": "markdown",
   "id": "a8f8f3f6",
   "metadata": {
    "id": "a8f8f3f6"
   },
   "source": [
    "# Load data"
   ]
  },
  {
   "cell_type": "markdown",
   "id": "ce21edd7",
   "metadata": {
    "id": "ce21edd7"
   },
   "source": [
    "## Model inputs"
   ]
  },
  {
   "cell_type": "code",
   "execution_count": null,
   "id": "f5ba3226",
   "metadata": {
    "colab": {
     "base_uri": "https://localhost:8080/",
     "height": 580
    },
    "executionInfo": {
     "elapsed": 1174,
     "status": "ok",
     "timestamp": 1669588181993,
     "user": {
      "displayName": "Billy Pitchford",
      "userId": "01251209915329143145"
     },
     "user_tz": 0
    },
    "id": "f5ba3226",
    "outputId": "098d32c0-c605-4846-826d-9043f37eadd7"
   },
   "outputs": [
    {
     "name": "stdout",
     "output_type": "stream",
     "text": [
      "(160, 10)\n"
     ]
    },
    {
     "data": {
      "text/html": [
       "<div>\n",
       "<style scoped>\n",
       "    .dataframe tbody tr th:only-of-type {\n",
       "        vertical-align: middle;\n",
       "    }\n",
       "\n",
       "    .dataframe tbody tr th {\n",
       "        vertical-align: top;\n",
       "    }\n",
       "\n",
       "    .dataframe thead th {\n",
       "        text-align: right;\n",
       "    }\n",
       "</style>\n",
       "<table border=\"1\" class=\"dataframe\">\n",
       "  <thead>\n",
       "    <tr style=\"text-align: right;\">\n",
       "      <th></th>\n",
       "      <th>query</th>\n",
       "      <th>query_type</th>\n",
       "      <th>dataset</th>\n",
       "      <th>dataset_url</th>\n",
       "      <th>metaData</th>\n",
       "      <th>spec</th>\n",
       "      <th>marktype</th>\n",
       "      <th>context</th>\n",
       "      <th>prompt</th>\n",
       "      <th>input</th>\n",
       "    </tr>\n",
       "  </thead>\n",
       "  <tbody>\n",
       "    <tr>\n",
       "      <th>0</th>\n",
       "      <td>show me average budget split by content rating...</td>\n",
       "      <td>Under specified</td>\n",
       "      <td>movies</td>\n",
       "      <td>https://raw.githubusercontent.com/nlvcorpus/nl...</td>\n",
       "      <td>{fields: [{field: Title, type: nominal}, {fiel...</td>\n",
       "      <td>{'$schema': 'https://vega.github.io/schema/veg...</td>\n",
       "      <td>bar</td>\n",
       "      <td>Generate a vega-lite specification for the tas...</td>\n",
       "      <td>Task: Using data from https://raw.githubuserco...</td>\n",
       "      <td>Generate a vega-lite specification for the tas...</td>\n",
       "    </tr>\n",
       "    <tr>\n",
       "      <th>1</th>\n",
       "      <td>Histogram of running time, in 20 minute bands</td>\n",
       "      <td>Fully specified</td>\n",
       "      <td>movies</td>\n",
       "      <td>https://raw.githubusercontent.com/nlvcorpus/nl...</td>\n",
       "      <td>{fields: [{field: Title, type: nominal}, {fiel...</td>\n",
       "      <td>{'$schema': 'https://vega.github.io/schema/veg...</td>\n",
       "      <td>bar</td>\n",
       "      <td>Generate a vega-lite specification for the tas...</td>\n",
       "      <td>Task: Using data from https://raw.githubuserco...</td>\n",
       "      <td>Generate a vega-lite specification for the tas...</td>\n",
       "    </tr>\n",
       "    <tr>\n",
       "      <th>2</th>\n",
       "      <td>show me horsepower vs acceleration</td>\n",
       "      <td>Under specified</td>\n",
       "      <td>cars</td>\n",
       "      <td>https://raw.githubusercontent.com/nlvcorpus/nl...</td>\n",
       "      <td>{fields: [{field: Model, type: nominal}, {fiel...</td>\n",
       "      <td>{'$schema': 'https://vega.github.io/schema/veg...</td>\n",
       "      <td>point</td>\n",
       "      <td>Generate a vega-lite specification for the tas...</td>\n",
       "      <td>Task: Using data from https://raw.githubuserco...</td>\n",
       "      <td>Generate a vega-lite specification for the tas...</td>\n",
       "    </tr>\n",
       "    <tr>\n",
       "      <th>3</th>\n",
       "      <td>Product Single Order Quantity Trend</td>\n",
       "      <td>Under specified</td>\n",
       "      <td>superstore</td>\n",
       "      <td>https://raw.githubusercontent.com/nlvcorpus/nl...</td>\n",
       "      <td>{fields: [{field: Days to Ship, type: quantita...</td>\n",
       "      <td>{'$schema': 'https://vega.github.io/schema/veg...</td>\n",
       "      <td>bar</td>\n",
       "      <td>Generate a vega-lite specification for the tas...</td>\n",
       "      <td>Task: Using data from https://raw.githubuserco...</td>\n",
       "      <td>Generate a vega-lite specification for the tas...</td>\n",
       "    </tr>\n",
       "    <tr>\n",
       "      <th>4</th>\n",
       "      <td>give me a scatterplot of imdb rating as x axis...</td>\n",
       "      <td>Fully specified</td>\n",
       "      <td>movies</td>\n",
       "      <td>https://raw.githubusercontent.com/nlvcorpus/nl...</td>\n",
       "      <td>{fields: [{field: Title, type: nominal}, {fiel...</td>\n",
       "      <td>{'$schema': 'https://vega.github.io/schema/veg...</td>\n",
       "      <td>point</td>\n",
       "      <td>Generate a vega-lite specification for the tas...</td>\n",
       "      <td>Task: Using data from https://raw.githubuserco...</td>\n",
       "      <td>Generate a vega-lite specification for the tas...</td>\n",
       "    </tr>\n",
       "  </tbody>\n",
       "</table>\n",
       "</div>"
      ],
      "text/plain": [
       "                                               query       query_type  \\\n",
       "0  show me average budget split by content rating...  Under specified   \n",
       "1      Histogram of running time, in 20 minute bands  Fully specified   \n",
       "2                 show me horsepower vs acceleration  Under specified   \n",
       "3                Product Single Order Quantity Trend  Under specified   \n",
       "4  give me a scatterplot of imdb rating as x axis...  Fully specified   \n",
       "\n",
       "      dataset                                        dataset_url  \\\n",
       "0      movies  https://raw.githubusercontent.com/nlvcorpus/nl...   \n",
       "1      movies  https://raw.githubusercontent.com/nlvcorpus/nl...   \n",
       "2        cars  https://raw.githubusercontent.com/nlvcorpus/nl...   \n",
       "3  superstore  https://raw.githubusercontent.com/nlvcorpus/nl...   \n",
       "4      movies  https://raw.githubusercontent.com/nlvcorpus/nl...   \n",
       "\n",
       "                                            metaData  \\\n",
       "0  {fields: [{field: Title, type: nominal}, {fiel...   \n",
       "1  {fields: [{field: Title, type: nominal}, {fiel...   \n",
       "2  {fields: [{field: Model, type: nominal}, {fiel...   \n",
       "3  {fields: [{field: Days to Ship, type: quantita...   \n",
       "4  {fields: [{field: Title, type: nominal}, {fiel...   \n",
       "\n",
       "                                                spec marktype  \\\n",
       "0  {'$schema': 'https://vega.github.io/schema/veg...      bar   \n",
       "1  {'$schema': 'https://vega.github.io/schema/veg...      bar   \n",
       "2  {'$schema': 'https://vega.github.io/schema/veg...    point   \n",
       "3  {'$schema': 'https://vega.github.io/schema/veg...      bar   \n",
       "4  {'$schema': 'https://vega.github.io/schema/veg...    point   \n",
       "\n",
       "                                             context  \\\n",
       "0  Generate a vega-lite specification for the tas...   \n",
       "1  Generate a vega-lite specification for the tas...   \n",
       "2  Generate a vega-lite specification for the tas...   \n",
       "3  Generate a vega-lite specification for the tas...   \n",
       "4  Generate a vega-lite specification for the tas...   \n",
       "\n",
       "                                              prompt  \\\n",
       "0  Task: Using data from https://raw.githubuserco...   \n",
       "1  Task: Using data from https://raw.githubuserco...   \n",
       "2  Task: Using data from https://raw.githubuserco...   \n",
       "3  Task: Using data from https://raw.githubuserco...   \n",
       "4  Task: Using data from https://raw.githubuserco...   \n",
       "\n",
       "                                               input  \n",
       "0  Generate a vega-lite specification for the tas...  \n",
       "1  Generate a vega-lite specification for the tas...  \n",
       "2  Generate a vega-lite specification for the tas...  \n",
       "3  Generate a vega-lite specification for the tas...  \n",
       "4  Generate a vega-lite specification for the tas...  "
      ]
     },
     "execution_count": 14,
     "metadata": {},
     "output_type": "execute_result"
    }
   ],
   "source": [
    "# Model inputs\n",
    "# columns = ['query', 'viz_type', 'query_type', 'dataset', 'dataset_url', 'metaData', 'spec', 'marktype', 'context', 'prompt', 'input']\n",
    "columns = ['query', 'query_type', 'dataset', 'dataset_url', 'metaData', 'spec', 'marktype', 'context', 'prompt', 'input']\n",
    "model_inputs = load_pickle(model_inputs_directory + model_input_fname + '.pickle')\n",
    "model_inputs = pd.DataFrame.from_records(model_inputs, columns=columns)\n",
    "model_inputs['spec'] = model_inputs['spec'].str.replace('nan', 'None') # Replace nan with None (this enables coversion from str to dict) later\n",
    "print(model_inputs.shape)\n",
    "model_inputs.head()"
   ]
  },
  {
   "cell_type": "markdown",
   "id": "cbd76ad0",
   "metadata": {
    "id": "cbd76ad0"
   },
   "source": [
    "## Model outputs"
   ]
  },
  {
   "cell_type": "code",
   "execution_count": null,
   "id": "15c6fbb1",
   "metadata": {
    "colab": {
     "base_uri": "https://localhost:8080/"
    },
    "executionInfo": {
     "elapsed": 795,
     "status": "ok",
     "timestamp": 1669588182783,
     "user": {
      "displayName": "Billy Pitchford",
      "userId": "01251209915329143145"
     },
     "user_tz": 0
    },
    "id": "15c6fbb1",
    "outputId": "5b430776-6204-4941-a3a1-e7530a67050d",
    "scrolled": true
   },
   "outputs": [
    {
     "name": "stdout",
     "output_type": "stream",
     "text": [
      "dict_keys(['Inference time', 'Decoded sequences', 'Parsed spec', 'Validated spec'])\n",
      "160\n",
      "10\n"
     ]
    }
   ],
   "source": [
    "# Parsed and validated model outputs\n",
    "model_outputs = load_compressed(model_outputs_directory + model_output_results_fname + '_validated')\n",
    "print(model_outputs.keys())\n",
    "print(len(model_outputs['Validated spec']))\n",
    "print(len(model_outputs['Validated spec'][0]))"
   ]
  },
  {
   "cell_type": "markdown",
   "id": "7d8a4f5d",
   "metadata": {
    "id": "7d8a4f5d"
   },
   "source": [
    "# Reshape"
   ]
  },
  {
   "cell_type": "markdown",
   "id": "56e143cd",
   "metadata": {
    "id": "56e143cd"
   },
   "source": [
    "## Target specifications"
   ]
  },
  {
   "cell_type": "code",
   "execution_count": null,
   "id": "LPlclP2rTzgu",
   "metadata": {
    "colab": {
     "base_uri": "https://localhost:8080/",
     "height": 357
    },
    "executionInfo": {
     "elapsed": 19,
     "status": "ok",
     "timestamp": 1669588182784,
     "user": {
      "displayName": "Billy Pitchford",
      "userId": "01251209915329143145"
     },
     "user_tz": 0
    },
    "id": "LPlclP2rTzgu",
    "outputId": "e067a00a-7370-466f-eeda-634d345c8732"
   },
   "outputs": [
    {
     "data": {
      "text/html": [
       "<div>\n",
       "<style scoped>\n",
       "    .dataframe tbody tr th:only-of-type {\n",
       "        vertical-align: middle;\n",
       "    }\n",
       "\n",
       "    .dataframe tbody tr th {\n",
       "        vertical-align: top;\n",
       "    }\n",
       "\n",
       "    .dataframe thead th {\n",
       "        text-align: right;\n",
       "    }\n",
       "</style>\n",
       "<table border=\"1\" class=\"dataframe\">\n",
       "  <thead>\n",
       "    <tr style=\"text-align: right;\">\n",
       "      <th></th>\n",
       "      <th>0</th>\n",
       "      <th>1</th>\n",
       "      <th>2</th>\n",
       "      <th>3</th>\n",
       "      <th>4</th>\n",
       "      <th>5</th>\n",
       "      <th>6</th>\n",
       "      <th>7</th>\n",
       "      <th>8</th>\n",
       "      <th>9</th>\n",
       "    </tr>\n",
       "  </thead>\n",
       "  <tbody>\n",
       "    <tr>\n",
       "      <th>0</th>\n",
       "      <td>{'$schema': 'https://vega.github.io/schema/veg...</td>\n",
       "      <td>{'$schema': 'https://vega.github.io/schema/veg...</td>\n",
       "      <td>{'$schema': 'https://vega.github.io/schema/veg...</td>\n",
       "      <td>{'$schema': 'https://vega.github.io/schema/veg...</td>\n",
       "      <td>{'$schema': 'https://vega.github.io/schema/veg...</td>\n",
       "      <td>{'$schema': 'https://vega.github.io/schema/veg...</td>\n",
       "      <td>{'$schema': 'https://vega.github.io/schema/veg...</td>\n",
       "      <td>{'$schema': 'https://vega.github.io/schema/veg...</td>\n",
       "      <td>{'$schema': 'https://vega.github.io/schema/veg...</td>\n",
       "      <td>{'$schema': 'https://vega.github.io/schema/veg...</td>\n",
       "    </tr>\n",
       "    <tr>\n",
       "      <th>1</th>\n",
       "      <td>{'$schema': 'https://vega.github.io/schema/veg...</td>\n",
       "      <td>{'$schema': 'https://vega.github.io/schema/veg...</td>\n",
       "      <td>{'$schema': 'https://vega.github.io/schema/veg...</td>\n",
       "      <td>{'$schema': 'https://vega.github.io/schema/veg...</td>\n",
       "      <td>{'$schema': 'https://vega.github.io/schema/veg...</td>\n",
       "      <td>{'$schema': 'https://vega.github.io/schema/veg...</td>\n",
       "      <td>{'$schema': 'https://vega.github.io/schema/veg...</td>\n",
       "      <td>{'$schema': 'https://vega.github.io/schema/veg...</td>\n",
       "      <td>{'$schema': 'https://vega.github.io/schema/veg...</td>\n",
       "      <td>{'$schema': 'https://vega.github.io/schema/veg...</td>\n",
       "    </tr>\n",
       "    <tr>\n",
       "      <th>2</th>\n",
       "      <td>{'$schema': 'https://vega.github.io/schema/veg...</td>\n",
       "      <td>{'$schema': 'https://vega.github.io/schema/veg...</td>\n",
       "      <td>{'$schema': 'https://vega.github.io/schema/veg...</td>\n",
       "      <td>{'$schema': 'https://vega.github.io/schema/veg...</td>\n",
       "      <td>{'$schema': 'https://vega.github.io/schema/veg...</td>\n",
       "      <td>{'$schema': 'https://vega.github.io/schema/veg...</td>\n",
       "      <td>{'$schema': 'https://vega.github.io/schema/veg...</td>\n",
       "      <td>{'$schema': 'https://vega.github.io/schema/veg...</td>\n",
       "      <td>{'$schema': 'https://vega.github.io/schema/veg...</td>\n",
       "      <td>{'$schema': 'https://vega.github.io/schema/veg...</td>\n",
       "    </tr>\n",
       "    <tr>\n",
       "      <th>3</th>\n",
       "      <td>{'$schema': 'https://vega.github.io/schema/veg...</td>\n",
       "      <td>{'$schema': 'https://vega.github.io/schema/veg...</td>\n",
       "      <td>{'$schema': 'https://vega.github.io/schema/veg...</td>\n",
       "      <td>{'$schema': 'https://vega.github.io/schema/veg...</td>\n",
       "      <td>{'$schema': 'https://vega.github.io/schema/veg...</td>\n",
       "      <td>{'$schema': 'https://vega.github.io/schema/veg...</td>\n",
       "      <td>{'$schema': 'https://vega.github.io/schema/veg...</td>\n",
       "      <td>{'$schema': 'https://vega.github.io/schema/veg...</td>\n",
       "      <td>{'$schema': 'https://vega.github.io/schema/veg...</td>\n",
       "      <td>{'$schema': 'https://vega.github.io/schema/veg...</td>\n",
       "    </tr>\n",
       "    <tr>\n",
       "      <th>4</th>\n",
       "      <td>{'$schema': 'https://vega.github.io/schema/veg...</td>\n",
       "      <td>{'$schema': 'https://vega.github.io/schema/veg...</td>\n",
       "      <td>{'$schema': 'https://vega.github.io/schema/veg...</td>\n",
       "      <td>{'$schema': 'https://vega.github.io/schema/veg...</td>\n",
       "      <td>{'$schema': 'https://vega.github.io/schema/veg...</td>\n",
       "      <td>{'$schema': 'https://vega.github.io/schema/veg...</td>\n",
       "      <td>{'$schema': 'https://vega.github.io/schema/veg...</td>\n",
       "      <td>{'$schema': 'https://vega.github.io/schema/veg...</td>\n",
       "      <td>{'$schema': 'https://vega.github.io/schema/veg...</td>\n",
       "      <td>{'$schema': 'https://vega.github.io/schema/veg...</td>\n",
       "    </tr>\n",
       "  </tbody>\n",
       "</table>\n",
       "</div>"
      ],
      "text/plain": [
       "                                                   0  \\\n",
       "0  {'$schema': 'https://vega.github.io/schema/veg...   \n",
       "1  {'$schema': 'https://vega.github.io/schema/veg...   \n",
       "2  {'$schema': 'https://vega.github.io/schema/veg...   \n",
       "3  {'$schema': 'https://vega.github.io/schema/veg...   \n",
       "4  {'$schema': 'https://vega.github.io/schema/veg...   \n",
       "\n",
       "                                                   1  \\\n",
       "0  {'$schema': 'https://vega.github.io/schema/veg...   \n",
       "1  {'$schema': 'https://vega.github.io/schema/veg...   \n",
       "2  {'$schema': 'https://vega.github.io/schema/veg...   \n",
       "3  {'$schema': 'https://vega.github.io/schema/veg...   \n",
       "4  {'$schema': 'https://vega.github.io/schema/veg...   \n",
       "\n",
       "                                                   2  \\\n",
       "0  {'$schema': 'https://vega.github.io/schema/veg...   \n",
       "1  {'$schema': 'https://vega.github.io/schema/veg...   \n",
       "2  {'$schema': 'https://vega.github.io/schema/veg...   \n",
       "3  {'$schema': 'https://vega.github.io/schema/veg...   \n",
       "4  {'$schema': 'https://vega.github.io/schema/veg...   \n",
       "\n",
       "                                                   3  \\\n",
       "0  {'$schema': 'https://vega.github.io/schema/veg...   \n",
       "1  {'$schema': 'https://vega.github.io/schema/veg...   \n",
       "2  {'$schema': 'https://vega.github.io/schema/veg...   \n",
       "3  {'$schema': 'https://vega.github.io/schema/veg...   \n",
       "4  {'$schema': 'https://vega.github.io/schema/veg...   \n",
       "\n",
       "                                                   4  \\\n",
       "0  {'$schema': 'https://vega.github.io/schema/veg...   \n",
       "1  {'$schema': 'https://vega.github.io/schema/veg...   \n",
       "2  {'$schema': 'https://vega.github.io/schema/veg...   \n",
       "3  {'$schema': 'https://vega.github.io/schema/veg...   \n",
       "4  {'$schema': 'https://vega.github.io/schema/veg...   \n",
       "\n",
       "                                                   5  \\\n",
       "0  {'$schema': 'https://vega.github.io/schema/veg...   \n",
       "1  {'$schema': 'https://vega.github.io/schema/veg...   \n",
       "2  {'$schema': 'https://vega.github.io/schema/veg...   \n",
       "3  {'$schema': 'https://vega.github.io/schema/veg...   \n",
       "4  {'$schema': 'https://vega.github.io/schema/veg...   \n",
       "\n",
       "                                                   6  \\\n",
       "0  {'$schema': 'https://vega.github.io/schema/veg...   \n",
       "1  {'$schema': 'https://vega.github.io/schema/veg...   \n",
       "2  {'$schema': 'https://vega.github.io/schema/veg...   \n",
       "3  {'$schema': 'https://vega.github.io/schema/veg...   \n",
       "4  {'$schema': 'https://vega.github.io/schema/veg...   \n",
       "\n",
       "                                                   7  \\\n",
       "0  {'$schema': 'https://vega.github.io/schema/veg...   \n",
       "1  {'$schema': 'https://vega.github.io/schema/veg...   \n",
       "2  {'$schema': 'https://vega.github.io/schema/veg...   \n",
       "3  {'$schema': 'https://vega.github.io/schema/veg...   \n",
       "4  {'$schema': 'https://vega.github.io/schema/veg...   \n",
       "\n",
       "                                                   8  \\\n",
       "0  {'$schema': 'https://vega.github.io/schema/veg...   \n",
       "1  {'$schema': 'https://vega.github.io/schema/veg...   \n",
       "2  {'$schema': 'https://vega.github.io/schema/veg...   \n",
       "3  {'$schema': 'https://vega.github.io/schema/veg...   \n",
       "4  {'$schema': 'https://vega.github.io/schema/veg...   \n",
       "\n",
       "                                                   9  \n",
       "0  {'$schema': 'https://vega.github.io/schema/veg...  \n",
       "1  {'$schema': 'https://vega.github.io/schema/veg...  \n",
       "2  {'$schema': 'https://vega.github.io/schema/veg...  \n",
       "3  {'$schema': 'https://vega.github.io/schema/veg...  \n",
       "4  {'$schema': 'https://vega.github.io/schema/veg...  "
      ]
     },
     "execution_count": 16,
     "metadata": {},
     "output_type": "execute_result"
    }
   ],
   "source": [
    "target_specs = model_inputs[['spec']].copy(deep=True)\n",
    "target_specs['spec'] = target_specs['spec'].apply(lambda x: ast.literal_eval(x))  # Convert str to dict\n",
    "target_specs = pd.concat([target_specs for n in range(num_outputs)], axis=1, ignore_index=True)  # Duplicate target columns - number of outputs per problem\n",
    "target_specs.head()"
   ]
  },
  {
   "cell_type": "markdown",
   "id": "761c87fb",
   "metadata": {
    "id": "761c87fb"
   },
   "source": [
    "## Raw model outputs"
   ]
  },
  {
   "cell_type": "code",
   "execution_count": null,
   "id": "8S3haL1HZUTr",
   "metadata": {
    "colab": {
     "base_uri": "https://localhost:8080/",
     "height": 510
    },
    "executionInfo": {
     "elapsed": 16,
     "status": "ok",
     "timestamp": 1669588182784,
     "user": {
      "displayName": "Billy Pitchford",
      "userId": "01251209915329143145"
     },
     "user_tz": 0
    },
    "id": "8S3haL1HZUTr",
    "outputId": "11fe4b65-c672-44b1-91a3-4146c526faed"
   },
   "outputs": [
    {
     "data": {
      "text/html": [
       "<div>\n",
       "<style scoped>\n",
       "    .dataframe tbody tr th:only-of-type {\n",
       "        vertical-align: middle;\n",
       "    }\n",
       "\n",
       "    .dataframe tbody tr th {\n",
       "        vertical-align: top;\n",
       "    }\n",
       "\n",
       "    .dataframe thead th {\n",
       "        text-align: right;\n",
       "    }\n",
       "</style>\n",
       "<table border=\"1\" class=\"dataframe\">\n",
       "  <thead>\n",
       "    <tr style=\"text-align: right;\">\n",
       "      <th></th>\n",
       "      <th>0</th>\n",
       "      <th>1</th>\n",
       "      <th>2</th>\n",
       "      <th>3</th>\n",
       "      <th>4</th>\n",
       "      <th>5</th>\n",
       "      <th>6</th>\n",
       "      <th>7</th>\n",
       "      <th>8</th>\n",
       "      <th>9</th>\n",
       "    </tr>\n",
       "  </thead>\n",
       "  <tbody>\n",
       "    <tr>\n",
       "      <th>0</th>\n",
       "      <td>&lt;|endoftext|&gt;&lt;|endoftext|&gt;&lt;|endoftext|&gt;&lt;|endof...</td>\n",
       "      <td>&lt;|endoftext|&gt;&lt;|endoftext|&gt;&lt;|endoftext|&gt;&lt;|endof...</td>\n",
       "      <td>&lt;|endoftext|&gt;&lt;|endoftext|&gt;&lt;|endoftext|&gt;&lt;|endof...</td>\n",
       "      <td>&lt;|endoftext|&gt;&lt;|endoftext|&gt;&lt;|endoftext|&gt;&lt;|endof...</td>\n",
       "      <td>&lt;|endoftext|&gt;&lt;|endoftext|&gt;&lt;|endoftext|&gt;&lt;|endof...</td>\n",
       "      <td>&lt;|endoftext|&gt;&lt;|endoftext|&gt;&lt;|endoftext|&gt;&lt;|endof...</td>\n",
       "      <td>&lt;|endoftext|&gt;&lt;|endoftext|&gt;&lt;|endoftext|&gt;&lt;|endof...</td>\n",
       "      <td>&lt;|endoftext|&gt;&lt;|endoftext|&gt;&lt;|endoftext|&gt;&lt;|endof...</td>\n",
       "      <td>&lt;|endoftext|&gt;&lt;|endoftext|&gt;&lt;|endoftext|&gt;&lt;|endof...</td>\n",
       "      <td>&lt;|endoftext|&gt;&lt;|endoftext|&gt;&lt;|endoftext|&gt;&lt;|endof...</td>\n",
       "    </tr>\n",
       "    <tr>\n",
       "      <th>1</th>\n",
       "      <td>&lt;|endoftext|&gt;&lt;|endoftext|&gt;&lt;|endoftext|&gt;&lt;|endof...</td>\n",
       "      <td>&lt;|endoftext|&gt;&lt;|endoftext|&gt;&lt;|endoftext|&gt;&lt;|endof...</td>\n",
       "      <td>&lt;|endoftext|&gt;&lt;|endoftext|&gt;&lt;|endoftext|&gt;&lt;|endof...</td>\n",
       "      <td>&lt;|endoftext|&gt;&lt;|endoftext|&gt;&lt;|endoftext|&gt;&lt;|endof...</td>\n",
       "      <td>&lt;|endoftext|&gt;&lt;|endoftext|&gt;&lt;|endoftext|&gt;&lt;|endof...</td>\n",
       "      <td>&lt;|endoftext|&gt;&lt;|endoftext|&gt;&lt;|endoftext|&gt;&lt;|endof...</td>\n",
       "      <td>&lt;|endoftext|&gt;&lt;|endoftext|&gt;&lt;|endoftext|&gt;&lt;|endof...</td>\n",
       "      <td>&lt;|endoftext|&gt;&lt;|endoftext|&gt;&lt;|endoftext|&gt;&lt;|endof...</td>\n",
       "      <td>&lt;|endoftext|&gt;&lt;|endoftext|&gt;&lt;|endoftext|&gt;&lt;|endof...</td>\n",
       "      <td>&lt;|endoftext|&gt;&lt;|endoftext|&gt;&lt;|endoftext|&gt;&lt;|endof...</td>\n",
       "    </tr>\n",
       "    <tr>\n",
       "      <th>2</th>\n",
       "      <td>&lt;|endoftext|&gt;&lt;|endoftext|&gt;&lt;|endoftext|&gt;&lt;|endof...</td>\n",
       "      <td>&lt;|endoftext|&gt;&lt;|endoftext|&gt;&lt;|endoftext|&gt;&lt;|endof...</td>\n",
       "      <td>&lt;|endoftext|&gt;&lt;|endoftext|&gt;&lt;|endoftext|&gt;&lt;|endof...</td>\n",
       "      <td>&lt;|endoftext|&gt;&lt;|endoftext|&gt;&lt;|endoftext|&gt;&lt;|endof...</td>\n",
       "      <td>&lt;|endoftext|&gt;&lt;|endoftext|&gt;&lt;|endoftext|&gt;&lt;|endof...</td>\n",
       "      <td>&lt;|endoftext|&gt;&lt;|endoftext|&gt;&lt;|endoftext|&gt;&lt;|endof...</td>\n",
       "      <td>&lt;|endoftext|&gt;&lt;|endoftext|&gt;&lt;|endoftext|&gt;&lt;|endof...</td>\n",
       "      <td>&lt;|endoftext|&gt;&lt;|endoftext|&gt;&lt;|endoftext|&gt;&lt;|endof...</td>\n",
       "      <td>&lt;|endoftext|&gt;&lt;|endoftext|&gt;&lt;|endoftext|&gt;&lt;|endof...</td>\n",
       "      <td>&lt;|endoftext|&gt;&lt;|endoftext|&gt;&lt;|endoftext|&gt;&lt;|endof...</td>\n",
       "    </tr>\n",
       "    <tr>\n",
       "      <th>3</th>\n",
       "      <td>&lt;|endoftext|&gt;&lt;|endoftext|&gt;&lt;|endoftext|&gt;&lt;|endof...</td>\n",
       "      <td>&lt;|endoftext|&gt;&lt;|endoftext|&gt;&lt;|endoftext|&gt;&lt;|endof...</td>\n",
       "      <td>&lt;|endoftext|&gt;&lt;|endoftext|&gt;&lt;|endoftext|&gt;&lt;|endof...</td>\n",
       "      <td>&lt;|endoftext|&gt;&lt;|endoftext|&gt;&lt;|endoftext|&gt;&lt;|endof...</td>\n",
       "      <td>&lt;|endoftext|&gt;&lt;|endoftext|&gt;&lt;|endoftext|&gt;&lt;|endof...</td>\n",
       "      <td>&lt;|endoftext|&gt;&lt;|endoftext|&gt;&lt;|endoftext|&gt;&lt;|endof...</td>\n",
       "      <td>&lt;|endoftext|&gt;&lt;|endoftext|&gt;&lt;|endoftext|&gt;&lt;|endof...</td>\n",
       "      <td>&lt;|endoftext|&gt;&lt;|endoftext|&gt;&lt;|endoftext|&gt;&lt;|endof...</td>\n",
       "      <td>&lt;|endoftext|&gt;&lt;|endoftext|&gt;&lt;|endoftext|&gt;&lt;|endof...</td>\n",
       "      <td>&lt;|endoftext|&gt;&lt;|endoftext|&gt;&lt;|endoftext|&gt;&lt;|endof...</td>\n",
       "    </tr>\n",
       "    <tr>\n",
       "      <th>4</th>\n",
       "      <td>&lt;|endoftext|&gt;&lt;|endoftext|&gt;&lt;|endoftext|&gt;&lt;|endof...</td>\n",
       "      <td>&lt;|endoftext|&gt;&lt;|endoftext|&gt;&lt;|endoftext|&gt;&lt;|endof...</td>\n",
       "      <td>&lt;|endoftext|&gt;&lt;|endoftext|&gt;&lt;|endoftext|&gt;&lt;|endof...</td>\n",
       "      <td>&lt;|endoftext|&gt;&lt;|endoftext|&gt;&lt;|endoftext|&gt;&lt;|endof...</td>\n",
       "      <td>&lt;|endoftext|&gt;&lt;|endoftext|&gt;&lt;|endoftext|&gt;&lt;|endof...</td>\n",
       "      <td>&lt;|endoftext|&gt;&lt;|endoftext|&gt;&lt;|endoftext|&gt;&lt;|endof...</td>\n",
       "      <td>&lt;|endoftext|&gt;&lt;|endoftext|&gt;&lt;|endoftext|&gt;&lt;|endof...</td>\n",
       "      <td>&lt;|endoftext|&gt;&lt;|endoftext|&gt;&lt;|endoftext|&gt;&lt;|endof...</td>\n",
       "      <td>&lt;|endoftext|&gt;&lt;|endoftext|&gt;&lt;|endoftext|&gt;&lt;|endof...</td>\n",
       "      <td>&lt;|endoftext|&gt;&lt;|endoftext|&gt;&lt;|endoftext|&gt;&lt;|endof...</td>\n",
       "    </tr>\n",
       "  </tbody>\n",
       "</table>\n",
       "</div>"
      ],
      "text/plain": [
       "                                                   0  \\\n",
       "0  <|endoftext|><|endoftext|><|endoftext|><|endof...   \n",
       "1  <|endoftext|><|endoftext|><|endoftext|><|endof...   \n",
       "2  <|endoftext|><|endoftext|><|endoftext|><|endof...   \n",
       "3  <|endoftext|><|endoftext|><|endoftext|><|endof...   \n",
       "4  <|endoftext|><|endoftext|><|endoftext|><|endof...   \n",
       "\n",
       "                                                   1  \\\n",
       "0  <|endoftext|><|endoftext|><|endoftext|><|endof...   \n",
       "1  <|endoftext|><|endoftext|><|endoftext|><|endof...   \n",
       "2  <|endoftext|><|endoftext|><|endoftext|><|endof...   \n",
       "3  <|endoftext|><|endoftext|><|endoftext|><|endof...   \n",
       "4  <|endoftext|><|endoftext|><|endoftext|><|endof...   \n",
       "\n",
       "                                                   2  \\\n",
       "0  <|endoftext|><|endoftext|><|endoftext|><|endof...   \n",
       "1  <|endoftext|><|endoftext|><|endoftext|><|endof...   \n",
       "2  <|endoftext|><|endoftext|><|endoftext|><|endof...   \n",
       "3  <|endoftext|><|endoftext|><|endoftext|><|endof...   \n",
       "4  <|endoftext|><|endoftext|><|endoftext|><|endof...   \n",
       "\n",
       "                                                   3  \\\n",
       "0  <|endoftext|><|endoftext|><|endoftext|><|endof...   \n",
       "1  <|endoftext|><|endoftext|><|endoftext|><|endof...   \n",
       "2  <|endoftext|><|endoftext|><|endoftext|><|endof...   \n",
       "3  <|endoftext|><|endoftext|><|endoftext|><|endof...   \n",
       "4  <|endoftext|><|endoftext|><|endoftext|><|endof...   \n",
       "\n",
       "                                                   4  \\\n",
       "0  <|endoftext|><|endoftext|><|endoftext|><|endof...   \n",
       "1  <|endoftext|><|endoftext|><|endoftext|><|endof...   \n",
       "2  <|endoftext|><|endoftext|><|endoftext|><|endof...   \n",
       "3  <|endoftext|><|endoftext|><|endoftext|><|endof...   \n",
       "4  <|endoftext|><|endoftext|><|endoftext|><|endof...   \n",
       "\n",
       "                                                   5  \\\n",
       "0  <|endoftext|><|endoftext|><|endoftext|><|endof...   \n",
       "1  <|endoftext|><|endoftext|><|endoftext|><|endof...   \n",
       "2  <|endoftext|><|endoftext|><|endoftext|><|endof...   \n",
       "3  <|endoftext|><|endoftext|><|endoftext|><|endof...   \n",
       "4  <|endoftext|><|endoftext|><|endoftext|><|endof...   \n",
       "\n",
       "                                                   6  \\\n",
       "0  <|endoftext|><|endoftext|><|endoftext|><|endof...   \n",
       "1  <|endoftext|><|endoftext|><|endoftext|><|endof...   \n",
       "2  <|endoftext|><|endoftext|><|endoftext|><|endof...   \n",
       "3  <|endoftext|><|endoftext|><|endoftext|><|endof...   \n",
       "4  <|endoftext|><|endoftext|><|endoftext|><|endof...   \n",
       "\n",
       "                                                   7  \\\n",
       "0  <|endoftext|><|endoftext|><|endoftext|><|endof...   \n",
       "1  <|endoftext|><|endoftext|><|endoftext|><|endof...   \n",
       "2  <|endoftext|><|endoftext|><|endoftext|><|endof...   \n",
       "3  <|endoftext|><|endoftext|><|endoftext|><|endof...   \n",
       "4  <|endoftext|><|endoftext|><|endoftext|><|endof...   \n",
       "\n",
       "                                                   8  \\\n",
       "0  <|endoftext|><|endoftext|><|endoftext|><|endof...   \n",
       "1  <|endoftext|><|endoftext|><|endoftext|><|endof...   \n",
       "2  <|endoftext|><|endoftext|><|endoftext|><|endof...   \n",
       "3  <|endoftext|><|endoftext|><|endoftext|><|endof...   \n",
       "4  <|endoftext|><|endoftext|><|endoftext|><|endof...   \n",
       "\n",
       "                                                   9  \n",
       "0  <|endoftext|><|endoftext|><|endoftext|><|endof...  \n",
       "1  <|endoftext|><|endoftext|><|endoftext|><|endof...  \n",
       "2  <|endoftext|><|endoftext|><|endoftext|><|endof...  \n",
       "3  <|endoftext|><|endoftext|><|endoftext|><|endof...  \n",
       "4  <|endoftext|><|endoftext|><|endoftext|><|endof...  "
      ]
     },
     "execution_count": 17,
     "metadata": {},
     "output_type": "execute_result"
    }
   ],
   "source": [
    "# Raw model outputs\n",
    "raw_model_outputs = model_outputs['Decoded sequences']\n",
    "raw_model_outputs = pd.DataFrame(raw_model_outputs, columns = list(range(num_outputs)))\n",
    "raw_model_outputs.head()"
   ]
  },
  {
   "cell_type": "markdown",
   "id": "40ae0636",
   "metadata": {
    "id": "40ae0636"
   },
   "source": [
    "## Parsed model outputs"
   ]
  },
  {
   "cell_type": "code",
   "execution_count": null,
   "id": "e28ffc4f",
   "metadata": {
    "colab": {
     "base_uri": "https://localhost:8080/",
     "height": 357
    },
    "executionInfo": {
     "elapsed": 15,
     "status": "ok",
     "timestamp": 1669588182785,
     "user": {
      "displayName": "Billy Pitchford",
      "userId": "01251209915329143145"
     },
     "user_tz": 0
    },
    "id": "e28ffc4f",
    "outputId": "b54e1e83-dee0-409c-f7be-463292ce8301"
   },
   "outputs": [
    {
     "data": {
      "text/html": [
       "<div>\n",
       "<style scoped>\n",
       "    .dataframe tbody tr th:only-of-type {\n",
       "        vertical-align: middle;\n",
       "    }\n",
       "\n",
       "    .dataframe tbody tr th {\n",
       "        vertical-align: top;\n",
       "    }\n",
       "\n",
       "    .dataframe thead th {\n",
       "        text-align: right;\n",
       "    }\n",
       "</style>\n",
       "<table border=\"1\" class=\"dataframe\">\n",
       "  <thead>\n",
       "    <tr style=\"text-align: right;\">\n",
       "      <th></th>\n",
       "      <th>0</th>\n",
       "      <th>1</th>\n",
       "      <th>2</th>\n",
       "      <th>3</th>\n",
       "      <th>4</th>\n",
       "      <th>5</th>\n",
       "      <th>6</th>\n",
       "      <th>7</th>\n",
       "      <th>8</th>\n",
       "      <th>9</th>\n",
       "    </tr>\n",
       "  </thead>\n",
       "  <tbody>\n",
       "    <tr>\n",
       "      <th>0</th>\n",
       "      <td>{'$schema': 'https://vega.github.io/schema/veg...</td>\n",
       "      <td>{'$schema': 'https://vega.github.io/schema/veg...</td>\n",
       "      <td>{'$schema': 'https://vega.github.io/schema/veg...</td>\n",
       "      <td>{'$schema': 'https://vega.github.io/schema/veg...</td>\n",
       "      <td>{'$schema': 'https://vega.github.io/schema/veg...</td>\n",
       "      <td>{'$schema': 'https://vega.github.io/schema/veg...</td>\n",
       "      <td>{'$schema': 'https://vega.github.io/schema/veg...</td>\n",
       "      <td>{'$schema': 'https://vega.github.io/schema/veg...</td>\n",
       "      <td>{'$schema': 'https://vega.github.io/schema/veg...</td>\n",
       "      <td>{'$schema': 'https://vega.github.io/schema/veg...</td>\n",
       "    </tr>\n",
       "    <tr>\n",
       "      <th>1</th>\n",
       "      <td>{'$schema': 'https://vega.github.io/schema/veg...</td>\n",
       "      <td>{'$schema': 'https://vega.github.io/schema/veg...</td>\n",
       "      <td>{'$schema': 'https://vega.github.io/schema/veg...</td>\n",
       "      <td>{'$schema': 'https://vega.github.io/schema/veg...</td>\n",
       "      <td>{'$schema': 'https://vega.github.io/schema/veg...</td>\n",
       "      <td>{'$schema': 'https://vega.github.io/schema/veg...</td>\n",
       "      <td>{'$schema': 'https://vega.github.io/schema/veg...</td>\n",
       "      <td>{'$schema': 'https://vega.github.io/schema/veg...</td>\n",
       "      <td>{'$schema': 'https://vega.github.io/schema/veg...</td>\n",
       "      <td>{'$schema': 'https://vega.github.io/schema/veg...</td>\n",
       "    </tr>\n",
       "    <tr>\n",
       "      <th>2</th>\n",
       "      <td>{'$schema': 'https://vega.github.io/schema/veg...</td>\n",
       "      <td>{'$schema': 'https://vega.github.io/schema/veg...</td>\n",
       "      <td>{'$schema': 'https://vega.github.io/schema/veg...</td>\n",
       "      <td>{'$schema': 'https://vega.github.io/schema/veg...</td>\n",
       "      <td>{'$schema': 'https://vega.github.io/schema/veg...</td>\n",
       "      <td>{'$schema': 'https://vega.github.io/schema/veg...</td>\n",
       "      <td>{'$schema': 'https://vega.github.io/schema/veg...</td>\n",
       "      <td>{'$schema': 'https://vega.github.io/schema/veg...</td>\n",
       "      <td>{'$schema': 'https://vega.github.io/schema/veg...</td>\n",
       "      <td>{'$schema': 'https://vega.github.io/schema/veg...</td>\n",
       "    </tr>\n",
       "    <tr>\n",
       "      <th>3</th>\n",
       "      <td>{'$schema': 'https://vega.github.io/schema/veg...</td>\n",
       "      <td>{'$schema': 'https://vega.github.io/schema/veg...</td>\n",
       "      <td>{'$schema': 'https://vega.github.io/schema/veg...</td>\n",
       "      <td>{'$schema': 'https://vega.github.io/schema/veg...</td>\n",
       "      <td>{'$schema': 'https://vega.github.io/schema/veg...</td>\n",
       "      <td>{'$schema': 'https://vega.github.io/schema/veg...</td>\n",
       "      <td>{'$schema': 'https://vega.github.io/schema/veg...</td>\n",
       "      <td>{'$schema': 'https://vega.github.io/schema/veg...</td>\n",
       "      <td>{'$schema': 'https://vega.github.io/schema/veg...</td>\n",
       "      <td>{'$schema': 'https://vega.github.io/schema/veg...</td>\n",
       "    </tr>\n",
       "    <tr>\n",
       "      <th>4</th>\n",
       "      <td>{'$schema': 'https://vega.github.io/schema/veg...</td>\n",
       "      <td>{'$schema': 'https://vega.github.io/schema/veg...</td>\n",
       "      <td>{'$schema': 'https://vega.github.io/schema/veg...</td>\n",
       "      <td>{'$schema': 'https://vega.github.io/schema/veg...</td>\n",
       "      <td>{'$schema': 'https://vega.github.io/schema/veg...</td>\n",
       "      <td>{'$schema': 'https://vega.github.io/schema/veg...</td>\n",
       "      <td>{'$schema': 'https://vega.github.io/schema/veg...</td>\n",
       "      <td>{'$schema': 'https://vega.github.io/schema/veg...</td>\n",
       "      <td>{'$schema': 'https://vega.github.io/schema/veg...</td>\n",
       "      <td>{'$schema': 'https://vega.github.io/schema/veg...</td>\n",
       "    </tr>\n",
       "  </tbody>\n",
       "</table>\n",
       "</div>"
      ],
      "text/plain": [
       "                                                   0  \\\n",
       "0  {'$schema': 'https://vega.github.io/schema/veg...   \n",
       "1  {'$schema': 'https://vega.github.io/schema/veg...   \n",
       "2  {'$schema': 'https://vega.github.io/schema/veg...   \n",
       "3  {'$schema': 'https://vega.github.io/schema/veg...   \n",
       "4  {'$schema': 'https://vega.github.io/schema/veg...   \n",
       "\n",
       "                                                   1  \\\n",
       "0  {'$schema': 'https://vega.github.io/schema/veg...   \n",
       "1  {'$schema': 'https://vega.github.io/schema/veg...   \n",
       "2  {'$schema': 'https://vega.github.io/schema/veg...   \n",
       "3  {'$schema': 'https://vega.github.io/schema/veg...   \n",
       "4  {'$schema': 'https://vega.github.io/schema/veg...   \n",
       "\n",
       "                                                   2  \\\n",
       "0  {'$schema': 'https://vega.github.io/schema/veg...   \n",
       "1  {'$schema': 'https://vega.github.io/schema/veg...   \n",
       "2  {'$schema': 'https://vega.github.io/schema/veg...   \n",
       "3  {'$schema': 'https://vega.github.io/schema/veg...   \n",
       "4  {'$schema': 'https://vega.github.io/schema/veg...   \n",
       "\n",
       "                                                   3  \\\n",
       "0  {'$schema': 'https://vega.github.io/schema/veg...   \n",
       "1  {'$schema': 'https://vega.github.io/schema/veg...   \n",
       "2  {'$schema': 'https://vega.github.io/schema/veg...   \n",
       "3  {'$schema': 'https://vega.github.io/schema/veg...   \n",
       "4  {'$schema': 'https://vega.github.io/schema/veg...   \n",
       "\n",
       "                                                   4  \\\n",
       "0  {'$schema': 'https://vega.github.io/schema/veg...   \n",
       "1  {'$schema': 'https://vega.github.io/schema/veg...   \n",
       "2  {'$schema': 'https://vega.github.io/schema/veg...   \n",
       "3  {'$schema': 'https://vega.github.io/schema/veg...   \n",
       "4  {'$schema': 'https://vega.github.io/schema/veg...   \n",
       "\n",
       "                                                   5  \\\n",
       "0  {'$schema': 'https://vega.github.io/schema/veg...   \n",
       "1  {'$schema': 'https://vega.github.io/schema/veg...   \n",
       "2  {'$schema': 'https://vega.github.io/schema/veg...   \n",
       "3  {'$schema': 'https://vega.github.io/schema/veg...   \n",
       "4  {'$schema': 'https://vega.github.io/schema/veg...   \n",
       "\n",
       "                                                   6  \\\n",
       "0  {'$schema': 'https://vega.github.io/schema/veg...   \n",
       "1  {'$schema': 'https://vega.github.io/schema/veg...   \n",
       "2  {'$schema': 'https://vega.github.io/schema/veg...   \n",
       "3  {'$schema': 'https://vega.github.io/schema/veg...   \n",
       "4  {'$schema': 'https://vega.github.io/schema/veg...   \n",
       "\n",
       "                                                   7  \\\n",
       "0  {'$schema': 'https://vega.github.io/schema/veg...   \n",
       "1  {'$schema': 'https://vega.github.io/schema/veg...   \n",
       "2  {'$schema': 'https://vega.github.io/schema/veg...   \n",
       "3  {'$schema': 'https://vega.github.io/schema/veg...   \n",
       "4  {'$schema': 'https://vega.github.io/schema/veg...   \n",
       "\n",
       "                                                   8  \\\n",
       "0  {'$schema': 'https://vega.github.io/schema/veg...   \n",
       "1  {'$schema': 'https://vega.github.io/schema/veg...   \n",
       "2  {'$schema': 'https://vega.github.io/schema/veg...   \n",
       "3  {'$schema': 'https://vega.github.io/schema/veg...   \n",
       "4  {'$schema': 'https://vega.github.io/schema/veg...   \n",
       "\n",
       "                                                   9  \n",
       "0  {'$schema': 'https://vega.github.io/schema/veg...  \n",
       "1  {'$schema': 'https://vega.github.io/schema/veg...  \n",
       "2  {'$schema': 'https://vega.github.io/schema/veg...  \n",
       "3  {'$schema': 'https://vega.github.io/schema/veg...  \n",
       "4  {'$schema': 'https://vega.github.io/schema/veg...  "
      ]
     },
     "execution_count": 18,
     "metadata": {},
     "output_type": "execute_result"
    }
   ],
   "source": [
    "# Parsed model outputs\n",
    "parsed_model_outputs = model_outputs['Parsed spec']\n",
    "parsed_model_outputs = pd.DataFrame(parsed_model_outputs, columns = list(range(num_outputs)))\n",
    "parsed_model_outputs.head()"
   ]
  },
  {
   "cell_type": "markdown",
   "id": "912fea06",
   "metadata": {
    "id": "912fea06"
   },
   "source": [
    "## Validated model outputs"
   ]
  },
  {
   "cell_type": "code",
   "execution_count": null,
   "id": "sZfT0FV1aaCY",
   "metadata": {
    "colab": {
     "base_uri": "https://localhost:8080/",
     "height": 357
    },
    "executionInfo": {
     "elapsed": 14,
     "status": "ok",
     "timestamp": 1669588182785,
     "user": {
      "displayName": "Billy Pitchford",
      "userId": "01251209915329143145"
     },
     "user_tz": 0
    },
    "id": "sZfT0FV1aaCY",
    "outputId": "75132f4a-e943-4a0e-e016-a32e22f19e61"
   },
   "outputs": [
    {
     "data": {
      "text/html": [
       "<div>\n",
       "<style scoped>\n",
       "    .dataframe tbody tr th:only-of-type {\n",
       "        vertical-align: middle;\n",
       "    }\n",
       "\n",
       "    .dataframe tbody tr th {\n",
       "        vertical-align: top;\n",
       "    }\n",
       "\n",
       "    .dataframe thead th {\n",
       "        text-align: right;\n",
       "    }\n",
       "</style>\n",
       "<table border=\"1\" class=\"dataframe\">\n",
       "  <thead>\n",
       "    <tr style=\"text-align: right;\">\n",
       "      <th></th>\n",
       "      <th>0</th>\n",
       "      <th>1</th>\n",
       "      <th>2</th>\n",
       "      <th>3</th>\n",
       "      <th>4</th>\n",
       "      <th>5</th>\n",
       "      <th>6</th>\n",
       "      <th>7</th>\n",
       "      <th>8</th>\n",
       "      <th>9</th>\n",
       "    </tr>\n",
       "  </thead>\n",
       "  <tbody>\n",
       "    <tr>\n",
       "      <th>0</th>\n",
       "      <td>{'$schema': 'https://vega.github.io/schema/veg...</td>\n",
       "      <td>{'$schema': 'https://vega.github.io/schema/veg...</td>\n",
       "      <td>{'$schema': 'https://vega.github.io/schema/veg...</td>\n",
       "      <td>{'$schema': 'https://vega.github.io/schema/veg...</td>\n",
       "      <td>{'$schema': 'https://vega.github.io/schema/veg...</td>\n",
       "      <td>{'$schema': 'https://vega.github.io/schema/veg...</td>\n",
       "      <td>{'$schema': 'https://vega.github.io/schema/veg...</td>\n",
       "      <td>{'$schema': 'https://vega.github.io/schema/veg...</td>\n",
       "      <td>{'$schema': 'https://vega.github.io/schema/veg...</td>\n",
       "      <td>{'$schema': 'https://vega.github.io/schema/veg...</td>\n",
       "    </tr>\n",
       "    <tr>\n",
       "      <th>1</th>\n",
       "      <td>{'$schema': 'https://vega.github.io/schema/veg...</td>\n",
       "      <td>{'$schema': 'https://vega.github.io/schema/veg...</td>\n",
       "      <td>{'$schema': 'https://vega.github.io/schema/veg...</td>\n",
       "      <td>{'$schema': 'https://vega.github.io/schema/veg...</td>\n",
       "      <td>{'$schema': 'https://vega.github.io/schema/veg...</td>\n",
       "      <td>{'$schema': 'https://vega.github.io/schema/veg...</td>\n",
       "      <td>{'$schema': 'https://vega.github.io/schema/veg...</td>\n",
       "      <td>{'$schema': 'https://vega.github.io/schema/veg...</td>\n",
       "      <td>{'$schema': 'https://vega.github.io/schema/veg...</td>\n",
       "      <td>{'$schema': 'https://vega.github.io/schema/veg...</td>\n",
       "    </tr>\n",
       "    <tr>\n",
       "      <th>2</th>\n",
       "      <td>{'$schema': 'https://vega.github.io/schema/veg...</td>\n",
       "      <td>{'$schema': 'https://vega.github.io/schema/veg...</td>\n",
       "      <td>{'$schema': 'https://vega.github.io/schema/veg...</td>\n",
       "      <td>{'$schema': 'https://vega.github.io/schema/veg...</td>\n",
       "      <td>{'$schema': 'https://vega.github.io/schema/veg...</td>\n",
       "      <td>{'$schema': 'https://vega.github.io/schema/veg...</td>\n",
       "      <td>{'$schema': 'https://vega.github.io/schema/veg...</td>\n",
       "      <td>{'$schema': 'https://vega.github.io/schema/veg...</td>\n",
       "      <td>{'$schema': 'https://vega.github.io/schema/veg...</td>\n",
       "      <td>{'$schema': 'https://vega.github.io/schema/veg...</td>\n",
       "    </tr>\n",
       "    <tr>\n",
       "      <th>3</th>\n",
       "      <td>{'$schema': 'https://vega.github.io/schema/veg...</td>\n",
       "      <td>{'$schema': 'https://vega.github.io/schema/veg...</td>\n",
       "      <td>{'$schema': 'https://vega.github.io/schema/veg...</td>\n",
       "      <td>{'$schema': 'https://vega.github.io/schema/veg...</td>\n",
       "      <td>{'$schema': 'https://vega.github.io/schema/veg...</td>\n",
       "      <td>{'$schema': 'https://vega.github.io/schema/veg...</td>\n",
       "      <td>{'$schema': 'https://vega.github.io/schema/veg...</td>\n",
       "      <td>{'$schema': 'https://vega.github.io/schema/veg...</td>\n",
       "      <td>{'$schema': 'https://vega.github.io/schema/veg...</td>\n",
       "      <td>{'$schema': 'https://vega.github.io/schema/veg...</td>\n",
       "    </tr>\n",
       "    <tr>\n",
       "      <th>4</th>\n",
       "      <td>{'$schema': 'https://vega.github.io/schema/veg...</td>\n",
       "      <td>{'$schema': 'https://vega.github.io/schema/veg...</td>\n",
       "      <td>{'$schema': 'https://vega.github.io/schema/veg...</td>\n",
       "      <td>{'$schema': 'https://vega.github.io/schema/veg...</td>\n",
       "      <td>{'$schema': 'https://vega.github.io/schema/veg...</td>\n",
       "      <td>{'$schema': 'https://vega.github.io/schema/veg...</td>\n",
       "      <td>{'$schema': 'https://vega.github.io/schema/veg...</td>\n",
       "      <td>{'$schema': 'https://vega.github.io/schema/veg...</td>\n",
       "      <td>{'$schema': 'https://vega.github.io/schema/veg...</td>\n",
       "      <td>{'$schema': 'https://vega.github.io/schema/veg...</td>\n",
       "    </tr>\n",
       "  </tbody>\n",
       "</table>\n",
       "</div>"
      ],
      "text/plain": [
       "                                                   0  \\\n",
       "0  {'$schema': 'https://vega.github.io/schema/veg...   \n",
       "1  {'$schema': 'https://vega.github.io/schema/veg...   \n",
       "2  {'$schema': 'https://vega.github.io/schema/veg...   \n",
       "3  {'$schema': 'https://vega.github.io/schema/veg...   \n",
       "4  {'$schema': 'https://vega.github.io/schema/veg...   \n",
       "\n",
       "                                                   1  \\\n",
       "0  {'$schema': 'https://vega.github.io/schema/veg...   \n",
       "1  {'$schema': 'https://vega.github.io/schema/veg...   \n",
       "2  {'$schema': 'https://vega.github.io/schema/veg...   \n",
       "3  {'$schema': 'https://vega.github.io/schema/veg...   \n",
       "4  {'$schema': 'https://vega.github.io/schema/veg...   \n",
       "\n",
       "                                                   2  \\\n",
       "0  {'$schema': 'https://vega.github.io/schema/veg...   \n",
       "1  {'$schema': 'https://vega.github.io/schema/veg...   \n",
       "2  {'$schema': 'https://vega.github.io/schema/veg...   \n",
       "3  {'$schema': 'https://vega.github.io/schema/veg...   \n",
       "4  {'$schema': 'https://vega.github.io/schema/veg...   \n",
       "\n",
       "                                                   3  \\\n",
       "0  {'$schema': 'https://vega.github.io/schema/veg...   \n",
       "1  {'$schema': 'https://vega.github.io/schema/veg...   \n",
       "2  {'$schema': 'https://vega.github.io/schema/veg...   \n",
       "3  {'$schema': 'https://vega.github.io/schema/veg...   \n",
       "4  {'$schema': 'https://vega.github.io/schema/veg...   \n",
       "\n",
       "                                                   4  \\\n",
       "0  {'$schema': 'https://vega.github.io/schema/veg...   \n",
       "1  {'$schema': 'https://vega.github.io/schema/veg...   \n",
       "2  {'$schema': 'https://vega.github.io/schema/veg...   \n",
       "3  {'$schema': 'https://vega.github.io/schema/veg...   \n",
       "4  {'$schema': 'https://vega.github.io/schema/veg...   \n",
       "\n",
       "                                                   5  \\\n",
       "0  {'$schema': 'https://vega.github.io/schema/veg...   \n",
       "1  {'$schema': 'https://vega.github.io/schema/veg...   \n",
       "2  {'$schema': 'https://vega.github.io/schema/veg...   \n",
       "3  {'$schema': 'https://vega.github.io/schema/veg...   \n",
       "4  {'$schema': 'https://vega.github.io/schema/veg...   \n",
       "\n",
       "                                                   6  \\\n",
       "0  {'$schema': 'https://vega.github.io/schema/veg...   \n",
       "1  {'$schema': 'https://vega.github.io/schema/veg...   \n",
       "2  {'$schema': 'https://vega.github.io/schema/veg...   \n",
       "3  {'$schema': 'https://vega.github.io/schema/veg...   \n",
       "4  {'$schema': 'https://vega.github.io/schema/veg...   \n",
       "\n",
       "                                                   7  \\\n",
       "0  {'$schema': 'https://vega.github.io/schema/veg...   \n",
       "1  {'$schema': 'https://vega.github.io/schema/veg...   \n",
       "2  {'$schema': 'https://vega.github.io/schema/veg...   \n",
       "3  {'$schema': 'https://vega.github.io/schema/veg...   \n",
       "4  {'$schema': 'https://vega.github.io/schema/veg...   \n",
       "\n",
       "                                                   8  \\\n",
       "0  {'$schema': 'https://vega.github.io/schema/veg...   \n",
       "1  {'$schema': 'https://vega.github.io/schema/veg...   \n",
       "2  {'$schema': 'https://vega.github.io/schema/veg...   \n",
       "3  {'$schema': 'https://vega.github.io/schema/veg...   \n",
       "4  {'$schema': 'https://vega.github.io/schema/veg...   \n",
       "\n",
       "                                                   9  \n",
       "0  {'$schema': 'https://vega.github.io/schema/veg...  \n",
       "1  {'$schema': 'https://vega.github.io/schema/veg...  \n",
       "2  {'$schema': 'https://vega.github.io/schema/veg...  \n",
       "3  {'$schema': 'https://vega.github.io/schema/veg...  \n",
       "4  {'$schema': 'https://vega.github.io/schema/veg...  "
      ]
     },
     "execution_count": 19,
     "metadata": {},
     "output_type": "execute_result"
    }
   ],
   "source": [
    "# Validated model outputs\n",
    "validated_model_outputs = model_outputs['Validated spec']\n",
    "validated_model_outputs = pd.DataFrame(validated_model_outputs, columns = list(range(num_outputs)))\n",
    "validated_model_outputs.head()"
   ]
  },
  {
   "cell_type": "markdown",
   "id": "a8Vc0UAQ3oUw",
   "metadata": {
    "id": "a8Vc0UAQ3oUw"
   },
   "source": [
    "# Update error terminology"
   ]
  },
  {
   "cell_type": "code",
   "execution_count": null,
   "id": "w3bFNlE03s54",
   "metadata": {
    "id": "w3bFNlE03s54"
   },
   "outputs": [],
   "source": [
    "# Validated model outputs\n",
    "validated_model_outputs = validated_model_outputs.applymap(lambda x: \"Validation error\" if x==\"Schema error\" else x)\n",
    "validated_model_outputs = validated_model_outputs.applymap(lambda x: \"Syntax error\" if x==\"Type error\" else x)\n",
    "validated_model_outputs = validated_model_outputs.applymap(lambda x: \"Syntax error\" if x==\"Value error\" else x)"
   ]
  },
  {
   "cell_type": "code",
   "execution_count": null,
   "id": "ju6UEcrk4BFl",
   "metadata": {
    "id": "ju6UEcrk4BFl"
   },
   "outputs": [],
   "source": [
    "# Parsed model outputs\n",
    "parsed_model_outputs = parsed_model_outputs.applymap(lambda x: \"Syntax error\" if x==\"Type error\" else x)\n",
    "parsed_model_outputs = parsed_model_outputs.applymap(lambda x: \"Syntax error\" if x==\"Value error\" else x)"
   ]
  },
  {
   "cell_type": "markdown",
   "id": "600bf270",
   "metadata": {
    "id": "600bf270"
   },
   "source": [
    "# Characterise test set"
   ]
  },
  {
   "cell_type": "code",
   "execution_count": null,
   "id": "3c39ac2f",
   "metadata": {
    "id": "3c39ac2f",
    "outputId": "14f27bbe-60cd-4b9d-93c2-37199e656926"
   },
   "outputs": [
    {
     "name": "stdout",
     "output_type": "stream",
     "text": [
      "Number of problems: 160\n"
     ]
    }
   ],
   "source": [
    "print(f\"Number of problems: {model_inputs.shape[0]}\")"
   ]
  },
  {
   "cell_type": "code",
   "execution_count": null,
   "id": "4e759806",
   "metadata": {
    "id": "4e759806",
    "outputId": "064d10a4-76d3-4138-ead7-479201a555c3"
   },
   "outputs": [
    {
     "data": {
      "text/html": [
       "<div>\n",
       "<style scoped>\n",
       "    .dataframe tbody tr th:only-of-type {\n",
       "        vertical-align: middle;\n",
       "    }\n",
       "\n",
       "    .dataframe tbody tr th {\n",
       "        vertical-align: top;\n",
       "    }\n",
       "\n",
       "    .dataframe thead th {\n",
       "        text-align: right;\n",
       "    }\n",
       "</style>\n",
       "<table border=\"1\" class=\"dataframe\">\n",
       "  <thead>\n",
       "    <tr style=\"text-align: right;\">\n",
       "      <th></th>\n",
       "      <th>count</th>\n",
       "      <th>perc</th>\n",
       "    </tr>\n",
       "  </thead>\n",
       "  <tbody>\n",
       "    <tr>\n",
       "      <th>bar</th>\n",
       "      <td>83</td>\n",
       "      <td>0.51875</td>\n",
       "    </tr>\n",
       "    <tr>\n",
       "      <th>point</th>\n",
       "      <td>50</td>\n",
       "      <td>0.31250</td>\n",
       "    </tr>\n",
       "    <tr>\n",
       "      <th>line</th>\n",
       "      <td>25</td>\n",
       "      <td>0.15625</td>\n",
       "    </tr>\n",
       "    <tr>\n",
       "      <th>area</th>\n",
       "      <td>1</td>\n",
       "      <td>0.00625</td>\n",
       "    </tr>\n",
       "    <tr>\n",
       "      <th>tick</th>\n",
       "      <td>1</td>\n",
       "      <td>0.00625</td>\n",
       "    </tr>\n",
       "  </tbody>\n",
       "</table>\n",
       "</div>"
      ],
      "text/plain": [
       "       count     perc\n",
       "bar       83  0.51875\n",
       "point     50  0.31250\n",
       "line      25  0.15625\n",
       "area       1  0.00625\n",
       "tick       1  0.00625"
      ]
     },
     "execution_count": 23,
     "metadata": {},
     "output_type": "execute_result"
    }
   ],
   "source": [
    "# Mark type\n",
    "train_mtype_summary = pd.DataFrame(dict(count=model_inputs.loc[:, 'marktype'].value_counts(\n",
    "), perc=model_inputs.loc[:, 'marktype'].value_counts(normalize=True)))\n",
    "train_mtype_summary"
   ]
  },
  {
   "cell_type": "code",
   "execution_count": null,
   "id": "ae624ce2",
   "metadata": {
    "id": "ae624ce2",
    "outputId": "5091bcd5-444d-45c0-f629-f43a4edbf099"
   },
   "outputs": [
    {
     "data": {
      "text/html": [
       "<div>\n",
       "<style scoped>\n",
       "    .dataframe tbody tr th:only-of-type {\n",
       "        vertical-align: middle;\n",
       "    }\n",
       "\n",
       "    .dataframe tbody tr th {\n",
       "        vertical-align: top;\n",
       "    }\n",
       "\n",
       "    .dataframe thead th {\n",
       "        text-align: right;\n",
       "    }\n",
       "</style>\n",
       "<table border=\"1\" class=\"dataframe\">\n",
       "  <thead>\n",
       "    <tr style=\"text-align: right;\">\n",
       "      <th></th>\n",
       "      <th>count</th>\n",
       "      <th>perc</th>\n",
       "    </tr>\n",
       "  </thead>\n",
       "  <tbody>\n",
       "    <tr>\n",
       "      <th>cars</th>\n",
       "      <td>57</td>\n",
       "      <td>0.35625</td>\n",
       "    </tr>\n",
       "    <tr>\n",
       "      <th>movies</th>\n",
       "      <td>56</td>\n",
       "      <td>0.35000</td>\n",
       "    </tr>\n",
       "    <tr>\n",
       "      <th>superstore</th>\n",
       "      <td>45</td>\n",
       "      <td>0.28125</td>\n",
       "    </tr>\n",
       "    <tr>\n",
       "      <th>euro</th>\n",
       "      <td>2</td>\n",
       "      <td>0.01250</td>\n",
       "    </tr>\n",
       "  </tbody>\n",
       "</table>\n",
       "</div>"
      ],
      "text/plain": [
       "            count     perc\n",
       "cars           57  0.35625\n",
       "movies         56  0.35000\n",
       "superstore     45  0.28125\n",
       "euro            2  0.01250"
      ]
     },
     "execution_count": 24,
     "metadata": {},
     "output_type": "execute_result"
    }
   ],
   "source": [
    "# Data source\n",
    "train_dsource_summary = pd.DataFrame(dict(count=model_inputs.loc[:, 'dataset'].value_counts(\n",
    "), perc=model_inputs.loc[:, 'dataset'].value_counts(normalize=True)))\n",
    "train_dsource_summary"
   ]
  },
  {
   "cell_type": "code",
   "execution_count": null,
   "id": "add8946c",
   "metadata": {
    "id": "add8946c",
    "outputId": "deca9407-f787-4908-a062-75b62e4daa14"
   },
   "outputs": [
    {
     "data": {
      "text/html": [
       "<div>\n",
       "<style scoped>\n",
       "    .dataframe tbody tr th:only-of-type {\n",
       "        vertical-align: middle;\n",
       "    }\n",
       "\n",
       "    .dataframe tbody tr th {\n",
       "        vertical-align: top;\n",
       "    }\n",
       "\n",
       "    .dataframe thead th {\n",
       "        text-align: right;\n",
       "    }\n",
       "</style>\n",
       "<table border=\"1\" class=\"dataframe\">\n",
       "  <thead>\n",
       "    <tr style=\"text-align: right;\">\n",
       "      <th></th>\n",
       "      <th>count</th>\n",
       "      <th>perc</th>\n",
       "    </tr>\n",
       "  </thead>\n",
       "  <tbody>\n",
       "    <tr>\n",
       "      <th>Under specified</th>\n",
       "      <td>102</td>\n",
       "      <td>0.6375</td>\n",
       "    </tr>\n",
       "    <tr>\n",
       "      <th>Fully specified</th>\n",
       "      <td>58</td>\n",
       "      <td>0.3625</td>\n",
       "    </tr>\n",
       "  </tbody>\n",
       "</table>\n",
       "</div>"
      ],
      "text/plain": [
       "                 count    perc\n",
       "Under specified    102  0.6375\n",
       "Fully specified     58  0.3625"
      ]
     },
     "execution_count": 25,
     "metadata": {},
     "output_type": "execute_result"
    }
   ],
   "source": [
    "# Query type\n",
    "train_type_summary = pd.DataFrame(dict(count=model_inputs.loc[:, 'query_type'].value_counts(\n",
    "), perc=model_inputs.loc[:, 'query_type'].value_counts(normalize=True)))\n",
    "train_type_summary"
   ]
  },
  {
   "cell_type": "markdown",
   "id": "550cd089",
   "metadata": {
    "id": "550cd089"
   },
   "source": [
    "# Validate Vega-Lite schema"
   ]
  },
  {
   "cell_type": "markdown",
   "id": "1815eba0",
   "metadata": {
    "id": "1815eba0"
   },
   "source": [
    "## Valid@1 as a function of hyper-parameters\n",
    "Valid@1 = The fraction of problems where the model generates a valid specification in 1 sample"
   ]
  },
  {
   "cell_type": "markdown",
   "id": "a69d637c",
   "metadata": {
    "id": "a69d637c"
   },
   "source": [
    "### Functions"
   ]
  },
  {
   "cell_type": "code",
   "execution_count": null,
   "id": "d2346532",
   "metadata": {
    "id": "d2346532"
   },
   "outputs": [],
   "source": [
    "# Function: Calculate the average fraction of problems where the model passes a given test in 1 sample across all parameter sets\n",
    "def pass1_summary(df):\n",
    "    \"\"\" Summarise pass@1 and error rates for all sets of hyper-parameters in a gridsearch.\n",
    "    Applicable to results generated by both Top-K and Top-P decoding\"\"\"\n",
    "\n",
    "    df = df.applymap(lambda x: 'Pass' if isinstance(x, dict) else x)\n",
    "    df = df.apply(pd.Series.value_counts).apply(\n",
    "            lambda x: x/x.sum()).transpose()\n",
    "\n",
    "    df.insert(loc=0, column='n-shot', value=nshot)\n",
    "    if decode_strategy == \"top_p\":\n",
    "        df.insert(loc=0, column='Top-P', value= topp)\n",
    "    df.insert(loc=0, column='Top-K', value= topk)\n",
    "    df.insert(loc=0, column='Softmax T', value= temp)\n",
    "#     df.rename(columns={'Pass': '% Pass'}, inplace=True)\n",
    "\n",
    "    # Save output\n",
    "    save_pickle(model_outputs_directory + model_output_results_fname + \"_pass1_validation_summary.pickle\", df)\n",
    "\n",
    "    return df"
   ]
  },
  {
   "cell_type": "code",
   "execution_count": null,
   "id": "JMfk4wh3dDFg",
   "metadata": {
    "id": "JMfk4wh3dDFg"
   },
   "outputs": [],
   "source": [
    "# Function: Top-K gridsearch surface plots via explicit method\n",
    "def plot_errors(table):\n",
    "    \"\"\" Plot a bar chart displaying the validation rate, attribute error rate, syntax error rate and validation error rate\"\"\"\n",
    "\n",
    "    table.reset_index(inplace=True)\n",
    "    labels = [col for col in table.columns.tolist() if col not in [\n",
    "        'Softmax T', 'Top-K', 'Top-P', 'n-shot', 'Pass count', 'Invalid count']]\n",
    "    table = table.loc[0, labels]\n",
    "    table = table.reset_index()\n",
    "    table = table.iloc[1:, :]\n",
    "    table = table.sort_values(by=[0], ascending=False)\n",
    "    X = table['index'].tolist()\n",
    "    Y = [y*100 for y in table[0].tolist()]\n",
    "\n",
    "    # Set style temporarily using style context manager\n",
    "    # Source: https://matplotlib.org/stable/tutorials/introductory/customizing.html#customizing-with-style-sheets\n",
    "    with plt.style.context(['seaborn-bright', 'C:\\\\Users\\\\sbnr014\\\\OneDrive - City, University of London\\\\Documents\\\\GitHub\\\\MSc-thesis\\\\4. Test set\\\\dev.mplstyle']):\n",
    "        fig, axes = plt.subplots(nrows=1,\n",
    "                                 ncols=1)\n",
    "\n",
    "        axes.bar(X, Y)\n",
    "        axes.set_ylabel('% of total')\n",
    "        axes.set_ylim([0, 100])\n",
    "        plt.xticks(rotation=45)\n",
    "\n",
    "#             axes.grid(True)\n",
    "#             plt.show()\n",
    "    plt.show()\n",
    "    plt.close()"
   ]
  },
  {
   "cell_type": "markdown",
   "id": "ddd7ff98",
   "metadata": {
    "id": "ddd7ff98"
   },
   "source": [
    "### Analyses"
   ]
  },
  {
   "cell_type": "code",
   "execution_count": null,
   "id": "fbdcff99",
   "metadata": {
    "colab": {
     "base_uri": "https://localhost:8080/",
     "height": 206
    },
    "executionInfo": {
     "elapsed": 14,
     "status": "ok",
     "timestamp": 1669588182787,
     "user": {
      "displayName": "Billy Pitchford",
      "userId": "01251209915329143145"
     },
     "user_tz": 0
    },
    "id": "fbdcff99",
    "outputId": "e6214bea-9c9d-4896-da1d-1bb2b4cd953b",
    "scrolled": true
   },
   "outputs": [
    {
     "data": {
      "text/html": [
       "<div>\n",
       "<style scoped>\n",
       "    .dataframe tbody tr th:only-of-type {\n",
       "        vertical-align: middle;\n",
       "    }\n",
       "\n",
       "    .dataframe tbody tr th {\n",
       "        vertical-align: top;\n",
       "    }\n",
       "\n",
       "    .dataframe thead th {\n",
       "        text-align: right;\n",
       "    }\n",
       "</style>\n",
       "<table border=\"1\" class=\"dataframe\">\n",
       "  <thead>\n",
       "    <tr style=\"text-align: right;\">\n",
       "      <th></th>\n",
       "      <th>Softmax T</th>\n",
       "      <th>Top-K</th>\n",
       "      <th>Top-P</th>\n",
       "      <th>n-shot</th>\n",
       "      <th>Pass</th>\n",
       "      <th>Syntax error</th>\n",
       "      <th>Validation error</th>\n",
       "    </tr>\n",
       "  </thead>\n",
       "  <tbody>\n",
       "    <tr>\n",
       "      <th>0</th>\n",
       "      <td>1</td>\n",
       "      <td>0</td>\n",
       "      <td>0.3</td>\n",
       "      <td>3</td>\n",
       "      <td>0.91875</td>\n",
       "      <td>0.00625</td>\n",
       "      <td>0.075</td>\n",
       "    </tr>\n",
       "    <tr>\n",
       "      <th>1</th>\n",
       "      <td>1</td>\n",
       "      <td>0</td>\n",
       "      <td>0.3</td>\n",
       "      <td>3</td>\n",
       "      <td>0.91875</td>\n",
       "      <td>0.00625</td>\n",
       "      <td>0.075</td>\n",
       "    </tr>\n",
       "    <tr>\n",
       "      <th>2</th>\n",
       "      <td>1</td>\n",
       "      <td>0</td>\n",
       "      <td>0.3</td>\n",
       "      <td>3</td>\n",
       "      <td>0.91875</td>\n",
       "      <td>0.00625</td>\n",
       "      <td>0.075</td>\n",
       "    </tr>\n",
       "    <tr>\n",
       "      <th>3</th>\n",
       "      <td>1</td>\n",
       "      <td>0</td>\n",
       "      <td>0.3</td>\n",
       "      <td>3</td>\n",
       "      <td>0.91875</td>\n",
       "      <td>0.00625</td>\n",
       "      <td>0.075</td>\n",
       "    </tr>\n",
       "    <tr>\n",
       "      <th>4</th>\n",
       "      <td>1</td>\n",
       "      <td>0</td>\n",
       "      <td>0.3</td>\n",
       "      <td>3</td>\n",
       "      <td>0.91875</td>\n",
       "      <td>0.00625</td>\n",
       "      <td>0.075</td>\n",
       "    </tr>\n",
       "  </tbody>\n",
       "</table>\n",
       "</div>"
      ],
      "text/plain": [
       "   Softmax T  Top-K  Top-P n-shot     Pass  Syntax error  Validation error\n",
       "0          1      0    0.3      3  0.91875       0.00625             0.075\n",
       "1          1      0    0.3      3  0.91875       0.00625             0.075\n",
       "2          1      0    0.3      3  0.91875       0.00625             0.075\n",
       "3          1      0    0.3      3  0.91875       0.00625             0.075\n",
       "4          1      0    0.3      3  0.91875       0.00625             0.075"
      ]
     },
     "execution_count": 28,
     "metadata": {},
     "output_type": "execute_result"
    }
   ],
   "source": [
    "# Summary\n",
    "pass1_test_summary = pass1_summary(validated_model_outputs)\n",
    "pass1_test_summary.head()"
   ]
  },
  {
   "cell_type": "code",
   "execution_count": null,
   "id": "983f2cbe",
   "metadata": {
    "colab": {
     "base_uri": "https://localhost:8080/",
     "height": 313
    },
    "executionInfo": {
     "elapsed": 776,
     "status": "ok",
     "timestamp": 1669588183550,
     "user": {
      "displayName": "Billy Pitchford",
      "userId": "01251209915329143145"
     },
     "user_tz": 0
    },
    "id": "983f2cbe",
    "outputId": "81cc9983-ddb7-48f8-ea21-55cea4a30332"
   },
   "outputs": [
    {
     "data": {
      "image/png": "[encoded data removed]",
      "text/plain": [
       "<Figure size 640x480 with 1 Axes>"
      ]
     },
     "metadata": {},
     "output_type": "display_data"
    }
   ],
   "source": [
    "# Compare errors\n",
    "plot_errors(pass1_test_summary)"
   ]
  },
  {
   "cell_type": "markdown",
   "id": "a5fbef3c",
   "metadata": {
    "id": "a5fbef3c"
   },
   "source": [
    "## Valid@k as a function of hyper-parameters\n",
    "Valid@100 = The fraction of problems where the model generates a valid specification in 100 samples"
   ]
  },
  {
   "cell_type": "markdown",
   "id": "89ffee7a",
   "metadata": {
    "id": "89ffee7a"
   },
   "source": [
    "### Functions"
   ]
  },
  {
   "cell_type": "code",
   "execution_count": null,
   "id": "24389056",
   "metadata": {
    "id": "24389056"
   },
   "outputs": [],
   "source": [
    "# Function: Calculate the average fraction of problems where the model passes a given test\n",
    "def passk_summary(df, k):\n",
    "    \"\"\" Summarise pass@k and error rates for a gridsearch.\n",
    "    Applicable to results generated by both Top-K and Top-P decoding\"\"\"\n",
    "\n",
    "    df = df.applymap(lambda x: 'Pass' if isinstance(x, dict) else x)\n",
    "\n",
    "    # Valid\n",
    "    count_valid = df == 'Pass'\n",
    "    count_valid = ((count_valid.iloc[:, :10] == True).sum(axis=1) > 0).sum()\n",
    "    perc_valid = count_valid / df.shape[0]\n",
    "\n",
    "    # Invalid\n",
    "    count_invalid = df.shape[0]-count_valid\n",
    "    perc_invalid = 1-perc_valid\n",
    "\n",
    "    # Output\n",
    "    df = pd.DataFrame({\"Pass\": perc_valid, \"Pass count\": count_valid, \"Fail\": perc_invalid, \"Fail count\": count_invalid}, index=[k])\n",
    "\n",
    "    # # Save output\n",
    "    save_pickle(model_outputs_directory + model_output_results_fname + \"_passk_validation_summary.pickle\", df)\n",
    "\n",
    "    return df"
   ]
  },
  {
   "cell_type": "code",
   "execution_count": null,
   "id": "228b4cef",
   "metadata": {
    "id": "228b4cef"
   },
   "outputs": [],
   "source": [
    "def plot_valid1_vs_validk(pass1, passk):\n",
    "    \"\"\"Compare pass1 and passk rates\"\"\"\n",
    "\n",
    "    X = ['valid@1', 'valid@k']\n",
    "    Y1 = pass1.loc[0, 'Pass']\n",
    "    Y2 = passk.loc[10, 'Pass']\n",
    "    Y = [Y1*100, Y2*100]\n",
    "\n",
    "    # Set style temporarily using style context manager\n",
    "    # Source: https://matplotlib.org/stable/tutorials/introductory/customizing.html#customizing-with-style-sheets\n",
    "    with plt.style.context(['seaborn-bright', 'C:\\\\Users\\\\sbnr014\\\\OneDrive - City, University of London\\\\Documents\\\\GitHub\\\\MSc-thesis\\\\4. Test set\\\\dev.mplstyle']):\n",
    "        fig, axes = plt.subplots(nrows=1,\n",
    "                                 ncols=1)\n",
    "        axes.scatter(X, Y, s=1000, marker='+')\n",
    "        axes.set_ylabel('% of total')\n",
    "        axes.set_ylim([90, 100])\n",
    "        axes.set_xlim([-0.5, 1.5])\n",
    "        plt.xticks(rotation=45)\n",
    "    #             axes.grid(True)\n",
    "        plt.show()\n",
    "        plt.close()"
   ]
  },
  {
   "cell_type": "markdown",
   "id": "4450409b",
   "metadata": {
    "id": "4450409b"
   },
   "source": [
    "### Analyses"
   ]
  },
  {
   "cell_type": "code",
   "execution_count": null,
   "id": "964599cb",
   "metadata": {
    "colab": {
     "base_uri": "https://localhost:8080/",
     "height": 81
    },
    "executionInfo": {
     "elapsed": 28,
     "status": "ok",
     "timestamp": 1669588183551,
     "user": {
      "displayName": "Billy Pitchford",
      "userId": "01251209915329143145"
     },
     "user_tz": 0
    },
    "id": "964599cb",
    "outputId": "877635db-de7e-458a-eb9c-0ca9126e1a24"
   },
   "outputs": [
    {
     "data": {
      "text/html": [
       "<div>\n",
       "<style scoped>\n",
       "    .dataframe tbody tr th:only-of-type {\n",
       "        vertical-align: middle;\n",
       "    }\n",
       "\n",
       "    .dataframe tbody tr th {\n",
       "        vertical-align: top;\n",
       "    }\n",
       "\n",
       "    .dataframe thead th {\n",
       "        text-align: right;\n",
       "    }\n",
       "</style>\n",
       "<table border=\"1\" class=\"dataframe\">\n",
       "  <thead>\n",
       "    <tr style=\"text-align: right;\">\n",
       "      <th></th>\n",
       "      <th>Pass</th>\n",
       "      <th>Pass count</th>\n",
       "      <th>Fail</th>\n",
       "      <th>Fail count</th>\n",
       "    </tr>\n",
       "  </thead>\n",
       "  <tbody>\n",
       "    <tr>\n",
       "      <th>10</th>\n",
       "      <td>0.91875</td>\n",
       "      <td>147</td>\n",
       "      <td>0.08125</td>\n",
       "      <td>13</td>\n",
       "    </tr>\n",
       "  </tbody>\n",
       "</table>\n",
       "</div>"
      ],
      "text/plain": [
       "       Pass  Pass count     Fail  Fail count\n",
       "10  0.91875         147  0.08125          13"
      ]
     },
     "execution_count": 32,
     "metadata": {},
     "output_type": "execute_result"
    }
   ],
   "source": [
    "# Pass@K\n",
    "passk_test_summary = passk_summary(validated_model_outputs, num_outputs)\n",
    "passk_test_summary"
   ]
  },
  {
   "cell_type": "markdown",
   "id": "92716eed",
   "metadata": {
    "id": "92716eed"
   },
   "source": [
    "## Valid@1 versus Valid@k"
   ]
  },
  {
   "cell_type": "code",
   "execution_count": null,
   "id": "e7ad3d62",
   "metadata": {
    "id": "e7ad3d62",
    "outputId": "029d873e-06d3-4c47-d795-d5e914f99f8a"
   },
   "outputs": [
    {
     "data": {
      "image/png": "[encoded data removed]",
      "text/plain": [
       "<Figure size 640x480 with 1 Axes>"
      ]
     },
     "metadata": {},
     "output_type": "display_data"
    }
   ],
   "source": [
    "# Valid@1 versus Valid@k\n",
    "plot_valid1_vs_validk(pass1_test_summary, passk_test_summary)"
   ]
  },
  {
   "cell_type": "markdown",
   "id": "874f803b",
   "metadata": {
    "id": "874f803b"
   },
   "source": [
    "# Logic validation"
   ]
  },
  {
   "cell_type": "markdown",
   "id": "74995774",
   "metadata": {
    "id": "74995774"
   },
   "source": [
    "https://vega.github.io/vega-lite/docs/transform.html\n",
    "\n",
    "1. Is the visualisation's data source correct?\n",
    "\"Vega-Lite’s data property describes the visualization’s data source as part of the specification, which can be either inline data (values) or a URL from which to load the data (url).\"\n",
    "\n",
    "2. Are the data transformations valid?\n",
    "\"Data transformations in Vega-Lite are described via either view-level transforms (the transform property) or field transforms inside encoding (bin, timeUnit, aggregate, sort, and stack).\"\n",
    "\n",
    "3. Is the mark type correct?\n",
    "\n",
    "\n",
    "3. Is data mapped to the correct visual properties?\n",
    "\n",
    "\"They provide basic shapes whose properties (such as position, size, and color) can be used to visually encode data, either from a data field, or a constant value.\"\n",
    "\n",
    "* Is the mark type valid?\n",
    "* Are correct data transformations applied?\n",
    "* Are the same encodings provided (\n",
    "\n",
    "\n",
    "\n",
    "\n",
    "\n",
    "* Is it the correct mark type?\n",
    "* Are the same encodings provided (mark properties, facet, order)?\n",
    "* Are encodings linked to the same fields?\n",
    "* Are the correct aggregation function or filters applied?\n",
    "\n",
    "\n",
    "A set of questions"
   ]
  },
  {
   "cell_type": "markdown",
   "id": "b960fc0c",
   "metadata": {
    "id": "b960fc0c"
   },
   "source": [
    "## Functions"
   ]
  },
  {
   "cell_type": "code",
   "execution_count": null,
   "id": "cb4d7810",
   "metadata": {
    "id": "cb4d7810"
   },
   "outputs": [],
   "source": [
    "# Function: Assess generated specifications against target specifications using a specified rule\n",
    "\n",
    "def assess_rule(df, rule_func, *args):\n",
    "    \"\"\"Assess results using a given rule\"\"\"\n",
    "    output = {}\n",
    "\n",
    "    for col, row_result in df.to_dict().items():\n",
    "        col_output = {col: {}}\n",
    "\n",
    "        for row, result in row_result.items():\n",
    "            if isinstance(result, dict):\n",
    "                col_output[col].update(\n",
    "                    {row: rule_func(result, row, col, *args)})\n",
    "            else:\n",
    "                col_output[col].update({row: result})\n",
    "\n",
    "        output.update(col_output)\n",
    "\n",
    "    return pd.DataFrame.from_dict(output)"
   ]
  },
  {
   "cell_type": "code",
   "execution_count": null,
   "id": "45dd0c8e",
   "metadata": {
    "id": "45dd0c8e"
   },
   "outputs": [],
   "source": [
    "# Functions: Rules for comparing generated specifications against target specifications\n",
    "\n",
    "def data_source_rule(test_spec, row, column):\n",
    "    return test_spec.get('data').get('url') == target_specs.iloc[row, column]['data']['url']\n",
    "\n",
    "\n",
    "def mark_type_rule(test_spec, row, column):\n",
    "\n",
    "    if 'mark' in target_specs.iloc[row, column] and 'mark' in test_spec:\n",
    "        return test_spec.get('mark').get('type') == target_specs.iloc[row, column]['mark']['type']\n",
    "\n",
    "    elif 'mark' not in target_specs.iloc[row, column] and 'mark' not in test_spec:\n",
    "        return test_spec['hconcat'][0].get('mark') == target_specs.iloc[row, column]['hconcat'][0]['mark']\n",
    "\n",
    "    else:\n",
    "        return 1 == 2\n",
    "\n",
    "\n",
    "def granular_encoding_rule(test_spec, row, column, *args):\n",
    "\n",
    "    relevant_channels, relevant_keys = args\n",
    "\n",
    "    # Test spec - Create a set of relevant values for the chosen channels\n",
    "    if 'encoding' in test_spec:\n",
    "        test_spec_values = {outer_key: {inner_key: inner_value for inner_key, inner_value in outer_value.items() if inner_key in relevant_keys}\n",
    "                            for outer_key, outer_value in test_spec['encoding'].items() if outer_key in relevant_channels}\n",
    "    elif 'hconcat' in test_spec:\n",
    "        test_spec_values = {outer_key: {inner_key: inner_value for inner_key, inner_value in outer_value.items() if inner_key in relevant_keys}\n",
    "                            for outer_key, outer_value in test_spec['hconcat'][0]['encoding'].items() if outer_key in relevant_channels}\n",
    "    else:\n",
    "        test_spec_values = {}\n",
    "\n",
    "    # Target spec - Create a set of relevant values for the chosen channels\n",
    "    if 'encoding' in target_specs.iloc[row, column]:\n",
    "        target_spec_values = {outer_key: {inner_key: inner_value for inner_key, inner_value in outer_value.items() if inner_key in relevant_keys}\n",
    "                              for outer_key, outer_value in target_specs.iloc[row, column]['encoding'].items() if outer_key in relevant_channels}\n",
    "\n",
    "    else:\n",
    "        target_spec_values = {outer_key: {inner_key: inner_value for inner_key, inner_value in outer_value.items() if inner_key in relevant_keys}\n",
    "                              for outer_key, outer_value in target_specs.iloc[row, column]['hconcat'][0]['encoding'].items() if outer_key in relevant_channels}\n",
    "\n",
    "    # Target spec - Replace any 'mean' values for aggregate with 'average'\n",
    "    for outer_key, outer_value in target_spec_values.items():\n",
    "        for inner_key, inner_value in outer_value.items():\n",
    "            if inner_value == 'mean':\n",
    "                target_spec_values[outer_key][inner_key] = 'average'\n",
    "\n",
    "    # Test spec - Replace any 'mean' values for aggregate with 'average'\n",
    "    for outer_key, outer_value in test_spec_values.items():\n",
    "        for inner_key, inner_value in outer_value.items():\n",
    "            if inner_value == 'mean':\n",
    "                test_spec_values[outer_key][inner_key] = 'average'\n",
    "\n",
    "    # Test spec - create sets containing (field, aggregation function) frozen sets\n",
    "    test_spec_values = [tuple(outer_value.values())\n",
    "                        for outer_key, outer_value in test_spec_values.items()]\n",
    "\n",
    "    test_spec_values = {tuple(json.dumps(element) if isinstance(\n",
    "        element, dict) else element for element in t) for t in test_spec_values}\n",
    "\n",
    "    test_spec_values = {frozenset(t) for t in test_spec_values}\n",
    "\n",
    "    # Target spec - create sets containing (field, aggregation function) frozen sets\n",
    "    target_spec_values = [tuple(outer_value.values())\n",
    "                          for outer_key, outer_value in target_spec_values.items()]\n",
    "\n",
    "    target_spec_values = {tuple(json.dumps(element) if isinstance(\n",
    "        element, dict) else element for element in t) for t in target_spec_values}\n",
    "\n",
    "    target_spec_values = {frozenset(t) for t in target_spec_values}\n",
    "\n",
    "\n",
    "    # Remove field in (field, aggregate function) frozen set if the aggregate function is count\n",
    "    if frozenset({'count'}) in target_spec_values:\n",
    "        test_spec_values = set([frozenset({'count'}) if 'count' in s else s for s in list(test_spec_values)])\n",
    "\n",
    "    # Remove aggregate function in (field, aggregate function) frozen set if the aggregate function is None\n",
    "    test_spec_values = [[v for v in list(s) if v is not None] for s in list(test_spec_values)]\n",
    "    test_spec_values = set([frozenset(s) for s in test_spec_values])\n",
    "\n",
    "    target_spec_values = [[v for v in list(s) if v is not None] for s in list(target_spec_values)]\n",
    "    target_spec_values = set([frozenset(s) for s in target_spec_values])\n",
    "\n",
    "    return test_spec_values == target_spec_values"
   ]
  },
  {
   "cell_type": "code",
   "execution_count": null,
   "id": "24594083",
   "metadata": {
    "id": "24594083",
    "scrolled": true
   },
   "outputs": [],
   "source": [
    "# Function: Calculate the average fraction of problems where the model passes a given test in 1 sample\n",
    "\n",
    "def pass1_unit_test_summary(df):\n",
    "    \"\"\" Summarise pass@1 and error rates after application of a specific unit test.\n",
    "    Applicable to results generated by both Top-K and Top-P decoding\"\"\"\n",
    "\n",
    "    count_valid = (df == True).sum()\n",
    "    perc_valid = (df == True).sum()/df.count()\n",
    "\n",
    "    df = pd.DataFrame({\"Pass\": perc_valid,\n",
    "                       \"Pass count\": count_valid,\n",
    "                       'n-shot': nshot,\n",
    "                       'Top-P': topp,\n",
    "                       'Top-K': topk},\n",
    "                      index=[0])\n",
    "\n",
    "    # # Save output\n",
    "    save_pickle(model_outputs_directory + model_output_results_fname + \"_pass1_unit_test_summary.pickle\", df)\n",
    "\n",
    "    return df"
   ]
  },
  {
   "cell_type": "code",
   "execution_count": null,
   "id": "d3a27e5e",
   "metadata": {
    "id": "d3a27e5e"
   },
   "outputs": [],
   "source": [
    "# Function: Calculate the average fraction of problems where the model passes a given test across the entire hyper-parameter space\n",
    "\n",
    "def passk_unit_test_summary(df, k):\n",
    "    \"\"\" Summarise pass@k and error rates after application of a specific unit test.\n",
    "    Applicable to results generated by both Top-K and Top-P decoding\"\"\"\n",
    "\n",
    "    count_valid = ((df.iloc[:, :k] == True).sum(axis=1) > 0).sum()\n",
    "    perc_valid = count_valid / df.shape[0]\n",
    "\n",
    "    df = pd.DataFrame({\"Pass\": perc_valid,\n",
    "                       \"Pass count\": count_valid,\n",
    "                       'n-shot': nshot,\n",
    "                       'Top-P': topp,\n",
    "                       'Top-K': topk},\n",
    "                      index=[k])\n",
    "\n",
    "    # # Save output\n",
    "    save_pickle(model_outputs_directory + model_output_results_fname + \"_passk_unit_test_summary.pickle\", df)\n",
    "\n",
    "    return df"
   ]
  },
  {
   "cell_type": "code",
   "execution_count": null,
   "id": "ef72b2ca",
   "metadata": {
    "id": "ef72b2ca"
   },
   "outputs": [],
   "source": [
    "def pass1_logic_q_results(unit_test_results):\n",
    "    \"\"\"Insert a flag indicating whether a specification has passed all unit tests (i.e. logic validation) \"\"\"\n",
    "\n",
    "    unit_test_passes = [df.applymap(\n",
    "        lambda x: x if x == True else np.nan) for df in unit_test_results]\n",
    "\n",
    "    # Compare all unit test results to the first test - return True if all True\n",
    "    # Source: https://towardsdatascience.com/python-tricks-check-multiple-variables-against-single-value-18a4d98d79f4\n",
    "    output_passed_all = unit_test_results[0].copy(deep=True)\n",
    "\n",
    "    for row in range(unit_test_passes[0].shape[0]):\n",
    "        for col in range(unit_test_passes[0].shape[1]):\n",
    "            output_passed_all.iloc[row, col] = all(unit_test_passes[0].iloc[row, col] == x for x in [\n",
    "                                                   df.iloc[row, col] for df in unit_test_passes])\n",
    "\n",
    "    # Save\n",
    "    save_pickle(model_outputs_directory + model_output_results_fname + \"_pass1_logic_q_results.pickle\", output_passed_all)\n",
    "\n",
    "    return output_passed_all"
   ]
  },
  {
   "cell_type": "code",
   "execution_count": null,
   "id": "446397e5",
   "metadata": {
    "id": "446397e5",
    "scrolled": true
   },
   "outputs": [],
   "source": [
    "def pass1_logic_summary(unit_test_results):\n",
    "    \"\"\" Summarise pass@1 and error rates for all sets after application of a set of unit tests.\n",
    "    Applicable to results generated by both Top-K and Top-P decoding\"\"\"\n",
    "\n",
    "    # Pass %\n",
    "    unit_test_passes = [df.applymap(\n",
    "        lambda x: x if x == True else np.nan) for df in unit_test_results]\n",
    "    output_passed_all = unit_test_results[0].copy(deep=True)\n",
    "\n",
    "    # Compare all unit test results to the first test - return True if all True\n",
    "    # Source: https://towardsdatascience.com/python-tricks-check-multiple-variables-against-single-value-18a4d98d79f4\n",
    "    for row in range(unit_test_passes[0].shape[0]):\n",
    "        for col in range(unit_test_passes[0].shape[1]):\n",
    "            output_passed_all.iloc[row, col] = all(unit_test_passes[0].iloc[row, col] == x for x in [\n",
    "                                                   df.iloc[row, col] for df in unit_test_passes])\n",
    "\n",
    "    perc_pass = (output_passed_all == True).sum()/output_passed_all.count()\n",
    "\n",
    "    # Logic error %\n",
    "    unit_test_fails = [df.applymap(\n",
    "        lambda x: True if x == False else False) for df in unit_test_results]\n",
    "    output_failed_any = unit_test_results[0].copy(deep=True)\n",
    "\n",
    "    # Compare all unit test results to the first test - return True if any True\n",
    "    # Source: https://towardsdatascience.com/python-tricks-check-multiple-variables-against-single-value-18a4d98d79f4\n",
    "    for row in range(unit_test_fails[0].shape[0]):\n",
    "        for col in range(unit_test_fails[0].shape[1]):\n",
    "            output_failed_any.iloc[row, col] = any(\n",
    "                [df.iloc[row, col] for df in unit_test_fails])\n",
    "\n",
    "    perc_logic = (output_failed_any == True).sum()/output_failed_any.count()\n",
    "\n",
    "    # Create data frame\n",
    "    df = pd.DataFrame({\"Pass\": perc_pass,\n",
    "                       \"Logic error\": perc_logic,\n",
    "                       'n-shot': nshot,\n",
    "                       'Top-P': topp,\n",
    "                       'Top-K': topk},\n",
    "                      index=[0])\n",
    "    # # Save output\n",
    "    save_pickle(model_outputs_directory + model_output_results_fname + \"_pass1_logic_summary.pickle\", df)\n",
    "    return df"
   ]
  },
  {
   "cell_type": "code",
   "execution_count": null,
   "id": "ae77c008",
   "metadata": {
    "id": "ae77c008"
   },
   "outputs": [],
   "source": [
    "def passk_logic_summary(unit_test_results, k):\n",
    "    \"\"\" Summarise pass@k and error rates after application of a set of unit tests.\n",
    "    Applicable to results generated by both Top-K and Top-P decoding\"\"\"\n",
    "\n",
    "    # Pass %\n",
    "    output_passed_all = unit_test_results[0].copy(deep=True)\n",
    "    test_results = [df.applymap(lambda x: x if x == True else np.nan)\n",
    "                    for df in unit_test_results]\n",
    "\n",
    "    # Compare all unit test results to the first test\n",
    "    # Source: https://towardsdatascience.com/python-tricks-check-multiple-variables-against-single-value-18a4d98d79f4\n",
    "    for row in range(test_results[0].shape[0]):\n",
    "        for col in range(test_results[0].shape[1]):\n",
    "            output_passed_all.iloc[row, col] = all(test_results[0].iloc[row, col] == x\n",
    "                                                   for x in [df.iloc[row, col] for df in test_results])\n",
    "\n",
    "    count_valid = (\n",
    "        (output_passed_all.iloc[:, :k] == True).sum(axis=1) > 0).sum()\n",
    "    perc_valid = count_valid / output_passed_all.shape[0]\n",
    "\n",
    "    # Create data frame\n",
    "    df = pd.DataFrame({\"Pass\": perc_valid,\n",
    "                       \"Pass count\": count_valid,\n",
    "                       'n-shot': nshot,\n",
    "                       'Top-P': topp,\n",
    "                       'Top-K': topk},\n",
    "                      index=[k])\n",
    "\n",
    "    # # Save output\n",
    "    save_pickle(model_outputs_directory + model_output_results_fname + \"_passk_logic_summary.pickle\", df)\n",
    "\n",
    "    return df"
   ]
  },
  {
   "cell_type": "code",
   "execution_count": null,
   "id": "f11747b9",
   "metadata": {
    "id": "f11747b9"
   },
   "outputs": [],
   "source": [
    "def plot_final_errors(validation_pass1, logic_pass1):\n",
    "    \"\"\"Compare pass rate before and after logical unit tests\"\"\"\n",
    "\n",
    "    validation_labels = [c for c in validation_pass1.columns if c not in [\n",
    "        'index', 'Softmax T', 'Top-K', 'Top-P', 'n-shot', 'Pass']]\n",
    "\n",
    "    data = pd.concat([validation_pass1.loc[[0], validation_labels],\n",
    "                      logic_pass1.loc[[0], ['Pass', \"Logic error\"]]],\n",
    "                     axis=1)\n",
    "\n",
    "    data = data.sort_values(by=0, axis=1, ascending=False)\n",
    "    print(data)\n",
    "\n",
    "    X = [x.lstrip(\"% \") for x in data.columns.tolist()]\n",
    "    Y = list(data.values.flatten())\n",
    "    Y = [y*100 for y in Y]\n",
    "\n",
    "    # Set style temporarily using style context manager\n",
    "    # Source: https://matplotlib.org/stable/tutorials/introductory/customizing.html#customizing-with-style-sheets\n",
    "    with plt.style.context(['seaborn-bright', 'C:\\\\Users\\\\sbnr014\\\\OneDrive - City, University of London\\\\Documents\\\\GitHub\\\\MSc-thesis\\\\4. Test set\\\\dev.mplstyle']):\n",
    "        fig, axes = plt.subplots(nrows=1,\n",
    "                                 ncols=1)\n",
    "\n",
    "        axes.bar(X, Y)\n",
    "        axes.set_ylabel('% of total')\n",
    "        axes.set_ylim([0, 100])\n",
    "        plt.xticks(rotation=45)\n",
    "#             axes.grid(True)\n",
    "    plt.show()\n",
    "    plt.close()"
   ]
  },
  {
   "cell_type": "markdown",
   "id": "fc09b57c",
   "metadata": {
    "id": "fc09b57c"
   },
   "source": [
    "## Verify data source\n",
    "[\"*Vega-Lite’s data property describes the visualization’s data source as part of the specification, which can be either inline data (values) or a URL from which to load the data (url).*\"](https://vega.github.io/vega-lite/docs/data.html)"
   ]
  },
  {
   "cell_type": "markdown",
   "id": "6ccaf1a4",
   "metadata": {
    "id": "6ccaf1a4"
   },
   "source": [
    "### Pass@1"
   ]
  },
  {
   "cell_type": "code",
   "execution_count": null,
   "id": "TN8dNtWn4mQa",
   "metadata": {
    "colab": {
     "base_uri": "https://localhost:8080/",
     "height": 81
    },
    "executionInfo": {
     "elapsed": 28,
     "status": "ok",
     "timestamp": 1669588183555,
     "user": {
      "displayName": "Billy Pitchford",
      "userId": "01251209915329143145"
     },
     "user_tz": 0
    },
    "id": "TN8dNtWn4mQa",
    "outputId": "59e6a54b-6ac7-4fb2-d38a-9f0521ea77bd"
   },
   "outputs": [
    {
     "data": {
      "text/html": [
       "<div>\n",
       "<style scoped>\n",
       "    .dataframe tbody tr th:only-of-type {\n",
       "        vertical-align: middle;\n",
       "    }\n",
       "\n",
       "    .dataframe tbody tr th {\n",
       "        vertical-align: top;\n",
       "    }\n",
       "\n",
       "    .dataframe thead th {\n",
       "        text-align: right;\n",
       "    }\n",
       "</style>\n",
       "<table border=\"1\" class=\"dataframe\">\n",
       "  <thead>\n",
       "    <tr style=\"text-align: right;\">\n",
       "      <th></th>\n",
       "      <th>Pass</th>\n",
       "      <th>Pass count</th>\n",
       "      <th>n-shot</th>\n",
       "      <th>Top-P</th>\n",
       "      <th>Top-K</th>\n",
       "    </tr>\n",
       "  </thead>\n",
       "  <tbody>\n",
       "    <tr>\n",
       "      <th>0</th>\n",
       "      <td>0.91875</td>\n",
       "      <td>147</td>\n",
       "      <td>3</td>\n",
       "      <td>0.3</td>\n",
       "      <td>0</td>\n",
       "    </tr>\n",
       "  </tbody>\n",
       "</table>\n",
       "</div>"
      ],
      "text/plain": [
       "      Pass  Pass count n-shot  Top-P  Top-K\n",
       "0  0.91875         147      3    0.3      0"
      ]
     },
     "execution_count": 42,
     "metadata": {},
     "output_type": "execute_result"
    }
   ],
   "source": [
    "# Pass1 Table\n",
    "validated_dsource_outputs = assess_rule(validated_model_outputs, data_source_rule)\n",
    "dsource_pass1_summary = pass1_unit_test_summary(validated_dsource_outputs)\n",
    "dsource_pass1_summary.head()"
   ]
  },
  {
   "cell_type": "code",
   "execution_count": null,
   "id": "1sdUmnucAqQm",
   "metadata": {
    "colab": {
     "base_uri": "https://localhost:8080/",
     "height": 313
    },
    "executionInfo": {
     "elapsed": 28,
     "status": "ok",
     "timestamp": 1669588183556,
     "user": {
      "displayName": "Billy Pitchford",
      "userId": "01251209915329143145"
     },
     "user_tz": 0
    },
    "id": "1sdUmnucAqQm",
    "outputId": "822abd51-b867-4f81-a01a-99c4fb6a1fe1"
   },
   "outputs": [
    {
     "data": {
      "image/png": "[encoded data removed]",
      "text/plain": [
       "<Figure size 640x480 with 1 Axes>"
      ]
     },
     "metadata": {},
     "output_type": "display_data"
    }
   ],
   "source": [
    "# Pass1 Plot\n",
    "plot_errors(dsource_pass1_summary)"
   ]
  },
  {
   "cell_type": "markdown",
   "id": "68bd5968",
   "metadata": {
    "id": "68bd5968"
   },
   "source": [
    "### Pass@K"
   ]
  },
  {
   "cell_type": "code",
   "execution_count": null,
   "id": "5l79Q-VdA4Jf",
   "metadata": {
    "colab": {
     "base_uri": "https://localhost:8080/",
     "height": 81
    },
    "executionInfo": {
     "elapsed": 26,
     "status": "ok",
     "timestamp": 1669588183556,
     "user": {
      "displayName": "Billy Pitchford",
      "userId": "01251209915329143145"
     },
     "user_tz": 0
    },
    "id": "5l79Q-VdA4Jf",
    "outputId": "0a8710c3-a21c-42f5-d7ae-10e1bde12422"
   },
   "outputs": [
    {
     "data": {
      "text/html": [
       "<div>\n",
       "<style scoped>\n",
       "    .dataframe tbody tr th:only-of-type {\n",
       "        vertical-align: middle;\n",
       "    }\n",
       "\n",
       "    .dataframe tbody tr th {\n",
       "        vertical-align: top;\n",
       "    }\n",
       "\n",
       "    .dataframe thead th {\n",
       "        text-align: right;\n",
       "    }\n",
       "</style>\n",
       "<table border=\"1\" class=\"dataframe\">\n",
       "  <thead>\n",
       "    <tr style=\"text-align: right;\">\n",
       "      <th></th>\n",
       "      <th>Pass</th>\n",
       "      <th>Pass count</th>\n",
       "      <th>n-shot</th>\n",
       "      <th>Top-P</th>\n",
       "      <th>Top-K</th>\n",
       "    </tr>\n",
       "  </thead>\n",
       "  <tbody>\n",
       "    <tr>\n",
       "      <th>10</th>\n",
       "      <td>0.91875</td>\n",
       "      <td>147</td>\n",
       "      <td>3</td>\n",
       "      <td>0.3</td>\n",
       "      <td>0</td>\n",
       "    </tr>\n",
       "  </tbody>\n",
       "</table>\n",
       "</div>"
      ],
      "text/plain": [
       "       Pass  Pass count n-shot  Top-P  Top-K\n",
       "10  0.91875         147      3    0.3      0"
      ]
     },
     "execution_count": 44,
     "metadata": {},
     "output_type": "execute_result"
    }
   ],
   "source": [
    "# PassK Table\n",
    "dsource_passk_summary = passk_unit_test_summary(validated_dsource_outputs, num_outputs)\n",
    "dsource_passk_summary.head()"
   ]
  },
  {
   "cell_type": "markdown",
   "id": "270b424b",
   "metadata": {
    "id": "270b424b"
   },
   "source": [
    "## Verify mark type\n",
    "[\"*Marks are the basic visual building block of a visualization. They provide basic shapes whose properties (such as position, size, and color) can be used to visually encode data, either from a data field, or a constant value. The mark property of a single view specification can either be (1) a string describing a mark type or (2) a mark definition object.*\"](https://vega.github.io/vega-lite/docs/mark.html)"
   ]
  },
  {
   "cell_type": "markdown",
   "id": "a4767d29",
   "metadata": {
    "id": "a4767d29"
   },
   "source": [
    "### Pass@1"
   ]
  },
  {
   "cell_type": "code",
   "execution_count": null,
   "id": "wYpOqeNXCN-p",
   "metadata": {
    "colab": {
     "base_uri": "https://localhost:8080/",
     "height": 81
    },
    "executionInfo": {
     "elapsed": 25,
     "status": "ok",
     "timestamp": 1669588183556,
     "user": {
      "displayName": "Billy Pitchford",
      "userId": "01251209915329143145"
     },
     "user_tz": 0
    },
    "id": "wYpOqeNXCN-p",
    "outputId": "fb49f56d-990a-45c0-cc91-6d7647d8b719"
   },
   "outputs": [
    {
     "data": {
      "text/html": [
       "<div>\n",
       "<style scoped>\n",
       "    .dataframe tbody tr th:only-of-type {\n",
       "        vertical-align: middle;\n",
       "    }\n",
       "\n",
       "    .dataframe tbody tr th {\n",
       "        vertical-align: top;\n",
       "    }\n",
       "\n",
       "    .dataframe thead th {\n",
       "        text-align: right;\n",
       "    }\n",
       "</style>\n",
       "<table border=\"1\" class=\"dataframe\">\n",
       "  <thead>\n",
       "    <tr style=\"text-align: right;\">\n",
       "      <th></th>\n",
       "      <th>Pass</th>\n",
       "      <th>Pass count</th>\n",
       "      <th>n-shot</th>\n",
       "      <th>Top-P</th>\n",
       "      <th>Top-K</th>\n",
       "    </tr>\n",
       "  </thead>\n",
       "  <tbody>\n",
       "    <tr>\n",
       "      <th>0</th>\n",
       "      <td>0.91875</td>\n",
       "      <td>147</td>\n",
       "      <td>3</td>\n",
       "      <td>0.3</td>\n",
       "      <td>0</td>\n",
       "    </tr>\n",
       "  </tbody>\n",
       "</table>\n",
       "</div>"
      ],
      "text/plain": [
       "      Pass  Pass count n-shot  Top-P  Top-K\n",
       "0  0.91875         147      3    0.3      0"
      ]
     },
     "execution_count": 45,
     "metadata": {},
     "output_type": "execute_result"
    }
   ],
   "source": [
    "# Pass1 Table\n",
    "validated_mtype_outputs = assess_rule(validated_model_outputs, mark_type_rule)\n",
    "mtype_pass1_summary = pass1_unit_test_summary(validated_dsource_outputs)\n",
    "mtype_pass1_summary.head()"
   ]
  },
  {
   "cell_type": "code",
   "execution_count": null,
   "id": "p1gOWwSqCUnU",
   "metadata": {
    "colab": {
     "base_uri": "https://localhost:8080/",
     "height": 313
    },
    "executionInfo": {
     "elapsed": 25,
     "status": "ok",
     "timestamp": 1669588183557,
     "user": {
      "displayName": "Billy Pitchford",
      "userId": "01251209915329143145"
     },
     "user_tz": 0
    },
    "id": "p1gOWwSqCUnU",
    "outputId": "bd98542c-3f90-49df-8dca-72d60f860b1b"
   },
   "outputs": [
    {
     "data": {
      "image/png": "[encoded data removed]",
      "text/plain": [
       "<Figure size 640x480 with 1 Axes>"
      ]
     },
     "metadata": {},
     "output_type": "display_data"
    }
   ],
   "source": [
    "# Pass1 Plot\n",
    "plot_errors(mtype_pass1_summary)"
   ]
  },
  {
   "cell_type": "markdown",
   "id": "1390a8e8",
   "metadata": {
    "id": "1390a8e8"
   },
   "source": [
    "### Pass@k"
   ]
  },
  {
   "cell_type": "code",
   "execution_count": null,
   "id": "ROJtYJKaCb8E",
   "metadata": {
    "colab": {
     "base_uri": "https://localhost:8080/",
     "height": 81
    },
    "executionInfo": {
     "elapsed": 24,
     "status": "ok",
     "timestamp": 1669588183557,
     "user": {
      "displayName": "Billy Pitchford",
      "userId": "01251209915329143145"
     },
     "user_tz": 0
    },
    "id": "ROJtYJKaCb8E",
    "outputId": "85e1e0ec-b407-4596-c4b7-72a0fd5a1939"
   },
   "outputs": [
    {
     "data": {
      "text/html": [
       "<div>\n",
       "<style scoped>\n",
       "    .dataframe tbody tr th:only-of-type {\n",
       "        vertical-align: middle;\n",
       "    }\n",
       "\n",
       "    .dataframe tbody tr th {\n",
       "        vertical-align: top;\n",
       "    }\n",
       "\n",
       "    .dataframe thead th {\n",
       "        text-align: right;\n",
       "    }\n",
       "</style>\n",
       "<table border=\"1\" class=\"dataframe\">\n",
       "  <thead>\n",
       "    <tr style=\"text-align: right;\">\n",
       "      <th></th>\n",
       "      <th>Pass</th>\n",
       "      <th>Pass count</th>\n",
       "      <th>n-shot</th>\n",
       "      <th>Top-P</th>\n",
       "      <th>Top-K</th>\n",
       "    </tr>\n",
       "  </thead>\n",
       "  <tbody>\n",
       "    <tr>\n",
       "      <th>10</th>\n",
       "      <td>0.91875</td>\n",
       "      <td>147</td>\n",
       "      <td>3</td>\n",
       "      <td>0.3</td>\n",
       "      <td>0</td>\n",
       "    </tr>\n",
       "  </tbody>\n",
       "</table>\n",
       "</div>"
      ],
      "text/plain": [
       "       Pass  Pass count n-shot  Top-P  Top-K\n",
       "10  0.91875         147      3    0.3      0"
      ]
     },
     "execution_count": 47,
     "metadata": {},
     "output_type": "execute_result"
    }
   ],
   "source": [
    "# Pass1 Table\n",
    "mtype_passk_summary = passk_unit_test_summary(validated_dsource_outputs, num_outputs)\n",
    "mtype_passk_summary.head()"
   ]
  },
  {
   "cell_type": "markdown",
   "id": "0f048b93",
   "metadata": {
    "id": "0f048b93"
   },
   "source": [
    "## Verify data transformations\n",
    "[\"*Data transformations in Vega-Lite are described via either view-level transforms (the transform property) or field transforms inside encoding (bin, timeUnit, aggregate, sort, and stack)*\"](https://vega.github.io/vega-lite/docs/transform.html)\n"
   ]
  },
  {
   "cell_type": "markdown",
   "id": "3a541bff",
   "metadata": {
    "id": "3a541bff"
   },
   "source": [
    "### Position channels"
   ]
  },
  {
   "cell_type": "markdown",
   "id": "f3f1c98d",
   "metadata": {
    "id": "f3f1c98d"
   },
   "source": [
    "#### Pass@1"
   ]
  },
  {
   "cell_type": "code",
   "execution_count": null,
   "id": "fdSH584kDgEv",
   "metadata": {
    "colab": {
     "base_uri": "https://localhost:8080/",
     "height": 81
    },
    "executionInfo": {
     "elapsed": 12,
     "status": "ok",
     "timestamp": 1669588183820,
     "user": {
      "displayName": "Billy Pitchford",
      "userId": "01251209915329143145"
     },
     "user_tz": 0
    },
    "id": "fdSH584kDgEv",
    "outputId": "e1043a1b-8788-4235-ece9-54eb636ecd4b"
   },
   "outputs": [
    {
     "data": {
      "text/html": [
       "<div>\n",
       "<style scoped>\n",
       "    .dataframe tbody tr th:only-of-type {\n",
       "        vertical-align: middle;\n",
       "    }\n",
       "\n",
       "    .dataframe tbody tr th {\n",
       "        vertical-align: top;\n",
       "    }\n",
       "\n",
       "    .dataframe thead th {\n",
       "        text-align: right;\n",
       "    }\n",
       "</style>\n",
       "<table border=\"1\" class=\"dataframe\">\n",
       "  <thead>\n",
       "    <tr style=\"text-align: right;\">\n",
       "      <th></th>\n",
       "      <th>Pass</th>\n",
       "      <th>Pass count</th>\n",
       "      <th>n-shot</th>\n",
       "      <th>Top-P</th>\n",
       "      <th>Top-K</th>\n",
       "    </tr>\n",
       "  </thead>\n",
       "  <tbody>\n",
       "    <tr>\n",
       "      <th>0</th>\n",
       "      <td>0.8375</td>\n",
       "      <td>134</td>\n",
       "      <td>3</td>\n",
       "      <td>0.3</td>\n",
       "      <td>0</td>\n",
       "    </tr>\n",
       "  </tbody>\n",
       "</table>\n",
       "</div>"
      ],
      "text/plain": [
       "     Pass  Pass count n-shot  Top-P  Top-K\n",
       "0  0.8375         134      3    0.3      0"
      ]
     },
     "execution_count": 48,
     "metadata": {},
     "output_type": "execute_result"
    }
   ],
   "source": [
    "# Pass1 Table\n",
    "validated_pchannel_outputs = assess_rule(validated_model_outputs, granular_encoding_rule, ['x', 'y'], ['field', 'aggregate'])\n",
    "pchannel_pass1_summary = pass1_unit_test_summary(validated_pchannel_outputs)\n",
    "pchannel_pass1_summary.head()"
   ]
  },
  {
   "cell_type": "code",
   "execution_count": null,
   "id": "FYnrohAxDsi1",
   "metadata": {
    "colab": {
     "base_uri": "https://localhost:8080/",
     "height": 313
    },
    "executionInfo": {
     "elapsed": 548,
     "status": "ok",
     "timestamp": 1669588184358,
     "user": {
      "displayName": "Billy Pitchford",
      "userId": "01251209915329143145"
     },
     "user_tz": 0
    },
    "id": "FYnrohAxDsi1",
    "outputId": "a6640107-4faa-46e3-e2fc-3d50d9fbbc88"
   },
   "outputs": [
    {
     "data": {
      "image/png": "[encoded data removed]",
      "text/plain": [
       "<Figure size 640x480 with 1 Axes>"
      ]
     },
     "metadata": {},
     "output_type": "display_data"
    }
   ],
   "source": [
    "# Pass1 Plot\n",
    "plot_errors(pchannel_pass1_summary)"
   ]
  },
  {
   "cell_type": "markdown",
   "id": "12a52e8f",
   "metadata": {
    "id": "12a52e8f"
   },
   "source": [
    "#### Pass@k"
   ]
  },
  {
   "cell_type": "code",
   "execution_count": null,
   "id": "PeaRcEqqD52e",
   "metadata": {
    "colab": {
     "base_uri": "https://localhost:8080/",
     "height": 81
    },
    "executionInfo": {
     "elapsed": 10,
     "status": "ok",
     "timestamp": 1669588184359,
     "user": {
      "displayName": "Billy Pitchford",
      "userId": "01251209915329143145"
     },
     "user_tz": 0
    },
    "id": "PeaRcEqqD52e",
    "outputId": "0b51bdaf-4df3-4761-ebf3-f34158dfb8d2"
   },
   "outputs": [
    {
     "data": {
      "text/html": [
       "<div>\n",
       "<style scoped>\n",
       "    .dataframe tbody tr th:only-of-type {\n",
       "        vertical-align: middle;\n",
       "    }\n",
       "\n",
       "    .dataframe tbody tr th {\n",
       "        vertical-align: top;\n",
       "    }\n",
       "\n",
       "    .dataframe thead th {\n",
       "        text-align: right;\n",
       "    }\n",
       "</style>\n",
       "<table border=\"1\" class=\"dataframe\">\n",
       "  <thead>\n",
       "    <tr style=\"text-align: right;\">\n",
       "      <th></th>\n",
       "      <th>Pass</th>\n",
       "      <th>Pass count</th>\n",
       "      <th>n-shot</th>\n",
       "      <th>Top-P</th>\n",
       "      <th>Top-K</th>\n",
       "    </tr>\n",
       "  </thead>\n",
       "  <tbody>\n",
       "    <tr>\n",
       "      <th>10</th>\n",
       "      <td>0.8375</td>\n",
       "      <td>134</td>\n",
       "      <td>3</td>\n",
       "      <td>0.3</td>\n",
       "      <td>0</td>\n",
       "    </tr>\n",
       "  </tbody>\n",
       "</table>\n",
       "</div>"
      ],
      "text/plain": [
       "      Pass  Pass count n-shot  Top-P  Top-K\n",
       "10  0.8375         134      3    0.3      0"
      ]
     },
     "execution_count": 50,
     "metadata": {},
     "output_type": "execute_result"
    }
   ],
   "source": [
    "# Passk Table\n",
    "pchannel_passk_summary = passk_unit_test_summary(validated_pchannel_outputs, num_outputs)\n",
    "pchannel_passk_summary.head()"
   ]
  },
  {
   "cell_type": "markdown",
   "id": "177cccbd",
   "metadata": {
    "id": "177cccbd"
   },
   "source": [
    "### Facet channels"
   ]
  },
  {
   "cell_type": "markdown",
   "id": "59fb3ec9",
   "metadata": {
    "id": "59fb3ec9"
   },
   "source": [
    "#### Pass@1"
   ]
  },
  {
   "cell_type": "code",
   "execution_count": null,
   "id": "J6j86sT3EFHP",
   "metadata": {
    "colab": {
     "base_uri": "https://localhost:8080/",
     "height": 81
    },
    "executionInfo": {
     "elapsed": 9,
     "status": "ok",
     "timestamp": 1669588184359,
     "user": {
      "displayName": "Billy Pitchford",
      "userId": "01251209915329143145"
     },
     "user_tz": 0
    },
    "id": "J6j86sT3EFHP",
    "outputId": "9a55f1da-8ce9-429a-8883-11a5a28b0518"
   },
   "outputs": [
    {
     "data": {
      "text/html": [
       "<div>\n",
       "<style scoped>\n",
       "    .dataframe tbody tr th:only-of-type {\n",
       "        vertical-align: middle;\n",
       "    }\n",
       "\n",
       "    .dataframe tbody tr th {\n",
       "        vertical-align: top;\n",
       "    }\n",
       "\n",
       "    .dataframe thead th {\n",
       "        text-align: right;\n",
       "    }\n",
       "</style>\n",
       "<table border=\"1\" class=\"dataframe\">\n",
       "  <thead>\n",
       "    <tr style=\"text-align: right;\">\n",
       "      <th></th>\n",
       "      <th>Pass</th>\n",
       "      <th>Pass count</th>\n",
       "      <th>n-shot</th>\n",
       "      <th>Top-P</th>\n",
       "      <th>Top-K</th>\n",
       "    </tr>\n",
       "  </thead>\n",
       "  <tbody>\n",
       "    <tr>\n",
       "      <th>0</th>\n",
       "      <td>0.8625</td>\n",
       "      <td>138</td>\n",
       "      <td>3</td>\n",
       "      <td>0.3</td>\n",
       "      <td>0</td>\n",
       "    </tr>\n",
       "  </tbody>\n",
       "</table>\n",
       "</div>"
      ],
      "text/plain": [
       "     Pass  Pass count n-shot  Top-P  Top-K\n",
       "0  0.8625         138      3    0.3      0"
      ]
     },
     "execution_count": 51,
     "metadata": {},
     "output_type": "execute_result"
    }
   ],
   "source": [
    "# Pass1 Table\n",
    "validated_fchannel_outputs = assess_rule(validated_model_outputs, granular_encoding_rule, ['facet', 'row', 'column'], ['field', 'aggregate'])\n",
    "fchannel_pass1_summary = pass1_unit_test_summary(validated_fchannel_outputs)\n",
    "fchannel_pass1_summary.head()"
   ]
  },
  {
   "cell_type": "code",
   "execution_count": null,
   "id": "iqYCn-W8EMMH",
   "metadata": {
    "colab": {
     "base_uri": "https://localhost:8080/",
     "height": 313
    },
    "executionInfo": {
     "elapsed": 10,
     "status": "ok",
     "timestamp": 1669588184360,
     "user": {
      "displayName": "Billy Pitchford",
      "userId": "01251209915329143145"
     },
     "user_tz": 0
    },
    "id": "iqYCn-W8EMMH",
    "outputId": "9863637f-1d07-427f-9783-b9e2e302de3a"
   },
   "outputs": [
    {
     "data": {
      "image/png": "[encoded data removed]",
      "text/plain": [
       "<Figure size 640x480 with 1 Axes>"
      ]
     },
     "metadata": {},
     "output_type": "display_data"
    }
   ],
   "source": [
    "# Pass1 Plot\n",
    "plot_errors(fchannel_pass1_summary)"
   ]
  },
  {
   "cell_type": "markdown",
   "id": "7932be2c",
   "metadata": {
    "id": "7932be2c"
   },
   "source": [
    "#### Pass@k"
   ]
  },
  {
   "cell_type": "code",
   "execution_count": null,
   "id": "f7uEW9TeETGA",
   "metadata": {
    "colab": {
     "base_uri": "https://localhost:8080/",
     "height": 81
    },
    "executionInfo": {
     "elapsed": 20,
     "status": "ok",
     "timestamp": 1669588185039,
     "user": {
      "displayName": "Billy Pitchford",
      "userId": "01251209915329143145"
     },
     "user_tz": 0
    },
    "id": "f7uEW9TeETGA",
    "outputId": "69fc8261-8003-4554-b162-d62300065e3d"
   },
   "outputs": [
    {
     "data": {
      "text/html": [
       "<div>\n",
       "<style scoped>\n",
       "    .dataframe tbody tr th:only-of-type {\n",
       "        vertical-align: middle;\n",
       "    }\n",
       "\n",
       "    .dataframe tbody tr th {\n",
       "        vertical-align: top;\n",
       "    }\n",
       "\n",
       "    .dataframe thead th {\n",
       "        text-align: right;\n",
       "    }\n",
       "</style>\n",
       "<table border=\"1\" class=\"dataframe\">\n",
       "  <thead>\n",
       "    <tr style=\"text-align: right;\">\n",
       "      <th></th>\n",
       "      <th>Pass</th>\n",
       "      <th>Pass count</th>\n",
       "      <th>n-shot</th>\n",
       "      <th>Top-P</th>\n",
       "      <th>Top-K</th>\n",
       "    </tr>\n",
       "  </thead>\n",
       "  <tbody>\n",
       "    <tr>\n",
       "      <th>10</th>\n",
       "      <td>0.8625</td>\n",
       "      <td>138</td>\n",
       "      <td>3</td>\n",
       "      <td>0.3</td>\n",
       "      <td>0</td>\n",
       "    </tr>\n",
       "  </tbody>\n",
       "</table>\n",
       "</div>"
      ],
      "text/plain": [
       "      Pass  Pass count n-shot  Top-P  Top-K\n",
       "10  0.8625         138      3    0.3      0"
      ]
     },
     "execution_count": 53,
     "metadata": {},
     "output_type": "execute_result"
    }
   ],
   "source": [
    "# Passk Table\n",
    "fchannel_passk_summary = passk_unit_test_summary(validated_fchannel_outputs, num_outputs)\n",
    "fchannel_passk_summary.head()"
   ]
  },
  {
   "cell_type": "markdown",
   "id": "d8180084",
   "metadata": {
    "id": "d8180084"
   },
   "source": [
    "### Mark properties"
   ]
  },
  {
   "cell_type": "markdown",
   "id": "f5c54a71",
   "metadata": {
    "id": "f5c54a71"
   },
   "source": [
    "#### Pass@1"
   ]
  },
  {
   "cell_type": "code",
   "execution_count": null,
   "id": "kJxp9v2DEcwz",
   "metadata": {
    "colab": {
     "base_uri": "https://localhost:8080/",
     "height": 81
    },
    "executionInfo": {
     "elapsed": 20,
     "status": "ok",
     "timestamp": 1669588185040,
     "user": {
      "displayName": "Billy Pitchford",
      "userId": "01251209915329143145"
     },
     "user_tz": 0
    },
    "id": "kJxp9v2DEcwz",
    "outputId": "c37cbb4a-c730-4f3e-9ab8-100614e33a90"
   },
   "outputs": [
    {
     "data": {
      "text/html": [
       "<div>\n",
       "<style scoped>\n",
       "    .dataframe tbody tr th:only-of-type {\n",
       "        vertical-align: middle;\n",
       "    }\n",
       "\n",
       "    .dataframe tbody tr th {\n",
       "        vertical-align: top;\n",
       "    }\n",
       "\n",
       "    .dataframe thead th {\n",
       "        text-align: right;\n",
       "    }\n",
       "</style>\n",
       "<table border=\"1\" class=\"dataframe\">\n",
       "  <thead>\n",
       "    <tr style=\"text-align: right;\">\n",
       "      <th></th>\n",
       "      <th>Pass</th>\n",
       "      <th>Pass count</th>\n",
       "      <th>n-shot</th>\n",
       "      <th>Top-P</th>\n",
       "      <th>Top-K</th>\n",
       "    </tr>\n",
       "  </thead>\n",
       "  <tbody>\n",
       "    <tr>\n",
       "      <th>0</th>\n",
       "      <td>0.8625</td>\n",
       "      <td>138</td>\n",
       "      <td>3</td>\n",
       "      <td>0.3</td>\n",
       "      <td>0</td>\n",
       "    </tr>\n",
       "  </tbody>\n",
       "</table>\n",
       "</div>"
      ],
      "text/plain": [
       "     Pass  Pass count n-shot  Top-P  Top-K\n",
       "0  0.8625         138      3    0.3      0"
      ]
     },
     "execution_count": 54,
     "metadata": {},
     "output_type": "execute_result"
    }
   ],
   "source": [
    "# Pass1 Table\n",
    "validated_mchannel_outputs = assess_rule(validated_model_outputs, granular_encoding_rule, ['color'], ['field', 'aggregate'])\n",
    "mchannel_pass1_summary = pass1_unit_test_summary(validated_mchannel_outputs)\n",
    "mchannel_pass1_summary.head()"
   ]
  },
  {
   "cell_type": "code",
   "execution_count": null,
   "id": "ivdO0cv7EkSt",
   "metadata": {
    "colab": {
     "base_uri": "https://localhost:8080/",
     "height": 313
    },
    "executionInfo": {
     "elapsed": 19,
     "status": "ok",
     "timestamp": 1669588185040,
     "user": {
      "displayName": "Billy Pitchford",
      "userId": "01251209915329143145"
     },
     "user_tz": 0
    },
    "id": "ivdO0cv7EkSt",
    "outputId": "45711300-f77e-423c-88b5-30d53b655257"
   },
   "outputs": [
    {
     "data": {
      "image/png": "[encoded data removed]",
      "text/plain": [
       "<Figure size 640x480 with 1 Axes>"
      ]
     },
     "metadata": {},
     "output_type": "display_data"
    }
   ],
   "source": [
    "# Pass1 Plot\n",
    "plot_errors(mchannel_pass1_summary)"
   ]
  },
  {
   "cell_type": "markdown",
   "id": "c947ba7f",
   "metadata": {
    "id": "c947ba7f"
   },
   "source": [
    "#### Pass@k"
   ]
  },
  {
   "cell_type": "code",
   "execution_count": null,
   "id": "a9xIaOV4EpUk",
   "metadata": {
    "colab": {
     "base_uri": "https://localhost:8080/",
     "height": 81
    },
    "executionInfo": {
     "elapsed": 19,
     "status": "ok",
     "timestamp": 1669588185041,
     "user": {
      "displayName": "Billy Pitchford",
      "userId": "01251209915329143145"
     },
     "user_tz": 0
    },
    "id": "a9xIaOV4EpUk",
    "outputId": "9ceb380e-d2e2-4991-b2e2-32525a50cd1f"
   },
   "outputs": [
    {
     "data": {
      "text/html": [
       "<div>\n",
       "<style scoped>\n",
       "    .dataframe tbody tr th:only-of-type {\n",
       "        vertical-align: middle;\n",
       "    }\n",
       "\n",
       "    .dataframe tbody tr th {\n",
       "        vertical-align: top;\n",
       "    }\n",
       "\n",
       "    .dataframe thead th {\n",
       "        text-align: right;\n",
       "    }\n",
       "</style>\n",
       "<table border=\"1\" class=\"dataframe\">\n",
       "  <thead>\n",
       "    <tr style=\"text-align: right;\">\n",
       "      <th></th>\n",
       "      <th>Pass</th>\n",
       "      <th>Pass count</th>\n",
       "      <th>n-shot</th>\n",
       "      <th>Top-P</th>\n",
       "      <th>Top-K</th>\n",
       "    </tr>\n",
       "  </thead>\n",
       "  <tbody>\n",
       "    <tr>\n",
       "      <th>10</th>\n",
       "      <td>0.8625</td>\n",
       "      <td>138</td>\n",
       "      <td>3</td>\n",
       "      <td>0.3</td>\n",
       "      <td>0</td>\n",
       "    </tr>\n",
       "  </tbody>\n",
       "</table>\n",
       "</div>"
      ],
      "text/plain": [
       "      Pass  Pass count n-shot  Top-P  Top-K\n",
       "10  0.8625         138      3    0.3      0"
      ]
     },
     "execution_count": 56,
     "metadata": {},
     "output_type": "execute_result"
    }
   ],
   "source": [
    "# Passk Table\n",
    "mchannel_passk_summary = passk_unit_test_summary(validated_mchannel_outputs, num_outputs)\n",
    "mchannel_passk_summary.head()"
   ]
  },
  {
   "cell_type": "markdown",
   "id": "c715e50e",
   "metadata": {
    "id": "c715e50e"
   },
   "source": [
    "### Detail properties"
   ]
  },
  {
   "cell_type": "markdown",
   "id": "2b98091a",
   "metadata": {
    "id": "2b98091a"
   },
   "source": [
    "#### Pass@1"
   ]
  },
  {
   "cell_type": "code",
   "execution_count": null,
   "id": "OessaAeqEvk6",
   "metadata": {
    "colab": {
     "base_uri": "https://localhost:8080/",
     "height": 81
    },
    "executionInfo": {
     "elapsed": 18,
     "status": "ok",
     "timestamp": 1669588185041,
     "user": {
      "displayName": "Billy Pitchford",
      "userId": "01251209915329143145"
     },
     "user_tz": 0
    },
    "id": "OessaAeqEvk6",
    "outputId": "0122b146-5487-47bf-f8d7-dc897bdab8c9"
   },
   "outputs": [
    {
     "data": {
      "text/html": [
       "<div>\n",
       "<style scoped>\n",
       "    .dataframe tbody tr th:only-of-type {\n",
       "        vertical-align: middle;\n",
       "    }\n",
       "\n",
       "    .dataframe tbody tr th {\n",
       "        vertical-align: top;\n",
       "    }\n",
       "\n",
       "    .dataframe thead th {\n",
       "        text-align: right;\n",
       "    }\n",
       "</style>\n",
       "<table border=\"1\" class=\"dataframe\">\n",
       "  <thead>\n",
       "    <tr style=\"text-align: right;\">\n",
       "      <th></th>\n",
       "      <th>Pass</th>\n",
       "      <th>Pass count</th>\n",
       "      <th>n-shot</th>\n",
       "      <th>Top-P</th>\n",
       "      <th>Top-K</th>\n",
       "    </tr>\n",
       "  </thead>\n",
       "  <tbody>\n",
       "    <tr>\n",
       "      <th>0</th>\n",
       "      <td>0.91875</td>\n",
       "      <td>147</td>\n",
       "      <td>3</td>\n",
       "      <td>0.3</td>\n",
       "      <td>0</td>\n",
       "    </tr>\n",
       "  </tbody>\n",
       "</table>\n",
       "</div>"
      ],
      "text/plain": [
       "      Pass  Pass count n-shot  Top-P  Top-K\n",
       "0  0.91875         147      3    0.3      0"
      ]
     },
     "execution_count": 57,
     "metadata": {},
     "output_type": "execute_result"
    }
   ],
   "source": [
    "# Pass1 Table\n",
    "validated_dchannel_outputs = assess_rule(validated_model_outputs, granular_encoding_rule, ['detail'], ['field', 'aggregate'])\n",
    "dchannel_pass1_summary = pass1_unit_test_summary(validated_dchannel_outputs)\n",
    "dchannel_pass1_summary.head()"
   ]
  },
  {
   "cell_type": "code",
   "execution_count": null,
   "id": "DBkLpQK-E1NI",
   "metadata": {
    "colab": {
     "base_uri": "https://localhost:8080/",
     "height": 313
    },
    "executionInfo": {
     "elapsed": 17,
     "status": "ok",
     "timestamp": 1669588185041,
     "user": {
      "displayName": "Billy Pitchford",
      "userId": "01251209915329143145"
     },
     "user_tz": 0
    },
    "id": "DBkLpQK-E1NI",
    "outputId": "143b6705-6e6b-4693-cde9-698fb51ec00e"
   },
   "outputs": [
    {
     "data": {
      "image/png": "[encoded data removed]",
      "text/plain": [
       "<Figure size 640x480 with 1 Axes>"
      ]
     },
     "metadata": {},
     "output_type": "display_data"
    }
   ],
   "source": [
    "# Pass1 Plot\n",
    "plot_errors(dchannel_pass1_summary)"
   ]
  },
  {
   "cell_type": "markdown",
   "id": "a99df113",
   "metadata": {
    "id": "a99df113"
   },
   "source": [
    "#### Pass@k"
   ]
  },
  {
   "cell_type": "code",
   "execution_count": null,
   "id": "sGC_tJXtE--C",
   "metadata": {
    "colab": {
     "base_uri": "https://localhost:8080/",
     "height": 81
    },
    "executionInfo": {
     "elapsed": 16,
     "status": "ok",
     "timestamp": 1669588185042,
     "user": {
      "displayName": "Billy Pitchford",
      "userId": "01251209915329143145"
     },
     "user_tz": 0
    },
    "id": "sGC_tJXtE--C",
    "outputId": "c61a09ba-41a9-408c-8430-9c9946361325"
   },
   "outputs": [
    {
     "data": {
      "text/html": [
       "<div>\n",
       "<style scoped>\n",
       "    .dataframe tbody tr th:only-of-type {\n",
       "        vertical-align: middle;\n",
       "    }\n",
       "\n",
       "    .dataframe tbody tr th {\n",
       "        vertical-align: top;\n",
       "    }\n",
       "\n",
       "    .dataframe thead th {\n",
       "        text-align: right;\n",
       "    }\n",
       "</style>\n",
       "<table border=\"1\" class=\"dataframe\">\n",
       "  <thead>\n",
       "    <tr style=\"text-align: right;\">\n",
       "      <th></th>\n",
       "      <th>Pass</th>\n",
       "      <th>Pass count</th>\n",
       "      <th>n-shot</th>\n",
       "      <th>Top-P</th>\n",
       "      <th>Top-K</th>\n",
       "    </tr>\n",
       "  </thead>\n",
       "  <tbody>\n",
       "    <tr>\n",
       "      <th>10</th>\n",
       "      <td>0.91875</td>\n",
       "      <td>147</td>\n",
       "      <td>3</td>\n",
       "      <td>0.3</td>\n",
       "      <td>0</td>\n",
       "    </tr>\n",
       "  </tbody>\n",
       "</table>\n",
       "</div>"
      ],
      "text/plain": [
       "       Pass  Pass count n-shot  Top-P  Top-K\n",
       "10  0.91875         147      3    0.3      0"
      ]
     },
     "execution_count": 59,
     "metadata": {},
     "output_type": "execute_result"
    }
   ],
   "source": [
    "# Passk Table\n",
    "dchannel_passk_summary = passk_unit_test_summary(validated_dchannel_outputs, num_outputs)\n",
    "dchannel_passk_summary.head()"
   ]
  },
  {
   "cell_type": "markdown",
   "id": "9c437b08",
   "metadata": {
    "id": "9c437b08"
   },
   "source": [
    "### Compare unit test error rates"
   ]
  },
  {
   "cell_type": "markdown",
   "id": "5191775f",
   "metadata": {
    "id": "5191775f"
   },
   "source": [
    "#### Functions"
   ]
  },
  {
   "cell_type": "code",
   "execution_count": null,
   "id": "361681f6",
   "metadata": {
    "id": "361681f6"
   },
   "outputs": [],
   "source": [
    "def plot_logical_test_results(tests, pass1summary):\n",
    "    \"\"\"Compare pass rates across selected unit tests\"\"\"\n",
    "\n",
    "    X = ['Data source', 'Mark type', 'Position channel', 'Facet channel', 'Mark channel', 'Detail channel']\n",
    "    Y = [pass1_test_summary.loc[0,'Pass'] - x.loc[0,'Pass'] for x in tests]\n",
    "    Y = [y*100 for y in Y]\n",
    "\n",
    "    print(pd.DataFrame({'Type': X, '% of total': Y}))\n",
    "\n",
    "    # Set style temporarily using style context manager\n",
    "    # Source: https://matplotlib.org/stable/tutorials/introductory/customizing.html#customizing-with-style-sheets\n",
    "    with plt.style.context(['seaborn-bright', 'C:\\\\Users\\\\sbnr014\\\\OneDrive - City, University of London\\\\Documents\\\\GitHub\\\\MSc-thesis\\\\4. Test set\\\\dev.mplstyle']):\n",
    "        fig, axes = plt.subplots(nrows=1,\n",
    "                                 ncols=1)\n",
    "        axes.bar(X, Y)\n",
    "        axes.set_ylabel('% of total')\n",
    "        axes.set_ylim([0, 100])\n",
    "        plt.xticks(rotation=45)\n",
    "    #             axes.grid(True)\n",
    "        plt.show()\n",
    "        plt.close()"
   ]
  },
  {
   "cell_type": "markdown",
   "id": "a5418cbd",
   "metadata": {
    "id": "a5418cbd"
   },
   "source": [
    "#### Analyses"
   ]
  },
  {
   "cell_type": "code",
   "execution_count": null,
   "id": "e6278e8d",
   "metadata": {
    "id": "e6278e8d",
    "outputId": "3c8e2a29-2f91-4357-8a87-19ef3410ca27"
   },
   "outputs": [
    {
     "name": "stdout",
     "output_type": "stream",
     "text": [
      "               Type  % of total\n",
      "0       Data source       0.000\n",
      "1         Mark type       0.000\n",
      "2  Position channel       8.125\n",
      "3     Facet channel       5.625\n",
      "4      Mark channel       5.625\n",
      "5    Detail channel       0.000\n"
     ]
    },
    {
     "data": {
      "image/png": "[encoded data removed]",
      "text/plain": [
       "<Figure size 640x480 with 1 Axes>"
      ]
     },
     "metadata": {},
     "output_type": "display_data"
    }
   ],
   "source": [
    "unit_tests = [dsource_pass1_summary,\n",
    "              mtype_pass1_summary,\n",
    "              pchannel_pass1_summary,\n",
    "              fchannel_pass1_summary,\n",
    "              mchannel_pass1_summary,\n",
    "              dchannel_pass1_summary]\n",
    "\n",
    "plot_logical_test_results(unit_tests, pass1_test_summary)"
   ]
  },
  {
   "cell_type": "markdown",
   "id": "d4b92918",
   "metadata": {
    "id": "d4b92918"
   },
   "source": [
    "# **Overall pass rate**"
   ]
  },
  {
   "cell_type": "markdown",
   "id": "0b0cb04d",
   "metadata": {
    "id": "0b0cb04d"
   },
   "source": [
    "## Pass@1"
   ]
  },
  {
   "cell_type": "code",
   "execution_count": null,
   "id": "3142b9f4",
   "metadata": {
    "colab": {
     "base_uri": "https://localhost:8080/",
     "height": 81
    },
    "executionInfo": {
     "elapsed": 657,
     "status": "ok",
     "timestamp": 1669588185684,
     "user": {
      "displayName": "Billy Pitchford",
      "userId": "01251209915329143145"
     },
     "user_tz": 0
    },
    "id": "3142b9f4",
    "outputId": "3c83b1de-d66a-498f-f3aa-b96f6ea7c63c",
    "scrolled": true
   },
   "outputs": [
    {
     "data": {
      "text/html": [
       "<div>\n",
       "<style scoped>\n",
       "    .dataframe tbody tr th:only-of-type {\n",
       "        vertical-align: middle;\n",
       "    }\n",
       "\n",
       "    .dataframe tbody tr th {\n",
       "        vertical-align: top;\n",
       "    }\n",
       "\n",
       "    .dataframe thead th {\n",
       "        text-align: right;\n",
       "    }\n",
       "</style>\n",
       "<table border=\"1\" class=\"dataframe\">\n",
       "  <thead>\n",
       "    <tr style=\"text-align: right;\">\n",
       "      <th></th>\n",
       "      <th>Pass</th>\n",
       "      <th>Logic error</th>\n",
       "      <th>n-shot</th>\n",
       "      <th>Top-P</th>\n",
       "      <th>Top-K</th>\n",
       "    </tr>\n",
       "  </thead>\n",
       "  <tbody>\n",
       "    <tr>\n",
       "      <th>0</th>\n",
       "      <td>0.78125</td>\n",
       "      <td>0.1375</td>\n",
       "      <td>3</td>\n",
       "      <td>0.3</td>\n",
       "      <td>0</td>\n",
       "    </tr>\n",
       "  </tbody>\n",
       "</table>\n",
       "</div>"
      ],
      "text/plain": [
       "      Pass  Logic error n-shot  Top-P  Top-K\n",
       "0  0.78125       0.1375      3    0.3      0"
      ]
     },
     "execution_count": 62,
     "metadata": {},
     "output_type": "execute_result"
    }
   ],
   "source": [
    "# Pass1 Table\n",
    "unit_tests = [validated_dsource_outputs,\n",
    "              validated_mtype_outputs,\n",
    "              validated_pchannel_outputs,\n",
    "              validated_fchannel_outputs,\n",
    "              validated_mchannel_outputs,\n",
    "              validated_dchannel_outputs]\n",
    "\n",
    "# Save question level results\n",
    "pass1_logic_q_results(unit_tests)\n",
    "\n",
    "# Summarise results\n",
    "fc_pass1_summary = pass1_logic_summary(unit_tests)\n",
    "fc_pass1_summary.head()"
   ]
  },
  {
   "cell_type": "code",
   "execution_count": null,
   "id": "abac3085",
   "metadata": {
    "colab": {
     "base_uri": "https://localhost:8080/",
     "height": 313
    },
    "executionInfo": {
     "elapsed": 760,
     "status": "ok",
     "timestamp": 1669588186440,
     "user": {
      "displayName": "Billy Pitchford",
      "userId": "01251209915329143145"
     },
     "user_tz": 0
    },
    "id": "abac3085",
    "outputId": "17037e66-fda6-4a13-f5d9-96b64ce9efdb"
   },
   "outputs": [
    {
     "data": {
      "image/png": "[encoded data removed]",
      "text/plain": [
       "<Figure size 640x480 with 1 Axes>"
      ]
     },
     "metadata": {},
     "output_type": "display_data"
    }
   ],
   "source": [
    "# Compare final pass rate with logical errors\n",
    "plot_errors(fc_pass1_summary)"
   ]
  },
  {
   "cell_type": "code",
   "execution_count": null,
   "id": "afbb1a90",
   "metadata": {
    "id": "afbb1a90",
    "outputId": "e5629195-3f9f-453e-c1ab-23e85796891e"
   },
   "outputs": [
    {
     "name": "stdout",
     "output_type": "stream",
     "text": [
      "      Pass  Logic error  Validation error  Syntax error\n",
      "0  0.78125       0.1375             0.075       0.00625\n"
     ]
    },
    {
     "data": {
      "image/png": "[encoded data removed]",
      "text/plain": [
       "<Figure size 640x480 with 1 Axes>"
      ]
     },
     "metadata": {},
     "output_type": "display_data"
    }
   ],
   "source": [
    "# Compare all errors\n",
    "plot_final_errors(pass1_test_summary, fc_pass1_summary)"
   ]
  },
  {
   "cell_type": "markdown",
   "id": "61ac3aed",
   "metadata": {
    "id": "61ac3aed"
   },
   "source": [
    "## Pass@k"
   ]
  },
  {
   "cell_type": "code",
   "execution_count": null,
   "id": "fe60e3a0",
   "metadata": {
    "colab": {
     "base_uri": "https://localhost:8080/",
     "height": 81
    },
    "executionInfo": {
     "elapsed": 15,
     "status": "ok",
     "timestamp": 1669588186441,
     "user": {
      "displayName": "Billy Pitchford",
      "userId": "01251209915329143145"
     },
     "user_tz": 0
    },
    "id": "fe60e3a0",
    "outputId": "6fd13d6b-3348-4bce-eec8-32c69c6819b3"
   },
   "outputs": [
    {
     "data": {
      "text/html": [
       "<div>\n",
       "<style scoped>\n",
       "    .dataframe tbody tr th:only-of-type {\n",
       "        vertical-align: middle;\n",
       "    }\n",
       "\n",
       "    .dataframe tbody tr th {\n",
       "        vertical-align: top;\n",
       "    }\n",
       "\n",
       "    .dataframe thead th {\n",
       "        text-align: right;\n",
       "    }\n",
       "</style>\n",
       "<table border=\"1\" class=\"dataframe\">\n",
       "  <thead>\n",
       "    <tr style=\"text-align: right;\">\n",
       "      <th></th>\n",
       "      <th>Pass</th>\n",
       "      <th>Pass count</th>\n",
       "      <th>n-shot</th>\n",
       "      <th>Top-P</th>\n",
       "      <th>Top-K</th>\n",
       "    </tr>\n",
       "  </thead>\n",
       "  <tbody>\n",
       "    <tr>\n",
       "      <th>10</th>\n",
       "      <td>0.78125</td>\n",
       "      <td>125</td>\n",
       "      <td>3</td>\n",
       "      <td>0.3</td>\n",
       "      <td>0</td>\n",
       "    </tr>\n",
       "  </tbody>\n",
       "</table>\n",
       "</div>"
      ],
      "text/plain": [
       "       Pass  Pass count n-shot  Top-P  Top-K\n",
       "10  0.78125         125      3    0.3      0"
      ]
     },
     "execution_count": 65,
     "metadata": {},
     "output_type": "execute_result"
    }
   ],
   "source": [
    "# Pass@k\n",
    "unit_tests = [validated_dsource_outputs,\n",
    "              validated_mtype_outputs,\n",
    "              validated_pchannel_outputs,\n",
    "              validated_fchannel_outputs,\n",
    "              validated_mchannel_outputs,\n",
    "              validated_dchannel_outputs]\n",
    "\n",
    "fc_passk_summary = passk_logic_summary(unit_tests, num_outputs)\n",
    "fc_passk_summary"
   ]
  },
  {
   "cell_type": "markdown",
   "id": "f102c9ac",
   "metadata": {
    "id": "f102c9ac"
   },
   "source": [
    "## Pass@1 versus Pass@k"
   ]
  },
  {
   "cell_type": "code",
   "execution_count": null,
   "id": "04ecacc1",
   "metadata": {
    "id": "04ecacc1"
   },
   "outputs": [],
   "source": [
    "def plot_pass1_vs_passk(pass1, passk):\n",
    "    \"\"\"Compare pass1 and passk rates\"\"\"\n",
    "\n",
    "    X = ['pass@1', 'pass@k']\n",
    "    Y1 = pass1.loc[0, 'Pass']\n",
    "    Y2 = passk.loc[10, 'Pass']\n",
    "    Y = [Y1*100, Y2*100]\n",
    "\n",
    "    # Set style temporarily using style context manager\n",
    "    # Source: https://matplotlib.org/stable/tutorials/introductory/customizing.html#customizing-with-style-sheets\n",
    "    with plt.style.context(['seaborn-bright', 'C:\\\\Users\\\\sbnr014\\\\OneDrive - City, University of London\\\\Documents\\\\GitHub\\\\MSc-thesis\\\\4. Test set\\\\dev.mplstyle']):\n",
    "        fig, axes = plt.subplots(nrows=1,\n",
    "                                 ncols=1)\n",
    "        axes.scatter(X, Y, s=1000, marker='+')\n",
    "        axes.set_ylabel('% of total')\n",
    "        axes.set_ylim([70, 80])\n",
    "        axes.set_xlim([-0.5, 1.5])\n",
    "#         axes.grid(True)\n",
    "        plt.xticks(rotation=45)\n",
    "        plt.show()\n",
    "        plt.close()"
   ]
  },
  {
   "cell_type": "code",
   "execution_count": null,
   "id": "ccef8e2e",
   "metadata": {
    "id": "ccef8e2e",
    "outputId": "242705d1-6140-4732-b915-15d5f509056f"
   },
   "outputs": [
    {
     "data": {
      "image/png": "[encoded data removed]",
      "text/plain": [
       "<Figure size 640x480 with 1 Axes>"
      ]
     },
     "metadata": {},
     "output_type": "display_data"
    }
   ],
   "source": [
    "# Pass@1 versus Pass@k\n",
    "plot_pass1_vs_passk(fc_pass1_summary, fc_passk_summary)"
   ]
  },
  {
   "cell_type": "markdown",
   "id": "c5724bd6",
   "metadata": {
    "id": "c5724bd6"
   },
   "source": [
    "# Precision & recall"
   ]
  },
  {
   "cell_type": "code",
   "execution_count": null,
   "id": "6bc632fb",
   "metadata": {
    "id": "6bc632fb",
    "outputId": "2169382f-3587-4e8c-a1e8-e59d9b0fface"
   },
   "outputs": [
    {
     "data": {
      "text/plain": [
       "0.8503401360544218"
      ]
     },
     "execution_count": 68,
     "metadata": {},
     "output_type": "execute_result"
    }
   ],
   "source": [
    "pass1_precision = fc_pass1_summary.loc[0, 'Pass'] / (\n",
    "    fc_pass1_summary.loc[0, 'Pass'] + (pass1_test_summary.loc[0, 'Pass'] - fc_pass1_summary.loc[0, 'Pass']))\n",
    "pass1_precision"
   ]
  },
  {
   "cell_type": "code",
   "execution_count": null,
   "id": "dcc7092f",
   "metadata": {
    "id": "dcc7092f",
    "outputId": "e0914107-e9e8-4df9-8591-eec618d4611c"
   },
   "outputs": [
    {
     "data": {
      "text/plain": [
       "0.8503401360544218"
      ]
     },
     "execution_count": 69,
     "metadata": {},
     "output_type": "execute_result"
    }
   ],
   "source": [
    "passk_precision = fc_passk_summary.loc[10, 'Pass'] / (\n",
    "    fc_passk_summary.loc[10, 'Pass'] + (passk_test_summary.loc[10, 'Pass'] - fc_passk_summary.loc[10, 'Pass']))\n",
    "passk_precision"
   ]
  },
  {
   "cell_type": "markdown",
   "id": "16a5223f",
   "metadata": {
    "id": "16a5223f"
   },
   "source": [
    "# Hypothesis testing"
   ]
  },
  {
   "cell_type": "code",
   "execution_count": null,
   "id": "458d4ff2",
   "metadata": {
    "id": "458d4ff2"
   },
   "outputs": [],
   "source": [
    "# def gs_pass1_pairedTT_summary(unit_test_results, parameters, n_1, n_2, topP_1, topP_2):\n",
    "#     \"\"\" Calculate p-value using a paired t-test for a given number of in-context examples (n), and lower and upper threshold p.\n",
    "#     unit_test_results = pass@1 and error rates for all sets of hyper-parameters after application of a set of unit tests.\n",
    "#     Applicable to grid search results generated by both Top-K and Top-P decoding\"\"\"\n",
    "\n",
    "#     # Grid search indexes\n",
    "#     gs_index_1 = [outer_key for outer_key, outer_value in gptneo125m_parameters[n_1].items(\n",
    "#     ) if outer_value['P'] == topP_1][0]\n",
    "#     gs_index_2 = [outer_key for outer_key, outer_value in gptneo125m_parameters[n_2].items(\n",
    "#     ) if outer_value['P'] == topP_2][0]\n",
    "\n",
    "#     passes_1 = []\n",
    "#     passes_2 = []\n",
    "\n",
    "#     # Pass rate for first set of conditions\n",
    "#     for kfold in unit_test_results[0][n_1].keys():\n",
    "\n",
    "#         # Pass rate\n",
    "#         passed_all = unit_test_results[0][n_1][kfold].copy(deep=True)\n",
    "#         unit_test_passes = [r[n_1][kfold] for r in unit_test_results]\n",
    "#         unit_test_passes = [df.applymap(\n",
    "#             lambda x: x if x == True else np.nan) for df in unit_test_passes]\n",
    "\n",
    "#         # Compare all unit test results to the first test - return True if all True\n",
    "#         # Source: https://towardsdatascience.com/python-tricks-check-multiple-variables-against-single-value-18a4d98d79f4\n",
    "#         for row in range(unit_test_passes[0].shape[0]):\n",
    "#             for col in range(unit_test_passes[0].shape[1]):\n",
    "#                 passed_all.iloc[row, col] = all(unit_test_passes[0].iloc[row, col] == x\n",
    "#                                                 for x in [df.iloc[row, col] for df in unit_test_passes])\n",
    "#         # Calculate pass %\n",
    "#         passes_1.append((passed_all == True).sum()/passed_all.count())\n",
    "\n",
    "#     # Pass rate for second set of conditions\n",
    "#     for kfold in unit_test_results[0][n_2].keys():\n",
    "\n",
    "#         # Pass rate\n",
    "#         passed_all = unit_test_results[0][n_2][kfold].copy(deep=True)\n",
    "#         unit_test_passes = [r[n_2][kfold] for r in unit_test_results]\n",
    "#         unit_test_passes = [df.applymap(\n",
    "#             lambda x: x if x == True else np.nan) for df in unit_test_passes]\n",
    "\n",
    "#         # Compare all unit test results to the first test - return True if all True\n",
    "#         # Source: https://towardsdatascience.com/python-tricks-check-multiple-variables-against-single-value-18a4d98d79f4\n",
    "#         for row in range(unit_test_passes[0].shape[0]):\n",
    "#             for col in range(unit_test_passes[0].shape[1]):\n",
    "#                 passed_all.iloc[row, col] = all(unit_test_passes[0].iloc[row, col] == x\n",
    "#                                                 for x in [df.iloc[row, col] for df in unit_test_passes])\n",
    "#         # Calculate pass %\n",
    "#         passes_2.append((passed_all == True).sum()/passed_all.count())\n",
    "\n",
    "#     # Calculate overall pass rates\n",
    "#     passes_1 = pd.concat(passes_1, axis=1)\n",
    "#     passes_2 = pd.concat(passes_2, axis=1)\n",
    "\n",
    "#     # Calculate T score\n",
    "#     # Source: https://towardsdatascience.com/paired-t-test-to-evaluate-machine-learning-classifiers-1f395a6c93fa\n",
    "#     # Source: https://machinelearningmastery.com/statistical-significance-tests-for-comparing-machine-learning-algorithms/\n",
    "#     # Source:\n",
    "#     p1 = [x for x in passes_1.iloc[gs_index_1].tolist()]\n",
    "#     p2 = [x for x in passes_2.iloc[gs_index_2].tolist()]\n",
    "#     degree_freedom = len(p1)-1\n",
    "#     diff = np.array([y - x for y, x in zip(p1, p2)])\n",
    "#     sample_mean = sum(diff)/len(diff)\n",
    "#     sd = np.sqrt(sum(np.square(diff-sample_mean))/(len(p1)-1))\n",
    "#     t_statistic = (np.sqrt(len(p1))*sample_mean)/sd\n",
    "\n",
    "#     # Calculate P value using two tailed test\n",
    "#     # Source: https://www.statology.org/p-value-from-t-score-python/\n",
    "#     p_value = scipy.stats.t.sf(abs(t_statistic), df=degree_freedom)*2\n",
    "\n",
    "#     return p_value"
   ]
  },
  {
   "cell_type": "code",
   "execution_count": null,
   "id": "717c5e6b",
   "metadata": {
    "id": "717c5e6b",
    "scrolled": true
   },
   "outputs": [],
   "source": [
    "# # GPT-Neo-125M - T-test\n",
    "# # Source: https://machinelearningmastery.com/statistical-significance-tests-for-comparing-machine-learning-algorithms/\n",
    "# # Source: https://towardsdatascience.com/paired-t-test-to-evaluate-machine-learning-classifiers-1f395a6c93fa\n",
    "# # Source: https://medium.com/analytics-vidhya/using-the-corrected-paired-students-t-test-for-comparing-the-performance-of-machine-learning-dc6529eaa97f\n",
    "# # Source: http://rasbt.github.io/mlxtend/user_guide/evaluate/paired_ttest_kfold_cv/\n",
    "# unit_tests = [gptneo125m_dsource_validation,\n",
    "#               gptneo125m_mtype_validation,\n",
    "#               gptneo125m_pchannel_validation,\n",
    "#               gptneo125m_fchannel_validation,\n",
    "#               gptneo125m_mchannel_validation,\n",
    "#               gptneo125m_dchannel_validation]\n",
    "\n",
    "# p_value = gs_pass1_pairedTT_summary(\n",
    "#     unit_tests, gptneo125m_parameters, 2, 3, 0.5, 0.5)\n",
    "# print(p_value)"
   ]
  },
  {
   "cell_type": "markdown",
   "id": "5c92154d",
   "metadata": {
    "id": "5c92154d"
   },
   "source": [
    "# Render visualisations"
   ]
  },
  {
   "cell_type": "markdown",
   "id": "fd9dcc4b",
   "metadata": {
    "id": "fd9dcc4b"
   },
   "source": [
    "## Functions"
   ]
  },
  {
   "cell_type": "code",
   "execution_count": null,
   "id": "612df41e",
   "metadata": {
    "id": "612df41e"
   },
   "outputs": [],
   "source": [
    "def render_validated(df, n_samples):\n",
    "    \"\"\" df = reshaped validated outputs\n",
    "    n_samples = number of random samples to render\"\"\"\n",
    "\n",
    "    # Filter valid specifications\n",
    "    is_valid = df.copy(deep=True)\n",
    "    is_valid = is_valid.isin(\n",
    "        ['Attribute error', 'Schema error', 'Syntax error', 'Type error', 'Validation error', 'Value error']) == False\n",
    "    samples = df[is_valid]\n",
    "\n",
    "    # Filter out rows with NaN in first column\n",
    "    samples = samples[samples[0].notna()]\n",
    "\n",
    "    # Sample\n",
    "    samples = random.sample(samples.index.tolist(), n_samples)\n",
    "\n",
    "    # Render visualisations\n",
    "    for problem in samples:\n",
    "        print(\"------------------------------------------------------------------------------------------------------\")\n",
    "        print(f\"Problem number: {problem}\")\n",
    "        print(f\"\\nQuery:\\n\")\n",
    "        print(model_inputs.loc[problem, 'query'])\n",
    "\n",
    "        print(f\"\\nVisualisation:\\n\")\n",
    "        chart = alt.Chart(**validated_model_outputs.iloc[problem, 0])\n",
    "        chart.display()\n",
    "        print(f\"Vega-lite specification:\\n\")\n",
    "        print(validated_model_outputs.iloc[problem, 0])"
   ]
  },
  {
   "cell_type": "code",
   "execution_count": null,
   "id": "ce4d303d",
   "metadata": {
    "id": "ce4d303d"
   },
   "outputs": [],
   "source": [
    "def render_logical(df, unit_test_results, n_samples):\n",
    "    \"\"\" df = reshaped validated outputs\n",
    "    unit_tests = list of results for relevant unit tests\n",
    "    n_samples = number of random samples to render\"\"\"\n",
    "\n",
    "    unit_test_passes = [df.applymap(\n",
    "        lambda x: x if x == True else np.nan) for df in unit_test_results]\n",
    "\n",
    "    # Compare all unit test results to the first test - return True if all True\n",
    "    # Source: https://towardsdatascience.com/python-tricks-check-multiple-variables-against-single-value-18a4d98d79f4\n",
    "    is_valid = unit_test_results[0].copy(deep=True)\n",
    "\n",
    "    for row in range(unit_test_passes[0].shape[0]):\n",
    "        for col in range(unit_test_passes[0].shape[1]):\n",
    "            is_valid.iloc[row, col] = all(unit_test_passes[0].iloc[row, col] == x for x in [\n",
    "                                          df.iloc[row, col] for df in unit_test_passes])\n",
    "\n",
    "    # Filter out null values\n",
    "    samples = df[is_valid]\n",
    "\n",
    "    # Filter out rows with NaN in first column\n",
    "    samples = samples[samples[0].notna()]\n",
    "\n",
    "    # Sample\n",
    "    samples = random.sample(samples.index.tolist(), n_samples)\n",
    "\n",
    "    # Render samples\n",
    "    for problem in samples:\n",
    "        print(\"------------------------------------------------------------------------------------------------------\")\n",
    "        print(f\"Problem number: {problem}\")\n",
    "        print(f\"\\nQuery:\\n\")\n",
    "        print(model_inputs.loc[problem, 'query'])\n",
    "\n",
    "        print(f\"\\nVisualisation:\\n\")\n",
    "        chart = alt.Chart(**validated_model_outputs.iloc[problem, 0])\n",
    "        chart.display()\n",
    "        print(f\"Vega-lite specification:\\n\")\n",
    "        print(validated_model_outputs.iloc[problem, 0])"
   ]
  },
  {
   "cell_type": "markdown",
   "id": "fe6c36c2",
   "metadata": {
    "id": "fe6c36c2"
   },
   "source": [
    "## Validated specifications"
   ]
  },
  {
   "cell_type": "code",
   "execution_count": null,
   "id": "80ae398c",
   "metadata": {
    "colab": {
     "base_uri": "https://localhost:8080/",
     "height": 1000
    },
    "executionInfo": {
     "elapsed": 632,
     "status": "ok",
     "timestamp": 1669588187060,
     "user": {
      "displayName": "Billy Pitchford",
      "userId": "01251209915329143145"
     },
     "user_tz": 0
    },
    "id": "80ae398c",
    "outputId": "fa87db32-0668-4ca7-f666-b615ad510c1f"
   },
   "outputs": [
    {
     "name": "stdout",
     "output_type": "stream",
     "text": [
      "------------------------------------------------------------------------------------------------------\n",
      "Problem number: 36\n",
      "\n",
      "Query:\n",
      "\n",
      "Plot IMDB rating against Rotten Tomatoes rating.\n",
      "\n",
      "Visualisation:\n",
      "\n"
     ]
    },
    {
     "data": {
      "text/html": [
       "\n",
       "<div id=\"altair-viz-a0e0d90c216f498a836ecbdeed40cd1a\"></div>\n",
       "<script type=\"text/javascript\">\n",
       "  var VEGA_DEBUG = (typeof VEGA_DEBUG == \"undefined\") ? {} : VEGA_DEBUG;\n",
       "  (function(spec, embedOpt){\n",
       "    let outputDiv = document.currentScript.previousElementSibling;\n",
       "    if (outputDiv.id !== \"altair-viz-a0e0d90c216f498a836ecbdeed40cd1a\") {\n",
       "      outputDiv = document.getElementById(\"altair-viz-a0e0d90c216f498a836ecbdeed40cd1a\");\n",
       "    }\n",
       "    const paths = {\n",
       "      \"vega\": \"https://cdn.jsdelivr.net/npm//vega@5?noext\",\n",
       "      \"vega-lib\": \"https://cdn.jsdelivr.net/npm//vega-lib?noext\",\n",
       "      \"vega-lite\": \"https://cdn.jsdelivr.net/npm//vega-lite@4.17.0?noext\",\n",
       "      \"vega-embed\": \"https://cdn.jsdelivr.net/npm//vega-embed@6?noext\",\n",
       "    };\n",
       "\n",
       "    function maybeLoadScript(lib, version) {\n",
       "      var key = `${lib.replace(\"-\", \"\")}_version`;\n",
       "      return (VEGA_DEBUG[key] == version) ?\n",
       "        Promise.resolve(paths[lib]) :\n",
       "        new Promise(function(resolve, reject) {\n",
       "          var s = document.createElement('script');\n",
       "          document.getElementsByTagName(\"head\")[0].appendChild(s);\n",
       "          s.async = true;\n",
       "          s.onload = () => {\n",
       "            VEGA_DEBUG[key] = version;\n",
       "            return resolve(paths[lib]);\n",
       "          };\n",
       "          s.onerror = () => reject(`Error loading script: ${paths[lib]}`);\n",
       "          s.src = paths[lib];\n",
       "        });\n",
       "    }\n",
       "\n",
       "    function showError(err) {\n",
       "      outputDiv.innerHTML = `<div class=\"error\" style=\"color:red;\">${err}</div>`;\n",
       "      throw err;\n",
       "    }\n",
       "\n",
       "    function displayChart(vegaEmbed) {\n",
       "      vegaEmbed(outputDiv, spec, embedOpt)\n",
       "        .catch(err => showError(`Javascript Error: ${err.message}<br>This usually means there's a typo in your chart specification. See the javascript console for the full traceback.`));\n",
       "    }\n",
       "\n",
       "    if(typeof define === \"function\" && define.amd) {\n",
       "      requirejs.config({paths});\n",
       "      require([\"vega-embed\"], displayChart, err => showError(`Error loading script: ${err.message}`));\n",
       "    } else {\n",
       "      maybeLoadScript(\"vega\", \"5\")\n",
       "        .then(() => maybeLoadScript(\"vega-lite\", \"4.17.0\"))\n",
       "        .then(() => maybeLoadScript(\"vega-embed\", \"6\"))\n",
       "        .catch(showError)\n",
       "        .then(() => displayChart(vegaEmbed));\n",
       "    }\n",
       "  })({\"config\": {\"view\": {\"continuousWidth\": 400, \"continuousHeight\": 300}}, \"data\": {\"url\": \"https://raw.githubusercontent.com/nlvcorpus/nlvcorpus.github.io/main/datasets/movies.csv\"}, \"mark\": {\"type\": \"point\", \"filled\": true, \"opacity\": 0.5, \"tooltip\": null}, \"encoding\": {\"x\": {\"field\": \"IMDB Rating\", \"type\": \"quantitative\"}, \"y\": {\"field\": \"Rotten Tomatoes Rating\", \"type\": \"quantitative\"}}, \"$schema\": \"https://vega.github.io/schema/vega-lite/v4.17.0.json\"}, {\"mode\": \"vega-lite\"});\n",
       "</script>"
      ],
      "text/plain": [
       "alt.Chart(...)"
      ]
     },
     "metadata": {},
     "output_type": "display_data"
    },
    {
     "name": "stdout",
     "output_type": "stream",
     "text": [
      "Vega-lite specification:\n",
      "\n",
      "{'$schema': 'https://vega.github.io/schema/vega-lite/v4.17.0.json', 'data': {'url': 'https://raw.githubusercontent.com/nlvcorpus/nlvcorpus.github.io/main/datasets/movies.csv'}, 'mark': {'type': 'point', 'filled': True, 'opacity': 0.5, 'tooltip': None}, 'encoding': {'x': {'field': 'IMDB Rating', 'type': 'quantitative'}, 'y': {'field': 'Rotten Tomatoes Rating', 'type': 'quantitative'}}}\n",
      "------------------------------------------------------------------------------------------------------\n",
      "Problem number: 134\n",
      "\n",
      "Query:\n",
      "\n",
      "plot displacement by mpg', 'color by origin\n",
      "\n",
      "Visualisation:\n",
      "\n"
     ]
    },
    {
     "data": {
      "text/html": [
       "\n",
       "<div id=\"altair-viz-4053ea5a5bec4e02925adafa3f6a94aa\"></div>\n",
       "<script type=\"text/javascript\">\n",
       "  var VEGA_DEBUG = (typeof VEGA_DEBUG == \"undefined\") ? {} : VEGA_DEBUG;\n",
       "  (function(spec, embedOpt){\n",
       "    let outputDiv = document.currentScript.previousElementSibling;\n",
       "    if (outputDiv.id !== \"altair-viz-4053ea5a5bec4e02925adafa3f6a94aa\") {\n",
       "      outputDiv = document.getElementById(\"altair-viz-4053ea5a5bec4e02925adafa3f6a94aa\");\n",
       "    }\n",
       "    const paths = {\n",
       "      \"vega\": \"https://cdn.jsdelivr.net/npm//vega@5?noext\",\n",
       "      \"vega-lib\": \"https://cdn.jsdelivr.net/npm//vega-lib?noext\",\n",
       "      \"vega-lite\": \"https://cdn.jsdelivr.net/npm//vega-lite@4.17.0?noext\",\n",
       "      \"vega-embed\": \"https://cdn.jsdelivr.net/npm//vega-embed@6?noext\",\n",
       "    };\n",
       "\n",
       "    function maybeLoadScript(lib, version) {\n",
       "      var key = `${lib.replace(\"-\", \"\")}_version`;\n",
       "      return (VEGA_DEBUG[key] == version) ?\n",
       "        Promise.resolve(paths[lib]) :\n",
       "        new Promise(function(resolve, reject) {\n",
       "          var s = document.createElement('script');\n",
       "          document.getElementsByTagName(\"head\")[0].appendChild(s);\n",
       "          s.async = true;\n",
       "          s.onload = () => {\n",
       "            VEGA_DEBUG[key] = version;\n",
       "            return resolve(paths[lib]);\n",
       "          };\n",
       "          s.onerror = () => reject(`Error loading script: ${paths[lib]}`);\n",
       "          s.src = paths[lib];\n",
       "        });\n",
       "    }\n",
       "\n",
       "    function showError(err) {\n",
       "      outputDiv.innerHTML = `<div class=\"error\" style=\"color:red;\">${err}</div>`;\n",
       "      throw err;\n",
       "    }\n",
       "\n",
       "    function displayChart(vegaEmbed) {\n",
       "      vegaEmbed(outputDiv, spec, embedOpt)\n",
       "        .catch(err => showError(`Javascript Error: ${err.message}<br>This usually means there's a typo in your chart specification. See the javascript console for the full traceback.`));\n",
       "    }\n",
       "\n",
       "    if(typeof define === \"function\" && define.amd) {\n",
       "      requirejs.config({paths});\n",
       "      require([\"vega-embed\"], displayChart, err => showError(`Error loading script: ${err.message}`));\n",
       "    } else {\n",
       "      maybeLoadScript(\"vega\", \"5\")\n",
       "        .then(() => maybeLoadScript(\"vega-lite\", \"4.17.0\"))\n",
       "        .then(() => maybeLoadScript(\"vega-embed\", \"6\"))\n",
       "        .catch(showError)\n",
       "        .then(() => displayChart(vegaEmbed));\n",
       "    }\n",
       "  })({\"config\": {\"view\": {\"continuousWidth\": 400, \"continuousHeight\": 300}}, \"data\": {\"url\": \"https://raw.githubusercontent.com/nl4dv/nl4dv/master/examples/assets/data/cars-w-year.csv\"}, \"mark\": {\"type\": \"point\", \"filled\": true, \"opacity\": 0.8, \"tooltip\": null}, \"encoding\": {\"x\": {\"field\": \"Displacement\", \"type\": \"quantitative\", \"axis\": {\"format\": \"~s\"}}, \"y\": {\"field\": \"MPG\", \"type\": \"quantitative\", \"axis\": {\"format\": \"~s\"}}, \"color\": {\"field\": \"Origin\", \"type\": \"nominal\"}}, \"$schema\": \"https://vega.github.io/schema/vega-lite/v4.17.0.json\"}, {\"mode\": \"vega-lite\"});\n",
       "</script>"
      ],
      "text/plain": [
       "alt.Chart(...)"
      ]
     },
     "metadata": {},
     "output_type": "display_data"
    },
    {
     "name": "stdout",
     "output_type": "stream",
     "text": [
      "Vega-lite specification:\n",
      "\n",
      "{'$schema': 'https://vega.github.io/schema/vega-lite/v4.17.0.json', 'data': {'url': 'https://raw.githubusercontent.com/nl4dv/nl4dv/master/examples/assets/data/cars-w-year.csv'}, 'mark': {'type': 'point', 'filled': True, 'opacity': 0.8, 'tooltip': None}, 'encoding': {'x': {'field': 'Displacement', 'type': 'quantitative', 'axis': {'format': '~s'}}, 'y': {'field': 'MPG', 'type': 'quantitative', 'axis': {'format': '~s'}}, 'color': {'field': 'Origin', 'type': 'nominal'}}}\n",
      "------------------------------------------------------------------------------------------------------\n",
      "Problem number: 18\n",
      "\n",
      "Query:\n",
      "\n",
      "What is the total profit for each region, based on ship status?\n",
      "\n",
      "Visualisation:\n",
      "\n"
     ]
    },
    {
     "data": {
      "text/html": [
       "\n",
       "<div id=\"altair-viz-841a591736b0497697c7170e0883d130\"></div>\n",
       "<script type=\"text/javascript\">\n",
       "  var VEGA_DEBUG = (typeof VEGA_DEBUG == \"undefined\") ? {} : VEGA_DEBUG;\n",
       "  (function(spec, embedOpt){\n",
       "    let outputDiv = document.currentScript.previousElementSibling;\n",
       "    if (outputDiv.id !== \"altair-viz-841a591736b0497697c7170e0883d130\") {\n",
       "      outputDiv = document.getElementById(\"altair-viz-841a591736b0497697c7170e0883d130\");\n",
       "    }\n",
       "    const paths = {\n",
       "      \"vega\": \"https://cdn.jsdelivr.net/npm//vega@5?noext\",\n",
       "      \"vega-lib\": \"https://cdn.jsdelivr.net/npm//vega-lib?noext\",\n",
       "      \"vega-lite\": \"https://cdn.jsdelivr.net/npm//vega-lite@4.17.0?noext\",\n",
       "      \"vega-embed\": \"https://cdn.jsdelivr.net/npm//vega-embed@6?noext\",\n",
       "    };\n",
       "\n",
       "    function maybeLoadScript(lib, version) {\n",
       "      var key = `${lib.replace(\"-\", \"\")}_version`;\n",
       "      return (VEGA_DEBUG[key] == version) ?\n",
       "        Promise.resolve(paths[lib]) :\n",
       "        new Promise(function(resolve, reject) {\n",
       "          var s = document.createElement('script');\n",
       "          document.getElementsByTagName(\"head\")[0].appendChild(s);\n",
       "          s.async = true;\n",
       "          s.onload = () => {\n",
       "            VEGA_DEBUG[key] = version;\n",
       "            return resolve(paths[lib]);\n",
       "          };\n",
       "          s.onerror = () => reject(`Error loading script: ${paths[lib]}`);\n",
       "          s.src = paths[lib];\n",
       "        });\n",
       "    }\n",
       "\n",
       "    function showError(err) {\n",
       "      outputDiv.innerHTML = `<div class=\"error\" style=\"color:red;\">${err}</div>`;\n",
       "      throw err;\n",
       "    }\n",
       "\n",
       "    function displayChart(vegaEmbed) {\n",
       "      vegaEmbed(outputDiv, spec, embedOpt)\n",
       "        .catch(err => showError(`Javascript Error: ${err.message}<br>This usually means there's a typo in your chart specification. See the javascript console for the full traceback.`));\n",
       "    }\n",
       "\n",
       "    if(typeof define === \"function\" && define.amd) {\n",
       "      requirejs.config({paths});\n",
       "      require([\"vega-embed\"], displayChart, err => showError(`Error loading script: ${err.message}`));\n",
       "    } else {\n",
       "      maybeLoadScript(\"vega\", \"5\")\n",
       "        .then(() => maybeLoadScript(\"vega-lite\", \"4.17.0\"))\n",
       "        .then(() => maybeLoadScript(\"vega-embed\", \"6\"))\n",
       "        .catch(showError)\n",
       "        .then(() => displayChart(vegaEmbed));\n",
       "    }\n",
       "  })({\"config\": {\"view\": {\"continuousWidth\": 400, \"continuousHeight\": 300}}, \"data\": {\"url\": \"https://raw.githubusercontent.com/nlvcorpus/nlvcorpus.github.io/main/datasets/superstore.csv\"}, \"mark\": {\"type\": \"bar\", \"tooltip\": null}, \"encoding\": {\"x\": {\"field\": \"Region\", \"type\": \"ordinal\"}, \"y\": {\"aggregate\": \"sum\", \"field\": \"Profit\", \"type\": \"quantitative\", \"axis\": {\"title\": \"SUM (Profit)\"}}, \"color\": {\"field\": \"Ship Status\", \"type\": \"nominal\", \"legend\": {\"title\": \"Ship Status\"}}}, \"transform\": [], \"$schema\": \"https://vega.github.io/schema/vega-lite/v4.17.0.json\"}, {\"mode\": \"vega-lite\"});\n",
       "</script>"
      ],
      "text/plain": [
       "alt.Chart(...)"
      ]
     },
     "metadata": {},
     "output_type": "display_data"
    },
    {
     "name": "stdout",
     "output_type": "stream",
     "text": [
      "Vega-lite specification:\n",
      "\n",
      "{'$schema': 'https://vega.github.io/schema/vega-lite/v4.17.0.json', 'data': {'url': 'https://raw.githubusercontent.com/nlvcorpus/nlvcorpus.github.io/main/datasets/superstore.csv'}, 'mark': {'type': 'bar', 'tooltip': None}, 'transform': [], 'encoding': {'x': {'field': 'Region', 'type': 'ordinal'}, 'y': {'aggregate': 'sum', 'field': 'Profit', 'type': 'quantitative', 'axis': {'title': 'SUM (Profit)'}}, 'color': {'field': 'Ship Status', 'type': 'nominal', 'legend': {'title': 'Ship Status'}}}}\n",
      "------------------------------------------------------------------------------------------------------\n",
      "Problem number: 83\n",
      "\n",
      "Query:\n",
      "\n",
      "Sort creative types by number of movies\n",
      "\n",
      "Visualisation:\n",
      "\n"
     ]
    },
    {
     "data": {
      "text/html": [
       "\n",
       "<div id=\"altair-viz-ad6b2b6fab3e4317b2ccff1a07abb27c\"></div>\n",
       "<script type=\"text/javascript\">\n",
       "  var VEGA_DEBUG = (typeof VEGA_DEBUG == \"undefined\") ? {} : VEGA_DEBUG;\n",
       "  (function(spec, embedOpt){\n",
       "    let outputDiv = document.currentScript.previousElementSibling;\n",
       "    if (outputDiv.id !== \"altair-viz-ad6b2b6fab3e4317b2ccff1a07abb27c\") {\n",
       "      outputDiv = document.getElementById(\"altair-viz-ad6b2b6fab3e4317b2ccff1a07abb27c\");\n",
       "    }\n",
       "    const paths = {\n",
       "      \"vega\": \"https://cdn.jsdelivr.net/npm//vega@5?noext\",\n",
       "      \"vega-lib\": \"https://cdn.jsdelivr.net/npm//vega-lib?noext\",\n",
       "      \"vega-lite\": \"https://cdn.jsdelivr.net/npm//vega-lite@4.17.0?noext\",\n",
       "      \"vega-embed\": \"https://cdn.jsdelivr.net/npm//vega-embed@6?noext\",\n",
       "    };\n",
       "\n",
       "    function maybeLoadScript(lib, version) {\n",
       "      var key = `${lib.replace(\"-\", \"\")}_version`;\n",
       "      return (VEGA_DEBUG[key] == version) ?\n",
       "        Promise.resolve(paths[lib]) :\n",
       "        new Promise(function(resolve, reject) {\n",
       "          var s = document.createElement('script');\n",
       "          document.getElementsByTagName(\"head\")[0].appendChild(s);\n",
       "          s.async = true;\n",
       "          s.onload = () => {\n",
       "            VEGA_DEBUG[key] = version;\n",
       "            return resolve(paths[lib]);\n",
       "          };\n",
       "          s.onerror = () => reject(`Error loading script: ${paths[lib]}`);\n",
       "          s.src = paths[lib];\n",
       "        });\n",
       "    }\n",
       "\n",
       "    function showError(err) {\n",
       "      outputDiv.innerHTML = `<div class=\"error\" style=\"color:red;\">${err}</div>`;\n",
       "      throw err;\n",
       "    }\n",
       "\n",
       "    function displayChart(vegaEmbed) {\n",
       "      vegaEmbed(outputDiv, spec, embedOpt)\n",
       "        .catch(err => showError(`Javascript Error: ${err.message}<br>This usually means there's a typo in your chart specification. See the javascript console for the full traceback.`));\n",
       "    }\n",
       "\n",
       "    if(typeof define === \"function\" && define.amd) {\n",
       "      requirejs.config({paths});\n",
       "      require([\"vega-embed\"], displayChart, err => showError(`Error loading script: ${err.message}`));\n",
       "    } else {\n",
       "      maybeLoadScript(\"vega\", \"5\")\n",
       "        .then(() => maybeLoadScript(\"vega-lite\", \"4.17.0\"))\n",
       "        .then(() => maybeLoadScript(\"vega-embed\", \"6\"))\n",
       "        .catch(showError)\n",
       "        .then(() => displayChart(vegaEmbed));\n",
       "    }\n",
       "  })({\"config\": {\"view\": {\"continuousWidth\": 400, \"continuousHeight\": 300}}, \"data\": {\"url\": \"https://raw.githubusercontent.com/nlvcorpus/nlvcorpus.github.io/main/datasets/movies.csv\"}, \"mark\": {\"type\": \"bar\", \"tooltip\": null}, \"encoding\": {\"x\": {\"field\": \"Creative Type\", \"type\": \"nominal\", \"sort\": {\"encoding\": \"y\", \"order\": \"descending\"}}, \"y\": {\"aggregate\": \"count\", \"type\": \"quantitative\", \"axis\": {\"title\": \"COUNT\"}}}, \"$schema\": \"https://vega.github.io/schema/vega-lite/v4.17.0.json\"}, {\"mode\": \"vega-lite\"});\n",
       "</script>"
      ],
      "text/plain": [
       "alt.Chart(...)"
      ]
     },
     "metadata": {},
     "output_type": "display_data"
    },
    {
     "name": "stdout",
     "output_type": "stream",
     "text": [
      "Vega-lite specification:\n",
      "\n",
      "{'$schema': 'https://vega.github.io/schema/vega-lite/v4.17.0.json', 'data': {'url': 'https://raw.githubusercontent.com/nlvcorpus/nlvcorpus.github.io/main/datasets/movies.csv'}, 'mark': {'type': 'bar', 'tooltip': None}, 'encoding': {'x': {'field': 'Creative Type', 'type': 'nominal', 'sort': {'encoding': 'y', 'order': 'descending'}}, 'y': {'aggregate': 'count', 'type': 'quantitative', 'axis': {'title': 'COUNT'}}}}\n",
      "------------------------------------------------------------------------------------------------------\n",
      "Problem number: 99\n",
      "\n",
      "Query:\n",
      "\n",
      "scatterplot MPG vs Displacement separated by country\n",
      "\n",
      "Visualisation:\n",
      "\n"
     ]
    },
    {
     "data": {
      "text/html": [
       "\n",
       "<div id=\"altair-viz-4c5117276124468dba1b735e5590d799\"></div>\n",
       "<script type=\"text/javascript\">\n",
       "  var VEGA_DEBUG = (typeof VEGA_DEBUG == \"undefined\") ? {} : VEGA_DEBUG;\n",
       "  (function(spec, embedOpt){\n",
       "    let outputDiv = document.currentScript.previousElementSibling;\n",
       "    if (outputDiv.id !== \"altair-viz-4c5117276124468dba1b735e5590d799\") {\n",
       "      outputDiv = document.getElementById(\"altair-viz-4c5117276124468dba1b735e5590d799\");\n",
       "    }\n",
       "    const paths = {\n",
       "      \"vega\": \"https://cdn.jsdelivr.net/npm//vega@5?noext\",\n",
       "      \"vega-lib\": \"https://cdn.jsdelivr.net/npm//vega-lib?noext\",\n",
       "      \"vega-lite\": \"https://cdn.jsdelivr.net/npm//vega-lite@4.17.0?noext\",\n",
       "      \"vega-embed\": \"https://cdn.jsdelivr.net/npm//vega-embed@6?noext\",\n",
       "    };\n",
       "\n",
       "    function maybeLoadScript(lib, version) {\n",
       "      var key = `${lib.replace(\"-\", \"\")}_version`;\n",
       "      return (VEGA_DEBUG[key] == version) ?\n",
       "        Promise.resolve(paths[lib]) :\n",
       "        new Promise(function(resolve, reject) {\n",
       "          var s = document.createElement('script');\n",
       "          document.getElementsByTagName(\"head\")[0].appendChild(s);\n",
       "          s.async = true;\n",
       "          s.onload = () => {\n",
       "            VEGA_DEBUG[key] = version;\n",
       "            return resolve(paths[lib]);\n",
       "          };\n",
       "          s.onerror = () => reject(`Error loading script: ${paths[lib]}`);\n",
       "          s.src = paths[lib];\n",
       "        });\n",
       "    }\n",
       "\n",
       "    function showError(err) {\n",
       "      outputDiv.innerHTML = `<div class=\"error\" style=\"color:red;\">${err}</div>`;\n",
       "      throw err;\n",
       "    }\n",
       "\n",
       "    function displayChart(vegaEmbed) {\n",
       "      vegaEmbed(outputDiv, spec, embedOpt)\n",
       "        .catch(err => showError(`Javascript Error: ${err.message}<br>This usually means there's a typo in your chart specification. See the javascript console for the full traceback.`));\n",
       "    }\n",
       "\n",
       "    if(typeof define === \"function\" && define.amd) {\n",
       "      requirejs.config({paths});\n",
       "      require([\"vega-embed\"], displayChart, err => showError(`Error loading script: ${err.message}`));\n",
       "    } else {\n",
       "      maybeLoadScript(\"vega\", \"5\")\n",
       "        .then(() => maybeLoadScript(\"vega-lite\", \"4.17.0\"))\n",
       "        .then(() => maybeLoadScript(\"vega-embed\", \"6\"))\n",
       "        .catch(showError)\n",
       "        .then(() => displayChart(vegaEmbed));\n",
       "    }\n",
       "  })({\"config\": {\"view\": {\"continuousWidth\": 400, \"continuousHeight\": 300}}, \"data\": {\"url\": \"https://raw.githubusercontent.com/nlvcorpus/nlvcorpus.github.io/main/datasets/cars.csv\"}, \"mark\": {\"type\": \"point\", \"filled\": true, \"opacity\": 0.8, \"tooltip\": null}, \"encoding\": {\"x\": {\"field\": \"Displacement\", \"type\": \"quantitative\", \"axis\": {\"format\": \"~s\"}}, \"y\": {\"field\": \"MPG\", \"type\": \"quantitative\", \"axis\": {\"format\": \"~s\"}}, \"color\": {\"field\": \"Origin\", \"type\": \"nominal\"}}, \"$schema\": \"https://vega.github.io/schema/vega-lite/v4.17.0.json\"}, {\"mode\": \"vega-lite\"});\n",
       "</script>"
      ],
      "text/plain": [
       "alt.Chart(...)"
      ]
     },
     "metadata": {},
     "output_type": "display_data"
    },
    {
     "name": "stdout",
     "output_type": "stream",
     "text": [
      "Vega-lite specification:\n",
      "\n",
      "{'$schema': 'https://vega.github.io/schema/vega-lite/v4.17.0.json', 'data': {'url': 'https://raw.githubusercontent.com/nlvcorpus/nlvcorpus.github.io/main/datasets/cars.csv'}, 'mark': {'type': 'point', 'filled': True, 'opacity': 0.8, 'tooltip': None}, 'encoding': {'x': {'field': 'Displacement', 'type': 'quantitative', 'axis': {'format': '~s'}}, 'y': {'field': 'MPG', 'type': 'quantitative', 'axis': {'format': '~s'}}, 'color': {'field': 'Origin', 'type': 'nominal'}}}\n"
     ]
    }
   ],
   "source": [
    "# Render validated specifications\n",
    "render_validated(validated_model_outputs, 5)"
   ]
  },
  {
   "cell_type": "markdown",
   "id": "928029e1",
   "metadata": {
    "id": "928029e1"
   },
   "source": [
    "## Logical specifications"
   ]
  },
  {
   "cell_type": "code",
   "execution_count": null,
   "id": "14558d07",
   "metadata": {
    "executionInfo": {
     "elapsed": 44,
     "status": "ok",
     "timestamp": 1669588187061,
     "user": {
      "displayName": "Billy Pitchford",
      "userId": "01251209915329143145"
     },
     "user_tz": 0
    },
    "id": "14558d07",
    "outputId": "aec4ac5a-694a-4134-f259-1ea34d33579a"
   },
   "outputs": [
    {
     "name": "stdout",
     "output_type": "stream",
     "text": [
      "------------------------------------------------------------------------------------------------------\n",
      "Problem number: 131\n",
      "\n",
      "Query:\n",
      "\n",
      "Create stacked column graph of worldwide gross by major genre by content rating\n",
      "\n",
      "Visualisation:\n",
      "\n"
     ]
    },
    {
     "data": {
      "text/html": [
       "\n",
       "<div id=\"altair-viz-da00d90fc343468cb36a56f148a91834\"></div>\n",
       "<script type=\"text/javascript\">\n",
       "  var VEGA_DEBUG = (typeof VEGA_DEBUG == \"undefined\") ? {} : VEGA_DEBUG;\n",
       "  (function(spec, embedOpt){\n",
       "    let outputDiv = document.currentScript.previousElementSibling;\n",
       "    if (outputDiv.id !== \"altair-viz-da00d90fc343468cb36a56f148a91834\") {\n",
       "      outputDiv = document.getElementById(\"altair-viz-da00d90fc343468cb36a56f148a91834\");\n",
       "    }\n",
       "    const paths = {\n",
       "      \"vega\": \"https://cdn.jsdelivr.net/npm//vega@5?noext\",\n",
       "      \"vega-lib\": \"https://cdn.jsdelivr.net/npm//vega-lib?noext\",\n",
       "      \"vega-lite\": \"https://cdn.jsdelivr.net/npm//vega-lite@4.17.0?noext\",\n",
       "      \"vega-embed\": \"https://cdn.jsdelivr.net/npm//vega-embed@6?noext\",\n",
       "    };\n",
       "\n",
       "    function maybeLoadScript(lib, version) {\n",
       "      var key = `${lib.replace(\"-\", \"\")}_version`;\n",
       "      return (VEGA_DEBUG[key] == version) ?\n",
       "        Promise.resolve(paths[lib]) :\n",
       "        new Promise(function(resolve, reject) {\n",
       "          var s = document.createElement('script');\n",
       "          document.getElementsByTagName(\"head\")[0].appendChild(s);\n",
       "          s.async = true;\n",
       "          s.onload = () => {\n",
       "            VEGA_DEBUG[key] = version;\n",
       "            return resolve(paths[lib]);\n",
       "          };\n",
       "          s.onerror = () => reject(`Error loading script: ${paths[lib]}`);\n",
       "          s.src = paths[lib];\n",
       "        });\n",
       "    }\n",
       "\n",
       "    function showError(err) {\n",
       "      outputDiv.innerHTML = `<div class=\"error\" style=\"color:red;\">${err}</div>`;\n",
       "      throw err;\n",
       "    }\n",
       "\n",
       "    function displayChart(vegaEmbed) {\n",
       "      vegaEmbed(outputDiv, spec, embedOpt)\n",
       "        .catch(err => showError(`Javascript Error: ${err.message}<br>This usually means there's a typo in your chart specification. See the javascript console for the full traceback.`));\n",
       "    }\n",
       "\n",
       "    if(typeof define === \"function\" && define.amd) {\n",
       "      requirejs.config({paths});\n",
       "      require([\"vega-embed\"], displayChart, err => showError(`Error loading script: ${err.message}`));\n",
       "    } else {\n",
       "      maybeLoadScript(\"vega\", \"5\")\n",
       "        .then(() => maybeLoadScript(\"vega-lite\", \"4.17.0\"))\n",
       "        .then(() => maybeLoadScript(\"vega-embed\", \"6\"))\n",
       "        .catch(showError)\n",
       "        .then(() => displayChart(vegaEmbed));\n",
       "    }\n",
       "  })({\"config\": {\"view\": {\"continuousWidth\": 400, \"continuousHeight\": 300}}, \"data\": {\"url\": \"https://raw.githubusercontent.com/nlvcorpus/nlvcorpus.github.io/main/datasets/movies.csv\"}, \"mark\": {\"type\": \"bar\", \"tooltip\": null}, \"encoding\": {\"x\": {\"field\": \"Major Genre\", \"type\": \"nominal\"}, \"y\": {\"aggregate\": \"sum\", \"field\": \"Worldwide Gross\", \"type\": \"quantitative\", \"axis\": {\"title\": \"SUM (Worldwide Gross)\", \"format\": \"~s\"}}, \"color\": {\"field\": \"Content Rating\", \"type\": \"nominal\"}}, \"$schema\": \"https://vega.github.io/schema/vega-lite/v4.17.0.json\"}, {\"mode\": \"vega-lite\"});\n",
       "</script>"
      ],
      "text/plain": [
       "alt.Chart(...)"
      ]
     },
     "metadata": {},
     "output_type": "display_data"
    },
    {
     "name": "stdout",
     "output_type": "stream",
     "text": [
      "Vega-lite specification:\n",
      "\n",
      "{'$schema': 'https://vega.github.io/schema/vega-lite/v4.17.0.json', 'data': {'url': 'https://raw.githubusercontent.com/nlvcorpus/nlvcorpus.github.io/main/datasets/movies.csv'}, 'mark': {'type': 'bar', 'tooltip': None}, 'encoding': {'x': {'field': 'Major Genre', 'type': 'nominal'}, 'y': {'aggregate': 'sum', 'field': 'Worldwide Gross', 'type': 'quantitative', 'axis': {'title': 'SUM (Worldwide Gross)', 'format': '~s'}}, 'color': {'field': 'Content Rating', 'type': 'nominal'}}}\n",
      "------------------------------------------------------------------------------------------------------\n",
      "Problem number: 16\n",
      "\n",
      "Query:\n",
      "\n",
      "show me the count of cars by country of origin in bar chart\n",
      "\n",
      "Visualisation:\n",
      "\n"
     ]
    },
    {
     "data": {
      "text/html": [
       "\n",
       "<div id=\"altair-viz-78e7d12f59514c07a9c103c3e29c3d91\"></div>\n",
       "<script type=\"text/javascript\">\n",
       "  var VEGA_DEBUG = (typeof VEGA_DEBUG == \"undefined\") ? {} : VEGA_DEBUG;\n",
       "  (function(spec, embedOpt){\n",
       "    let outputDiv = document.currentScript.previousElementSibling;\n",
       "    if (outputDiv.id !== \"altair-viz-78e7d12f59514c07a9c103c3e29c3d91\") {\n",
       "      outputDiv = document.getElementById(\"altair-viz-78e7d12f59514c07a9c103c3e29c3d91\");\n",
       "    }\n",
       "    const paths = {\n",
       "      \"vega\": \"https://cdn.jsdelivr.net/npm//vega@5?noext\",\n",
       "      \"vega-lib\": \"https://cdn.jsdelivr.net/npm//vega-lib?noext\",\n",
       "      \"vega-lite\": \"https://cdn.jsdelivr.net/npm//vega-lite@4.17.0?noext\",\n",
       "      \"vega-embed\": \"https://cdn.jsdelivr.net/npm//vega-embed@6?noext\",\n",
       "    };\n",
       "\n",
       "    function maybeLoadScript(lib, version) {\n",
       "      var key = `${lib.replace(\"-\", \"\")}_version`;\n",
       "      return (VEGA_DEBUG[key] == version) ?\n",
       "        Promise.resolve(paths[lib]) :\n",
       "        new Promise(function(resolve, reject) {\n",
       "          var s = document.createElement('script');\n",
       "          document.getElementsByTagName(\"head\")[0].appendChild(s);\n",
       "          s.async = true;\n",
       "          s.onload = () => {\n",
       "            VEGA_DEBUG[key] = version;\n",
       "            return resolve(paths[lib]);\n",
       "          };\n",
       "          s.onerror = () => reject(`Error loading script: ${paths[lib]}`);\n",
       "          s.src = paths[lib];\n",
       "        });\n",
       "    }\n",
       "\n",
       "    function showError(err) {\n",
       "      outputDiv.innerHTML = `<div class=\"error\" style=\"color:red;\">${err}</div>`;\n",
       "      throw err;\n",
       "    }\n",
       "\n",
       "    function displayChart(vegaEmbed) {\n",
       "      vegaEmbed(outputDiv, spec, embedOpt)\n",
       "        .catch(err => showError(`Javascript Error: ${err.message}<br>This usually means there's a typo in your chart specification. See the javascript console for the full traceback.`));\n",
       "    }\n",
       "\n",
       "    if(typeof define === \"function\" && define.amd) {\n",
       "      requirejs.config({paths});\n",
       "      require([\"vega-embed\"], displayChart, err => showError(`Error loading script: ${err.message}`));\n",
       "    } else {\n",
       "      maybeLoadScript(\"vega\", \"5\")\n",
       "        .then(() => maybeLoadScript(\"vega-lite\", \"4.17.0\"))\n",
       "        .then(() => maybeLoadScript(\"vega-embed\", \"6\"))\n",
       "        .catch(showError)\n",
       "        .then(() => displayChart(vegaEmbed));\n",
       "    }\n",
       "  })({\"config\": {\"view\": {\"continuousWidth\": 400, \"continuousHeight\": 300}}, \"data\": {\"url\": \"https://raw.githubusercontent.com/nlvcorpus/nlvcorpus.github.io/main/datasets/cars.csv\"}, \"mark\": {\"type\": \"bar\", \"tooltip\": null}, \"encoding\": {\"x\": {\"field\": \"Origin\", \"type\": \"nominal\", \"sort\": {\"encoding\": \"y\", \"order\": \"descending\"}}, \"y\": {\"aggregate\": \"count\", \"type\": \"quantitative\", \"axis\": {\"title\": \"COUNT\"}}}, \"$schema\": \"https://vega.github.io/schema/vega-lite/v4.17.0.json\"}, {\"mode\": \"vega-lite\"});\n",
       "</script>"
      ],
      "text/plain": [
       "alt.Chart(...)"
      ]
     },
     "metadata": {},
     "output_type": "display_data"
    },
    {
     "name": "stdout",
     "output_type": "stream",
     "text": [
      "Vega-lite specification:\n",
      "\n",
      "{'$schema': 'https://vega.github.io/schema/vega-lite/v4.17.0.json', 'data': {'url': 'https://raw.githubusercontent.com/nlvcorpus/nlvcorpus.github.io/main/datasets/cars.csv'}, 'mark': {'type': 'bar', 'tooltip': None}, 'encoding': {'x': {'field': 'Origin', 'type': 'nominal', 'sort': {'encoding': 'y', 'order': 'descending'}}, 'y': {'aggregate': 'count', 'type': 'quantitative', 'axis': {'title': 'COUNT'}}}}\n",
      "------------------------------------------------------------------------------------------------------\n",
      "Problem number: 105\n",
      "\n",
      "Query:\n",
      "\n",
      "histogram for creative type\n",
      "\n",
      "Visualisation:\n",
      "\n"
     ]
    },
    {
     "data": {
      "text/html": [
       "\n",
       "<div id=\"altair-viz-7ad227b1df34451e91bc0c192929f1f3\"></div>\n",
       "<script type=\"text/javascript\">\n",
       "  var VEGA_DEBUG = (typeof VEGA_DEBUG == \"undefined\") ? {} : VEGA_DEBUG;\n",
       "  (function(spec, embedOpt){\n",
       "    let outputDiv = document.currentScript.previousElementSibling;\n",
       "    if (outputDiv.id !== \"altair-viz-7ad227b1df34451e91bc0c192929f1f3\") {\n",
       "      outputDiv = document.getElementById(\"altair-viz-7ad227b1df34451e91bc0c192929f1f3\");\n",
       "    }\n",
       "    const paths = {\n",
       "      \"vega\": \"https://cdn.jsdelivr.net/npm//vega@5?noext\",\n",
       "      \"vega-lib\": \"https://cdn.jsdelivr.net/npm//vega-lib?noext\",\n",
       "      \"vega-lite\": \"https://cdn.jsdelivr.net/npm//vega-lite@4.17.0?noext\",\n",
       "      \"vega-embed\": \"https://cdn.jsdelivr.net/npm//vega-embed@6?noext\",\n",
       "    };\n",
       "\n",
       "    function maybeLoadScript(lib, version) {\n",
       "      var key = `${lib.replace(\"-\", \"\")}_version`;\n",
       "      return (VEGA_DEBUG[key] == version) ?\n",
       "        Promise.resolve(paths[lib]) :\n",
       "        new Promise(function(resolve, reject) {\n",
       "          var s = document.createElement('script');\n",
       "          document.getElementsByTagName(\"head\")[0].appendChild(s);\n",
       "          s.async = true;\n",
       "          s.onload = () => {\n",
       "            VEGA_DEBUG[key] = version;\n",
       "            return resolve(paths[lib]);\n",
       "          };\n",
       "          s.onerror = () => reject(`Error loading script: ${paths[lib]}`);\n",
       "          s.src = paths[lib];\n",
       "        });\n",
       "    }\n",
       "\n",
       "    function showError(err) {\n",
       "      outputDiv.innerHTML = `<div class=\"error\" style=\"color:red;\">${err}</div>`;\n",
       "      throw err;\n",
       "    }\n",
       "\n",
       "    function displayChart(vegaEmbed) {\n",
       "      vegaEmbed(outputDiv, spec, embedOpt)\n",
       "        .catch(err => showError(`Javascript Error: ${err.message}<br>This usually means there's a typo in your chart specification. See the javascript console for the full traceback.`));\n",
       "    }\n",
       "\n",
       "    if(typeof define === \"function\" && define.amd) {\n",
       "      requirejs.config({paths});\n",
       "      require([\"vega-embed\"], displayChart, err => showError(`Error loading script: ${err.message}`));\n",
       "    } else {\n",
       "      maybeLoadScript(\"vega\", \"5\")\n",
       "        .then(() => maybeLoadScript(\"vega-lite\", \"4.17.0\"))\n",
       "        .then(() => maybeLoadScript(\"vega-embed\", \"6\"))\n",
       "        .catch(showError)\n",
       "        .then(() => displayChart(vegaEmbed));\n",
       "    }\n",
       "  })({\"config\": {\"view\": {\"continuousWidth\": 400, \"continuousHeight\": 300}}, \"data\": {\"url\": \"https://raw.githubusercontent.com/nlvcorpus/nlvcorpus.github.io/main/datasets/movies.csv\"}, \"mark\": {\"type\": \"bar\", \"tooltip\": null}, \"encoding\": {\"x\": {\"field\": \"Creative Type\", \"type\": \"nominal\"}, \"y\": {\"aggregate\": \"count\", \"type\": \"quantitative\", \"axis\": {\"title\": \"COUNT\"}}}, \"$schema\": \"https://vega.github.io/schema/vega-lite/v4.17.0.json\"}, {\"mode\": \"vega-lite\"});\n",
       "</script>"
      ],
      "text/plain": [
       "alt.Chart(...)"
      ]
     },
     "metadata": {},
     "output_type": "display_data"
    },
    {
     "name": "stdout",
     "output_type": "stream",
     "text": [
      "Vega-lite specification:\n",
      "\n",
      "{'$schema': 'https://vega.github.io/schema/vega-lite/v4.17.0.json', 'data': {'url': 'https://raw.githubusercontent.com/nlvcorpus/nlvcorpus.github.io/main/datasets/movies.csv'}, 'mark': {'type': 'bar', 'tooltip': None}, 'encoding': {'x': {'field': 'Creative Type', 'type': 'nominal'}, 'y': {'aggregate': 'count', 'type': 'quantitative', 'axis': {'title': 'COUNT'}}}}\n",
      "------------------------------------------------------------------------------------------------------\n",
      "Problem number: 20\n",
      "\n",
      "Query:\n",
      "\n",
      "Bar chart, x axis origin, y axis count of rows\n",
      "\n",
      "Visualisation:\n",
      "\n"
     ]
    },
    {
     "data": {
      "text/html": [
       "\n",
       "<div id=\"altair-viz-d77198bba5f648f78adfaf712a8ed0cf\"></div>\n",
       "<script type=\"text/javascript\">\n",
       "  var VEGA_DEBUG = (typeof VEGA_DEBUG == \"undefined\") ? {} : VEGA_DEBUG;\n",
       "  (function(spec, embedOpt){\n",
       "    let outputDiv = document.currentScript.previousElementSibling;\n",
       "    if (outputDiv.id !== \"altair-viz-d77198bba5f648f78adfaf712a8ed0cf\") {\n",
       "      outputDiv = document.getElementById(\"altair-viz-d77198bba5f648f78adfaf712a8ed0cf\");\n",
       "    }\n",
       "    const paths = {\n",
       "      \"vega\": \"https://cdn.jsdelivr.net/npm//vega@5?noext\",\n",
       "      \"vega-lib\": \"https://cdn.jsdelivr.net/npm//vega-lib?noext\",\n",
       "      \"vega-lite\": \"https://cdn.jsdelivr.net/npm//vega-lite@4.17.0?noext\",\n",
       "      \"vega-embed\": \"https://cdn.jsdelivr.net/npm//vega-embed@6?noext\",\n",
       "    };\n",
       "\n",
       "    function maybeLoadScript(lib, version) {\n",
       "      var key = `${lib.replace(\"-\", \"\")}_version`;\n",
       "      return (VEGA_DEBUG[key] == version) ?\n",
       "        Promise.resolve(paths[lib]) :\n",
       "        new Promise(function(resolve, reject) {\n",
       "          var s = document.createElement('script');\n",
       "          document.getElementsByTagName(\"head\")[0].appendChild(s);\n",
       "          s.async = true;\n",
       "          s.onload = () => {\n",
       "            VEGA_DEBUG[key] = version;\n",
       "            return resolve(paths[lib]);\n",
       "          };\n",
       "          s.onerror = () => reject(`Error loading script: ${paths[lib]}`);\n",
       "          s.src = paths[lib];\n",
       "        });\n",
       "    }\n",
       "\n",
       "    function showError(err) {\n",
       "      outputDiv.innerHTML = `<div class=\"error\" style=\"color:red;\">${err}</div>`;\n",
       "      throw err;\n",
       "    }\n",
       "\n",
       "    function displayChart(vegaEmbed) {\n",
       "      vegaEmbed(outputDiv, spec, embedOpt)\n",
       "        .catch(err => showError(`Javascript Error: ${err.message}<br>This usually means there's a typo in your chart specification. See the javascript console for the full traceback.`));\n",
       "    }\n",
       "\n",
       "    if(typeof define === \"function\" && define.amd) {\n",
       "      requirejs.config({paths});\n",
       "      require([\"vega-embed\"], displayChart, err => showError(`Error loading script: ${err.message}`));\n",
       "    } else {\n",
       "      maybeLoadScript(\"vega\", \"5\")\n",
       "        .then(() => maybeLoadScript(\"vega-lite\", \"4.17.0\"))\n",
       "        .then(() => maybeLoadScript(\"vega-embed\", \"6\"))\n",
       "        .catch(showError)\n",
       "        .then(() => displayChart(vegaEmbed));\n",
       "    }\n",
       "  })({\"config\": {\"view\": {\"continuousWidth\": 400, \"continuousHeight\": 300}}, \"data\": {\"url\": \"https://raw.githubusercontent.com/nlvcorpus/nlvcorpus.github.io/main/datasets/cars.csv\"}, \"mark\": {\"type\": \"bar\", \"tooltip\": null}, \"encoding\": {\"x\": {\"field\": \"Origin\", \"type\": \"nominal\"}, \"y\": {\"aggregate\": \"count\", \"type\": \"quantitative\"}}, \"$schema\": \"https://vega.github.io/schema/vega-lite/v4.17.0.json\"}, {\"mode\": \"vega-lite\"});\n",
       "</script>"
      ],
      "text/plain": [
       "alt.Chart(...)"
      ]
     },
     "metadata": {},
     "output_type": "display_data"
    },
    {
     "name": "stdout",
     "output_type": "stream",
     "text": [
      "Vega-lite specification:\n",
      "\n",
      "{'$schema': 'https://vega.github.io/schema/vega-lite/v4.17.0.json', 'data': {'url': 'https://raw.githubusercontent.com/nlvcorpus/nlvcorpus.github.io/main/datasets/cars.csv'}, 'mark': {'type': 'bar', 'tooltip': None}, 'encoding': {'x': {'field': 'Origin', 'type': 'nominal'}, 'y': {'aggregate': 'count', 'type': 'quantitative'}}}\n",
      "------------------------------------------------------------------------------------------------------\n",
      "Problem number: 44\n",
      "\n",
      "Query:\n",
      "\n",
      "chart count to country\n",
      "\n",
      "Visualisation:\n",
      "\n"
     ]
    },
    {
     "data": {
      "text/html": [
       "\n",
       "<div id=\"altair-viz-5e96efd4c6fb423b9db50e5f638331e8\"></div>\n",
       "<script type=\"text/javascript\">\n",
       "  var VEGA_DEBUG = (typeof VEGA_DEBUG == \"undefined\") ? {} : VEGA_DEBUG;\n",
       "  (function(spec, embedOpt){\n",
       "    let outputDiv = document.currentScript.previousElementSibling;\n",
       "    if (outputDiv.id !== \"altair-viz-5e96efd4c6fb423b9db50e5f638331e8\") {\n",
       "      outputDiv = document.getElementById(\"altair-viz-5e96efd4c6fb423b9db50e5f638331e8\");\n",
       "    }\n",
       "    const paths = {\n",
       "      \"vega\": \"https://cdn.jsdelivr.net/npm//vega@5?noext\",\n",
       "      \"vega-lib\": \"https://cdn.jsdelivr.net/npm//vega-lib?noext\",\n",
       "      \"vega-lite\": \"https://cdn.jsdelivr.net/npm//vega-lite@4.17.0?noext\",\n",
       "      \"vega-embed\": \"https://cdn.jsdelivr.net/npm//vega-embed@6?noext\",\n",
       "    };\n",
       "\n",
       "    function maybeLoadScript(lib, version) {\n",
       "      var key = `${lib.replace(\"-\", \"\")}_version`;\n",
       "      return (VEGA_DEBUG[key] == version) ?\n",
       "        Promise.resolve(paths[lib]) :\n",
       "        new Promise(function(resolve, reject) {\n",
       "          var s = document.createElement('script');\n",
       "          document.getElementsByTagName(\"head\")[0].appendChild(s);\n",
       "          s.async = true;\n",
       "          s.onload = () => {\n",
       "            VEGA_DEBUG[key] = version;\n",
       "            return resolve(paths[lib]);\n",
       "          };\n",
       "          s.onerror = () => reject(`Error loading script: ${paths[lib]}`);\n",
       "          s.src = paths[lib];\n",
       "        });\n",
       "    }\n",
       "\n",
       "    function showError(err) {\n",
       "      outputDiv.innerHTML = `<div class=\"error\" style=\"color:red;\">${err}</div>`;\n",
       "      throw err;\n",
       "    }\n",
       "\n",
       "    function displayChart(vegaEmbed) {\n",
       "      vegaEmbed(outputDiv, spec, embedOpt)\n",
       "        .catch(err => showError(`Javascript Error: ${err.message}<br>This usually means there's a typo in your chart specification. See the javascript console for the full traceback.`));\n",
       "    }\n",
       "\n",
       "    if(typeof define === \"function\" && define.amd) {\n",
       "      requirejs.config({paths});\n",
       "      require([\"vega-embed\"], displayChart, err => showError(`Error loading script: ${err.message}`));\n",
       "    } else {\n",
       "      maybeLoadScript(\"vega\", \"5\")\n",
       "        .then(() => maybeLoadScript(\"vega-lite\", \"4.17.0\"))\n",
       "        .then(() => maybeLoadScript(\"vega-embed\", \"6\"))\n",
       "        .catch(showError)\n",
       "        .then(() => displayChart(vegaEmbed));\n",
       "    }\n",
       "  })({\"config\": {\"view\": {\"continuousWidth\": 400, \"continuousHeight\": 300}}, \"data\": {\"url\": \"https://raw.githubusercontent.com/nlvcorpus/nlvcorpus.github.io/main/datasets/cars.csv\"}, \"mark\": {\"type\": \"bar\", \"tooltip\": null}, \"encoding\": {\"x\": {\"field\": \"Origin\", \"type\": \"nominal\", \"sort\": {\"encoding\": \"y\", \"order\": \"descending\"}}, \"y\": {\"aggregate\": \"count\", \"type\": \"quantitative\", \"axis\": {\"title\": \"COUNT\"}}}, \"$schema\": \"https://vega.github.io/schema/vega-lite/v4.17.0.json\"}, {\"mode\": \"vega-lite\"});\n",
       "</script>"
      ],
      "text/plain": [
       "alt.Chart(...)"
      ]
     },
     "metadata": {},
     "output_type": "display_data"
    },
    {
     "name": "stdout",
     "output_type": "stream",
     "text": [
      "Vega-lite specification:\n",
      "\n",
      "{'$schema': 'https://vega.github.io/schema/vega-lite/v4.17.0.json', 'data': {'url': 'https://raw.githubusercontent.com/nlvcorpus/nlvcorpus.github.io/main/datasets/cars.csv'}, 'mark': {'type': 'bar', 'tooltip': None}, 'encoding': {'x': {'field': 'Origin', 'type': 'nominal', 'sort': {'encoding': 'y', 'order': 'descending'}}, 'y': {'aggregate': 'count', 'type': 'quantitative', 'axis': {'title': 'COUNT'}}}}\n",
      "------------------------------------------------------------------------------------------------------\n",
      "Problem number: 118\n",
      "\n",
      "Query:\n",
      "\n",
      "Show me total sales by month for the two-year period between Jan 2016 and Dec 2017.\n",
      "\n",
      "Visualisation:\n",
      "\n"
     ]
    },
    {
     "data": {
      "text/html": [
       "\n",
       "<div id=\"altair-viz-6a27d654a58f4ae7869eca21c4209016\"></div>\n",
       "<script type=\"text/javascript\">\n",
       "  var VEGA_DEBUG = (typeof VEGA_DEBUG == \"undefined\") ? {} : VEGA_DEBUG;\n",
       "  (function(spec, embedOpt){\n",
       "    let outputDiv = document.currentScript.previousElementSibling;\n",
       "    if (outputDiv.id !== \"altair-viz-6a27d654a58f4ae7869eca21c4209016\") {\n",
       "      outputDiv = document.getElementById(\"altair-viz-6a27d654a58f4ae7869eca21c4209016\");\n",
       "    }\n",
       "    const paths = {\n",
       "      \"vega\": \"https://cdn.jsdelivr.net/npm//vega@5?noext\",\n",
       "      \"vega-lib\": \"https://cdn.jsdelivr.net/npm//vega-lib?noext\",\n",
       "      \"vega-lite\": \"https://cdn.jsdelivr.net/npm//vega-lite@4.17.0?noext\",\n",
       "      \"vega-embed\": \"https://cdn.jsdelivr.net/npm//vega-embed@6?noext\",\n",
       "    };\n",
       "\n",
       "    function maybeLoadScript(lib, version) {\n",
       "      var key = `${lib.replace(\"-\", \"\")}_version`;\n",
       "      return (VEGA_DEBUG[key] == version) ?\n",
       "        Promise.resolve(paths[lib]) :\n",
       "        new Promise(function(resolve, reject) {\n",
       "          var s = document.createElement('script');\n",
       "          document.getElementsByTagName(\"head\")[0].appendChild(s);\n",
       "          s.async = true;\n",
       "          s.onload = () => {\n",
       "            VEGA_DEBUG[key] = version;\n",
       "            return resolve(paths[lib]);\n",
       "          };\n",
       "          s.onerror = () => reject(`Error loading script: ${paths[lib]}`);\n",
       "          s.src = paths[lib];\n",
       "        });\n",
       "    }\n",
       "\n",
       "    function showError(err) {\n",
       "      outputDiv.innerHTML = `<div class=\"error\" style=\"color:red;\">${err}</div>`;\n",
       "      throw err;\n",
       "    }\n",
       "\n",
       "    function displayChart(vegaEmbed) {\n",
       "      vegaEmbed(outputDiv, spec, embedOpt)\n",
       "        .catch(err => showError(`Javascript Error: ${err.message}<br>This usually means there's a typo in your chart specification. See the javascript console for the full traceback.`));\n",
       "    }\n",
       "\n",
       "    if(typeof define === \"function\" && define.amd) {\n",
       "      requirejs.config({paths});\n",
       "      require([\"vega-embed\"], displayChart, err => showError(`Error loading script: ${err.message}`));\n",
       "    } else {\n",
       "      maybeLoadScript(\"vega\", \"5\")\n",
       "        .then(() => maybeLoadScript(\"vega-lite\", \"4.17.0\"))\n",
       "        .then(() => maybeLoadScript(\"vega-embed\", \"6\"))\n",
       "        .catch(showError)\n",
       "        .then(() => displayChart(vegaEmbed));\n",
       "    }\n",
       "  })({\"config\": {\"view\": {\"continuousWidth\": 400, \"continuousHeight\": 300}}, \"data\": {\"url\": \"https://raw.githubusercontent.com/nlvcorpus/nlvcorpus.github.io/main/datasets/superstore.csv\"}, \"mark\": {\"type\": \"line\", \"tooltip\": null}, \"encoding\": {\"x\": {\"timeUnit\": \"yearmonth\", \"field\": \"Order Date\", \"type\": \"temporal\", \"axis\": {\"title\": \"Order Date\"}}, \"y\": {\"aggregate\": \"sum\", \"field\": \"Sales Forecast\", \"type\": \"quantitative\", \"axis\": {\"title\": \"SUM (Sales Forecast)\"}}}, \"$schema\": \"https://vega.github.io/schema/vega-lite/v4.17.0.json\"}, {\"mode\": \"vega-lite\"});\n",
       "</script>"
      ],
      "text/plain": [
       "alt.Chart(...)"
      ]
     },
     "metadata": {},
     "output_type": "display_data"
    },
    {
     "name": "stdout",
     "output_type": "stream",
     "text": [
      "Vega-lite specification:\n",
      "\n",
      "{'$schema': 'https://vega.github.io/schema/vega-lite/v4.17.0.json', 'data': {'url': 'https://raw.githubusercontent.com/nlvcorpus/nlvcorpus.github.io/main/datasets/superstore.csv'}, 'mark': {'type': 'line', 'tooltip': None}, 'encoding': {'x': {'timeUnit': 'yearmonth', 'field': 'Order Date', 'type': 'temporal', 'axis': {'title': 'Order Date'}}, 'y': {'aggregate': 'sum', 'field': 'Sales Forecast', 'type': 'quantitative', 'axis': {'title': 'SUM (Sales Forecast)'}}}}\n",
      "------------------------------------------------------------------------------------------------------\n",
      "Problem number: 98\n",
      "\n",
      "Query:\n",
      "\n",
      "show me a bar chart of count by order quantity\n",
      "\n",
      "Visualisation:\n",
      "\n"
     ]
    },
    {
     "data": {
      "text/html": [
       "\n",
       "<div id=\"altair-viz-4028e385c4c441c18271dab3f5cdd34f\"></div>\n",
       "<script type=\"text/javascript\">\n",
       "  var VEGA_DEBUG = (typeof VEGA_DEBUG == \"undefined\") ? {} : VEGA_DEBUG;\n",
       "  (function(spec, embedOpt){\n",
       "    let outputDiv = document.currentScript.previousElementSibling;\n",
       "    if (outputDiv.id !== \"altair-viz-4028e385c4c441c18271dab3f5cdd34f\") {\n",
       "      outputDiv = document.getElementById(\"altair-viz-4028e385c4c441c18271dab3f5cdd34f\");\n",
       "    }\n",
       "    const paths = {\n",
       "      \"vega\": \"https://cdn.jsdelivr.net/npm//vega@5?noext\",\n",
       "      \"vega-lib\": \"https://cdn.jsdelivr.net/npm//vega-lib?noext\",\n",
       "      \"vega-lite\": \"https://cdn.jsdelivr.net/npm//vega-lite@4.17.0?noext\",\n",
       "      \"vega-embed\": \"https://cdn.jsdelivr.net/npm//vega-embed@6?noext\",\n",
       "    };\n",
       "\n",
       "    function maybeLoadScript(lib, version) {\n",
       "      var key = `${lib.replace(\"-\", \"\")}_version`;\n",
       "      return (VEGA_DEBUG[key] == version) ?\n",
       "        Promise.resolve(paths[lib]) :\n",
       "        new Promise(function(resolve, reject) {\n",
       "          var s = document.createElement('script');\n",
       "          document.getElementsByTagName(\"head\")[0].appendChild(s);\n",
       "          s.async = true;\n",
       "          s.onload = () => {\n",
       "            VEGA_DEBUG[key] = version;\n",
       "            return resolve(paths[lib]);\n",
       "          };\n",
       "          s.onerror = () => reject(`Error loading script: ${paths[lib]}`);\n",
       "          s.src = paths[lib];\n",
       "        });\n",
       "    }\n",
       "\n",
       "    function showError(err) {\n",
       "      outputDiv.innerHTML = `<div class=\"error\" style=\"color:red;\">${err}</div>`;\n",
       "      throw err;\n",
       "    }\n",
       "\n",
       "    function displayChart(vegaEmbed) {\n",
       "      vegaEmbed(outputDiv, spec, embedOpt)\n",
       "        .catch(err => showError(`Javascript Error: ${err.message}<br>This usually means there's a typo in your chart specification. See the javascript console for the full traceback.`));\n",
       "    }\n",
       "\n",
       "    if(typeof define === \"function\" && define.amd) {\n",
       "      requirejs.config({paths});\n",
       "      require([\"vega-embed\"], displayChart, err => showError(`Error loading script: ${err.message}`));\n",
       "    } else {\n",
       "      maybeLoadScript(\"vega\", \"5\")\n",
       "        .then(() => maybeLoadScript(\"vega-lite\", \"4.17.0\"))\n",
       "        .then(() => maybeLoadScript(\"vega-embed\", \"6\"))\n",
       "        .catch(showError)\n",
       "        .then(() => displayChart(vegaEmbed));\n",
       "    }\n",
       "  })({\"config\": {\"view\": {\"continuousWidth\": 400, \"continuousHeight\": 300}}, \"data\": {\"url\": \"https://raw.githubusercontent.com/nlvcorpus/nlvcorpus.github.io/main/datasets/superstore.csv\"}, \"mark\": {\"type\": \"bar\", \"tooltip\": null}, \"encoding\": {\"x\": {\"bin\": true, \"field\": \"Quantity\", \"type\": \"quantitative\", \"axis\": {\"title\": \"Order Quantity\"}}, \"y\": {\"aggregate\": \"count\", \"type\": \"quantitative\", \"axis\": {\"title\": \"COUNT\"}}}, \"$schema\": \"https://vega.github.io/schema/vega-lite/v4.17.0.json\"}, {\"mode\": \"vega-lite\"});\n",
       "</script>"
      ],
      "text/plain": [
       "alt.Chart(...)"
      ]
     },
     "metadata": {},
     "output_type": "display_data"
    },
    {
     "name": "stdout",
     "output_type": "stream",
     "text": [
      "Vega-lite specification:\n",
      "\n",
      "{'$schema': 'https://vega.github.io/schema/vega-lite/v4.17.0.json', 'data': {'url': 'https://raw.githubusercontent.com/nlvcorpus/nlvcorpus.github.io/main/datasets/superstore.csv'}, 'mark': {'type': 'bar', 'tooltip': None}, 'encoding': {'x': {'bin': True, 'field': 'Quantity', 'type': 'quantitative', 'axis': {'title': 'Order Quantity'}}, 'y': {'aggregate': 'count', 'type': 'quantitative', 'axis': {'title': 'COUNT'}}}}\n",
      "------------------------------------------------------------------------------------------------------\n",
      "Problem number: 10\n",
      "\n",
      "Query:\n",
      "\n",
      "Avg(Poduction Budget) Grouped by Content Rating and sub-grouped by Creative Type\n",
      "\n",
      "Visualisation:\n",
      "\n"
     ]
    },
    {
     "data": {
      "text/html": [
       "\n",
       "<div id=\"altair-viz-fe3dfb3d5e614c11884ebe4ce598b4cd\"></div>\n",
       "<script type=\"text/javascript\">\n",
       "  var VEGA_DEBUG = (typeof VEGA_DEBUG == \"undefined\") ? {} : VEGA_DEBUG;\n",
       "  (function(spec, embedOpt){\n",
       "    let outputDiv = document.currentScript.previousElementSibling;\n",
       "    if (outputDiv.id !== \"altair-viz-fe3dfb3d5e614c11884ebe4ce598b4cd\") {\n",
       "      outputDiv = document.getElementById(\"altair-viz-fe3dfb3d5e614c11884ebe4ce598b4cd\");\n",
       "    }\n",
       "    const paths = {\n",
       "      \"vega\": \"https://cdn.jsdelivr.net/npm//vega@5?noext\",\n",
       "      \"vega-lib\": \"https://cdn.jsdelivr.net/npm//vega-lib?noext\",\n",
       "      \"vega-lite\": \"https://cdn.jsdelivr.net/npm//vega-lite@4.17.0?noext\",\n",
       "      \"vega-embed\": \"https://cdn.jsdelivr.net/npm//vega-embed@6?noext\",\n",
       "    };\n",
       "\n",
       "    function maybeLoadScript(lib, version) {\n",
       "      var key = `${lib.replace(\"-\", \"\")}_version`;\n",
       "      return (VEGA_DEBUG[key] == version) ?\n",
       "        Promise.resolve(paths[lib]) :\n",
       "        new Promise(function(resolve, reject) {\n",
       "          var s = document.createElement('script');\n",
       "          document.getElementsByTagName(\"head\")[0].appendChild(s);\n",
       "          s.async = true;\n",
       "          s.onload = () => {\n",
       "            VEGA_DEBUG[key] = version;\n",
       "            return resolve(paths[lib]);\n",
       "          };\n",
       "          s.onerror = () => reject(`Error loading script: ${paths[lib]}`);\n",
       "          s.src = paths[lib];\n",
       "        });\n",
       "    }\n",
       "\n",
       "    function showError(err) {\n",
       "      outputDiv.innerHTML = `<div class=\"error\" style=\"color:red;\">${err}</div>`;\n",
       "      throw err;\n",
       "    }\n",
       "\n",
       "    function displayChart(vegaEmbed) {\n",
       "      vegaEmbed(outputDiv, spec, embedOpt)\n",
       "        .catch(err => showError(`Javascript Error: ${err.message}<br>This usually means there's a typo in your chart specification. See the javascript console for the full traceback.`));\n",
       "    }\n",
       "\n",
       "    if(typeof define === \"function\" && define.amd) {\n",
       "      requirejs.config({paths});\n",
       "      require([\"vega-embed\"], displayChart, err => showError(`Error loading script: ${err.message}`));\n",
       "    } else {\n",
       "      maybeLoadScript(\"vega\", \"5\")\n",
       "        .then(() => maybeLoadScript(\"vega-lite\", \"4.17.0\"))\n",
       "        .then(() => maybeLoadScript(\"vega-embed\", \"6\"))\n",
       "        .catch(showError)\n",
       "        .then(() => displayChart(vegaEmbed));\n",
       "    }\n",
       "  })({\"config\": {\"view\": {\"continuousWidth\": 400, \"continuousHeight\": 300}}, \"data\": {\"url\": \"https://raw.githubusercontent.com/nlvcorpus/nlvcorpus.github.io/main/datasets/movies.csv\"}, \"mark\": {\"type\": \"bar\", \"tooltip\": null}, \"encoding\": {\"column\": {\"field\": \"Content Rating\", \"type\": \"ordinal\"}, \"x\": {\"field\": \"Creative Type\", \"scale\": {}, \"type\": \"nominal\", \"axis\": {\"title\": \"\", \"labels\": false, \"ticks\": false}}, \"y\": {\"aggregate\": \"mean\", \"field\": \"Production Budget\", \"type\": \"quantitative\", \"axis\": {\"title\": \"AVG (Production Budget)\", \"format\": \"~s\"}}, \"color\": {\"field\": \"Creative Type\", \"type\": \"nominal\"}}, \"$schema\": \"https://vega.github.io/schema/vega-lite/v4.17.0.json\"}, {\"mode\": \"vega-lite\"});\n",
       "</script>"
      ],
      "text/plain": [
       "alt.Chart(...)"
      ]
     },
     "metadata": {},
     "output_type": "display_data"
    },
    {
     "name": "stdout",
     "output_type": "stream",
     "text": [
      "Vega-lite specification:\n",
      "\n",
      "{'$schema': 'https://vega.github.io/schema/vega-lite/v4.17.0.json', 'data': {'url': 'https://raw.githubusercontent.com/nlvcorpus/nlvcorpus.github.io/main/datasets/movies.csv'}, 'mark': {'type': 'bar', 'tooltip': None}, 'encoding': {'column': {'field': 'Content Rating', 'type': 'ordinal'}, 'x': {'field': 'Creative Type', 'scale': {}, 'type': 'nominal', 'axis': {'title': '', 'labels': False, 'ticks': False}}, 'y': {'aggregate': 'mean', 'field': 'Production Budget', 'type': 'quantitative', 'axis': {'title': 'AVG (Production Budget)', 'format': '~s'}}, 'color': {'field': 'Creative Type', 'type': 'nominal'}}}\n",
      "------------------------------------------------------------------------------------------------------\n",
      "Problem number: 49\n",
      "\n",
      "Query:\n",
      "\n",
      "On average, how much was earned by movies of each genre?\n",
      "\n",
      "Visualisation:\n",
      "\n"
     ]
    },
    {
     "data": {
      "text/html": [
       "\n",
       "<div id=\"altair-viz-8dc5c51d40ec405f9f56dc01719e8ed4\"></div>\n",
       "<script type=\"text/javascript\">\n",
       "  var VEGA_DEBUG = (typeof VEGA_DEBUG == \"undefined\") ? {} : VEGA_DEBUG;\n",
       "  (function(spec, embedOpt){\n",
       "    let outputDiv = document.currentScript.previousElementSibling;\n",
       "    if (outputDiv.id !== \"altair-viz-8dc5c51d40ec405f9f56dc01719e8ed4\") {\n",
       "      outputDiv = document.getElementById(\"altair-viz-8dc5c51d40ec405f9f56dc01719e8ed4\");\n",
       "    }\n",
       "    const paths = {\n",
       "      \"vega\": \"https://cdn.jsdelivr.net/npm//vega@5?noext\",\n",
       "      \"vega-lib\": \"https://cdn.jsdelivr.net/npm//vega-lib?noext\",\n",
       "      \"vega-lite\": \"https://cdn.jsdelivr.net/npm//vega-lite@4.17.0?noext\",\n",
       "      \"vega-embed\": \"https://cdn.jsdelivr.net/npm//vega-embed@6?noext\",\n",
       "    };\n",
       "\n",
       "    function maybeLoadScript(lib, version) {\n",
       "      var key = `${lib.replace(\"-\", \"\")}_version`;\n",
       "      return (VEGA_DEBUG[key] == version) ?\n",
       "        Promise.resolve(paths[lib]) :\n",
       "        new Promise(function(resolve, reject) {\n",
       "          var s = document.createElement('script');\n",
       "          document.getElementsByTagName(\"head\")[0].appendChild(s);\n",
       "          s.async = true;\n",
       "          s.onload = () => {\n",
       "            VEGA_DEBUG[key] = version;\n",
       "            return resolve(paths[lib]);\n",
       "          };\n",
       "          s.onerror = () => reject(`Error loading script: ${paths[lib]}`);\n",
       "          s.src = paths[lib];\n",
       "        });\n",
       "    }\n",
       "\n",
       "    function showError(err) {\n",
       "      outputDiv.innerHTML = `<div class=\"error\" style=\"color:red;\">${err}</div>`;\n",
       "      throw err;\n",
       "    }\n",
       "\n",
       "    function displayChart(vegaEmbed) {\n",
       "      vegaEmbed(outputDiv, spec, embedOpt)\n",
       "        .catch(err => showError(`Javascript Error: ${err.message}<br>This usually means there's a typo in your chart specification. See the javascript console for the full traceback.`));\n",
       "    }\n",
       "\n",
       "    if(typeof define === \"function\" && define.amd) {\n",
       "      requirejs.config({paths});\n",
       "      require([\"vega-embed\"], displayChart, err => showError(`Error loading script: ${err.message}`));\n",
       "    } else {\n",
       "      maybeLoadScript(\"vega\", \"5\")\n",
       "        .then(() => maybeLoadScript(\"vega-lite\", \"4.17.0\"))\n",
       "        .then(() => maybeLoadScript(\"vega-embed\", \"6\"))\n",
       "        .catch(showError)\n",
       "        .then(() => displayChart(vegaEmbed));\n",
       "    }\n",
       "  })({\"config\": {\"view\": {\"continuousWidth\": 400, \"continuousHeight\": 300}}, \"data\": {\"url\": \"https://raw.githubusercontent.com/nlvcorpus/nlvcorpus.github.io/main/datasets/movies.csv\"}, \"mark\": {\"type\": \"bar\", \"tooltip\": null}, \"encoding\": {\"x\": {\"field\": \"Major Genre\", \"type\": \"nominal\"}, \"y\": {\"aggregate\": \"mean\", \"field\": \"Worldwide Gross\", \"type\": \"quantitative\", \"axis\": {\"title\": \"AVG (Worldwide Gross)\", \"format\": \"~s\"}}}, \"$schema\": \"https://vega.github.io/schema/vega-lite/v4.17.0.json\"}, {\"mode\": \"vega-lite\"});\n",
       "</script>"
      ],
      "text/plain": [
       "alt.Chart(...)"
      ]
     },
     "metadata": {},
     "output_type": "display_data"
    },
    {
     "name": "stdout",
     "output_type": "stream",
     "text": [
      "Vega-lite specification:\n",
      "\n",
      "{'$schema': 'https://vega.github.io/schema/vega-lite/v4.17.0.json', 'data': {'url': 'https://raw.githubusercontent.com/nlvcorpus/nlvcorpus.github.io/main/datasets/movies.csv'}, 'mark': {'type': 'bar', 'tooltip': None}, 'encoding': {'x': {'field': 'Major Genre', 'type': 'nominal'}, 'y': {'aggregate': 'mean', 'field': 'Worldwide Gross', 'type': 'quantitative', 'axis': {'title': 'AVG (Worldwide Gross)', 'format': '~s'}}}}\n",
      "------------------------------------------------------------------------------------------------------\n",
      "Problem number: 99\n",
      "\n",
      "Query:\n",
      "\n",
      "scatterplot MPG vs Displacement separated by country\n",
      "\n",
      "Visualisation:\n",
      "\n"
     ]
    },
    {
     "data": {
      "text/html": [
       "\n",
       "<div id=\"altair-viz-215f28f73cd6428195a6989c90845b6c\"></div>\n",
       "<script type=\"text/javascript\">\n",
       "  var VEGA_DEBUG = (typeof VEGA_DEBUG == \"undefined\") ? {} : VEGA_DEBUG;\n",
       "  (function(spec, embedOpt){\n",
       "    let outputDiv = document.currentScript.previousElementSibling;\n",
       "    if (outputDiv.id !== \"altair-viz-215f28f73cd6428195a6989c90845b6c\") {\n",
       "      outputDiv = document.getElementById(\"altair-viz-215f28f73cd6428195a6989c90845b6c\");\n",
       "    }\n",
       "    const paths = {\n",
       "      \"vega\": \"https://cdn.jsdelivr.net/npm//vega@5?noext\",\n",
       "      \"vega-lib\": \"https://cdn.jsdelivr.net/npm//vega-lib?noext\",\n",
       "      \"vega-lite\": \"https://cdn.jsdelivr.net/npm//vega-lite@4.17.0?noext\",\n",
       "      \"vega-embed\": \"https://cdn.jsdelivr.net/npm//vega-embed@6?noext\",\n",
       "    };\n",
       "\n",
       "    function maybeLoadScript(lib, version) {\n",
       "      var key = `${lib.replace(\"-\", \"\")}_version`;\n",
       "      return (VEGA_DEBUG[key] == version) ?\n",
       "        Promise.resolve(paths[lib]) :\n",
       "        new Promise(function(resolve, reject) {\n",
       "          var s = document.createElement('script');\n",
       "          document.getElementsByTagName(\"head\")[0].appendChild(s);\n",
       "          s.async = true;\n",
       "          s.onload = () => {\n",
       "            VEGA_DEBUG[key] = version;\n",
       "            return resolve(paths[lib]);\n",
       "          };\n",
       "          s.onerror = () => reject(`Error loading script: ${paths[lib]}`);\n",
       "          s.src = paths[lib];\n",
       "        });\n",
       "    }\n",
       "\n",
       "    function showError(err) {\n",
       "      outputDiv.innerHTML = `<div class=\"error\" style=\"color:red;\">${err}</div>`;\n",
       "      throw err;\n",
       "    }\n",
       "\n",
       "    function displayChart(vegaEmbed) {\n",
       "      vegaEmbed(outputDiv, spec, embedOpt)\n",
       "        .catch(err => showError(`Javascript Error: ${err.message}<br>This usually means there's a typo in your chart specification. See the javascript console for the full traceback.`));\n",
       "    }\n",
       "\n",
       "    if(typeof define === \"function\" && define.amd) {\n",
       "      requirejs.config({paths});\n",
       "      require([\"vega-embed\"], displayChart, err => showError(`Error loading script: ${err.message}`));\n",
       "    } else {\n",
       "      maybeLoadScript(\"vega\", \"5\")\n",
       "        .then(() => maybeLoadScript(\"vega-lite\", \"4.17.0\"))\n",
       "        .then(() => maybeLoadScript(\"vega-embed\", \"6\"))\n",
       "        .catch(showError)\n",
       "        .then(() => displayChart(vegaEmbed));\n",
       "    }\n",
       "  })({\"config\": {\"view\": {\"continuousWidth\": 400, \"continuousHeight\": 300}}, \"data\": {\"url\": \"https://raw.githubusercontent.com/nlvcorpus/nlvcorpus.github.io/main/datasets/cars.csv\"}, \"mark\": {\"type\": \"point\", \"filled\": true, \"opacity\": 0.8, \"tooltip\": null}, \"encoding\": {\"x\": {\"field\": \"Displacement\", \"type\": \"quantitative\", \"axis\": {\"format\": \"~s\"}}, \"y\": {\"field\": \"MPG\", \"type\": \"quantitative\", \"axis\": {\"format\": \"~s\"}}, \"color\": {\"field\": \"Origin\", \"type\": \"nominal\"}}, \"$schema\": \"https://vega.github.io/schema/vega-lite/v4.17.0.json\"}, {\"mode\": \"vega-lite\"});\n",
       "</script>"
      ],
      "text/plain": [
       "alt.Chart(...)"
      ]
     },
     "metadata": {},
     "output_type": "display_data"
    },
    {
     "name": "stdout",
     "output_type": "stream",
     "text": [
      "Vega-lite specification:\n",
      "\n",
      "{'$schema': 'https://vega.github.io/schema/vega-lite/v4.17.0.json', 'data': {'url': 'https://raw.githubusercontent.com/nlvcorpus/nlvcorpus.github.io/main/datasets/cars.csv'}, 'mark': {'type': 'point', 'filled': True, 'opacity': 0.8, 'tooltip': None}, 'encoding': {'x': {'field': 'Displacement', 'type': 'quantitative', 'axis': {'format': '~s'}}, 'y': {'field': 'MPG', 'type': 'quantitative', 'axis': {'format': '~s'}}, 'color': {'field': 'Origin', 'type': 'nominal'}}}\n",
      "------------------------------------------------------------------------------------------------------\n",
      "Problem number: 74\n",
      "\n",
      "Query:\n",
      "\n",
      "Relationship between IMDB Rating and Rotten Tomatoes Rating\n",
      "\n",
      "Visualisation:\n",
      "\n"
     ]
    },
    {
     "data": {
      "text/html": [
       "\n",
       "<div id=\"altair-viz-50a72870242e4528bba8fd6b0d09160b\"></div>\n",
       "<script type=\"text/javascript\">\n",
       "  var VEGA_DEBUG = (typeof VEGA_DEBUG == \"undefined\") ? {} : VEGA_DEBUG;\n",
       "  (function(spec, embedOpt){\n",
       "    let outputDiv = document.currentScript.previousElementSibling;\n",
       "    if (outputDiv.id !== \"altair-viz-50a72870242e4528bba8fd6b0d09160b\") {\n",
       "      outputDiv = document.getElementById(\"altair-viz-50a72870242e4528bba8fd6b0d09160b\");\n",
       "    }\n",
       "    const paths = {\n",
       "      \"vega\": \"https://cdn.jsdelivr.net/npm//vega@5?noext\",\n",
       "      \"vega-lib\": \"https://cdn.jsdelivr.net/npm//vega-lib?noext\",\n",
       "      \"vega-lite\": \"https://cdn.jsdelivr.net/npm//vega-lite@4.17.0?noext\",\n",
       "      \"vega-embed\": \"https://cdn.jsdelivr.net/npm//vega-embed@6?noext\",\n",
       "    };\n",
       "\n",
       "    function maybeLoadScript(lib, version) {\n",
       "      var key = `${lib.replace(\"-\", \"\")}_version`;\n",
       "      return (VEGA_DEBUG[key] == version) ?\n",
       "        Promise.resolve(paths[lib]) :\n",
       "        new Promise(function(resolve, reject) {\n",
       "          var s = document.createElement('script');\n",
       "          document.getElementsByTagName(\"head\")[0].appendChild(s);\n",
       "          s.async = true;\n",
       "          s.onload = () => {\n",
       "            VEGA_DEBUG[key] = version;\n",
       "            return resolve(paths[lib]);\n",
       "          };\n",
       "          s.onerror = () => reject(`Error loading script: ${paths[lib]}`);\n",
       "          s.src = paths[lib];\n",
       "        });\n",
       "    }\n",
       "\n",
       "    function showError(err) {\n",
       "      outputDiv.innerHTML = `<div class=\"error\" style=\"color:red;\">${err}</div>`;\n",
       "      throw err;\n",
       "    }\n",
       "\n",
       "    function displayChart(vegaEmbed) {\n",
       "      vegaEmbed(outputDiv, spec, embedOpt)\n",
       "        .catch(err => showError(`Javascript Error: ${err.message}<br>This usually means there's a typo in your chart specification. See the javascript console for the full traceback.`));\n",
       "    }\n",
       "\n",
       "    if(typeof define === \"function\" && define.amd) {\n",
       "      requirejs.config({paths});\n",
       "      require([\"vega-embed\"], displayChart, err => showError(`Error loading script: ${err.message}`));\n",
       "    } else {\n",
       "      maybeLoadScript(\"vega\", \"5\")\n",
       "        .then(() => maybeLoadScript(\"vega-lite\", \"4.17.0\"))\n",
       "        .then(() => maybeLoadScript(\"vega-embed\", \"6\"))\n",
       "        .catch(showError)\n",
       "        .then(() => displayChart(vegaEmbed));\n",
       "    }\n",
       "  })({\"config\": {\"view\": {\"continuousWidth\": 400, \"continuousHeight\": 300}}, \"data\": {\"url\": \"https://raw.githubusercontent.com/nlvcorpus/nlvcorpus.github.io/main/datasets/movies.csv\"}, \"mark\": {\"type\": \"point\", \"filled\": true, \"opacity\": 0.5, \"tooltip\": null}, \"encoding\": {\"x\": {\"field\": \"IMDB Rating\", \"type\": \"quantitative\"}, \"y\": {\"field\": \"Rotten Tomatoes Rating\", \"type\": \"quantitative\"}}, \"$schema\": \"https://vega.github.io/schema/vega-lite/v4.17.0.json\"}, {\"mode\": \"vega-lite\"});\n",
       "</script>"
      ],
      "text/plain": [
       "alt.Chart(...)"
      ]
     },
     "metadata": {},
     "output_type": "display_data"
    },
    {
     "name": "stdout",
     "output_type": "stream",
     "text": [
      "Vega-lite specification:\n",
      "\n",
      "{'$schema': 'https://vega.github.io/schema/vega-lite/v4.17.0.json', 'data': {'url': 'https://raw.githubusercontent.com/nlvcorpus/nlvcorpus.github.io/main/datasets/movies.csv'}, 'mark': {'type': 'point', 'filled': True, 'opacity': 0.5, 'tooltip': None}, 'encoding': {'x': {'field': 'IMDB Rating', 'type': 'quantitative'}, 'y': {'field': 'Rotten Tomatoes Rating', 'type': 'quantitative'}}}\n",
      "------------------------------------------------------------------------------------------------------\n",
      "Problem number: 150\n",
      "\n",
      "Query:\n",
      "\n",
      "Scatter plot, x axis Displacement, Y axis MPG, Color by Origin\n",
      "\n",
      "Visualisation:\n",
      "\n"
     ]
    },
    {
     "data": {
      "text/html": [
       "\n",
       "<div id=\"altair-viz-487d032e39af48be9b55b2cf6fa9dfd6\"></div>\n",
       "<script type=\"text/javascript\">\n",
       "  var VEGA_DEBUG = (typeof VEGA_DEBUG == \"undefined\") ? {} : VEGA_DEBUG;\n",
       "  (function(spec, embedOpt){\n",
       "    let outputDiv = document.currentScript.previousElementSibling;\n",
       "    if (outputDiv.id !== \"altair-viz-487d032e39af48be9b55b2cf6fa9dfd6\") {\n",
       "      outputDiv = document.getElementById(\"altair-viz-487d032e39af48be9b55b2cf6fa9dfd6\");\n",
       "    }\n",
       "    const paths = {\n",
       "      \"vega\": \"https://cdn.jsdelivr.net/npm//vega@5?noext\",\n",
       "      \"vega-lib\": \"https://cdn.jsdelivr.net/npm//vega-lib?noext\",\n",
       "      \"vega-lite\": \"https://cdn.jsdelivr.net/npm//vega-lite@4.17.0?noext\",\n",
       "      \"vega-embed\": \"https://cdn.jsdelivr.net/npm//vega-embed@6?noext\",\n",
       "    };\n",
       "\n",
       "    function maybeLoadScript(lib, version) {\n",
       "      var key = `${lib.replace(\"-\", \"\")}_version`;\n",
       "      return (VEGA_DEBUG[key] == version) ?\n",
       "        Promise.resolve(paths[lib]) :\n",
       "        new Promise(function(resolve, reject) {\n",
       "          var s = document.createElement('script');\n",
       "          document.getElementsByTagName(\"head\")[0].appendChild(s);\n",
       "          s.async = true;\n",
       "          s.onload = () => {\n",
       "            VEGA_DEBUG[key] = version;\n",
       "            return resolve(paths[lib]);\n",
       "          };\n",
       "          s.onerror = () => reject(`Error loading script: ${paths[lib]}`);\n",
       "          s.src = paths[lib];\n",
       "        });\n",
       "    }\n",
       "\n",
       "    function showError(err) {\n",
       "      outputDiv.innerHTML = `<div class=\"error\" style=\"color:red;\">${err}</div>`;\n",
       "      throw err;\n",
       "    }\n",
       "\n",
       "    function displayChart(vegaEmbed) {\n",
       "      vegaEmbed(outputDiv, spec, embedOpt)\n",
       "        .catch(err => showError(`Javascript Error: ${err.message}<br>This usually means there's a typo in your chart specification. See the javascript console for the full traceback.`));\n",
       "    }\n",
       "\n",
       "    if(typeof define === \"function\" && define.amd) {\n",
       "      requirejs.config({paths});\n",
       "      require([\"vega-embed\"], displayChart, err => showError(`Error loading script: ${err.message}`));\n",
       "    } else {\n",
       "      maybeLoadScript(\"vega\", \"5\")\n",
       "        .then(() => maybeLoadScript(\"vega-lite\", \"4.17.0\"))\n",
       "        .then(() => maybeLoadScript(\"vega-embed\", \"6\"))\n",
       "        .catch(showError)\n",
       "        .then(() => displayChart(vegaEmbed));\n",
       "    }\n",
       "  })({\"config\": {\"view\": {\"continuousWidth\": 400, \"continuousHeight\": 300}}, \"data\": {\"url\": \"https://raw.githubusercontent.com/nlvcorpus/nlvcorpus.github.io/main/datasets/cars.csv\"}, \"mark\": {\"type\": \"point\", \"filled\": true, \"opacity\": 0.8, \"tooltip\": null}, \"encoding\": {\"x\": {\"field\": \"Displacement\", \"type\": \"quantitative\", \"axis\": {\"format\": \"~s\"}}, \"y\": {\"field\": \"MPG\", \"type\": \"quantitative\", \"axis\": {\"format\": \"~s\"}}, \"color\": {\"field\": \"Origin\", \"type\": \"nominal\"}}, \"$schema\": \"https://vega.github.io/schema/vega-lite/v4.17.0.json\"}, {\"mode\": \"vega-lite\"});\n",
       "</script>"
      ],
      "text/plain": [
       "alt.Chart(...)"
      ]
     },
     "metadata": {},
     "output_type": "display_data"
    },
    {
     "name": "stdout",
     "output_type": "stream",
     "text": [
      "Vega-lite specification:\n",
      "\n",
      "{'$schema': 'https://vega.github.io/schema/vega-lite/v4.17.0.json', 'data': {'url': 'https://raw.githubusercontent.com/nlvcorpus/nlvcorpus.github.io/main/datasets/cars.csv'}, 'mark': {'type': 'point', 'filled': True, 'opacity': 0.8, 'tooltip': None}, 'encoding': {'x': {'field': 'Displacement', 'type': 'quantitative', 'axis': {'format': '~s'}}, 'y': {'field': 'MPG', 'type': 'quantitative', 'axis': {'format': '~s'}}, 'color': {'field': 'Origin', 'type': 'nominal'}}}\n",
      "------------------------------------------------------------------------------------------------------\n",
      "Problem number: 78\n",
      "\n",
      "Query:\n",
      "\n",
      "show me how each rating, broken down by creative type, affects the average production budget\n",
      "\n",
      "Visualisation:\n",
      "\n"
     ]
    },
    {
     "data": {
      "text/html": [
       "\n",
       "<div id=\"altair-viz-4c994323008143a98506025efaec820f\"></div>\n",
       "<script type=\"text/javascript\">\n",
       "  var VEGA_DEBUG = (typeof VEGA_DEBUG == \"undefined\") ? {} : VEGA_DEBUG;\n",
       "  (function(spec, embedOpt){\n",
       "    let outputDiv = document.currentScript.previousElementSibling;\n",
       "    if (outputDiv.id !== \"altair-viz-4c994323008143a98506025efaec820f\") {\n",
       "      outputDiv = document.getElementById(\"altair-viz-4c994323008143a98506025efaec820f\");\n",
       "    }\n",
       "    const paths = {\n",
       "      \"vega\": \"https://cdn.jsdelivr.net/npm//vega@5?noext\",\n",
       "      \"vega-lib\": \"https://cdn.jsdelivr.net/npm//vega-lib?noext\",\n",
       "      \"vega-lite\": \"https://cdn.jsdelivr.net/npm//vega-lite@4.17.0?noext\",\n",
       "      \"vega-embed\": \"https://cdn.jsdelivr.net/npm//vega-embed@6?noext\",\n",
       "    };\n",
       "\n",
       "    function maybeLoadScript(lib, version) {\n",
       "      var key = `${lib.replace(\"-\", \"\")}_version`;\n",
       "      return (VEGA_DEBUG[key] == version) ?\n",
       "        Promise.resolve(paths[lib]) :\n",
       "        new Promise(function(resolve, reject) {\n",
       "          var s = document.createElement('script');\n",
       "          document.getElementsByTagName(\"head\")[0].appendChild(s);\n",
       "          s.async = true;\n",
       "          s.onload = () => {\n",
       "            VEGA_DEBUG[key] = version;\n",
       "            return resolve(paths[lib]);\n",
       "          };\n",
       "          s.onerror = () => reject(`Error loading script: ${paths[lib]}`);\n",
       "          s.src = paths[lib];\n",
       "        });\n",
       "    }\n",
       "\n",
       "    function showError(err) {\n",
       "      outputDiv.innerHTML = `<div class=\"error\" style=\"color:red;\">${err}</div>`;\n",
       "      throw err;\n",
       "    }\n",
       "\n",
       "    function displayChart(vegaEmbed) {\n",
       "      vegaEmbed(outputDiv, spec, embedOpt)\n",
       "        .catch(err => showError(`Javascript Error: ${err.message}<br>This usually means there's a typo in your chart specification. See the javascript console for the full traceback.`));\n",
       "    }\n",
       "\n",
       "    if(typeof define === \"function\" && define.amd) {\n",
       "      requirejs.config({paths});\n",
       "      require([\"vega-embed\"], displayChart, err => showError(`Error loading script: ${err.message}`));\n",
       "    } else {\n",
       "      maybeLoadScript(\"vega\", \"5\")\n",
       "        .then(() => maybeLoadScript(\"vega-lite\", \"4.17.0\"))\n",
       "        .then(() => maybeLoadScript(\"vega-embed\", \"6\"))\n",
       "        .catch(showError)\n",
       "        .then(() => displayChart(vegaEmbed));\n",
       "    }\n",
       "  })({\"config\": {\"view\": {\"continuousWidth\": 400, \"continuousHeight\": 300}}, \"data\": {\"url\": \"https://raw.githubusercontent.com/nlvcorpus/nlvcorpus.github.io/main/datasets/movies.csv\"}, \"mark\": {\"type\": \"bar\", \"tooltip\": null}, \"encoding\": {\"column\": {\"field\": \"Content Rating\", \"type\": \"ordinal\"}, \"x\": {\"field\": \"Creative Type\", \"scale\": {}, \"type\": \"nominal\", \"axis\": {\"title\": \"\", \"labels\": false, \"ticks\": false}}, \"y\": {\"aggregate\": \"mean\", \"field\": \"Production Budget\", \"type\": \"quantitative\", \"axis\": {\"title\": \"AVG (Production Budget)\", \"format\": \"~s\"}}, \"color\": {\"field\": \"Creative Type\", \"type\": \"nominal\"}}, \"$schema\": \"https://vega.github.io/schema/vega-lite/v4.17.0.json\"}, {\"mode\": \"vega-lite\"});\n",
       "</script>"
      ],
      "text/plain": [
       "alt.Chart(...)"
      ]
     },
     "metadata": {},
     "output_type": "display_data"
    },
    {
     "name": "stdout",
     "output_type": "stream",
     "text": [
      "Vega-lite specification:\n",
      "\n",
      "{'$schema': 'https://vega.github.io/schema/vega-lite/v4.17.0.json', 'data': {'url': 'https://raw.githubusercontent.com/nlvcorpus/nlvcorpus.github.io/main/datasets/movies.csv'}, 'mark': {'type': 'bar', 'tooltip': None}, 'encoding': {'column': {'field': 'Content Rating', 'type': 'ordinal'}, 'x': {'field': 'Creative Type', 'scale': {}, 'type': 'nominal', 'axis': {'title': '', 'labels': False, 'ticks': False}}, 'y': {'aggregate': 'mean', 'field': 'Production Budget', 'type': 'quantitative', 'axis': {'title': 'AVG (Production Budget)', 'format': '~s'}}, 'color': {'field': 'Creative Type', 'type': 'nominal'}}}\n",
      "------------------------------------------------------------------------------------------------------\n",
      "Problem number: 24\n",
      "\n",
      "Query:\n",
      "\n",
      "line graph of worldwide gross for each genre for each year starting in 1995 to present\n",
      "\n",
      "Visualisation:\n",
      "\n"
     ]
    },
    {
     "data": {
      "text/html": [
       "\n",
       "<div id=\"altair-viz-a6177db63b234fd4975d2fa461468525\"></div>\n",
       "<script type=\"text/javascript\">\n",
       "  var VEGA_DEBUG = (typeof VEGA_DEBUG == \"undefined\") ? {} : VEGA_DEBUG;\n",
       "  (function(spec, embedOpt){\n",
       "    let outputDiv = document.currentScript.previousElementSibling;\n",
       "    if (outputDiv.id !== \"altair-viz-a6177db63b234fd4975d2fa461468525\") {\n",
       "      outputDiv = document.getElementById(\"altair-viz-a6177db63b234fd4975d2fa461468525\");\n",
       "    }\n",
       "    const paths = {\n",
       "      \"vega\": \"https://cdn.jsdelivr.net/npm//vega@5?noext\",\n",
       "      \"vega-lib\": \"https://cdn.jsdelivr.net/npm//vega-lib?noext\",\n",
       "      \"vega-lite\": \"https://cdn.jsdelivr.net/npm//vega-lite@4.17.0?noext\",\n",
       "      \"vega-embed\": \"https://cdn.jsdelivr.net/npm//vega-embed@6?noext\",\n",
       "    };\n",
       "\n",
       "    function maybeLoadScript(lib, version) {\n",
       "      var key = `${lib.replace(\"-\", \"\")}_version`;\n",
       "      return (VEGA_DEBUG[key] == version) ?\n",
       "        Promise.resolve(paths[lib]) :\n",
       "        new Promise(function(resolve, reject) {\n",
       "          var s = document.createElement('script');\n",
       "          document.getElementsByTagName(\"head\")[0].appendChild(s);\n",
       "          s.async = true;\n",
       "          s.onload = () => {\n",
       "            VEGA_DEBUG[key] = version;\n",
       "            return resolve(paths[lib]);\n",
       "          };\n",
       "          s.onerror = () => reject(`Error loading script: ${paths[lib]}`);\n",
       "          s.src = paths[lib];\n",
       "        });\n",
       "    }\n",
       "\n",
       "    function showError(err) {\n",
       "      outputDiv.innerHTML = `<div class=\"error\" style=\"color:red;\">${err}</div>`;\n",
       "      throw err;\n",
       "    }\n",
       "\n",
       "    function displayChart(vegaEmbed) {\n",
       "      vegaEmbed(outputDiv, spec, embedOpt)\n",
       "        .catch(err => showError(`Javascript Error: ${err.message}<br>This usually means there's a typo in your chart specification. See the javascript console for the full traceback.`));\n",
       "    }\n",
       "\n",
       "    if(typeof define === \"function\" && define.amd) {\n",
       "      requirejs.config({paths});\n",
       "      require([\"vega-embed\"], displayChart, err => showError(`Error loading script: ${err.message}`));\n",
       "    } else {\n",
       "      maybeLoadScript(\"vega\", \"5\")\n",
       "        .then(() => maybeLoadScript(\"vega-lite\", \"4.17.0\"))\n",
       "        .then(() => maybeLoadScript(\"vega-embed\", \"6\"))\n",
       "        .catch(showError)\n",
       "        .then(() => displayChart(vegaEmbed));\n",
       "    }\n",
       "  })({\"config\": {\"view\": {\"continuousWidth\": 400, \"continuousHeight\": 300}}, \"data\": {\"url\": \"https://raw.githubusercontent.com/nlvcorpus/nlvcorpus.github.io/main/datasets/movies.csv\"}, \"mark\": {\"type\": \"line\", \"tooltip\": null}, \"encoding\": {\"x\": {\"timeUnit\": \"year\", \"field\": \"Release Year\", \"type\": \"temporal\", \"axis\": {\"title\": \"Release Year\"}}, \"y\": {\"aggregate\": \"sum\", \"field\": \"Worldwide Gross\", \"type\": \"quantitative\", \"axis\": {\"title\": \"SUM (Worldwide Gross)\", \"format\": \"~s\"}}, \"color\": {\"field\": \"Major Genre\", \"type\": \"nominal\"}}, \"$schema\": \"https://vega.github.io/schema/vega-lite/v4.17.0.json\"}, {\"mode\": \"vega-lite\"});\n",
       "</script>"
      ],
      "text/plain": [
       "alt.Chart(...)"
      ]
     },
     "metadata": {},
     "output_type": "display_data"
    },
    {
     "name": "stdout",
     "output_type": "stream",
     "text": [
      "Vega-lite specification:\n",
      "\n",
      "{'$schema': 'https://vega.github.io/schema/vega-lite/v4.17.0.json', 'data': {'url': 'https://raw.githubusercontent.com/nlvcorpus/nlvcorpus.github.io/main/datasets/movies.csv'}, 'mark': {'type': 'line', 'tooltip': None}, 'encoding': {'x': {'timeUnit': 'year', 'field': 'Release Year', 'type': 'temporal', 'axis': {'title': 'Release Year'}}, 'y': {'aggregate': 'sum', 'field': 'Worldwide Gross', 'type': 'quantitative', 'axis': {'title': 'SUM (Worldwide Gross)', 'format': '~s'}}, 'color': {'field': 'Major Genre', 'type': 'nominal'}}}\n",
      "------------------------------------------------------------------------------------------------------\n",
      "Problem number: 158\n",
      "\n",
      "Query:\n",
      "\n",
      "line chart of total worldwide gross over each release year, line for each genre\n",
      "\n",
      "Visualisation:\n",
      "\n"
     ]
    },
    {
     "data": {
      "text/html": [
       "\n",
       "<div id=\"altair-viz-81f6586fe253452198802244c16ab229\"></div>\n",
       "<script type=\"text/javascript\">\n",
       "  var VEGA_DEBUG = (typeof VEGA_DEBUG == \"undefined\") ? {} : VEGA_DEBUG;\n",
       "  (function(spec, embedOpt){\n",
       "    let outputDiv = document.currentScript.previousElementSibling;\n",
       "    if (outputDiv.id !== \"altair-viz-81f6586fe253452198802244c16ab229\") {\n",
       "      outputDiv = document.getElementById(\"altair-viz-81f6586fe253452198802244c16ab229\");\n",
       "    }\n",
       "    const paths = {\n",
       "      \"vega\": \"https://cdn.jsdelivr.net/npm//vega@5?noext\",\n",
       "      \"vega-lib\": \"https://cdn.jsdelivr.net/npm//vega-lib?noext\",\n",
       "      \"vega-lite\": \"https://cdn.jsdelivr.net/npm//vega-lite@4.17.0?noext\",\n",
       "      \"vega-embed\": \"https://cdn.jsdelivr.net/npm//vega-embed@6?noext\",\n",
       "    };\n",
       "\n",
       "    function maybeLoadScript(lib, version) {\n",
       "      var key = `${lib.replace(\"-\", \"\")}_version`;\n",
       "      return (VEGA_DEBUG[key] == version) ?\n",
       "        Promise.resolve(paths[lib]) :\n",
       "        new Promise(function(resolve, reject) {\n",
       "          var s = document.createElement('script');\n",
       "          document.getElementsByTagName(\"head\")[0].appendChild(s);\n",
       "          s.async = true;\n",
       "          s.onload = () => {\n",
       "            VEGA_DEBUG[key] = version;\n",
       "            return resolve(paths[lib]);\n",
       "          };\n",
       "          s.onerror = () => reject(`Error loading script: ${paths[lib]}`);\n",
       "          s.src = paths[lib];\n",
       "        });\n",
       "    }\n",
       "\n",
       "    function showError(err) {\n",
       "      outputDiv.innerHTML = `<div class=\"error\" style=\"color:red;\">${err}</div>`;\n",
       "      throw err;\n",
       "    }\n",
       "\n",
       "    function displayChart(vegaEmbed) {\n",
       "      vegaEmbed(outputDiv, spec, embedOpt)\n",
       "        .catch(err => showError(`Javascript Error: ${err.message}<br>This usually means there's a typo in your chart specification. See the javascript console for the full traceback.`));\n",
       "    }\n",
       "\n",
       "    if(typeof define === \"function\" && define.amd) {\n",
       "      requirejs.config({paths});\n",
       "      require([\"vega-embed\"], displayChart, err => showError(`Error loading script: ${err.message}`));\n",
       "    } else {\n",
       "      maybeLoadScript(\"vega\", \"5\")\n",
       "        .then(() => maybeLoadScript(\"vega-lite\", \"4.17.0\"))\n",
       "        .then(() => maybeLoadScript(\"vega-embed\", \"6\"))\n",
       "        .catch(showError)\n",
       "        .then(() => displayChart(vegaEmbed));\n",
       "    }\n",
       "  })({\"config\": {\"view\": {\"continuousWidth\": 400, \"continuousHeight\": 300}}, \"data\": {\"url\": \"https://raw.githubusercontent.com/nlvcorpus/nlvcorpus.github.io/main/datasets/movies.csv\"}, \"mark\": {\"type\": \"line\", \"tooltip\": null}, \"encoding\": {\"x\": {\"timeUnit\": \"year\", \"field\": \"Release Year\", \"type\": \"temporal\", \"axis\": {\"title\": \"Release Year\"}}, \"y\": {\"aggregate\": \"sum\", \"field\": \"Worldwide Gross\", \"type\": \"quantitative\", \"axis\": {\"title\": \"SUM (Worldwide Gross)\", \"format\": \"~s\"}}, \"color\": {\"field\": \"Major Genre\", \"type\": \"nominal\"}}, \"$schema\": \"https://vega.github.io/schema/vega-lite/v4.17.0.json\"}, {\"mode\": \"vega-lite\"});\n",
       "</script>"
      ],
      "text/plain": [
       "alt.Chart(...)"
      ]
     },
     "metadata": {},
     "output_type": "display_data"
    },
    {
     "name": "stdout",
     "output_type": "stream",
     "text": [
      "Vega-lite specification:\n",
      "\n",
      "{'$schema': 'https://vega.github.io/schema/vega-lite/v4.17.0.json', 'data': {'url': 'https://raw.githubusercontent.com/nlvcorpus/nlvcorpus.github.io/main/datasets/movies.csv'}, 'mark': {'type': 'line', 'tooltip': None}, 'encoding': {'x': {'timeUnit': 'year', 'field': 'Release Year', 'type': 'temporal', 'axis': {'title': 'Release Year'}}, 'y': {'aggregate': 'sum', 'field': 'Worldwide Gross', 'type': 'quantitative', 'axis': {'title': 'SUM (Worldwide Gross)', 'format': '~s'}}, 'color': {'field': 'Major Genre', 'type': 'nominal'}}}\n",
      "------------------------------------------------------------------------------------------------------\n",
      "Problem number: 22\n",
      "\n",
      "Query:\n",
      "\n",
      "Draw axes for AVG(Horsepower) vs Year, colored by Origin\n",
      "\n",
      "Visualisation:\n",
      "\n"
     ]
    },
    {
     "data": {
      "text/html": [
       "\n",
       "<div id=\"altair-viz-27372264da604ff7b3386476860a3a7e\"></div>\n",
       "<script type=\"text/javascript\">\n",
       "  var VEGA_DEBUG = (typeof VEGA_DEBUG == \"undefined\") ? {} : VEGA_DEBUG;\n",
       "  (function(spec, embedOpt){\n",
       "    let outputDiv = document.currentScript.previousElementSibling;\n",
       "    if (outputDiv.id !== \"altair-viz-27372264da604ff7b3386476860a3a7e\") {\n",
       "      outputDiv = document.getElementById(\"altair-viz-27372264da604ff7b3386476860a3a7e\");\n",
       "    }\n",
       "    const paths = {\n",
       "      \"vega\": \"https://cdn.jsdelivr.net/npm//vega@5?noext\",\n",
       "      \"vega-lib\": \"https://cdn.jsdelivr.net/npm//vega-lib?noext\",\n",
       "      \"vega-lite\": \"https://cdn.jsdelivr.net/npm//vega-lite@4.17.0?noext\",\n",
       "      \"vega-embed\": \"https://cdn.jsdelivr.net/npm//vega-embed@6?noext\",\n",
       "    };\n",
       "\n",
       "    function maybeLoadScript(lib, version) {\n",
       "      var key = `${lib.replace(\"-\", \"\")}_version`;\n",
       "      return (VEGA_DEBUG[key] == version) ?\n",
       "        Promise.resolve(paths[lib]) :\n",
       "        new Promise(function(resolve, reject) {\n",
       "          var s = document.createElement('script');\n",
       "          document.getElementsByTagName(\"head\")[0].appendChild(s);\n",
       "          s.async = true;\n",
       "          s.onload = () => {\n",
       "            VEGA_DEBUG[key] = version;\n",
       "            return resolve(paths[lib]);\n",
       "          };\n",
       "          s.onerror = () => reject(`Error loading script: ${paths[lib]}`);\n",
       "          s.src = paths[lib];\n",
       "        });\n",
       "    }\n",
       "\n",
       "    function showError(err) {\n",
       "      outputDiv.innerHTML = `<div class=\"error\" style=\"color:red;\">${err}</div>`;\n",
       "      throw err;\n",
       "    }\n",
       "\n",
       "    function displayChart(vegaEmbed) {\n",
       "      vegaEmbed(outputDiv, spec, embedOpt)\n",
       "        .catch(err => showError(`Javascript Error: ${err.message}<br>This usually means there's a typo in your chart specification. See the javascript console for the full traceback.`));\n",
       "    }\n",
       "\n",
       "    if(typeof define === \"function\" && define.amd) {\n",
       "      requirejs.config({paths});\n",
       "      require([\"vega-embed\"], displayChart, err => showError(`Error loading script: ${err.message}`));\n",
       "    } else {\n",
       "      maybeLoadScript(\"vega\", \"5\")\n",
       "        .then(() => maybeLoadScript(\"vega-lite\", \"4.17.0\"))\n",
       "        .then(() => maybeLoadScript(\"vega-embed\", \"6\"))\n",
       "        .catch(showError)\n",
       "        .then(() => displayChart(vegaEmbed));\n",
       "    }\n",
       "  })({\"config\": {\"view\": {\"continuousWidth\": 400, \"continuousHeight\": 300}}, \"data\": {\"url\": \"https://raw.githubusercontent.com/nlvcorpus/nlvcorpus.github.io/main/datasets/cars.csv\"}, \"mark\": {\"type\": \"line\", \"tooltip\": null}, \"encoding\": {\"x\": {\"timeUnit\": \"year\", \"field\": \"Year\", \"type\": \"temporal\", \"axis\": {\"title\": \"Year\"}}, \"y\": {\"aggregate\": \"mean\", \"field\": \"Horsepower\", \"type\": \"quantitative\", \"axis\": {\"title\": \"AVG (Horsepower)\", \"format\": \"~s\"}}, \"color\": {\"field\": \"Origin\", \"type\": \"nominal\"}}, \"$schema\": \"https://vega.github.io/schema/vega-lite/v4.17.0.json\"}, {\"mode\": \"vega-lite\"});\n",
       "</script>"
      ],
      "text/plain": [
       "alt.Chart(...)"
      ]
     },
     "metadata": {},
     "output_type": "display_data"
    },
    {
     "name": "stdout",
     "output_type": "stream",
     "text": [
      "Vega-lite specification:\n",
      "\n",
      "{'$schema': 'https://vega.github.io/schema/vega-lite/v4.17.0.json', 'data': {'url': 'https://raw.githubusercontent.com/nlvcorpus/nlvcorpus.github.io/main/datasets/cars.csv'}, 'mark': {'type': 'line', 'tooltip': None}, 'encoding': {'x': {'timeUnit': 'year', 'field': 'Year', 'type': 'temporal', 'axis': {'title': 'Year'}}, 'y': {'aggregate': 'mean', 'field': 'Horsepower', 'type': 'quantitative', 'axis': {'title': 'AVG (Horsepower)', 'format': '~s'}}, 'color': {'field': 'Origin', 'type': 'nominal'}}}\n",
      "------------------------------------------------------------------------------------------------------\n",
      "Problem number: 97\n",
      "\n",
      "Query:\n",
      "\n",
      "scatter plot of production budget vs worldwide gross, colored by genre\n",
      "\n",
      "Visualisation:\n",
      "\n"
     ]
    },
    {
     "data": {
      "text/html": [
       "\n",
       "<div id=\"altair-viz-a7e57ebdecfe4f2c879f1d499149a79f\"></div>\n",
       "<script type=\"text/javascript\">\n",
       "  var VEGA_DEBUG = (typeof VEGA_DEBUG == \"undefined\") ? {} : VEGA_DEBUG;\n",
       "  (function(spec, embedOpt){\n",
       "    let outputDiv = document.currentScript.previousElementSibling;\n",
       "    if (outputDiv.id !== \"altair-viz-a7e57ebdecfe4f2c879f1d499149a79f\") {\n",
       "      outputDiv = document.getElementById(\"altair-viz-a7e57ebdecfe4f2c879f1d499149a79f\");\n",
       "    }\n",
       "    const paths = {\n",
       "      \"vega\": \"https://cdn.jsdelivr.net/npm//vega@5?noext\",\n",
       "      \"vega-lib\": \"https://cdn.jsdelivr.net/npm//vega-lib?noext\",\n",
       "      \"vega-lite\": \"https://cdn.jsdelivr.net/npm//vega-lite@4.17.0?noext\",\n",
       "      \"vega-embed\": \"https://cdn.jsdelivr.net/npm//vega-embed@6?noext\",\n",
       "    };\n",
       "\n",
       "    function maybeLoadScript(lib, version) {\n",
       "      var key = `${lib.replace(\"-\", \"\")}_version`;\n",
       "      return (VEGA_DEBUG[key] == version) ?\n",
       "        Promise.resolve(paths[lib]) :\n",
       "        new Promise(function(resolve, reject) {\n",
       "          var s = document.createElement('script');\n",
       "          document.getElementsByTagName(\"head\")[0].appendChild(s);\n",
       "          s.async = true;\n",
       "          s.onload = () => {\n",
       "            VEGA_DEBUG[key] = version;\n",
       "            return resolve(paths[lib]);\n",
       "          };\n",
       "          s.onerror = () => reject(`Error loading script: ${paths[lib]}`);\n",
       "          s.src = paths[lib];\n",
       "        });\n",
       "    }\n",
       "\n",
       "    function showError(err) {\n",
       "      outputDiv.innerHTML = `<div class=\"error\" style=\"color:red;\">${err}</div>`;\n",
       "      throw err;\n",
       "    }\n",
       "\n",
       "    function displayChart(vegaEmbed) {\n",
       "      vegaEmbed(outputDiv, spec, embedOpt)\n",
       "        .catch(err => showError(`Javascript Error: ${err.message}<br>This usually means there's a typo in your chart specification. See the javascript console for the full traceback.`));\n",
       "    }\n",
       "\n",
       "    if(typeof define === \"function\" && define.amd) {\n",
       "      requirejs.config({paths});\n",
       "      require([\"vega-embed\"], displayChart, err => showError(`Error loading script: ${err.message}`));\n",
       "    } else {\n",
       "      maybeLoadScript(\"vega\", \"5\")\n",
       "        .then(() => maybeLoadScript(\"vega-lite\", \"4.17.0\"))\n",
       "        .then(() => maybeLoadScript(\"vega-embed\", \"6\"))\n",
       "        .catch(showError)\n",
       "        .then(() => displayChart(vegaEmbed));\n",
       "    }\n",
       "  })({\"config\": {\"view\": {\"continuousWidth\": 400, \"continuousHeight\": 300}}, \"data\": {\"url\": \"https://raw.githubusercontent.com/nlvcorpus/nlvcorpus.github.io/main/datasets/movies.csv\"}, \"mark\": {\"type\": \"point\", \"filled\": true, \"opacity\": 0.8, \"tooltip\": null}, \"encoding\": {\"x\": {\"field\": \"Production Budget\", \"type\": \"quantitative\"}, \"y\": {\"field\": \"Worldwide Gross\", \"type\": \"quantitative\", \"axis\": {\"format\": \"~s\"}}, \"color\": {\"field\": \"Major Genre\", \"type\": \"nominal\"}}, \"$schema\": \"https://vega.github.io/schema/vega-lite/v4.17.0.json\"}, {\"mode\": \"vega-lite\"});\n",
       "</script>"
      ],
      "text/plain": [
       "alt.Chart(...)"
      ]
     },
     "metadata": {},
     "output_type": "display_data"
    },
    {
     "name": "stdout",
     "output_type": "stream",
     "text": [
      "Vega-lite specification:\n",
      "\n",
      "{'$schema': 'https://vega.github.io/schema/vega-lite/v4.17.0.json', 'data': {'url': 'https://raw.githubusercontent.com/nlvcorpus/nlvcorpus.github.io/main/datasets/movies.csv'}, 'mark': {'type': 'point', 'filled': True, 'opacity': 0.8, 'tooltip': None}, 'encoding': {'x': {'field': 'Production Budget', 'type': 'quantitative'}, 'y': {'field': 'Worldwide Gross', 'type': 'quantitative', 'axis': {'format': '~s'}}, 'color': {'field': 'Major Genre', 'type': 'nominal'}}}\n",
      "------------------------------------------------------------------------------------------------------\n",
      "Problem number: 0\n",
      "\n",
      "Query:\n",
      "\n",
      "show me average budget split by content rating colored by creative type\n",
      "\n",
      "Visualisation:\n",
      "\n"
     ]
    },
    {
     "data": {
      "text/html": [
       "\n",
       "<div id=\"altair-viz-b911bcf2a6af401ba7b7e6aa7ffacf20\"></div>\n",
       "<script type=\"text/javascript\">\n",
       "  var VEGA_DEBUG = (typeof VEGA_DEBUG == \"undefined\") ? {} : VEGA_DEBUG;\n",
       "  (function(spec, embedOpt){\n",
       "    let outputDiv = document.currentScript.previousElementSibling;\n",
       "    if (outputDiv.id !== \"altair-viz-b911bcf2a6af401ba7b7e6aa7ffacf20\") {\n",
       "      outputDiv = document.getElementById(\"altair-viz-b911bcf2a6af401ba7b7e6aa7ffacf20\");\n",
       "    }\n",
       "    const paths = {\n",
       "      \"vega\": \"https://cdn.jsdelivr.net/npm//vega@5?noext\",\n",
       "      \"vega-lib\": \"https://cdn.jsdelivr.net/npm//vega-lib?noext\",\n",
       "      \"vega-lite\": \"https://cdn.jsdelivr.net/npm//vega-lite@4.17.0?noext\",\n",
       "      \"vega-embed\": \"https://cdn.jsdelivr.net/npm//vega-embed@6?noext\",\n",
       "    };\n",
       "\n",
       "    function maybeLoadScript(lib, version) {\n",
       "      var key = `${lib.replace(\"-\", \"\")}_version`;\n",
       "      return (VEGA_DEBUG[key] == version) ?\n",
       "        Promise.resolve(paths[lib]) :\n",
       "        new Promise(function(resolve, reject) {\n",
       "          var s = document.createElement('script');\n",
       "          document.getElementsByTagName(\"head\")[0].appendChild(s);\n",
       "          s.async = true;\n",
       "          s.onload = () => {\n",
       "            VEGA_DEBUG[key] = version;\n",
       "            return resolve(paths[lib]);\n",
       "          };\n",
       "          s.onerror = () => reject(`Error loading script: ${paths[lib]}`);\n",
       "          s.src = paths[lib];\n",
       "        });\n",
       "    }\n",
       "\n",
       "    function showError(err) {\n",
       "      outputDiv.innerHTML = `<div class=\"error\" style=\"color:red;\">${err}</div>`;\n",
       "      throw err;\n",
       "    }\n",
       "\n",
       "    function displayChart(vegaEmbed) {\n",
       "      vegaEmbed(outputDiv, spec, embedOpt)\n",
       "        .catch(err => showError(`Javascript Error: ${err.message}<br>This usually means there's a typo in your chart specification. See the javascript console for the full traceback.`));\n",
       "    }\n",
       "\n",
       "    if(typeof define === \"function\" && define.amd) {\n",
       "      requirejs.config({paths});\n",
       "      require([\"vega-embed\"], displayChart, err => showError(`Error loading script: ${err.message}`));\n",
       "    } else {\n",
       "      maybeLoadScript(\"vega\", \"5\")\n",
       "        .then(() => maybeLoadScript(\"vega-lite\", \"4.17.0\"))\n",
       "        .then(() => maybeLoadScript(\"vega-embed\", \"6\"))\n",
       "        .catch(showError)\n",
       "        .then(() => displayChart(vegaEmbed));\n",
       "    }\n",
       "  })({\"config\": {\"view\": {\"continuousWidth\": 400, \"continuousHeight\": 300}}, \"data\": {\"url\": \"https://raw.githubusercontent.com/nlvcorpus/nlvcorpus.github.io/main/datasets/movies.csv\"}, \"mark\": {\"type\": \"bar\", \"tooltip\": null}, \"encoding\": {\"column\": {\"field\": \"Content Rating\", \"type\": \"ordinal\"}, \"x\": {\"field\": \"Creative Type\", \"scale\": {}, \"type\": \"nominal\", \"axis\": {\"title\": \"\", \"labels\": false, \"ticks\": false}}, \"y\": {\"aggregate\": \"mean\", \"field\": \"Production Budget\", \"type\": \"quantitative\", \"axis\": {\"title\": \"AVG (Production Budget)\", \"format\": \"~s\"}}, \"color\": {\"field\": \"Creative Type\", \"type\": \"nominal\"}}, \"$schema\": \"https://vega.github.io/schema/vega-lite/v4.17.0.json\"}, {\"mode\": \"vega-lite\"});\n",
       "</script>"
      ],
      "text/plain": [
       "alt.Chart(...)"
      ]
     },
     "metadata": {},
     "output_type": "display_data"
    },
    {
     "name": "stdout",
     "output_type": "stream",
     "text": [
      "Vega-lite specification:\n",
      "\n",
      "{'$schema': 'https://vega.github.io/schema/vega-lite/v4.17.0.json', 'data': {'url': 'https://raw.githubusercontent.com/nlvcorpus/nlvcorpus.github.io/main/datasets/movies.csv'}, 'mark': {'type': 'bar', 'tooltip': None}, 'encoding': {'column': {'field': 'Content Rating', 'type': 'ordinal'}, 'x': {'field': 'Creative Type', 'scale': {}, 'type': 'nominal', 'axis': {'title': '', 'labels': False, 'ticks': False}}, 'y': {'aggregate': 'mean', 'field': 'Production Budget', 'type': 'quantitative', 'axis': {'title': 'AVG (Production Budget)', 'format': '~s'}}, 'color': {'field': 'Creative Type', 'type': 'nominal'}}}\n",
      "------------------------------------------------------------------------------------------------------\n",
      "Problem number: 137\n",
      "\n",
      "Query:\n",
      "\n",
      "Draw the axes for the average of Weight vs Year\n",
      "\n",
      "Visualisation:\n",
      "\n"
     ]
    },
    {
     "data": {
      "text/html": [
       "\n",
       "<div id=\"altair-viz-8926bc38bc964329a71bc84f334c1b9a\"></div>\n",
       "<script type=\"text/javascript\">\n",
       "  var VEGA_DEBUG = (typeof VEGA_DEBUG == \"undefined\") ? {} : VEGA_DEBUG;\n",
       "  (function(spec, embedOpt){\n",
       "    let outputDiv = document.currentScript.previousElementSibling;\n",
       "    if (outputDiv.id !== \"altair-viz-8926bc38bc964329a71bc84f334c1b9a\") {\n",
       "      outputDiv = document.getElementById(\"altair-viz-8926bc38bc964329a71bc84f334c1b9a\");\n",
       "    }\n",
       "    const paths = {\n",
       "      \"vega\": \"https://cdn.jsdelivr.net/npm//vega@5?noext\",\n",
       "      \"vega-lib\": \"https://cdn.jsdelivr.net/npm//vega-lib?noext\",\n",
       "      \"vega-lite\": \"https://cdn.jsdelivr.net/npm//vega-lite@4.17.0?noext\",\n",
       "      \"vega-embed\": \"https://cdn.jsdelivr.net/npm//vega-embed@6?noext\",\n",
       "    };\n",
       "\n",
       "    function maybeLoadScript(lib, version) {\n",
       "      var key = `${lib.replace(\"-\", \"\")}_version`;\n",
       "      return (VEGA_DEBUG[key] == version) ?\n",
       "        Promise.resolve(paths[lib]) :\n",
       "        new Promise(function(resolve, reject) {\n",
       "          var s = document.createElement('script');\n",
       "          document.getElementsByTagName(\"head\")[0].appendChild(s);\n",
       "          s.async = true;\n",
       "          s.onload = () => {\n",
       "            VEGA_DEBUG[key] = version;\n",
       "            return resolve(paths[lib]);\n",
       "          };\n",
       "          s.onerror = () => reject(`Error loading script: ${paths[lib]}`);\n",
       "          s.src = paths[lib];\n",
       "        });\n",
       "    }\n",
       "\n",
       "    function showError(err) {\n",
       "      outputDiv.innerHTML = `<div class=\"error\" style=\"color:red;\">${err}</div>`;\n",
       "      throw err;\n",
       "    }\n",
       "\n",
       "    function displayChart(vegaEmbed) {\n",
       "      vegaEmbed(outputDiv, spec, embedOpt)\n",
       "        .catch(err => showError(`Javascript Error: ${err.message}<br>This usually means there's a typo in your chart specification. See the javascript console for the full traceback.`));\n",
       "    }\n",
       "\n",
       "    if(typeof define === \"function\" && define.amd) {\n",
       "      requirejs.config({paths});\n",
       "      require([\"vega-embed\"], displayChart, err => showError(`Error loading script: ${err.message}`));\n",
       "    } else {\n",
       "      maybeLoadScript(\"vega\", \"5\")\n",
       "        .then(() => maybeLoadScript(\"vega-lite\", \"4.17.0\"))\n",
       "        .then(() => maybeLoadScript(\"vega-embed\", \"6\"))\n",
       "        .catch(showError)\n",
       "        .then(() => displayChart(vegaEmbed));\n",
       "    }\n",
       "  })({\"config\": {\"view\": {\"continuousWidth\": 400, \"continuousHeight\": 300}}, \"data\": {\"url\": \"https://raw.githubusercontent.com/nlvcorpus/nlvcorpus.github.io/main/datasets/cars.csv\"}, \"mark\": {\"type\": \"line\", \"tooltip\": null}, \"encoding\": {\"x\": {\"timeUnit\": \"year\", \"field\": \"Year\", \"type\": \"temporal\", \"axis\": {\"title\": \"Year\"}}, \"y\": {\"aggregate\": \"mean\", \"field\": \"Weight\", \"type\": \"quantitative\", \"axis\": {\"title\": \"AVG (Weight)\", \"format\": \"~s\"}}}, \"$schema\": \"https://vega.github.io/schema/vega-lite/v4.17.0.json\"}, {\"mode\": \"vega-lite\"});\n",
       "</script>"
      ],
      "text/plain": [
       "alt.Chart(...)"
      ]
     },
     "metadata": {},
     "output_type": "display_data"
    },
    {
     "name": "stdout",
     "output_type": "stream",
     "text": [
      "Vega-lite specification:\n",
      "\n",
      "{'$schema': 'https://vega.github.io/schema/vega-lite/v4.17.0.json', 'data': {'url': 'https://raw.githubusercontent.com/nlvcorpus/nlvcorpus.github.io/main/datasets/cars.csv'}, 'mark': {'type': 'line', 'tooltip': None}, 'encoding': {'x': {'timeUnit': 'year', 'field': 'Year', 'type': 'temporal', 'axis': {'title': 'Year'}}, 'y': {'aggregate': 'mean', 'field': 'Weight', 'type': 'quantitative', 'axis': {'title': 'AVG (Weight)', 'format': '~s'}}}}\n",
      "------------------------------------------------------------------------------------------------------\n",
      "Problem number: 2\n",
      "\n",
      "Query:\n",
      "\n",
      "show me horsepower vs acceleration\n",
      "\n",
      "Visualisation:\n",
      "\n"
     ]
    },
    {
     "data": {
      "text/html": [
       "\n",
       "<div id=\"altair-viz-8a20bb5296f34d22a035d607468c3546\"></div>\n",
       "<script type=\"text/javascript\">\n",
       "  var VEGA_DEBUG = (typeof VEGA_DEBUG == \"undefined\") ? {} : VEGA_DEBUG;\n",
       "  (function(spec, embedOpt){\n",
       "    let outputDiv = document.currentScript.previousElementSibling;\n",
       "    if (outputDiv.id !== \"altair-viz-8a20bb5296f34d22a035d607468c3546\") {\n",
       "      outputDiv = document.getElementById(\"altair-viz-8a20bb5296f34d22a035d607468c3546\");\n",
       "    }\n",
       "    const paths = {\n",
       "      \"vega\": \"https://cdn.jsdelivr.net/npm//vega@5?noext\",\n",
       "      \"vega-lib\": \"https://cdn.jsdelivr.net/npm//vega-lib?noext\",\n",
       "      \"vega-lite\": \"https://cdn.jsdelivr.net/npm//vega-lite@4.17.0?noext\",\n",
       "      \"vega-embed\": \"https://cdn.jsdelivr.net/npm//vega-embed@6?noext\",\n",
       "    };\n",
       "\n",
       "    function maybeLoadScript(lib, version) {\n",
       "      var key = `${lib.replace(\"-\", \"\")}_version`;\n",
       "      return (VEGA_DEBUG[key] == version) ?\n",
       "        Promise.resolve(paths[lib]) :\n",
       "        new Promise(function(resolve, reject) {\n",
       "          var s = document.createElement('script');\n",
       "          document.getElementsByTagName(\"head\")[0].appendChild(s);\n",
       "          s.async = true;\n",
       "          s.onload = () => {\n",
       "            VEGA_DEBUG[key] = version;\n",
       "            return resolve(paths[lib]);\n",
       "          };\n",
       "          s.onerror = () => reject(`Error loading script: ${paths[lib]}`);\n",
       "          s.src = paths[lib];\n",
       "        });\n",
       "    }\n",
       "\n",
       "    function showError(err) {\n",
       "      outputDiv.innerHTML = `<div class=\"error\" style=\"color:red;\">${err}</div>`;\n",
       "      throw err;\n",
       "    }\n",
       "\n",
       "    function displayChart(vegaEmbed) {\n",
       "      vegaEmbed(outputDiv, spec, embedOpt)\n",
       "        .catch(err => showError(`Javascript Error: ${err.message}<br>This usually means there's a typo in your chart specification. See the javascript console for the full traceback.`));\n",
       "    }\n",
       "\n",
       "    if(typeof define === \"function\" && define.amd) {\n",
       "      requirejs.config({paths});\n",
       "      require([\"vega-embed\"], displayChart, err => showError(`Error loading script: ${err.message}`));\n",
       "    } else {\n",
       "      maybeLoadScript(\"vega\", \"5\")\n",
       "        .then(() => maybeLoadScript(\"vega-lite\", \"4.17.0\"))\n",
       "        .then(() => maybeLoadScript(\"vega-embed\", \"6\"))\n",
       "        .catch(showError)\n",
       "        .then(() => displayChart(vegaEmbed));\n",
       "    }\n",
       "  })({\"config\": {\"view\": {\"continuousWidth\": 400, \"continuousHeight\": 300}}, \"data\": {\"url\": \"https://raw.githubusercontent.com/nlvcorpus/nlvcorpus.github.io/main/datasets/cars.csv\"}, \"mark\": {\"type\": \"point\", \"filled\": true, \"opacity\": 0.7, \"tooltip\": null}, \"encoding\": {\"x\": {\"field\": \"Horsepower\", \"type\": \"quantitative\"}, \"y\": {\"field\": \"Acceleration\", \"type\": \"quantitative\"}}, \"$schema\": \"https://vega.github.io/schema/vega-lite/v4.17.0.json\"}, {\"mode\": \"vega-lite\"});\n",
       "</script>"
      ],
      "text/plain": [
       "alt.Chart(...)"
      ]
     },
     "metadata": {},
     "output_type": "display_data"
    },
    {
     "name": "stdout",
     "output_type": "stream",
     "text": [
      "Vega-lite specification:\n",
      "\n",
      "{'$schema': 'https://vega.github.io/schema/vega-lite/v4.17.0.json', 'data': {'url': 'https://raw.githubusercontent.com/nlvcorpus/nlvcorpus.github.io/main/datasets/cars.csv'}, 'mark': {'type': 'point', 'filled': True, 'opacity': 0.7, 'tooltip': None}, 'encoding': {'x': {'field': 'Horsepower', 'type': 'quantitative'}, 'y': {'field': 'Acceleration', 'type': 'quantitative'}}}\n"
     ]
    }
   ],
   "source": [
    "# Render logical specifications\n",
    "unit_tests = [validated_dsource_outputs,\n",
    "              validated_mtype_outputs,\n",
    "              validated_pchannel_outputs,\n",
    "              validated_fchannel_outputs,\n",
    "              validated_mchannel_outputs,\n",
    "              validated_dchannel_outputs]\n",
    "try:\n",
    "    render_logical(validated_model_outputs, unit_tests, 20)\n",
    "except ValueError:\n",
    "    pass"
   ]
  },
  {
   "cell_type": "markdown",
   "id": "d10eda64",
   "metadata": {
    "id": "d10eda64"
   },
   "source": [
    "# Print invalid specifications"
   ]
  },
  {
   "cell_type": "markdown",
   "id": "6c30f883",
   "metadata": {
    "id": "6c30f883"
   },
   "source": [
    "## Functions"
   ]
  },
  {
   "cell_type": "code",
   "execution_count": null,
   "id": "iThgH4F6oVvX",
   "metadata": {
    "id": "iThgH4F6oVvX"
   },
   "outputs": [],
   "source": [
    "def print_attribute_errors(raw_df, validated_df, n_samples):\n",
    "    \"\"\" raw_df = raw unparsed reshaped model outputs\n",
    "    validated_df = reshaped validated outputs\n",
    "    n_samples = number of random samples to render\"\"\"\n",
    "\n",
    "    # Filter invalid specifications\n",
    "    is_invalid = validated_df.copy(deep=True)\n",
    "    is_invalid = is_invalid.isin(\n",
    "        ['Attribute error'])\n",
    "\n",
    "    # Filter out rows with NaN in first column\n",
    "    samples = validated_df[is_invalid]\n",
    "    samples = samples[samples[0].notna()]\n",
    "\n",
    "    # Sample\n",
    "    samples = random.sample(samples.index.tolist(), n_samples)\n",
    "\n",
    "    # Print\n",
    "    for problem in samples:\n",
    "        print(\"------------------------------------------------------------------------------------------------------\")\n",
    "        print(f\"Problem number: {problem}\")\n",
    "        print(f\"\\nQuery:\\n\")\n",
    "        print(model_inputs.loc[problem, 'query'])\n",
    "        print(f\"\\nRaw output:\\n\")\n",
    "        print(raw_df.iloc[problem, 0])"
   ]
  },
  {
   "cell_type": "code",
   "execution_count": null,
   "id": "839d0e88",
   "metadata": {
    "id": "839d0e88"
   },
   "outputs": [],
   "source": [
    "def print_syntax_errors(parsed_df, validated_df, n_samples):\n",
    "    \"\"\" raw_df = raw unparsed reshaped model outputs\n",
    "    validated_df = reshaped validated outputs\n",
    "    n_samples = number of random samples to render\"\"\"\n",
    "\n",
    "    # Filter invalid specifications\n",
    "    is_invalid = validated_df.copy(deep=True)\n",
    "    is_invalid = is_invalid.isin(\n",
    "        ['Syntax error', 'Type error', 'Value error'])\n",
    "\n",
    "    # Filter out rows with NaN in first column\n",
    "    samples = validated_df[is_invalid]\n",
    "    samples = samples[samples[0].notna()]\n",
    "\n",
    "    # Sample\n",
    "    samples = random.sample(samples.index.tolist(), n_samples)\n",
    "\n",
    "    # Print\n",
    "    for problem in samples:\n",
    "        print(\"------------------------------------------------------------------------------------------------------\")\n",
    "        print(f\"Problem number: {problem}\")\n",
    "        print(f\"\\nQuery:\\n\")\n",
    "        print(model_inputs.loc[problem, 'query'])\n",
    "        print(f\"\\nParsed output:\\n\")\n",
    "        print(parsed_df.iloc[problem, 0])"
   ]
  },
  {
   "cell_type": "code",
   "execution_count": null,
   "id": "ba98b77d",
   "metadata": {
    "id": "ba98b77d"
   },
   "outputs": [],
   "source": [
    "def print_validation_errors(parsed_df, validated_df, n_samples):\n",
    "    \"\"\" parsed_df = parsed reshaped model outputs\n",
    "    validated_df = reshaped validated outputs\n",
    "    n_samples = number of random samples to render\"\"\"\n",
    "\n",
    "    # Filter invalid specifications\n",
    "    is_invalid = validated_df.copy(deep=True)\n",
    "    is_invalid = is_invalid.isin(\n",
    "        ['Schema error', 'Validation error'])\n",
    "\n",
    "    # Filter out rows with NaN in first column\n",
    "    samples = validated_df[is_invalid]\n",
    "    samples = samples[samples[0].notna()]\n",
    "\n",
    "    # Sample\n",
    "    samples = random.sample(samples.index.tolist(), n_samples)\n",
    "\n",
    "    # Print\n",
    "    for problem in samples:\n",
    "        print(\"------------------------------------------------------------------------------------------------------\")\n",
    "        print(f\"Problem number: {problem}\")\n",
    "        print(f\"\\nQuery:\\n\")\n",
    "        print(model_inputs.loc[problem, 'query'])\n",
    "        print(f\"\\nParsed output:\\n\")\n",
    "        print(parsed_df.iloc[problem, 0])"
   ]
  },
  {
   "cell_type": "code",
   "execution_count": null,
   "id": "5e8a92c8",
   "metadata": {
    "id": "5e8a92c8"
   },
   "outputs": [],
   "source": [
    "def print_nonlogical_specs(validated_df, unit_test, n_samples):\n",
    "    \"\"\"validated_df = reshaped validated outputs\n",
    "    unit_test = results for a selected unit test\n",
    "    n_samples = number of random samples to render\"\"\"\n",
    "\n",
    "    # Filter invalid specifications\n",
    "    is_invalid = unit_test.copy(deep=True)\n",
    "    is_invalid = is_invalid.applymap(lambda x: True if x == False else False)\n",
    "\n",
    "    # Filter out rows with NaN in first column\n",
    "    samples = validated_df[is_invalid]\n",
    "    samples = samples[samples[0].notna()]\n",
    "\n",
    "    # Sample\n",
    "    samples = random.sample(samples.index.tolist(), n_samples)\n",
    "\n",
    "    # Print\n",
    "    for problem in samples:\n",
    "        print(\"------------------------------------------------------------------------------------------------------\")\n",
    "        print(f\"Problem number: {problem}\")\n",
    "        print(f\"\\nQuery:\\n\")\n",
    "        print(model_inputs.loc[problem, 'query'])\n",
    "        print(\"\\n\")\n",
    "        print(f\"\\nVisualisation:\\n\")\n",
    "        chart = alt.Chart(**validated_model_outputs.iloc[problem, 0])\n",
    "        chart.display()\n",
    "        print(f\"Vega-lite specification:\\n\")\n",
    "        print(validated_model_outputs.iloc[problem, 0])\n",
    "        print(\"\\n\")\n",
    "        print(f\"Target:\\n\")\n",
    "        print(model_inputs.loc[problem, 'spec'])"
   ]
  },
  {
   "cell_type": "markdown",
   "id": "c09b65d6",
   "metadata": {
    "id": "c09b65d6"
   },
   "source": [
    "## Attribute errors"
   ]
  },
  {
   "cell_type": "code",
   "execution_count": null,
   "id": "0WhXAgYAqBzy",
   "metadata": {
    "id": "0WhXAgYAqBzy",
    "scrolled": true
   },
   "outputs": [],
   "source": [
    "# Attribute\n",
    "try:\n",
    "    print_attribute_errors(raw_model_outputs, validated_model_outputs, 1)\n",
    "except ValueError:\n",
    "    pass"
   ]
  },
  {
   "cell_type": "markdown",
   "id": "d7008b5b",
   "metadata": {
    "id": "d7008b5b"
   },
   "source": [
    "## Syntax errors"
   ]
  },
  {
   "cell_type": "code",
   "execution_count": null,
   "id": "vrpKIPtBp10q",
   "metadata": {
    "colab": {
     "base_uri": "https://localhost:8080/"
    },
    "executionInfo": {
     "elapsed": 41,
     "status": "ok",
     "timestamp": 1669588187066,
     "user": {
      "displayName": "Billy Pitchford",
      "userId": "01251209915329143145"
     },
     "user_tz": 0
    },
    "id": "vrpKIPtBp10q",
    "outputId": "48f6d081-05d9-4f28-ccac-972262dc0e44"
   },
   "outputs": [
    {
     "name": "stdout",
     "output_type": "stream",
     "text": [
      "------------------------------------------------------------------------------------------------------\n",
      "Problem number: 128\n",
      "\n",
      "Query:\n",
      "\n",
      "Bar chart scale -10000-50000 average profit vs. state all orders\n",
      "\n",
      "Parsed output:\n",
      "\n",
      "Syntax error\n"
     ]
    }
   ],
   "source": [
    "# Syntax\n",
    "try:\n",
    "    print_syntax_errors(parsed_model_outputs, validated_model_outputs, 1)\n",
    "except ValueError:\n",
    "    pass"
   ]
  },
  {
   "cell_type": "markdown",
   "id": "ca7618a8",
   "metadata": {
    "id": "ca7618a8"
   },
   "source": [
    "## Validation errors"
   ]
  },
  {
   "cell_type": "code",
   "execution_count": null,
   "id": "f95ea52e",
   "metadata": {
    "colab": {
     "base_uri": "https://localhost:8080/"
    },
    "executionInfo": {
     "elapsed": 33,
     "status": "ok",
     "timestamp": 1669588187067,
     "user": {
      "displayName": "Billy Pitchford",
      "userId": "01251209915329143145"
     },
     "user_tz": 0
    },
    "id": "f95ea52e",
    "outputId": "a76d9fa8-1638-4e58-9f61-65477545b617",
    "scrolled": true
   },
   "outputs": [
    {
     "name": "stdout",
     "output_type": "stream",
     "text": [
      "------------------------------------------------------------------------------------------------------\n",
      "Problem number: 130\n",
      "\n",
      "Query:\n",
      "\n",
      "show me distribution of gross as a strip plot\n",
      "\n",
      "Parsed output:\n",
      "\n",
      "{'$schema': 'https://vega.github.io/schema/vega-lite/v4.17.0.json', 'mark': {'type': 'tick', 'tooltip': True}, 'encoding': {'y': {'field': 'Worldwide Gross', 'type': 'quantitative', 'aggregate': None, 'axis': {'format': 's'}}, 'x': {'field': 'Genre', 'type': 'nominal', 'aggregate': None}, 'tooltip': {'field': 'Title'}}, 'transform': [], 'data': {'url': 'https://raw.githubusercontent.com/nl4dv/nl4dv/master/examples/assets/data/movies-w-year.csv', 'format': {'type': 'csv'}}}\n",
      "------------------------------------------------------------------------------------------------------\n",
      "Problem number: 106\n",
      "\n",
      "Query:\n",
      "\n",
      "show an area chart of how acceleration has evolved over the years across origin\n",
      "\n",
      "Parsed output:\n",
      "\n",
      "{'$schema': 'https://vega.github.io/schema/vega-lite/v4.17.0.json', 'mark': {'type': 'area', 'tooltip': True}, 'encoding': {'x': {'field': 'MPG', 'type': 'quantitative', 'aggregate': None, 'axis': {'format': 's'}}, 'y': {'field': 'Acceleration', 'type': 'quantitative', 'aggregate': None, 'axis': {'format': 's'}}, 'color': {'field': 'Origin', 'type': 'nominal', 'aggregate': None}, 'tooltip': {'field': 'Model'}}, 'transform': [], 'data': {'url': 'https://raw.githubusercontent.com/nl4dv/nl4dv/master/examples/assets/data/cars-w-year.csv', 'format': {'type': 'csv'}}}\n",
      "------------------------------------------------------------------------------------------------------\n",
      "Problem number: 109\n",
      "\n",
      "Query:\n",
      "\n",
      "Sum(Sales) 1 Sum(Profit) 2 by region render cluster\n",
      "\n",
      "Parsed output:\n",
      "\n",
      "{'$schema': 'https://vega.github.io/schema/vega-lite/v4.17.0.json', 'data': {'url': 'https://raw.githubusercontent.com/nlvcorpus/nlvcorpus.github.io/main/datasets/superstore.csv'}, 'mark': {'type': 'point', 'filled': True, 'opacity': 0.5, 'tooltip': None}, 'encoding': {'x': {'field': 'Region', 'type': 'nominal'}, 'y': {'field': 'Sales', 'type': 'quantitative'}, 'z': {'field': 'Profit', 'type': 'quantitative'}}}\n",
      "------------------------------------------------------------------------------------------------------\n",
      "Problem number: 28\n",
      "\n",
      "Query:\n",
      "\n",
      "show movies whose production budget equals 200M as a barchart\n",
      "\n",
      "Parsed output:\n",
      "\n",
      "{'$schema': 'https://vega.github.io/schema/vega-lite/v4.17.0.json', 'mark': {'type': 'bar', 'tooltip': True}, 'encoding': {'y': {'field': 'Production Budget', 'type': 'quantitative', 'aggregate': 'mean', 'axis': {'format': 's'}}, 'color': {'field': 'Creative Type', 'type': 'nominal', 'aggregate': None}, 'x': {'field': 'Release Year', 'type': 'temporal', 'aggregate': None}}, 'transform': [], 'data': {'url': 'https://raw.githubusercontent.com/nl4dv/nl4dv/master/examples/assets/data/movies-w-year.csv', 'format': {'type': 'csv'}}}\n",
      "------------------------------------------------------------------------------------------------------\n",
      "Problem number: 146\n",
      "\n",
      "Query:\n",
      "\n",
      "Give me a stacked column chart of worldwide gross by genre and rating\n",
      "\n",
      "Parsed output:\n",
      "\n",
      "{'$schema': 'https://vega.github.io/schema/vega-lite/v4.17.0.json', 'data': {'url': 'https://raw.githubusercontent.com/nlvcorpus/nlvcorpus.github.io/main/datasets/movies.csv'}, 'mark': {'type': 'column', 'tooltip': None}, 'encoding': {'x': {'field': 'Major Genre', 'type': 'ordinal'}, 'y': {'aggregate': 'sum', 'field': 'Worldwide Gross', 'type': 'quantitative', 'axis': {'title': 'SUM (Worldwide Gross)', 'format': '~s'}}, 'color': {'field': 'Content Rating', 'type': 'nominal'}}}\n"
     ]
    }
   ],
   "source": [
    "# Validation\n",
    "try:\n",
    "    print_validation_errors(parsed_model_outputs, validated_model_outputs, 5)\n",
    "except ValueError:\n",
    "    pass"
   ]
  },
  {
   "cell_type": "markdown",
   "id": "e0f732f3",
   "metadata": {
    "id": "e0f732f3"
   },
   "source": [
    "## Logic errors"
   ]
  },
  {
   "cell_type": "code",
   "execution_count": null,
   "id": "2d31fd78",
   "metadata": {
    "colab": {
     "base_uri": "https://localhost:8080/",
     "height": 625
    },
    "executionInfo": {
     "elapsed": 26,
     "status": "ok",
     "timestamp": 1669588187068,
     "user": {
      "displayName": "Billy Pitchford",
      "userId": "01251209915329143145"
     },
     "user_tz": 0
    },
    "id": "2d31fd78",
    "outputId": "d822965a-7b59-499b-84b6-599bdad0ee8a"
   },
   "outputs": [
    {
     "name": "stdout",
     "output_type": "stream",
     "text": [
      "------------------------------------------------------------------------------------------------------\n",
      "Problem number: 68\n",
      "\n",
      "Query:\n",
      "\n",
      "How has horsepower changed over time by country?\n",
      "\n",
      "\n",
      "\n",
      "Visualisation:\n",
      "\n"
     ]
    },
    {
     "data": {
      "text/html": [
       "\n",
       "<div id=\"altair-viz-841e8ad72f3546149bfd9b44f1d92398\"></div>\n",
       "<script type=\"text/javascript\">\n",
       "  var VEGA_DEBUG = (typeof VEGA_DEBUG == \"undefined\") ? {} : VEGA_DEBUG;\n",
       "  (function(spec, embedOpt){\n",
       "    let outputDiv = document.currentScript.previousElementSibling;\n",
       "    if (outputDiv.id !== \"altair-viz-841e8ad72f3546149bfd9b44f1d92398\") {\n",
       "      outputDiv = document.getElementById(\"altair-viz-841e8ad72f3546149bfd9b44f1d92398\");\n",
       "    }\n",
       "    const paths = {\n",
       "      \"vega\": \"https://cdn.jsdelivr.net/npm//vega@5?noext\",\n",
       "      \"vega-lib\": \"https://cdn.jsdelivr.net/npm//vega-lib?noext\",\n",
       "      \"vega-lite\": \"https://cdn.jsdelivr.net/npm//vega-lite@4.17.0?noext\",\n",
       "      \"vega-embed\": \"https://cdn.jsdelivr.net/npm//vega-embed@6?noext\",\n",
       "    };\n",
       "\n",
       "    function maybeLoadScript(lib, version) {\n",
       "      var key = `${lib.replace(\"-\", \"\")}_version`;\n",
       "      return (VEGA_DEBUG[key] == version) ?\n",
       "        Promise.resolve(paths[lib]) :\n",
       "        new Promise(function(resolve, reject) {\n",
       "          var s = document.createElement('script');\n",
       "          document.getElementsByTagName(\"head\")[0].appendChild(s);\n",
       "          s.async = true;\n",
       "          s.onload = () => {\n",
       "            VEGA_DEBUG[key] = version;\n",
       "            return resolve(paths[lib]);\n",
       "          };\n",
       "          s.onerror = () => reject(`Error loading script: ${paths[lib]}`);\n",
       "          s.src = paths[lib];\n",
       "        });\n",
       "    }\n",
       "\n",
       "    function showError(err) {\n",
       "      outputDiv.innerHTML = `<div class=\"error\" style=\"color:red;\">${err}</div>`;\n",
       "      throw err;\n",
       "    }\n",
       "\n",
       "    function displayChart(vegaEmbed) {\n",
       "      vegaEmbed(outputDiv, spec, embedOpt)\n",
       "        .catch(err => showError(`Javascript Error: ${err.message}<br>This usually means there's a typo in your chart specification. See the javascript console for the full traceback.`));\n",
       "    }\n",
       "\n",
       "    if(typeof define === \"function\" && define.amd) {\n",
       "      requirejs.config({paths});\n",
       "      require([\"vega-embed\"], displayChart, err => showError(`Error loading script: ${err.message}`));\n",
       "    } else {\n",
       "      maybeLoadScript(\"vega\", \"5\")\n",
       "        .then(() => maybeLoadScript(\"vega-lite\", \"4.17.0\"))\n",
       "        .then(() => maybeLoadScript(\"vega-embed\", \"6\"))\n",
       "        .catch(showError)\n",
       "        .then(() => displayChart(vegaEmbed));\n",
       "    }\n",
       "  })({\"config\": {\"view\": {\"continuousWidth\": 400, \"continuousHeight\": 300}}, \"data\": {\"url\": \"https://raw.githubusercontent.com/nlvcorpus/nlvcorpus.github.io/main/datasets/cars.csv\"}, \"mark\": {\"type\": \"line\", \"tooltip\": null}, \"encoding\": {\"x\": {\"timeUnit\": \"year\", \"field\": \"Year\", \"type\": \"temporal\", \"axis\": {\"title\": \"Year\"}}, \"y\": {\"aggregate\": \"mean\", \"field\": \"Horsepower\", \"type\": \"quantitative\", \"axis\": {\"title\": \"AVG (Horsepower)\", \"format\": \"~s\"}}, \"color\": {\"field\": \"Country\", \"type\": \"nominal\"}}, \"$schema\": \"https://vega.github.io/schema/vega-lite/v4.17.0.json\"}, {\"mode\": \"vega-lite\"});\n",
       "</script>"
      ],
      "text/plain": [
       "alt.Chart(...)"
      ]
     },
     "metadata": {},
     "output_type": "display_data"
    },
    {
     "name": "stdout",
     "output_type": "stream",
     "text": [
      "Vega-lite specification:\n",
      "\n",
      "{'$schema': 'https://vega.github.io/schema/vega-lite/v4.17.0.json', 'data': {'url': 'https://raw.githubusercontent.com/nlvcorpus/nlvcorpus.github.io/main/datasets/cars.csv'}, 'mark': {'type': 'line', 'tooltip': None}, 'encoding': {'x': {'timeUnit': 'year', 'field': 'Year', 'type': 'temporal', 'axis': {'title': 'Year'}}, 'y': {'aggregate': 'mean', 'field': 'Horsepower', 'type': 'quantitative', 'axis': {'title': 'AVG (Horsepower)', 'format': '~s'}}, 'color': {'field': 'Country', 'type': 'nominal'}}}\n",
      "\n",
      "\n",
      "Target:\n",
      "\n",
      "{'$schema': 'https://vega.github.io/schema/vega-lite/v4.17.0.json', 'data': {'url': 'https://raw.githubusercontent.com/nlvcorpus/nlvcorpus.github.io/main/datasets/cars.csv'}, 'mark': {'type': 'line', 'tooltip': None}, 'encoding': {'x': {'timeUnit': 'year', 'field': 'Year', 'type': 'temporal', 'axis': {'title': 'Year'}}, 'y': {'aggregate': 'mean', 'field': 'Horsepower', 'type': 'quantitative', 'axis': {'title': 'AVG (Horsepower)', 'format': '~s'}}, 'color': {'field': 'Origin', 'type': 'nominal'}}}\n",
      "------------------------------------------------------------------------------------------------------\n",
      "Problem number: 148\n",
      "\n",
      "Query:\n",
      "\n",
      "plot profit amount by sales amount\n",
      "\n",
      "\n",
      "\n",
      "Visualisation:\n",
      "\n"
     ]
    },
    {
     "data": {
      "text/html": [
       "\n",
       "<div id=\"altair-viz-556ca0725aaf4aac994921bdf46c0d86\"></div>\n",
       "<script type=\"text/javascript\">\n",
       "  var VEGA_DEBUG = (typeof VEGA_DEBUG == \"undefined\") ? {} : VEGA_DEBUG;\n",
       "  (function(spec, embedOpt){\n",
       "    let outputDiv = document.currentScript.previousElementSibling;\n",
       "    if (outputDiv.id !== \"altair-viz-556ca0725aaf4aac994921bdf46c0d86\") {\n",
       "      outputDiv = document.getElementById(\"altair-viz-556ca0725aaf4aac994921bdf46c0d86\");\n",
       "    }\n",
       "    const paths = {\n",
       "      \"vega\": \"https://cdn.jsdelivr.net/npm//vega@5?noext\",\n",
       "      \"vega-lib\": \"https://cdn.jsdelivr.net/npm//vega-lib?noext\",\n",
       "      \"vega-lite\": \"https://cdn.jsdelivr.net/npm//vega-lite@4.17.0?noext\",\n",
       "      \"vega-embed\": \"https://cdn.jsdelivr.net/npm//vega-embed@6?noext\",\n",
       "    };\n",
       "\n",
       "    function maybeLoadScript(lib, version) {\n",
       "      var key = `${lib.replace(\"-\", \"\")}_version`;\n",
       "      return (VEGA_DEBUG[key] == version) ?\n",
       "        Promise.resolve(paths[lib]) :\n",
       "        new Promise(function(resolve, reject) {\n",
       "          var s = document.createElement('script');\n",
       "          document.getElementsByTagName(\"head\")[0].appendChild(s);\n",
       "          s.async = true;\n",
       "          s.onload = () => {\n",
       "            VEGA_DEBUG[key] = version;\n",
       "            return resolve(paths[lib]);\n",
       "          };\n",
       "          s.onerror = () => reject(`Error loading script: ${paths[lib]}`);\n",
       "          s.src = paths[lib];\n",
       "        });\n",
       "    }\n",
       "\n",
       "    function showError(err) {\n",
       "      outputDiv.innerHTML = `<div class=\"error\" style=\"color:red;\">${err}</div>`;\n",
       "      throw err;\n",
       "    }\n",
       "\n",
       "    function displayChart(vegaEmbed) {\n",
       "      vegaEmbed(outputDiv, spec, embedOpt)\n",
       "        .catch(err => showError(`Javascript Error: ${err.message}<br>This usually means there's a typo in your chart specification. See the javascript console for the full traceback.`));\n",
       "    }\n",
       "\n",
       "    if(typeof define === \"function\" && define.amd) {\n",
       "      requirejs.config({paths});\n",
       "      require([\"vega-embed\"], displayChart, err => showError(`Error loading script: ${err.message}`));\n",
       "    } else {\n",
       "      maybeLoadScript(\"vega\", \"5\")\n",
       "        .then(() => maybeLoadScript(\"vega-lite\", \"4.17.0\"))\n",
       "        .then(() => maybeLoadScript(\"vega-embed\", \"6\"))\n",
       "        .catch(showError)\n",
       "        .then(() => displayChart(vegaEmbed));\n",
       "    }\n",
       "  })({\"config\": {\"view\": {\"continuousWidth\": 400, \"continuousHeight\": 300}}, \"data\": {\"url\": \"https://raw.githubusercontent.com/nlvcorpus/nlvcorpus.github.io/main/datasets/superstore.csv\"}, \"mark\": {\"type\": \"point\", \"filled\": true, \"opacity\": 0.75, \"tooltip\": null}, \"encoding\": {\"color\": {\"field\": \"Region\", \"type\": \"nominal\"}, \"x\": {\"field\": \"Sales\", \"type\": \"quantitative\"}, \"y\": {\"field\": \"Profit\", \"type\": \"quantitative\"}}, \"$schema\": \"https://vega.github.io/schema/vega-lite/v4.17.0.json\"}, {\"mode\": \"vega-lite\"});\n",
       "</script>"
      ],
      "text/plain": [
       "alt.Chart(...)"
      ]
     },
     "metadata": {},
     "output_type": "display_data"
    },
    {
     "name": "stdout",
     "output_type": "stream",
     "text": [
      "Vega-lite specification:\n",
      "\n",
      "{'$schema': 'https://vega.github.io/schema/vega-lite/v4.17.0.json', 'data': {'url': 'https://raw.githubusercontent.com/nlvcorpus/nlvcorpus.github.io/main/datasets/superstore.csv'}, 'mark': {'type': 'point', 'filled': True, 'opacity': 0.75, 'tooltip': None}, 'encoding': {'color': {'field': 'Region', 'type': 'nominal'}, 'x': {'field': 'Sales', 'type': 'quantitative'}, 'y': {'field': 'Profit', 'type': 'quantitative'}}}\n",
      "\n",
      "\n",
      "Target:\n",
      "\n",
      "{'$schema': 'https://vega.github.io/schema/vega-lite/v4.17.0.json', 'data': {'url': 'https://raw.githubusercontent.com/nlvcorpus/nlvcorpus.github.io/main/datasets/superstore.csv'}, 'mark': {'type': 'point', 'filled': True, 'opacity': 0.5, 'tooltip': None}, 'encoding': {'x': {'field': 'Profit', 'type': 'quantitative'}, 'y': {'field': 'Sales', 'type': 'quantitative'}}}\n",
      "------------------------------------------------------------------------------------------------------\n",
      "Problem number: 72\n",
      "\n",
      "Query:\n",
      "\n",
      "How many cars are from each region?\n",
      "\n",
      "\n",
      "\n",
      "Visualisation:\n",
      "\n"
     ]
    },
    {
     "data": {
      "text/html": [
       "\n",
       "<div id=\"altair-viz-23f7730c126048ea84e5f38c5034ddac\"></div>\n",
       "<script type=\"text/javascript\">\n",
       "  var VEGA_DEBUG = (typeof VEGA_DEBUG == \"undefined\") ? {} : VEGA_DEBUG;\n",
       "  (function(spec, embedOpt){\n",
       "    let outputDiv = document.currentScript.previousElementSibling;\n",
       "    if (outputDiv.id !== \"altair-viz-23f7730c126048ea84e5f38c5034ddac\") {\n",
       "      outputDiv = document.getElementById(\"altair-viz-23f7730c126048ea84e5f38c5034ddac\");\n",
       "    }\n",
       "    const paths = {\n",
       "      \"vega\": \"https://cdn.jsdelivr.net/npm//vega@5?noext\",\n",
       "      \"vega-lib\": \"https://cdn.jsdelivr.net/npm//vega-lib?noext\",\n",
       "      \"vega-lite\": \"https://cdn.jsdelivr.net/npm//vega-lite@4.17.0?noext\",\n",
       "      \"vega-embed\": \"https://cdn.jsdelivr.net/npm//vega-embed@6?noext\",\n",
       "    };\n",
       "\n",
       "    function maybeLoadScript(lib, version) {\n",
       "      var key = `${lib.replace(\"-\", \"\")}_version`;\n",
       "      return (VEGA_DEBUG[key] == version) ?\n",
       "        Promise.resolve(paths[lib]) :\n",
       "        new Promise(function(resolve, reject) {\n",
       "          var s = document.createElement('script');\n",
       "          document.getElementsByTagName(\"head\")[0].appendChild(s);\n",
       "          s.async = true;\n",
       "          s.onload = () => {\n",
       "            VEGA_DEBUG[key] = version;\n",
       "            return resolve(paths[lib]);\n",
       "          };\n",
       "          s.onerror = () => reject(`Error loading script: ${paths[lib]}`);\n",
       "          s.src = paths[lib];\n",
       "        });\n",
       "    }\n",
       "\n",
       "    function showError(err) {\n",
       "      outputDiv.innerHTML = `<div class=\"error\" style=\"color:red;\">${err}</div>`;\n",
       "      throw err;\n",
       "    }\n",
       "\n",
       "    function displayChart(vegaEmbed) {\n",
       "      vegaEmbed(outputDiv, spec, embedOpt)\n",
       "        .catch(err => showError(`Javascript Error: ${err.message}<br>This usually means there's a typo in your chart specification. See the javascript console for the full traceback.`));\n",
       "    }\n",
       "\n",
       "    if(typeof define === \"function\" && define.amd) {\n",
       "      requirejs.config({paths});\n",
       "      require([\"vega-embed\"], displayChart, err => showError(`Error loading script: ${err.message}`));\n",
       "    } else {\n",
       "      maybeLoadScript(\"vega\", \"5\")\n",
       "        .then(() => maybeLoadScript(\"vega-lite\", \"4.17.0\"))\n",
       "        .then(() => maybeLoadScript(\"vega-embed\", \"6\"))\n",
       "        .catch(showError)\n",
       "        .then(() => displayChart(vegaEmbed));\n",
       "    }\n",
       "  })({\"config\": {\"view\": {\"continuousWidth\": 400, \"continuousHeight\": 300}}, \"data\": {\"url\": \"https://raw.githubusercontent.com/nlvcorpus/nlvcorpus.github.io/main/datasets/cars.csv\"}, \"mark\": {\"type\": \"bar\", \"tooltip\": null}, \"encoding\": {\"x\": {\"field\": \"Origin\", \"type\": \"nominal\"}, \"y\": {\"aggregate\": \"count\", \"type\": \"quantitative\", \"axis\": {\"title\": \"COUNT\", \"format\": \"~s\"}}, \"color\": {\"field\": \"Origin\", \"type\": \"nominal\"}}, \"$schema\": \"https://vega.github.io/schema/vega-lite/v4.17.0.json\"}, {\"mode\": \"vega-lite\"});\n",
       "</script>"
      ],
      "text/plain": [
       "alt.Chart(...)"
      ]
     },
     "metadata": {},
     "output_type": "display_data"
    },
    {
     "name": "stdout",
     "output_type": "stream",
     "text": [
      "Vega-lite specification:\n",
      "\n",
      "{'$schema': 'https://vega.github.io/schema/vega-lite/v4.17.0.json', 'data': {'url': 'https://raw.githubusercontent.com/nlvcorpus/nlvcorpus.github.io/main/datasets/cars.csv'}, 'mark': {'type': 'bar', 'tooltip': None}, 'encoding': {'x': {'field': 'Origin', 'type': 'nominal'}, 'y': {'aggregate': 'count', 'type': 'quantitative', 'axis': {'title': 'COUNT', 'format': '~s'}}, 'color': {'field': 'Origin', 'type': 'nominal'}}}\n",
      "\n",
      "\n",
      "Target:\n",
      "\n",
      "{'$schema': 'https://vega.github.io/schema/vega-lite/v4.17.0.json', 'data': {'url': 'https://raw.githubusercontent.com/nlvcorpus/nlvcorpus.github.io/main/datasets/cars.csv'}, 'mark': {'type': 'bar', 'tooltip': None}, 'encoding': {'x': {'field': 'Origin', 'type': 'nominal', 'sort': {'encoding': 'y', 'order': 'descending'}}, 'y': {'aggregate': 'count', 'type': 'quantitative', 'axis': {'title': 'COUNT'}}}}\n",
      "------------------------------------------------------------------------------------------------------\n",
      "Problem number: 86\n",
      "\n",
      "Query:\n",
      "\n",
      "Creare a scatterplot of sales and profit that represent different regions\n",
      "\n",
      "\n",
      "\n",
      "Visualisation:\n",
      "\n"
     ]
    },
    {
     "data": {
      "text/html": [
       "\n",
       "<div id=\"altair-viz-0f5ce2c5e50a45cf8a75e433a04428bf\"></div>\n",
       "<script type=\"text/javascript\">\n",
       "  var VEGA_DEBUG = (typeof VEGA_DEBUG == \"undefined\") ? {} : VEGA_DEBUG;\n",
       "  (function(spec, embedOpt){\n",
       "    let outputDiv = document.currentScript.previousElementSibling;\n",
       "    if (outputDiv.id !== \"altair-viz-0f5ce2c5e50a45cf8a75e433a04428bf\") {\n",
       "      outputDiv = document.getElementById(\"altair-viz-0f5ce2c5e50a45cf8a75e433a04428bf\");\n",
       "    }\n",
       "    const paths = {\n",
       "      \"vega\": \"https://cdn.jsdelivr.net/npm//vega@5?noext\",\n",
       "      \"vega-lib\": \"https://cdn.jsdelivr.net/npm//vega-lib?noext\",\n",
       "      \"vega-lite\": \"https://cdn.jsdelivr.net/npm//vega-lite@4.17.0?noext\",\n",
       "      \"vega-embed\": \"https://cdn.jsdelivr.net/npm//vega-embed@6?noext\",\n",
       "    };\n",
       "\n",
       "    function maybeLoadScript(lib, version) {\n",
       "      var key = `${lib.replace(\"-\", \"\")}_version`;\n",
       "      return (VEGA_DEBUG[key] == version) ?\n",
       "        Promise.resolve(paths[lib]) :\n",
       "        new Promise(function(resolve, reject) {\n",
       "          var s = document.createElement('script');\n",
       "          document.getElementsByTagName(\"head\")[0].appendChild(s);\n",
       "          s.async = true;\n",
       "          s.onload = () => {\n",
       "            VEGA_DEBUG[key] = version;\n",
       "            return resolve(paths[lib]);\n",
       "          };\n",
       "          s.onerror = () => reject(`Error loading script: ${paths[lib]}`);\n",
       "          s.src = paths[lib];\n",
       "        });\n",
       "    }\n",
       "\n",
       "    function showError(err) {\n",
       "      outputDiv.innerHTML = `<div class=\"error\" style=\"color:red;\">${err}</div>`;\n",
       "      throw err;\n",
       "    }\n",
       "\n",
       "    function displayChart(vegaEmbed) {\n",
       "      vegaEmbed(outputDiv, spec, embedOpt)\n",
       "        .catch(err => showError(`Javascript Error: ${err.message}<br>This usually means there's a typo in your chart specification. See the javascript console for the full traceback.`));\n",
       "    }\n",
       "\n",
       "    if(typeof define === \"function\" && define.amd) {\n",
       "      requirejs.config({paths});\n",
       "      require([\"vega-embed\"], displayChart, err => showError(`Error loading script: ${err.message}`));\n",
       "    } else {\n",
       "      maybeLoadScript(\"vega\", \"5\")\n",
       "        .then(() => maybeLoadScript(\"vega-lite\", \"4.17.0\"))\n",
       "        .then(() => maybeLoadScript(\"vega-embed\", \"6\"))\n",
       "        .catch(showError)\n",
       "        .then(() => displayChart(vegaEmbed));\n",
       "    }\n",
       "  })({\"config\": {\"view\": {\"continuousWidth\": 400, \"continuousHeight\": 300}}, \"data\": {\"url\": \"https://raw.githubusercontent.com/nlvcorpus/nlvcorpus.github.io/main/datasets/superstore.csv\"}, \"mark\": {\"type\": \"point\", \"filled\": true, \"opacity\": 0.5, \"tooltip\": null}, \"encoding\": {\"column\": {\"field\": \"Region\", \"type\": \"nominal\"}, \"x\": {\"field\": \"Sales\", \"type\": \"quantitative\"}, \"y\": {\"field\": \"Profit\", \"type\": \"quantitative\"}}, \"$schema\": \"https://vega.github.io/schema/vega-lite/v4.17.0.json\"}, {\"mode\": \"vega-lite\"});\n",
       "</script>"
      ],
      "text/plain": [
       "alt.Chart(...)"
      ]
     },
     "metadata": {},
     "output_type": "display_data"
    },
    {
     "name": "stdout",
     "output_type": "stream",
     "text": [
      "Vega-lite specification:\n",
      "\n",
      "{'$schema': 'https://vega.github.io/schema/vega-lite/v4.17.0.json', 'data': {'url': 'https://raw.githubusercontent.com/nlvcorpus/nlvcorpus.github.io/main/datasets/superstore.csv'}, 'mark': {'type': 'point', 'filled': True, 'opacity': 0.5, 'tooltip': None}, 'encoding': {'column': {'field': 'Region', 'type': 'nominal'}, 'x': {'field': 'Sales', 'type': 'quantitative'}, 'y': {'field': 'Profit', 'type': 'quantitative'}}}\n",
      "\n",
      "\n",
      "Target:\n",
      "\n",
      "{'$schema': 'https://vega.github.io/schema/vega-lite/v4.17.0.json', 'data': {'url': 'https://raw.githubusercontent.com/nlvcorpus/nlvcorpus.github.io/main/datasets/superstore.csv'}, 'mark': {'type': 'point', 'filled': True, 'opacity': 0.75, 'tooltip': None}, 'encoding': {'color': {'field': 'Region', 'type': 'nominal'}, 'x': {'field': 'Sales', 'type': 'quantitative'}, 'y': {'field': 'Profit', 'type': 'quantitative'}}}\n",
      "------------------------------------------------------------------------------------------------------\n",
      "Problem number: 60\n",
      "\n",
      "Query:\n",
      "\n",
      "The profit of sales in each region\n",
      "\n",
      "\n",
      "\n",
      "Visualisation:\n",
      "\n"
     ]
    },
    {
     "data": {
      "text/html": [
       "\n",
       "<div id=\"altair-viz-cbd2c4781576445fb4cc7a9ba845bd68\"></div>\n",
       "<script type=\"text/javascript\">\n",
       "  var VEGA_DEBUG = (typeof VEGA_DEBUG == \"undefined\") ? {} : VEGA_DEBUG;\n",
       "  (function(spec, embedOpt){\n",
       "    let outputDiv = document.currentScript.previousElementSibling;\n",
       "    if (outputDiv.id !== \"altair-viz-cbd2c4781576445fb4cc7a9ba845bd68\") {\n",
       "      outputDiv = document.getElementById(\"altair-viz-cbd2c4781576445fb4cc7a9ba845bd68\");\n",
       "    }\n",
       "    const paths = {\n",
       "      \"vega\": \"https://cdn.jsdelivr.net/npm//vega@5?noext\",\n",
       "      \"vega-lib\": \"https://cdn.jsdelivr.net/npm//vega-lib?noext\",\n",
       "      \"vega-lite\": \"https://cdn.jsdelivr.net/npm//vega-lite@4.17.0?noext\",\n",
       "      \"vega-embed\": \"https://cdn.jsdelivr.net/npm//vega-embed@6?noext\",\n",
       "    };\n",
       "\n",
       "    function maybeLoadScript(lib, version) {\n",
       "      var key = `${lib.replace(\"-\", \"\")}_version`;\n",
       "      return (VEGA_DEBUG[key] == version) ?\n",
       "        Promise.resolve(paths[lib]) :\n",
       "        new Promise(function(resolve, reject) {\n",
       "          var s = document.createElement('script');\n",
       "          document.getElementsByTagName(\"head\")[0].appendChild(s);\n",
       "          s.async = true;\n",
       "          s.onload = () => {\n",
       "            VEGA_DEBUG[key] = version;\n",
       "            return resolve(paths[lib]);\n",
       "          };\n",
       "          s.onerror = () => reject(`Error loading script: ${paths[lib]}`);\n",
       "          s.src = paths[lib];\n",
       "        });\n",
       "    }\n",
       "\n",
       "    function showError(err) {\n",
       "      outputDiv.innerHTML = `<div class=\"error\" style=\"color:red;\">${err}</div>`;\n",
       "      throw err;\n",
       "    }\n",
       "\n",
       "    function displayChart(vegaEmbed) {\n",
       "      vegaEmbed(outputDiv, spec, embedOpt)\n",
       "        .catch(err => showError(`Javascript Error: ${err.message}<br>This usually means there's a typo in your chart specification. See the javascript console for the full traceback.`));\n",
       "    }\n",
       "\n",
       "    if(typeof define === \"function\" && define.amd) {\n",
       "      requirejs.config({paths});\n",
       "      require([\"vega-embed\"], displayChart, err => showError(`Error loading script: ${err.message}`));\n",
       "    } else {\n",
       "      maybeLoadScript(\"vega\", \"5\")\n",
       "        .then(() => maybeLoadScript(\"vega-lite\", \"4.17.0\"))\n",
       "        .then(() => maybeLoadScript(\"vega-embed\", \"6\"))\n",
       "        .catch(showError)\n",
       "        .then(() => displayChart(vegaEmbed));\n",
       "    }\n",
       "  })({\"config\": {\"view\": {\"continuousWidth\": 400, \"continuousHeight\": 300}}, \"data\": {\"url\": \"https://raw.githubusercontent.com/nlvcorpus/nlvcorpus.github.io/main/datasets/superstore.csv\"}, \"mark\": {\"type\": \"point\", \"filled\": true, \"opacity\": 0.75, \"tooltip\": null}, \"encoding\": {\"color\": {\"field\": \"Region\", \"type\": \"nominal\"}, \"x\": {\"field\": \"Sales\", \"type\": \"quantitative\"}, \"y\": {\"field\": \"Profit\", \"type\": \"quantitative\"}}, \"$schema\": \"https://vega.github.io/schema/vega-lite/v4.17.0.json\"}, {\"mode\": \"vega-lite\"});\n",
       "</script>"
      ],
      "text/plain": [
       "alt.Chart(...)"
      ]
     },
     "metadata": {},
     "output_type": "display_data"
    },
    {
     "name": "stdout",
     "output_type": "stream",
     "text": [
      "Vega-lite specification:\n",
      "\n",
      "{'$schema': 'https://vega.github.io/schema/vega-lite/v4.17.0.json', 'data': {'url': 'https://raw.githubusercontent.com/nlvcorpus/nlvcorpus.github.io/main/datasets/superstore.csv'}, 'mark': {'type': 'point', 'filled': True, 'opacity': 0.75, 'tooltip': None}, 'encoding': {'color': {'field': 'Region', 'type': 'nominal'}, 'x': {'field': 'Sales', 'type': 'quantitative'}, 'y': {'field': 'Profit', 'type': 'quantitative'}}}\n",
      "\n",
      "\n",
      "Target:\n",
      "\n",
      "{'$schema': 'https://vega.github.io/schema/vega-lite/v4.17.0.json', 'data': {'url': 'https://raw.githubusercontent.com/nlvcorpus/nlvcorpus.github.io/main/datasets/superstore.csv'}, 'mark': {'type': 'point', 'filled': True, 'opacity': 0.5, 'tooltip': None}, 'encoding': {'column': {'field': 'Region', 'type': 'nominal'}, 'x': {'field': 'Sales', 'type': 'quantitative'}, 'y': {'field': 'Profit', 'type': 'quantitative'}}}\n"
     ]
    }
   ],
   "source": [
    "# Non-logical specifications\n",
    "# selected_test = validated_dsource_outputs\n",
    "# selected_test = validated_mtype_outputs\n",
    "# selected_test = validated_pchannel_outputs\n",
    "# selected_test = validated_fchannel_outputs\n",
    "selected_test = validated_mchannel_outputs\n",
    "# selected_test = validated_dchannel_outputs\n",
    "\n",
    "print_nonlogical_specs(validated_model_outputs, selected_test, 5)"
   ]
  },
  {
   "cell_type": "markdown",
   "id": "8a791264",
   "metadata": {
    "id": "8a791264"
   },
   "source": [
    "# Performance breakdowns"
   ]
  },
  {
   "cell_type": "markdown",
   "id": "f8b0e222",
   "metadata": {
    "id": "f8b0e222"
   },
   "source": [
    "## Functions"
   ]
  },
  {
   "cell_type": "code",
   "execution_count": null,
   "id": "12eb081c",
   "metadata": {
    "id": "12eb081c"
   },
   "outputs": [],
   "source": [
    "def validation_split(validated_df, split):\n",
    "    \"\"\" validated_df = reshaped validated outputs\n",
    "    split = marktype/dataset\"\"\"\n",
    "\n",
    "    # Copy relevant validation set results\n",
    "    df = validated_df.copy(deep=True)\n",
    "\n",
    "    # Replace valid specifications with pass\n",
    "    df = df.applymap(\n",
    "        lambda x: 'Pass' if isinstance(x, dict) else x)\n",
    "\n",
    "    # Aggregate syntax and validation errors\n",
    "    df = df.applymap(lambda x: 'Syntax error' if x in [\n",
    "                     'Syntax error', 'Type error', 'Value error'] else x)\n",
    "    df = df.applymap(lambda x: 'Validation error' if x in [\n",
    "                     'Validation error', 'Schema error'] else x)\n",
    "\n",
    "    # Concatenate dataset/mark type\n",
    "    df = pd.concat([df, model_inputs[split]], axis=1)\n",
    "\n",
    "    # Count total number of values for each split\n",
    "    error_counts = df.groupby([split, 0]).size().unstack(fill_value=0)\n",
    "    error_counts = error_counts.fillna(0)\n",
    "    error_counts = error_counts.groupby(level=0, axis=1).sum()\n",
    "\n",
    "    # Calculate total number of problems for each split\n",
    "    total_count = error_counts.sum(axis=1)\n",
    "\n",
    "    # Calculate error rates for each split\n",
    "    error_rates = error_counts.div(total_count, axis=0).add_suffix(\" %\")\n",
    "\n",
    "    # Add total counts\n",
    "    error_rates = pd.concat(\n",
    "        [error_rates, error_counts, total_count.rename('Total')], axis=1)\n",
    "\n",
    "    return error_rates"
   ]
  },
  {
   "cell_type": "code",
   "execution_count": null,
   "id": "4d2f4435",
   "metadata": {
    "id": "4d2f4435"
   },
   "outputs": [],
   "source": [
    "def logical_split(validated_df, unit_test_results, split):\n",
    "    \"\"\" Calculate functional pass rate by mark type or data source\n",
    "    validated_df = reshaped validated outputs\n",
    "    split = marktype/dataset\n",
    "    unit_tests = list of unit test results\"\"\"\n",
    "\n",
    "    unit_test_passes = [df.applymap(\n",
    "        lambda x: x if x == True else np.nan) for df in unit_test_results]\n",
    "\n",
    "    # Compare all unit test results to the first test - return True if all True\n",
    "    # Source: https://towardsdatascience.com/python-tricks-check-multiple-variables-against-single-value-18a4d98d79f4\n",
    "    is_valid = unit_test_results[0].copy(deep=True)\n",
    "\n",
    "    for row in range(unit_test_passes[0].shape[0]):\n",
    "        for col in range(unit_test_passes[0].shape[1]):\n",
    "            is_valid.iloc[row, col] = all(unit_test_passes[0].iloc[row, col] == x for x in [\n",
    "                                          df.iloc[row, col] for df in unit_test_passes])\n",
    "\n",
    "    # Concatenate dataset/mark type\n",
    "    df = pd.concat([is_valid, model_inputs[split]], axis=1)\n",
    "\n",
    "    # Count total number of values for each split\n",
    "    error_counts = df.groupby([split, 0]).size().unstack(fill_value=0)\n",
    "    error_counts = error_counts.fillna(0)\n",
    "    error_counts = error_counts.groupby(level=0, axis=1).sum()\n",
    "    error_counts = error_counts.rename({True: \"Pass\", False: \"Fail\"}, axis=1)\n",
    "\n",
    "    # Calculate total number of problems for each split\n",
    "    total_count = error_counts.sum(axis=1)\n",
    "\n",
    "    # Calculate error rates for each split\n",
    "    error_rates = error_counts.div(total_count, axis=0).add_suffix(\" %\")\n",
    "\n",
    "    # Add total counts\n",
    "    error_rates = pd.concat(\n",
    "        [error_rates, error_counts, total_count.rename('Total')], axis=1)\n",
    "\n",
    "    return error_rates"
   ]
  },
  {
   "cell_type": "markdown",
   "id": "c9944dde",
   "metadata": {
    "id": "c9944dde"
   },
   "source": [
    "## By visualisation type"
   ]
  },
  {
   "cell_type": "code",
   "execution_count": null,
   "id": "c5caaf24",
   "metadata": {
    "colab": {
     "base_uri": "https://localhost:8080/",
     "height": 237
    },
    "executionInfo": {
     "elapsed": 9,
     "status": "ok",
     "timestamp": 1669588187305,
     "user": {
      "displayName": "Billy Pitchford",
      "userId": "01251209915329143145"
     },
     "user_tz": 0
    },
    "id": "c5caaf24",
    "outputId": "e97b0ba0-33c7-48e3-fc32-72aad7a2e85f",
    "scrolled": true
   },
   "outputs": [
    {
     "data": {
      "text/html": [
       "<div>\n",
       "<style scoped>\n",
       "    .dataframe tbody tr th:only-of-type {\n",
       "        vertical-align: middle;\n",
       "    }\n",
       "\n",
       "    .dataframe tbody tr th {\n",
       "        vertical-align: top;\n",
       "    }\n",
       "\n",
       "    .dataframe thead th {\n",
       "        text-align: right;\n",
       "    }\n",
       "</style>\n",
       "<table border=\"1\" class=\"dataframe\">\n",
       "  <thead>\n",
       "    <tr style=\"text-align: right;\">\n",
       "      <th></th>\n",
       "      <th>Pass %</th>\n",
       "      <th>Syntax error %</th>\n",
       "      <th>Validation error %</th>\n",
       "      <th>Pass</th>\n",
       "      <th>Syntax error</th>\n",
       "      <th>Validation error</th>\n",
       "      <th>Total</th>\n",
       "    </tr>\n",
       "    <tr>\n",
       "      <th>marktype</th>\n",
       "      <th></th>\n",
       "      <th></th>\n",
       "      <th></th>\n",
       "      <th></th>\n",
       "      <th></th>\n",
       "      <th></th>\n",
       "      <th></th>\n",
       "    </tr>\n",
       "  </thead>\n",
       "  <tbody>\n",
       "    <tr>\n",
       "      <th>area</th>\n",
       "      <td>0.000000</td>\n",
       "      <td>0.000000</td>\n",
       "      <td>1.000000</td>\n",
       "      <td>0</td>\n",
       "      <td>0</td>\n",
       "      <td>1</td>\n",
       "      <td>1</td>\n",
       "    </tr>\n",
       "    <tr>\n",
       "      <th>bar</th>\n",
       "      <td>0.915663</td>\n",
       "      <td>0.012048</td>\n",
       "      <td>0.072289</td>\n",
       "      <td>76</td>\n",
       "      <td>1</td>\n",
       "      <td>6</td>\n",
       "      <td>83</td>\n",
       "    </tr>\n",
       "    <tr>\n",
       "      <th>line</th>\n",
       "      <td>1.000000</td>\n",
       "      <td>0.000000</td>\n",
       "      <td>0.000000</td>\n",
       "      <td>25</td>\n",
       "      <td>0</td>\n",
       "      <td>0</td>\n",
       "      <td>25</td>\n",
       "    </tr>\n",
       "    <tr>\n",
       "      <th>point</th>\n",
       "      <td>0.920000</td>\n",
       "      <td>0.000000</td>\n",
       "      <td>0.080000</td>\n",
       "      <td>46</td>\n",
       "      <td>0</td>\n",
       "      <td>4</td>\n",
       "      <td>50</td>\n",
       "    </tr>\n",
       "    <tr>\n",
       "      <th>tick</th>\n",
       "      <td>0.000000</td>\n",
       "      <td>0.000000</td>\n",
       "      <td>1.000000</td>\n",
       "      <td>0</td>\n",
       "      <td>0</td>\n",
       "      <td>1</td>\n",
       "      <td>1</td>\n",
       "    </tr>\n",
       "  </tbody>\n",
       "</table>\n",
       "</div>"
      ],
      "text/plain": [
       "            Pass %  Syntax error %  Validation error %  Pass  Syntax error  \\\n",
       "marktype                                                                     \n",
       "area      0.000000        0.000000            1.000000     0             0   \n",
       "bar       0.915663        0.012048            0.072289    76             1   \n",
       "line      1.000000        0.000000            0.000000    25             0   \n",
       "point     0.920000        0.000000            0.080000    46             0   \n",
       "tick      0.000000        0.000000            1.000000     0             0   \n",
       "\n",
       "          Validation error  Total  \n",
       "marktype                           \n",
       "area                     1      1  \n",
       "bar                      6     83  \n",
       "line                     0     25  \n",
       "point                    4     50  \n",
       "tick                     1      1  "
      ]
     },
     "execution_count": 86,
     "metadata": {},
     "output_type": "execute_result"
    }
   ],
   "source": [
    "# Validation rate\n",
    "validation_split(validated_model_outputs, 'marktype')"
   ]
  },
  {
   "cell_type": "code",
   "execution_count": null,
   "id": "864ab4c8",
   "metadata": {
    "colab": {
     "base_uri": "https://localhost:8080/",
     "height": 237
    },
    "executionInfo": {
     "elapsed": 662,
     "status": "ok",
     "timestamp": 1669588187960,
     "user": {
      "displayName": "Billy Pitchford",
      "userId": "01251209915329143145"
     },
     "user_tz": 0
    },
    "id": "864ab4c8",
    "outputId": "11d6b3c1-1c02-4863-ff3b-ed23f542da98"
   },
   "outputs": [
    {
     "data": {
      "text/html": [
       "<div>\n",
       "<style scoped>\n",
       "    .dataframe tbody tr th:only-of-type {\n",
       "        vertical-align: middle;\n",
       "    }\n",
       "\n",
       "    .dataframe tbody tr th {\n",
       "        vertical-align: top;\n",
       "    }\n",
       "\n",
       "    .dataframe thead th {\n",
       "        text-align: right;\n",
       "    }\n",
       "</style>\n",
       "<table border=\"1\" class=\"dataframe\">\n",
       "  <thead>\n",
       "    <tr style=\"text-align: right;\">\n",
       "      <th></th>\n",
       "      <th>Fail %</th>\n",
       "      <th>Pass %</th>\n",
       "      <th>Fail</th>\n",
       "      <th>Pass</th>\n",
       "      <th>Total</th>\n",
       "    </tr>\n",
       "    <tr>\n",
       "      <th>marktype</th>\n",
       "      <th></th>\n",
       "      <th></th>\n",
       "      <th></th>\n",
       "      <th></th>\n",
       "      <th></th>\n",
       "    </tr>\n",
       "  </thead>\n",
       "  <tbody>\n",
       "    <tr>\n",
       "      <th>area</th>\n",
       "      <td>1.000000</td>\n",
       "      <td>0.000000</td>\n",
       "      <td>1</td>\n",
       "      <td>0</td>\n",
       "      <td>1</td>\n",
       "    </tr>\n",
       "    <tr>\n",
       "      <th>bar</th>\n",
       "      <td>0.204819</td>\n",
       "      <td>0.795181</td>\n",
       "      <td>17</td>\n",
       "      <td>66</td>\n",
       "      <td>83</td>\n",
       "    </tr>\n",
       "    <tr>\n",
       "      <th>line</th>\n",
       "      <td>0.160000</td>\n",
       "      <td>0.840000</td>\n",
       "      <td>4</td>\n",
       "      <td>21</td>\n",
       "      <td>25</td>\n",
       "    </tr>\n",
       "    <tr>\n",
       "      <th>point</th>\n",
       "      <td>0.240000</td>\n",
       "      <td>0.760000</td>\n",
       "      <td>12</td>\n",
       "      <td>38</td>\n",
       "      <td>50</td>\n",
       "    </tr>\n",
       "    <tr>\n",
       "      <th>tick</th>\n",
       "      <td>1.000000</td>\n",
       "      <td>0.000000</td>\n",
       "      <td>1</td>\n",
       "      <td>0</td>\n",
       "      <td>1</td>\n",
       "    </tr>\n",
       "  </tbody>\n",
       "</table>\n",
       "</div>"
      ],
      "text/plain": [
       "            Fail %    Pass %  Fail  Pass  Total\n",
       "marktype                                       \n",
       "area      1.000000  0.000000     1     0      1\n",
       "bar       0.204819  0.795181    17    66     83\n",
       "line      0.160000  0.840000     4    21     25\n",
       "point     0.240000  0.760000    12    38     50\n",
       "tick      1.000000  0.000000     1     0      1"
      ]
     },
     "execution_count": 87,
     "metadata": {},
     "output_type": "execute_result"
    }
   ],
   "source": [
    "# Overall pass rate\n",
    "unit_tests = [validated_dsource_outputs,\n",
    "              validated_mtype_outputs,\n",
    "              validated_pchannel_outputs,\n",
    "              validated_fchannel_outputs,\n",
    "              validated_mchannel_outputs,\n",
    "              validated_dchannel_outputs]\n",
    "\n",
    "logical_split(validated_model_outputs, unit_tests, 'marktype')"
   ]
  },
  {
   "cell_type": "markdown",
   "id": "91d8a7c7",
   "metadata": {
    "id": "91d8a7c7"
   },
   "source": [
    "## By data source"
   ]
  },
  {
   "cell_type": "code",
   "execution_count": null,
   "id": "b1cOGQyk0dsD",
   "metadata": {
    "colab": {
     "base_uri": "https://localhost:8080/",
     "height": 206
    },
    "executionInfo": {
     "elapsed": 9,
     "status": "ok",
     "timestamp": 1669588187304,
     "user": {
      "displayName": "Billy Pitchford",
      "userId": "01251209915329143145"
     },
     "user_tz": 0
    },
    "id": "b1cOGQyk0dsD",
    "outputId": "3de5336e-1ec9-4fb9-c3d5-ebd73194ebab"
   },
   "outputs": [
    {
     "data": {
      "text/html": [
       "<div>\n",
       "<style scoped>\n",
       "    .dataframe tbody tr th:only-of-type {\n",
       "        vertical-align: middle;\n",
       "    }\n",
       "\n",
       "    .dataframe tbody tr th {\n",
       "        vertical-align: top;\n",
       "    }\n",
       "\n",
       "    .dataframe thead th {\n",
       "        text-align: right;\n",
       "    }\n",
       "</style>\n",
       "<table border=\"1\" class=\"dataframe\">\n",
       "  <thead>\n",
       "    <tr style=\"text-align: right;\">\n",
       "      <th></th>\n",
       "      <th>Pass %</th>\n",
       "      <th>Syntax error %</th>\n",
       "      <th>Validation error %</th>\n",
       "      <th>Pass</th>\n",
       "      <th>Syntax error</th>\n",
       "      <th>Validation error</th>\n",
       "      <th>Total</th>\n",
       "    </tr>\n",
       "    <tr>\n",
       "      <th>dataset</th>\n",
       "      <th></th>\n",
       "      <th></th>\n",
       "      <th></th>\n",
       "      <th></th>\n",
       "      <th></th>\n",
       "      <th></th>\n",
       "      <th></th>\n",
       "    </tr>\n",
       "  </thead>\n",
       "  <tbody>\n",
       "    <tr>\n",
       "      <th>cars</th>\n",
       "      <td>0.947368</td>\n",
       "      <td>0.000000</td>\n",
       "      <td>0.052632</td>\n",
       "      <td>54</td>\n",
       "      <td>0</td>\n",
       "      <td>3</td>\n",
       "      <td>57</td>\n",
       "    </tr>\n",
       "    <tr>\n",
       "      <th>euro</th>\n",
       "      <td>0.000000</td>\n",
       "      <td>0.000000</td>\n",
       "      <td>1.000000</td>\n",
       "      <td>0</td>\n",
       "      <td>0</td>\n",
       "      <td>2</td>\n",
       "      <td>2</td>\n",
       "    </tr>\n",
       "    <tr>\n",
       "      <th>movies</th>\n",
       "      <td>0.928571</td>\n",
       "      <td>0.000000</td>\n",
       "      <td>0.071429</td>\n",
       "      <td>52</td>\n",
       "      <td>0</td>\n",
       "      <td>4</td>\n",
       "      <td>56</td>\n",
       "    </tr>\n",
       "    <tr>\n",
       "      <th>superstore</th>\n",
       "      <td>0.911111</td>\n",
       "      <td>0.022222</td>\n",
       "      <td>0.066667</td>\n",
       "      <td>41</td>\n",
       "      <td>1</td>\n",
       "      <td>3</td>\n",
       "      <td>45</td>\n",
       "    </tr>\n",
       "  </tbody>\n",
       "</table>\n",
       "</div>"
      ],
      "text/plain": [
       "              Pass %  Syntax error %  Validation error %  Pass  Syntax error  \\\n",
       "dataset                                                                        \n",
       "cars        0.947368        0.000000            0.052632    54             0   \n",
       "euro        0.000000        0.000000            1.000000     0             0   \n",
       "movies      0.928571        0.000000            0.071429    52             0   \n",
       "superstore  0.911111        0.022222            0.066667    41             1   \n",
       "\n",
       "            Validation error  Total  \n",
       "dataset                              \n",
       "cars                       3     57  \n",
       "euro                       2      2  \n",
       "movies                     4     56  \n",
       "superstore                 3     45  "
      ]
     },
     "execution_count": 88,
     "metadata": {},
     "output_type": "execute_result"
    }
   ],
   "source": [
    "# Validation rate\n",
    "validation_split(validated_model_outputs, 'dataset')"
   ]
  },
  {
   "cell_type": "code",
   "execution_count": null,
   "id": "eMMrZ92z0gSs",
   "metadata": {
    "colab": {
     "base_uri": "https://localhost:8080/",
     "height": 206
    },
    "executionInfo": {
     "elapsed": 855,
     "status": "ok",
     "timestamp": 1669588188808,
     "user": {
      "displayName": "Billy Pitchford",
      "userId": "01251209915329143145"
     },
     "user_tz": 0
    },
    "id": "eMMrZ92z0gSs",
    "outputId": "f06cd413-fc6b-401d-8e29-387a8b2ebb45"
   },
   "outputs": [
    {
     "data": {
      "text/html": [
       "<div>\n",
       "<style scoped>\n",
       "    .dataframe tbody tr th:only-of-type {\n",
       "        vertical-align: middle;\n",
       "    }\n",
       "\n",
       "    .dataframe tbody tr th {\n",
       "        vertical-align: top;\n",
       "    }\n",
       "\n",
       "    .dataframe thead th {\n",
       "        text-align: right;\n",
       "    }\n",
       "</style>\n",
       "<table border=\"1\" class=\"dataframe\">\n",
       "  <thead>\n",
       "    <tr style=\"text-align: right;\">\n",
       "      <th></th>\n",
       "      <th>Fail %</th>\n",
       "      <th>Pass %</th>\n",
       "      <th>Fail</th>\n",
       "      <th>Pass</th>\n",
       "      <th>Total</th>\n",
       "    </tr>\n",
       "    <tr>\n",
       "      <th>dataset</th>\n",
       "      <th></th>\n",
       "      <th></th>\n",
       "      <th></th>\n",
       "      <th></th>\n",
       "      <th></th>\n",
       "    </tr>\n",
       "  </thead>\n",
       "  <tbody>\n",
       "    <tr>\n",
       "      <th>cars</th>\n",
       "      <td>0.140351</td>\n",
       "      <td>0.859649</td>\n",
       "      <td>8</td>\n",
       "      <td>49</td>\n",
       "      <td>57</td>\n",
       "    </tr>\n",
       "    <tr>\n",
       "      <th>euro</th>\n",
       "      <td>1.000000</td>\n",
       "      <td>0.000000</td>\n",
       "      <td>2</td>\n",
       "      <td>0</td>\n",
       "      <td>2</td>\n",
       "    </tr>\n",
       "    <tr>\n",
       "      <th>movies</th>\n",
       "      <td>0.125000</td>\n",
       "      <td>0.875000</td>\n",
       "      <td>7</td>\n",
       "      <td>49</td>\n",
       "      <td>56</td>\n",
       "    </tr>\n",
       "    <tr>\n",
       "      <th>superstore</th>\n",
       "      <td>0.400000</td>\n",
       "      <td>0.600000</td>\n",
       "      <td>18</td>\n",
       "      <td>27</td>\n",
       "      <td>45</td>\n",
       "    </tr>\n",
       "  </tbody>\n",
       "</table>\n",
       "</div>"
      ],
      "text/plain": [
       "              Fail %    Pass %  Fail  Pass  Total\n",
       "dataset                                          \n",
       "cars        0.140351  0.859649     8    49     57\n",
       "euro        1.000000  0.000000     2     0      2\n",
       "movies      0.125000  0.875000     7    49     56\n",
       "superstore  0.400000  0.600000    18    27     45"
      ]
     },
     "execution_count": 89,
     "metadata": {},
     "output_type": "execute_result"
    }
   ],
   "source": [
    "# Overall pass rate\n",
    "logical_split(validated_model_outputs, unit_tests, 'dataset')"
   ]
  }
 ],
 "metadata": {
  "colab": {
   "provenance": [],
   "toc_visible": true
  },
  "kernelspec": {
   "display_name": "nl2vis",
   "language": "python",
   "name": "nl2vis"
  },
  "language_info": {
   "codemirror_mode": {
    "name": "ipython",
    "version": 3
   },
   "file_extension": ".py",
   "mimetype": "text/x-python",
   "name": "python",
   "nbconvert_exporter": "python",
   "pygments_lexer": "ipython3",
   "version": "3.10.12"
  },
  "toc": {
   "base_numbering": 1,
   "nav_menu": {},
   "number_sections": true,
   "sideBar": true,
   "skip_h1_title": false,
   "title_cell": "Table of Contents",
   "title_sidebar": "Contents",
   "toc_cell": false,
   "toc_position": {
    "height": "calc(100% - 180px)",
    "left": "10px",
    "top": "150px",
    "width": "419.933px"
   },
   "toc_section_display": true,
   "toc_window_display": true
  }
 },
 "nbformat": 4,
 "nbformat_minor": 5
}
