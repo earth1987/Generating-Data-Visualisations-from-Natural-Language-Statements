{
 "cells": [
  {
   "cell_type": "markdown",
   "id": "9a85bf92-4a87-4161-9829-c9b27cb1c5b4",
   "metadata": {},
   "source": [
    "# Set-up"
   ]
  },
  {
   "cell_type": "markdown",
   "id": "3a1db2c5-d2da-45ac-be0c-4487ace75d33",
   "metadata": {},
   "source": [
    "## Select platform"
   ]
  },
  {
   "cell_type": "code",
   "execution_count": 1,
   "id": "36ef24bc-3ef0-49a2-9c61-90e55645c2ba",
   "metadata": {},
   "outputs": [],
   "source": [
    "PLATFORM = 'laptop' # colab or laptop"
   ]
  },
  {
   "cell_type": "markdown",
   "id": "ce21fa6e-5e12-43d1-aed1-c44d79aa0074",
   "metadata": {},
   "source": [
    "## Import dependencies"
   ]
  },
  {
   "cell_type": "code",
   "execution_count": 2,
   "id": "aff37531",
   "metadata": {
    "id": "aff37531"
   },
   "outputs": [],
   "source": [
    "import altair as alt\n",
    "import ast\n",
    "import bz2\n",
    "import IPython.display\n",
    "import json\n",
    "import matplotlib.pyplot as plt\n",
    "import matplotlib as mpl\n",
    "import numpy as np\n",
    "import os\n",
    "import pandas as pd\n",
    "import pickle\n",
    "import random\n",
    "import scipy\n",
    "import time\n",
    "# from save_load import load_pickle, load_compressed, save_pickle\n",
    "\n",
    "# To enable rendering on GitHub\n",
    "# Source: https://altair-viz.github.io/user_guide/display_frontends.html\n",
    "alt.renderers.enable(\"mimetype\")\n",
    "\n",
    "# To avoid kernel fails\n",
    "# Source: https://stackoverflow.com/questions/53014306/error-15-initializing-libiomp5-dylib-but-found-libiomp5-dylib-already-initial\n",
    "os.environ['KMP_DUPLICATE_LIB_OK']='True'"
   ]
  },
  {
   "cell_type": "code",
   "execution_count": 3,
   "id": "6f4d4817-9fc5-4f71-8df0-fe17c70c153e",
   "metadata": {},
   "outputs": [],
   "source": [
    "if PLATFORM == 'colab':\n",
    "\n",
    "    # Install Hugging Face library using a shell command\n",
    "    import os\n",
    "    os.system(\"pip install transformers\")\n",
    "\n",
    "    # Mount Google Drive and CD using a shell command\n",
    "    from google.colab import drive\n",
    "    drive.mount('/content/drive')\n",
    "    os.chdir(\"/content/drive/MyDrive/Data science jobs/2. Portfolio/3. NL2VIS/\")"
   ]
  },
  {
   "cell_type": "markdown",
   "id": "f7e4c91b-db71-46d8-a248-390645c5fd1d",
   "metadata": {},
   "source": [
    "## Top level functions"
   ]
  },
  {
   "cell_type": "code",
   "execution_count": 4,
   "id": "ed2100fa-0955-4909-bb32-1eec9c999fa8",
   "metadata": {},
   "outputs": [],
   "source": [
    "def save_object(fname, data):\n",
    "    \"\"\"Pickle a file and compress it.\n",
    "    Source: https://betterprogramming.pub/load-fast-load-big-with-compressed-pickles-5f311584507e\n",
    "    \"\"\"\n",
    "    with bz2.open(fname, \"wb\") as f:\n",
    "        pickle.dump(data, f)\n",
    "\n",
    "\n",
    "def load_object(fname):\n",
    "    \"\"\"Load compressed pickle file\n",
    "    Source: https://betterprogramming.pub/load-fast-load-big-with-compressed-pickles-5f311584507e\n",
    "    \"\"\"\n",
    "    with bz2.open(fname, \"rb\") as f:\n",
    "        data = pickle.load(f)\n",
    "    return data\n",
    "    \n",
    "\n",
    "def validation_summary(validated_spec_df):\n",
    "    \"\"\"Calculates the % of problems where the first sample passes all validation tests (valid@1)\n",
    "    and at least one of the k samples passes all validation tests (valid@k)\n",
    "    \"\"\"\n",
    "    validated_spec_df = validated_spec_df.applymap(lambda x: 'Valid' if isinstance(x, dict) else x)\n",
    "    \n",
    "    # Valid@1\n",
    "    valid_in_1 = validated_spec_df.apply(pd.Series.value_counts).apply(lambda x: x/x.sum()).transpose() * 100\n",
    "    valid_in_1 = valid_in_1.iloc[0].sort_values(ascending=False)\n",
    "    valid_in_1.name = 'Valid@1'\n",
    "    \n",
    "    # Valid@k\n",
    "    is_valid = validated_spec_df == 'Valid'\n",
    "    valid_in_k = is_valid.sum(axis=1) >= 1\n",
    "    valid_in_k = valid_in_k.sum() / validated_spec_df.shape[0] * 100\n",
    "    \n",
    "    # Valid@1 & Valid@k summary\n",
    "    valid_summary = pd.Series({\"Valid@1\": valid_in_1['Valid'],\n",
    "                          \"Valid@k\": valid_in_k})\n",
    "    \n",
    "    return valid_in_1, valid_summary\n",
    "\n",
    "\n",
    "def apply_logic_test(test_df, target_df, rule_func, *args):\n",
    "    \"\"\"Apply logic unit test (rule_func) to generated (test) specifications\n",
    "    \"\"\"\n",
    "    output = {}\n",
    "    for col, row_result in test_df.to_dict().items():\n",
    "        col_output = {col: {}}\n",
    "\n",
    "        for row, result in row_result.items():\n",
    "            if isinstance(result, dict):\n",
    "                col_output[col].update(\n",
    "                    {row: rule_func(result, target_df, row, col, *args)})\n",
    "            else:\n",
    "                col_output[col].update({row: result})\n",
    "\n",
    "        output.update(col_output)\n",
    "    return pd.DataFrame.from_dict(output)\n",
    "\n",
    "\n",
    "def data_source_rule(test_spec, target_df, row, column):\n",
    "    \"\"\"Compare data source of a generated (test) vega-lite specification to \n",
    "    a target specification.\n",
    "    \"\"\"\n",
    "    return test_spec.get('data').get('url') == target_df.iloc[row, column]['data']['url']\n",
    "\n",
    "\n",
    "def mark_type_rule(test_spec, target_df, row, column):\n",
    "    \"\"\"Compare mark type of a generated (test) vega-lite specification to \n",
    "    a target specification.\n",
    "    \"\"\"\n",
    "    if 'mark' in target_df.iloc[row, column] and 'mark' in test_spec:\n",
    "        return test_spec.get('mark').get('type') == target_df.iloc[row, column]['mark']['type']\n",
    "\n",
    "    elif 'mark' not in target_df.iloc[row, column] and 'mark' not in test_spec:\n",
    "        return test_spec['hconcat'][0].get('mark') == target_df.iloc[row, column]['hconcat'][0]['mark']\n",
    "\n",
    "    else:\n",
    "        return 1 == 2\n",
    "\n",
    "\n",
    "def channel_rule(test_spec, target_df, row, column, *args):\n",
    "    \"\"\"Compare chosen channel of a generated (test) vega-lite specification to \n",
    "    a target specification.\n",
    "    \"\"\"\n",
    "    relevant_channels, relevant_keys = args\n",
    "\n",
    "    # Create a set of relevant values for the chosen channels\n",
    "    if 'encoding' in test_spec:\n",
    "        test_spec_values = {outer_key:\n",
    "                            {inner_key: inner_value for inner_key, inner_value in outer_value.items() if inner_key in relevant_keys\n",
    "                            }\n",
    "                            for outer_key, outer_value in test_spec['encoding'].items() if outer_key in relevant_channels\n",
    "                           }\n",
    "    elif 'hconcat' in test_spec:\n",
    "        test_spec_values = {outer_key: \n",
    "                            {inner_key: inner_value for inner_key, inner_value in outer_value.items() if inner_key in relevant_keys\n",
    "                            }\n",
    "                            for outer_key, outer_value in test_spec['hconcat'][0]['encoding'].items() if outer_key in relevant_channels\n",
    "                           }\n",
    "    else: test_spec_values = {}\n",
    "\n",
    "    if 'encoding' in target_df.iloc[row, column]:\n",
    "        target_spec_values = {outer_key:\n",
    "                              {inner_key: inner_value for inner_key, inner_value in outer_value.items() if inner_key in relevant_keys\n",
    "                              }\n",
    "                              for outer_key, outer_value in target_df.iloc[row, column]['encoding'].items() if outer_key in relevant_channels\n",
    "                             }\n",
    "    else:\n",
    "        target_spec_values = {outer_key:\n",
    "                              {inner_key: inner_value for inner_key, inner_value in outer_value.items() if inner_key in relevant_keys\n",
    "                              }\n",
    "                              for outer_key, outer_value in target_df.iloc[row, column]['hconcat'][0]['encoding'].items() if outer_key in relevant_channels\n",
    "                             }\n",
    "\n",
    "    # Replace any 'mean' values for aggregate with 'average'\n",
    "    for outer_key, outer_value in target_spec_values.items():\n",
    "        for inner_key, inner_value in outer_value.items():\n",
    "            if inner_value == 'mean':\n",
    "                target_spec_values[outer_key][inner_key] = 'average'\n",
    "\n",
    "    for outer_key, outer_value in test_spec_values.items():\n",
    "        for inner_key, inner_value in outer_value.items():\n",
    "            if inner_value == 'mean':\n",
    "                test_spec_values[outer_key][inner_key] = 'average'\n",
    "\n",
    "    # Create sets containing (field, aggregation function) frozen sets\n",
    "    test_spec_values = [tuple(outer_value.values())\n",
    "                        for outer_key, outer_value in test_spec_values.items()\n",
    "                       ]\n",
    "    test_spec_values = {tuple(json.dumps(element) if isinstance(element, dict) \n",
    "                              else element for element in t) for t in test_spec_values\n",
    "                       }\n",
    "    test_spec_values = {frozenset(t) for t in test_spec_values}\n",
    "\n",
    "    target_spec_values = [tuple(outer_value.values())\n",
    "                          for outer_key, outer_value in target_spec_values.items()\n",
    "                         ]\n",
    "    target_spec_values = {tuple(json.dumps(element) if isinstance(element, dict) \n",
    "                                else element for element in t) for t in target_spec_values\n",
    "                         }\n",
    "    target_spec_values = {frozenset(t) for t in target_spec_values}\n",
    "\n",
    "    # Remove field in (field, aggregate function) frozen set if the aggregate function is count\n",
    "    if frozenset({'count'}) in target_spec_values:\n",
    "        test_spec_values = set([frozenset({'count'}) if 'count' in s else s\n",
    "                                for s in list(test_spec_values)\n",
    "                               ])\n",
    "\n",
    "    # Remove aggregate function in (field, aggregate function) frozen set if the aggregate function is None\n",
    "    test_spec_values = [[v for v in list(s) if v is not None\n",
    "                        ]\n",
    "                        for s in list(test_spec_values)\n",
    "                       ]\n",
    "    test_spec_values = set([frozenset(s) for s in test_spec_values])\n",
    "\n",
    "    target_spec_values = [[v for v in list(s) if v is not None\n",
    "                          ]\n",
    "                          for s in list(target_spec_values)\n",
    "                         ]\n",
    "    target_spec_values = set([frozenset(s) for s in target_spec_values])\n",
    "\n",
    "    return test_spec_values == target_spec_values\n",
    "\n",
    "\n",
    "def unit_test_summary(has_passed_df):\n",
    "    \"\"\" Calculates pass@1 and pass@k given the boolean output of unit test(s).\n",
    "    \"\"\"\n",
    "    pass_in_1 = has_passed_df.apply(pd.Series.value_counts).apply(\n",
    "        lambda x: x/x.sum()).transpose() * 100\n",
    "    pass_in_1 = pass_in_1.iloc[0].sort_values(ascending=False)\n",
    "    pass_in_1.rename(index={True: 'Pass', False: 'Fail'}, inplace=True)\n",
    "    pass_in_1.name = 'pass@1'\n",
    "\n",
    "    has_passed_in_k = has_passed_df == True\n",
    "    has_passed_in_k = has_passed_in_k.sum(axis=1) >= 1\n",
    "    pass_in_k = has_passed_in_k.sum() / has_passed_in_k.shape[0] * 100\n",
    "\n",
    "    # pass@1 & pass@k summary\n",
    "    pass_summary = pd.Series({\"pass@1\": pass_in_1['Pass'],\n",
    "                              \"pass@k\": pass_in_k})\n",
    "\n",
    "    return pass_in_1, pass_in_k, pass_summary\n",
    "\n",
    "\n",
    "def all_tests_summary(unit_test_outputs):\n",
    "    \"\"\"Calculates overall pass@1 and pass@k using the boolean output of multiple unit tests.\n",
    "    It does this in two steps.\n",
    "    1) A flag indicating whether a specification has passed all unit tests is inserted.\n",
    "    2) All boolean unit test outputs are compared to the first test. Returns True if all True.\n",
    "    Source: https://towardsdatascience.com/python-tricks-check-multiple-variables-against-single-value-18a4d98d79f4\n",
    "    \"\"\"\n",
    "    unit_test_outputs = [is_valid.applymap(lambda x: x if x == True else np.nan)\n",
    "                        for is_valid in unit_test_outputs]\n",
    "    \n",
    "    has_passed_all = unit_test_outputs[0].copy(deep=True)\n",
    "    for row in range(unit_test_outputs[0].shape[0]):\n",
    "        for col in range(unit_test_outputs[0].shape[1]):\n",
    "            has_passed_all.iloc[row, col] = all(unit_test_outputs[0].iloc[row, col] == x \n",
    "                                                for x in [is_valid.iloc[row, col] \n",
    "                                                          for is_valid in unit_test_outputs\n",
    "                                                         ]\n",
    "                                               )\n",
    "    return has_passed_all, unit_test_summary(has_passed_all)\n",
    "\n",
    "\n",
    "def pass1_split(validated_outputs, has_passed_all, input_prompts, split):\n",
    "    \"\"\" Calculates pass@1 (using the first sample) after splitting specifications\n",
    "    by mark type or data source.\n",
    "    \"\"\"\n",
    "    has_passed_all = pd.concat([has_passed_all, input_prompts[split]], axis=1)\n",
    "    split_counts = has_passed_all.groupby([split, 0]).size().unstack(fill_value=0)\n",
    "    split_counts = split_counts.rename({True: \"Pass\", False: \"Fail\"}, axis=1)\n",
    "    total_count = split_counts.sum(axis=1)\n",
    "    split_rates = split_counts.div(total_count, axis=0).add_suffix(\" %\")\n",
    "    \n",
    "    return pd.concat([split_rates, split_counts, total_count.rename('Total')], axis=1)"
   ]
  },
  {
   "cell_type": "markdown",
   "id": "3f2ae28a-6274-4106-8240-41a70ab0f57e",
   "metadata": {},
   "source": [
    "## Parameters"
   ]
  },
  {
   "cell_type": "markdown",
   "id": "418108d9-20e0-47d6-9c53-00d249e595e5",
   "metadata": {},
   "source": [
    "### Model parameters"
   ]
  },
  {
   "cell_type": "code",
   "execution_count": 5,
   "id": "WdOVWhXmLSjA",
   "metadata": {
    "id": "WdOVWhXmLSjA"
   },
   "outputs": [],
   "source": [
    "DECODE_STRATEGY = \"top_p\"\n",
    "MODEL_TYPE = \"gpt-neo-125M\"\n",
    "INPUT_PROMPTS = 'ID_3shot_test_set'\n",
    "MODEL_OUTPUT = 'ID_3shot_test_set-gpt-neo-125M-20230830-114246'\n",
    "NUM_OUTPUTS = 10"
   ]
  },
  {
   "cell_type": "markdown",
   "id": "gH32yh3dPbag",
   "metadata": {
    "id": "gH32yh3dPbag"
   },
   "source": [
    "### File parameters"
   ]
  },
  {
   "cell_type": "code",
   "execution_count": 6,
   "id": "a10f7405",
   "metadata": {
    "id": "a10f7405"
   },
   "outputs": [],
   "source": [
    "TIME_STRING = time.strftime(\"%Y%m%d-%H%M%S\")\n",
    "OUTPUT_FILENAME = MODEL_OUTPUT + '_validated'\n",
    "\n",
    "if PLATFORM == 'colab':\n",
    "    FILE_DIRECTORY = '/content/drive/MyDrive/Data science jobs/2. Portfolio/3. NL2VIS/'\n",
    "\n",
    "elif PLATFORM == 'hpc':\n",
    "    FILE_DIRECTORY = \"/mnt/scratch/users/adbz866/\"\n",
    "\n",
    "elif PLATFORM == 'laptop':\n",
    "    FILE_DIRECTORY = 'C:/Users/billy/OneDrive/Documents/Python Scripts/1. Portfolio/1. NL2VIS/data/cleaned/'"
   ]
  },
  {
   "cell_type": "code",
   "execution_count": 7,
   "id": "pJcBVYb_P14l",
   "metadata": {
    "colab": {
     "base_uri": "https://localhost:8080/"
    },
    "executionInfo": {
     "elapsed": 13,
     "status": "ok",
     "timestamp": 1669588180824,
     "user": {
      "displayName": "Billy Pitchford",
      "userId": "01251209915329143145"
     },
     "user_tz": 0
    },
    "id": "pJcBVYb_P14l",
    "outputId": "9d9caf9b-321e-4dcf-8172-0160d06d9180"
   },
   "outputs": [
    {
     "name": "stdout",
     "output_type": "stream",
     "text": [
      "Time: 20230901-144004\n",
      "File directory: C:/Users/billy/OneDrive/Documents/Python Scripts/1. Portfolio/1. NL2VIS/data/cleaned/\n",
      "\n",
      "\n",
      "Platform: laptop\n",
      "Model: gpt-neo-125M\n",
      "Input prompts: ID_3shot_test_set\n",
      "Model output: ID_3shot_test_set-gpt-neo-125M-20230830-114246\n",
      "Decoding strategy: top_p\n"
     ]
    }
   ],
   "source": [
    "print(\"Time:\", TIME_STRING)\n",
    "print(\"File directory:\", FILE_DIRECTORY)\n",
    "print(\"\\n\")\n",
    "print(\"Platform:\", PLATFORM)\n",
    "print(\"Model:\", MODEL_TYPE)\n",
    "print(\"Input prompts:\", INPUT_PROMPTS)\n",
    "print(\"Model output:\", MODEL_OUTPUT)\n",
    "print(\"Decoding strategy:\", DECODE_STRATEGY)"
   ]
  },
  {
   "cell_type": "markdown",
   "id": "0fedf9fa-7a25-49a6-bdf5-be7b1da548fc",
   "metadata": {},
   "source": [
    "# Import data"
   ]
  },
  {
   "cell_type": "code",
   "execution_count": 8,
   "id": "f2cf7cab-2bac-4ed3-9ea5-b94cb809a623",
   "metadata": {},
   "outputs": [],
   "source": [
    "# Input prompts\n",
    "with open(FILE_DIRECTORY + INPUT_PROMPTS + '.pickle', 'rb') as f:\n",
    "    input_prompts = pickle.load(f)\n",
    "\n",
    "# Decoded generated sequences\n",
    "model_output = load_object(FILE_DIRECTORY + MODEL_OUTPUT + '_results')\n",
    "\n",
    "# Validated generated sequences\n",
    "validated_output = load_object(FILE_DIRECTORY + MODEL_OUTPUT + '_results_validated')"
   ]
  },
  {
   "cell_type": "markdown",
   "id": "bd8e0cc7-b639-4448-bc4e-91f0e3fafd2c",
   "metadata": {},
   "source": [
    "# Pre-processing"
   ]
  },
  {
   "cell_type": "code",
   "execution_count": 9,
   "id": "a1879cfa-a88c-4ff5-b438-68b89deb9a99",
   "metadata": {},
   "outputs": [],
   "source": [
    "# Create target spec df\n",
    "target_df = input_prompts[['spec']].copy(deep=True)\n",
    "target_df['spec'] = target_df['spec'].apply(lambda x: ast.literal_eval(x))\n",
    "target_df = pd.concat([target_df for n in range(NUM_OUTPUTS)], axis=1, ignore_index=True)\n",
    "\n",
    "# Create model output df\n",
    "output_df = model_output['Decoded sequences']\n",
    "output_df = pd.DataFrame(output_df, columns = list(range(NUM_OUTPUTS)))\n",
    "\n",
    "# Create validated output df\n",
    "validated_output_df = validated_output['Validated spec']\n",
    "validated_output_df = pd.DataFrame(validated_output_df, columns = list(range(NUM_OUTPUTS)))"
   ]
  },
  {
   "cell_type": "markdown",
   "id": "668ed20d-aa61-4821-9418-eab459185333",
   "metadata": {},
   "source": [
    "# Evaluation\n",
    "Two evaluation metrics are crucial to the assessment of model performance: valid@k and pass@k. \r\n",
    "\r\n",
    "* Valid@k represents the validation rate with k samples. For example, valid@1 would represent the\r\n",
    "fraction of problems for which the model generated a valid Vega-Lite specification with 1 sample.\r\n",
    "\r\n",
    "* Pass@k represents the pass rate with k samples. Where pass@1 would represent the fraction of problems for which the model generated a Vega-Lite specification that passed logical unit test(s) with 1 sample."
   ]
  },
  {
   "cell_type": "markdown",
   "id": "30fbf37a-eadc-4a49-9199-71d17d631b80",
   "metadata": {},
   "source": [
    "## Validation\n",
    "* Validation rates are determined in 5_validate_outputs.ipynb\n",
    "\n",
    "    Note: An output is classified as valid if it has a valid Vega-Lite schema."
   ]
  },
  {
   "cell_type": "code",
   "execution_count": 10,
   "id": "c9c9e5dc-c521-4996-a197-f632aa455872",
   "metadata": {},
   "outputs": [
    {
     "name": "stdout",
     "output_type": "stream",
     "text": [
      "Valid@1    93.75\n",
      "Valid@k    96.25\n",
      "dtype: float64\n"
     ]
    }
   ],
   "source": [
    "valid_in_1, valid_in_k = validation_summary(validated_output_df)\n",
    "print(valid_in_k)"
   ]
  },
  {
   "cell_type": "markdown",
   "id": "1e0f1fc0-2096-4ab4-ad9e-5c7791cf9baa",
   "metadata": {},
   "source": [
    "## Logic unit tests\r\n",
    "* A set of match based logical tests are used to assess the relevance of valid Vega-Lite specifications.\r\n",
    "* All tests involve comparing a generated specification to the original (NL command, Vega-Lite specification) pair found in the corpus. A logic error is \r\n",
    "raised if a test fails."
   ]
  },
  {
   "cell_type": "markdown",
   "id": "a44ba166-974d-4328-85ed-7001f1585de9",
   "metadata": {},
   "source": [
    "<img src=\"figures/logical_tests.png\" align=\"left\" width=\"400\" />"
   ]
  },
  {
   "cell_type": "markdown",
   "id": "fc09b57c",
   "metadata": {
    "id": "fc09b57c"
   },
   "source": [
    "## Data source\n",
    "[\"*Vega-Lite’s data property describes the visualization’s data source as part of the specification, which can be either inline data (values) or a URL from which to load the data (url).*\"](https://vega.github.io/vega-lite/docs/data.html)"
   ]
  },
  {
   "cell_type": "code",
   "execution_count": 11,
   "id": "TN8dNtWn4mQa",
   "metadata": {
    "colab": {
     "base_uri": "https://localhost:8080/",
     "height": 81
    },
    "executionInfo": {
     "elapsed": 28,
     "status": "ok",
     "timestamp": 1669588183555,
     "user": {
      "displayName": "Billy Pitchford",
      "userId": "01251209915329143145"
     },
     "user_tz": 0
    },
    "id": "TN8dNtWn4mQa",
    "outputId": "59e6a54b-6ac7-4fb2-d38a-9f0521ea77bd"
   },
   "outputs": [
    {
     "name": "stdout",
     "output_type": "stream",
     "text": [
      "Pass                93.750\n",
      "Validation error     4.375\n",
      "Syntax error         1.875\n",
      "Name: pass@1, dtype: float64\n"
     ]
    }
   ],
   "source": [
    "is_valid_dsource = apply_logic_test(validated_output_df, target_df, data_source_rule)\n",
    "dsource_pass1, _, _  = unit_test_summary(is_valid_dsource)\n",
    "print(dsource_pass1)"
   ]
  },
  {
   "cell_type": "markdown",
   "id": "270b424b",
   "metadata": {
    "id": "270b424b"
   },
   "source": [
    "## Mark type\n",
    "[\"*Marks are the basic visual building block of a visualization. They provide basic shapes whose properties (such as position, size, and color) can be used to visually encode data, either from a data field, or a constant value. The mark property of a single view specification can either be (1) a string describing a mark type or (2) a mark definition object.*\"](https://vega.github.io/vega-lite/docs/mark.html)"
   ]
  },
  {
   "cell_type": "code",
   "execution_count": 12,
   "id": "b25dbb9e-409a-4161-9dba-cd447170744f",
   "metadata": {},
   "outputs": [
    {
     "name": "stdout",
     "output_type": "stream",
     "text": [
      "Pass                90.000\n",
      "Validation error     4.375\n",
      "Fail                 3.750\n",
      "Syntax error         1.875\n",
      "Name: pass@1, dtype: float64\n"
     ]
    }
   ],
   "source": [
    "is_valid_mtype = apply_logic_test(validated_output_df, target_df, mark_type_rule)\n",
    "mtype_pass1, _, _  = unit_test_summary(is_valid_mtype)\n",
    "print(mtype_pass1)"
   ]
  },
  {
   "cell_type": "markdown",
   "id": "0f048b93",
   "metadata": {
    "id": "0f048b93"
   },
   "source": [
    "## Data transformations\n",
    "[\"*Data transformations in Vega-Lite are described via either view-level transforms (the transform property) or field transforms inside encoding (bin, timeUnit, aggregate, sort, and stack)*\"](https://vega.github.io/vega-lite/docs/transform.html)"
   ]
  },
  {
   "cell_type": "markdown",
   "id": "3a541bff",
   "metadata": {
    "id": "3a541bff"
   },
   "source": [
    "### Position channels"
   ]
  },
  {
   "cell_type": "code",
   "execution_count": 13,
   "id": "fdSH584kDgEv",
   "metadata": {
    "colab": {
     "base_uri": "https://localhost:8080/",
     "height": 81
    },
    "executionInfo": {
     "elapsed": 12,
     "status": "ok",
     "timestamp": 1669588183820,
     "user": {
      "displayName": "Billy Pitchford",
      "userId": "01251209915329143145"
     },
     "user_tz": 0
    },
    "id": "fdSH584kDgEv",
    "outputId": "e1043a1b-8788-4235-ece9-54eb636ecd4b"
   },
   "outputs": [
    {
     "name": "stdout",
     "output_type": "stream",
     "text": [
      "Pass                79.375\n",
      "Fail                14.375\n",
      "Validation error     4.375\n",
      "Syntax error         1.875\n",
      "Name: pass@1, dtype: float64\n"
     ]
    }
   ],
   "source": [
    "is_valid_pchannel = apply_logic_test(validated_output_df, target_df, channel_rule, ['x', 'y'], ['field', 'aggregate'])\n",
    "pchannel_pass1, _, _  = unit_test_summary(is_valid_pchannel)\n",
    "print(pchannel_pass1)"
   ]
  },
  {
   "cell_type": "markdown",
   "id": "177cccbd",
   "metadata": {
    "id": "177cccbd"
   },
   "source": [
    "### Facet channels"
   ]
  },
  {
   "cell_type": "code",
   "execution_count": 14,
   "id": "5b93ad4e-f774-41d7-935a-55d8d3b14a66",
   "metadata": {},
   "outputs": [
    {
     "name": "stdout",
     "output_type": "stream",
     "text": [
      "Pass                86.875\n",
      "Fail                 6.875\n",
      "Validation error     4.375\n",
      "Syntax error         1.875\n",
      "Name: pass@1, dtype: float64\n"
     ]
    }
   ],
   "source": [
    "is_valid_facet = apply_logic_test(validated_output_df, target_df, channel_rule, ['facet', 'row', 'column'], ['field', 'aggregate'])\n",
    "facet_pass1, _, _  = unit_test_summary(is_valid_facet)\n",
    "print(facet_pass1)"
   ]
  },
  {
   "cell_type": "markdown",
   "id": "d8180084",
   "metadata": {
    "id": "d8180084"
   },
   "source": [
    "### Mark properties"
   ]
  },
  {
   "cell_type": "code",
   "execution_count": 15,
   "id": "kJxp9v2DEcwz",
   "metadata": {
    "colab": {
     "base_uri": "https://localhost:8080/",
     "height": 81
    },
    "executionInfo": {
     "elapsed": 20,
     "status": "ok",
     "timestamp": 1669588185040,
     "user": {
      "displayName": "Billy Pitchford",
      "userId": "01251209915329143145"
     },
     "user_tz": 0
    },
    "id": "kJxp9v2DEcwz",
    "outputId": "c37cbb4a-c730-4f3e-9ab8-100614e33a90"
   },
   "outputs": [
    {
     "name": "stdout",
     "output_type": "stream",
     "text": [
      "Pass                83.125\n",
      "Fail                10.625\n",
      "Validation error     4.375\n",
      "Syntax error         1.875\n",
      "Name: pass@1, dtype: float64\n"
     ]
    }
   ],
   "source": [
    "is_valid_mark_property = apply_logic_test(validated_output_df, target_df, channel_rule, ['color'], ['field', 'aggregate'])\n",
    "mark_property_pass1, _, _  = unit_test_summary(is_valid_mark_property)\n",
    "print(mark_property_pass1)"
   ]
  },
  {
   "cell_type": "markdown",
   "id": "c715e50e",
   "metadata": {
    "id": "c715e50e"
   },
   "source": [
    "### Detail properties"
   ]
  },
  {
   "cell_type": "code",
   "execution_count": 16,
   "id": "a09bc2ae-f904-41f1-8883-0eb1d2eb2fb2",
   "metadata": {},
   "outputs": [
    {
     "name": "stdout",
     "output_type": "stream",
     "text": [
      "Pass                93.750\n",
      "Validation error     4.375\n",
      "Syntax error         1.875\n",
      "Name: pass@1, dtype: float64\n"
     ]
    }
   ],
   "source": [
    "is_valid_detail = apply_logic_test(validated_output_df, target_df, channel_rule, ['detail'], ['field', 'aggregate'])\n",
    "detail_pass1, _, _  = unit_test_summary(is_valid_detail)\n",
    "print(detail_pass1)"
   ]
  },
  {
   "cell_type": "markdown",
   "id": "9c437b08",
   "metadata": {
    "id": "9c437b08"
   },
   "source": [
    "## Compare unit test outcomes"
   ]
  },
  {
   "cell_type": "code",
   "execution_count": 17,
   "id": "c292f314-b707-46a8-902b-1dda38bf88c7",
   "metadata": {},
   "outputs": [
    {
     "data": {
      "image/png": "[encoded data removed]",
      "text/plain": [
       "<Figure size 640x480 with 1 Axes>"
      ]
     },
     "metadata": {},
     "output_type": "display_data"
    }
   ],
   "source": [
    "results = [dsource_pass1, mtype_pass1, pchannel_pass1, facet_pass1, mark_property_pass1, detail_pass1]\n",
    "X = ['Data source', 'Mark type', 'Position', 'Facet', 'Mark properties', 'Detail']\n",
    "Y = []     \n",
    "for summary in results:\n",
    "    try:\n",
    "        Y.append(summary['Fail'])\n",
    "    except KeyError:\n",
    "        Y.append(0)\n",
    "\n",
    "fig, axes = plt.subplots(nrows=1, ncols=1)\n",
    "axes.bar(X, Y)\n",
    "axes.xaxis.set_ticks(X)\n",
    "axes.set_xticklabels(labels=X, rotation=45, ha='right')\n",
    "axes.set_ylabel('% of total')\n",
    "axes.set_title('fail@1');"
   ]
  },
  {
   "cell_type": "markdown",
   "id": "d4b92918",
   "metadata": {
    "id": "d4b92918"
   },
   "source": [
    "# Overall pass rate\n",
    "* The overall pass rate indicates the proportion of problems which passed all logic unit tests with one or k samples."
   ]
  },
  {
   "cell_type": "code",
   "execution_count": 18,
   "id": "cedfaad2-eea5-4d00-a94f-299253809126",
   "metadata": {},
   "outputs": [
    {
     "name": "stdout",
     "output_type": "stream",
     "text": [
      "Pass    71.875\n",
      "Fail    28.125\n",
      "Name: pass@1, dtype: float64\n"
     ]
    }
   ],
   "source": [
    "# pass@1\n",
    "unit_test_outputs = [is_valid_dsource,\n",
    "                     is_valid_mtype,\n",
    "                     is_valid_pchannel,\n",
    "                     is_valid_facet,\n",
    "                     is_valid_mark_property,\n",
    "                     is_valid_detail]\n",
    "\n",
    "has_passed_all, (overall_pass1, overall_passk, overall_summary) = all_tests_summary(unit_test_outputs)\n",
    "print(overall_pass1)"
   ]
  },
  {
   "cell_type": "code",
   "execution_count": 19,
   "id": "34b97787-b069-4b6c-9615-6700e3d43d8f",
   "metadata": {},
   "outputs": [
    {
     "name": "stdout",
     "output_type": "stream",
     "text": [
      "pass@1    71.875\n",
      "pass@k    75.625\n",
      "dtype: float64\n",
      "\n",
      "\n"
     ]
    },
    {
     "data": {
      "image/png": "[encoded data removed]",
      "text/plain": [
       "<Figure size 640x480 with 1 Axes>"
      ]
     },
     "metadata": {},
     "output_type": "display_data"
    }
   ],
   "source": [
    "# pass@k\n",
    "print(overall_summary)\n",
    "print(\"\\n\")\n",
    "fig, axes = plt.subplots(nrows=1, ncols=1)\n",
    "axes.scatter(overall_summary.index, overall_summary.values, s=1000, marker='+')\n",
    "\n",
    "axes.set_ylim([70, 80])\n",
    "axes.set_xlim([-0.5, 1.5])\n",
    "axes.xaxis.set_ticks(overall_summary.index)\n",
    "axes.set_xticklabels(labels=overall_summary.index, rotation=45, ha='right')\n",
    "axes.set_ylabel('% of total')\n",
    "axes.set_title('pass@1 vs pass@k');"
   ]
  },
  {
   "cell_type": "markdown",
   "id": "8a791264",
   "metadata": {
    "id": "8a791264"
   },
   "source": [
    "# Pass@1 breakdown\n",
    "* Pass@1 is broken down by mark type and data source below."
   ]
  },
  {
   "cell_type": "markdown",
   "id": "c9944dde",
   "metadata": {
    "id": "c9944dde"
   },
   "source": [
    "## By mark type"
   ]
  },
  {
   "cell_type": "code",
   "execution_count": 20,
   "id": "c5caaf24",
   "metadata": {
    "colab": {
     "base_uri": "https://localhost:8080/",
     "height": 237
    },
    "executionInfo": {
     "elapsed": 9,
     "status": "ok",
     "timestamp": 1669588187305,
     "user": {
      "displayName": "Billy Pitchford",
      "userId": "01251209915329143145"
     },
     "user_tz": 0
    },
    "id": "c5caaf24",
    "outputId": "e97b0ba0-33c7-48e3-fc32-72aad7a2e85f"
   },
   "outputs": [
    {
     "data": {
      "text/html": [
       "<div>\n",
       "<style scoped>\n",
       "    .dataframe tbody tr th:only-of-type {\n",
       "        vertical-align: middle;\n",
       "    }\n",
       "\n",
       "    .dataframe tbody tr th {\n",
       "        vertical-align: top;\n",
       "    }\n",
       "\n",
       "    .dataframe thead th {\n",
       "        text-align: right;\n",
       "    }\n",
       "</style>\n",
       "<table border=\"1\" class=\"dataframe\">\n",
       "  <thead>\n",
       "    <tr style=\"text-align: right;\">\n",
       "      <th></th>\n",
       "      <th>Fail %</th>\n",
       "      <th>Pass %</th>\n",
       "      <th>Fail</th>\n",
       "      <th>Pass</th>\n",
       "      <th>Total</th>\n",
       "    </tr>\n",
       "    <tr>\n",
       "      <th>markType</th>\n",
       "      <th></th>\n",
       "      <th></th>\n",
       "      <th></th>\n",
       "      <th></th>\n",
       "      <th></th>\n",
       "    </tr>\n",
       "  </thead>\n",
       "  <tbody>\n",
       "    <tr>\n",
       "      <th>area</th>\n",
       "      <td>1.000000</td>\n",
       "      <td>0.000000</td>\n",
       "      <td>1</td>\n",
       "      <td>0</td>\n",
       "      <td>1</td>\n",
       "    </tr>\n",
       "    <tr>\n",
       "      <th>bar</th>\n",
       "      <td>0.325301</td>\n",
       "      <td>0.674699</td>\n",
       "      <td>27</td>\n",
       "      <td>56</td>\n",
       "      <td>83</td>\n",
       "    </tr>\n",
       "    <tr>\n",
       "      <th>line</th>\n",
       "      <td>0.160000</td>\n",
       "      <td>0.840000</td>\n",
       "      <td>4</td>\n",
       "      <td>21</td>\n",
       "      <td>25</td>\n",
       "    </tr>\n",
       "    <tr>\n",
       "      <th>point</th>\n",
       "      <td>0.240000</td>\n",
       "      <td>0.760000</td>\n",
       "      <td>12</td>\n",
       "      <td>38</td>\n",
       "      <td>50</td>\n",
       "    </tr>\n",
       "    <tr>\n",
       "      <th>tick</th>\n",
       "      <td>1.000000</td>\n",
       "      <td>0.000000</td>\n",
       "      <td>1</td>\n",
       "      <td>0</td>\n",
       "      <td>1</td>\n",
       "    </tr>\n",
       "  </tbody>\n",
       "</table>\n",
       "</div>"
      ],
      "text/plain": [
       "            Fail %    Pass %  Fail  Pass  Total\n",
       "markType                                       \n",
       "area      1.000000  0.000000     1     0      1\n",
       "bar       0.325301  0.674699    27    56     83\n",
       "line      0.160000  0.840000     4    21     25\n",
       "point     0.240000  0.760000    12    38     50\n",
       "tick      1.000000  0.000000     1     0      1"
      ]
     },
     "execution_count": 20,
     "metadata": {},
     "output_type": "execute_result"
    }
   ],
   "source": [
    "pass1_split(validated_output_df, has_passed_all, input_prompts, 'markType')"
   ]
  },
  {
   "cell_type": "markdown",
   "id": "91d8a7c7",
   "metadata": {
    "id": "91d8a7c7"
   },
   "source": [
    "## By data source"
   ]
  },
  {
   "cell_type": "code",
   "execution_count": 21,
   "id": "eMMrZ92z0gSs",
   "metadata": {
    "colab": {
     "base_uri": "https://localhost:8080/",
     "height": 206
    },
    "executionInfo": {
     "elapsed": 855,
     "status": "ok",
     "timestamp": 1669588188808,
     "user": {
      "displayName": "Billy Pitchford",
      "userId": "01251209915329143145"
     },
     "user_tz": 0
    },
    "id": "eMMrZ92z0gSs",
    "outputId": "f06cd413-fc6b-401d-8e29-387a8b2ebb45"
   },
   "outputs": [
    {
     "data": {
      "text/html": [
       "<div>\n",
       "<style scoped>\n",
       "    .dataframe tbody tr th:only-of-type {\n",
       "        vertical-align: middle;\n",
       "    }\n",
       "\n",
       "    .dataframe tbody tr th {\n",
       "        vertical-align: top;\n",
       "    }\n",
       "\n",
       "    .dataframe thead th {\n",
       "        text-align: right;\n",
       "    }\n",
       "</style>\n",
       "<table border=\"1\" class=\"dataframe\">\n",
       "  <thead>\n",
       "    <tr style=\"text-align: right;\">\n",
       "      <th></th>\n",
       "      <th>Fail %</th>\n",
       "      <th>Pass %</th>\n",
       "      <th>Fail</th>\n",
       "      <th>Pass</th>\n",
       "      <th>Total</th>\n",
       "    </tr>\n",
       "    <tr>\n",
       "      <th>dataset</th>\n",
       "      <th></th>\n",
       "      <th></th>\n",
       "      <th></th>\n",
       "      <th></th>\n",
       "      <th></th>\n",
       "    </tr>\n",
       "  </thead>\n",
       "  <tbody>\n",
       "    <tr>\n",
       "      <th>cars</th>\n",
       "      <td>0.192982</td>\n",
       "      <td>0.807018</td>\n",
       "      <td>11</td>\n",
       "      <td>46</td>\n",
       "      <td>57</td>\n",
       "    </tr>\n",
       "    <tr>\n",
       "      <th>euro</th>\n",
       "      <td>1.000000</td>\n",
       "      <td>0.000000</td>\n",
       "      <td>2</td>\n",
       "      <td>0</td>\n",
       "      <td>2</td>\n",
       "    </tr>\n",
       "    <tr>\n",
       "      <th>movies</th>\n",
       "      <td>0.214286</td>\n",
       "      <td>0.785714</td>\n",
       "      <td>12</td>\n",
       "      <td>44</td>\n",
       "      <td>56</td>\n",
       "    </tr>\n",
       "    <tr>\n",
       "      <th>superstore</th>\n",
       "      <td>0.444444</td>\n",
       "      <td>0.555556</td>\n",
       "      <td>20</td>\n",
       "      <td>25</td>\n",
       "      <td>45</td>\n",
       "    </tr>\n",
       "  </tbody>\n",
       "</table>\n",
       "</div>"
      ],
      "text/plain": [
       "              Fail %    Pass %  Fail  Pass  Total\n",
       "dataset                                          \n",
       "cars        0.192982  0.807018    11    46     57\n",
       "euro        1.000000  0.000000     2     0      2\n",
       "movies      0.214286  0.785714    12    44     56\n",
       "superstore  0.444444  0.555556    20    25     45"
      ]
     },
     "execution_count": 21,
     "metadata": {},
     "output_type": "execute_result"
    }
   ],
   "source": [
    "pass1_split(validated_output_df, has_passed_all, input_prompts, 'dataset')"
   ]
  },
  {
   "cell_type": "markdown",
   "id": "5c92154d",
   "metadata": {
    "id": "5c92154d"
   },
   "source": [
    "# Render passed visualisations\n",
    "* A random sample of visualisation which passed all unit tests is shown below."
   ]
  },
  {
   "cell_type": "code",
   "execution_count": 22,
   "id": "a4e530e1-b33a-42ef-8cd1-2411d0fbb562",
   "metadata": {},
   "outputs": [
    {
     "name": "stdout",
     "output_type": "stream",
     "text": [
      "histogram of Running Time\n"
     ]
    },
    {
     "data": {
      "application/vnd.vegalite.v5+json": {
       "$schema": "https://vega.github.io/schema/vega-lite/v4.17.0.json",
       "config": {
        "view": {
         "continuousHeight": 300,
         "continuousWidth": 300
        }
       },
       "data": {
        "url": "https://raw.githubusercontent.com/nlvcorpus/nlvcorpus.github.io/main/datasets/movies.csv"
       },
       "encoding": {
        "x": {
         "axis": {
          "title": "Running Time"
         },
         "bin": true,
         "field": "Running Time",
         "type": "quantitative"
        },
        "y": {
         "aggregate": "count",
         "axis": {
          "title": "COUNT"
         },
         "type": "quantitative"
        }
       },
       "mark": {
        "tooltip": null,
        "type": "bar"
       }
      },
      "image/png": "[encoded data removed]",
      "text/plain": [
       "<VegaLite 5 object>\n",
       "\n",
       "If you see this message, it means the renderer has not been properly enabled\n",
       "for the frontend that you are using. For more information, see\n",
       "https://altair-viz.github.io/user_guide/display_frontends.html#troubleshooting\n"
      ]
     },
     "metadata": {},
     "output_type": "display_data"
    },
    {
     "name": "stdout",
     "output_type": "stream",
     "text": [
      "scatter plot of production budget vs worldwide gross, colored by genre\n"
     ]
    },
    {
     "data": {
      "application/vnd.vegalite.v5+json": {
       "$schema": "https://vega.github.io/schema/vega-lite/v4.17.0.json",
       "config": {
        "view": {
         "continuousHeight": 300,
         "continuousWidth": 300
        }
       },
       "data": {
        "url": "https://raw.githubusercontent.com/nlvcorpus/nlvcorpus.github.io/main/datasets/movies.csv"
       },
       "encoding": {
        "color": {
         "field": "Major Genre",
         "type": "nominal"
        },
        "x": {
         "field": "Production Budget",
         "type": "quantitative"
        },
        "y": {
         "axis": {
          "format": "~s"
         },
         "field": "Worldwide Gross",
         "type": "quantitative"
        }
       },
       "mark": {
        "filled": true,
        "opacity": 0.8,
        "tooltip": null,
        "type": "point"
       }
      },
      "image/png": "[encoded data removed]",
      "text/plain": [
       "<VegaLite 5 object>\n",
       "\n",
       "If you see this message, it means the renderer has not been properly enabled\n",
       "for the frontend that you are using. For more information, see\n",
       "https://altair-viz.github.io/user_guide/display_frontends.html#troubleshooting\n"
      ]
     },
     "metadata": {},
     "output_type": "display_data"
    },
    {
     "name": "stdout",
     "output_type": "stream",
     "text": [
      "What creative type of movie had the highest production budget for each content rating?\n"
     ]
    },
    {
     "data": {
      "application/vnd.vegalite.v5+json": {
       "$schema": "https://vega.github.io/schema/vega-lite/v4.17.0.json",
       "config": {
        "view": {
         "continuousHeight": 300,
         "continuousWidth": 300
        }
       },
       "data": {
        "url": "https://raw.githubusercontent.com/nlvcorpus/nlvcorpus.github.io/main/datasets/movies.csv"
       },
       "encoding": {
        "color": {
         "field": "Creative Type",
         "type": "nominal"
        },
        "column": {
         "field": "Content Rating",
         "type": "ordinal"
        },
        "x": {
         "axis": {
          "labels": false,
          "ticks": false,
          "title": ""
         },
         "field": "Creative Type",
         "scale": {},
         "type": "nominal"
        },
        "y": {
         "aggregate": "mean",
         "axis": {
          "format": "~s",
          "title": "AVG (Production Budget)"
         },
         "field": "Production Budget",
         "type": "quantitative"
        }
       },
       "mark": {
        "tooltip": null,
        "type": "bar"
       }
      },
      "image/png": "[encoded data removed]",
      "text/plain": [
       "<VegaLite 5 object>\n",
       "\n",
       "If you see this message, it means the renderer has not been properly enabled\n",
       "for the frontend that you are using. For more information, see\n",
       "https://altair-viz.github.io/user_guide/display_frontends.html#troubleshooting\n"
      ]
     },
     "metadata": {},
     "output_type": "display_data"
    },
    {
     "name": "stdout",
     "output_type": "stream",
     "text": [
      "Show correlation between sales and profit\n"
     ]
    },
    {
     "data": {
      "application/vnd.vegalite.v5+json": {
       "$schema": "https://vega.github.io/schema/vega-lite/v4.17.0.json",
       "config": {
        "view": {
         "continuousHeight": 300,
         "continuousWidth": 300
        }
       },
       "data": {
        "url": "https://raw.githubusercontent.com/nlvcorpus/nlvcorpus.github.io/main/datasets/superstore.csv"
       },
       "encoding": {
        "x": {
         "field": "Profit",
         "type": "quantitative"
        },
        "y": {
         "field": "Sales",
         "type": "quantitative"
        }
       },
       "mark": {
        "filled": true,
        "opacity": 0.5,
        "tooltip": null,
        "type": "point"
       }
      },
      "image/png": "[encoded data removed]",
      "text/plain": [
       "<VegaLite 5 object>\n",
       "\n",
       "If you see this message, it means the renderer has not been properly enabled\n",
       "for the frontend that you are using. For more information, see\n",
       "https://altair-viz.github.io/user_guide/display_frontends.html#troubleshooting\n"
      ]
     },
     "metadata": {},
     "output_type": "display_data"
    },
    {
     "name": "stdout",
     "output_type": "stream",
     "text": [
      "Cylinders count bar chart Color by origin\n"
     ]
    },
    {
     "data": {
      "application/vnd.vegalite.v5+json": {
       "$schema": "https://vega.github.io/schema/vega-lite/v4.17.0.json",
       "config": {
        "view": {
         "continuousHeight": 300,
         "continuousWidth": 300
        }
       },
       "data": {
        "url": "https://raw.githubusercontent.com/nlvcorpus/nlvcorpus.github.io/main/datasets/cars.csv"
       },
       "encoding": {
        "color": {
         "field": "Origin",
         "type": "nominal"
        },
        "x": {
         "field": "Cylinders",
         "type": "ordinal"
        },
        "y": {
         "aggregate": "count",
         "axis": {
          "format": "~s",
          "title": "COUNT"
         },
         "type": "quantitative"
        }
       },
       "mark": {
        "tooltip": null,
        "type": "bar"
       }
      },
      "image/png": "[encoded data removed]",
      "text/plain": [
       "<VegaLite 5 object>\n",
       "\n",
       "If you see this message, it means the renderer has not been properly enabled\n",
       "for the frontend that you are using. For more information, see\n",
       "https://altair-viz.github.io/user_guide/display_frontends.html#troubleshooting\n"
      ]
     },
     "metadata": {},
     "output_type": "display_data"
    }
   ],
   "source": [
    "prompts = pd.concat([input_prompts['query'] for col in range(10)], axis=1)\n",
    "prompts.columns = list(range(10))\n",
    "prompts = pd.Series(prompts.to_numpy().flatten())\n",
    "\n",
    "has_passed_all = pd.Series(has_passed_all.to_numpy().flatten())\n",
    "passed_specs = pd.Series(validated_output_df.to_numpy().flatten())\n",
    "passed_specs = passed_specs[has_passed_all]\n",
    "\n",
    "random.seed(5)\n",
    "samples = random.sample(passed_specs.index.tolist(), 5)\n",
    "for index in samples:\n",
    "  print(prompts[index])\n",
    "  chart = alt.Chart(**passed_specs[index])\n",
    "  chart.display()"
   ]
  }
 ],
 "metadata": {
  "colab": {
   "provenance": [],
   "toc_visible": true
  },
  "kernelspec": {
   "display_name": "nl2vis",
   "language": "python",
   "name": "nl2vis"
  },
  "language_info": {
   "codemirror_mode": {
    "name": "ipython",
    "version": 3
   },
   "file_extension": ".py",
   "mimetype": "text/x-python",
   "name": "python",
   "nbconvert_exporter": "python",
   "pygments_lexer": "ipython3",
   "version": "3.10.12"
  },
  "toc": {
   "base_numbering": 1,
   "nav_menu": {},
   "number_sections": true,
   "sideBar": true,
   "skip_h1_title": false,
   "title_cell": "Table of Contents",
   "title_sidebar": "Contents",
   "toc_cell": false,
   "toc_position": {
    "height": "calc(100% - 180px)",
    "left": "10px",
    "top": "150px",
    "width": "419.933px"
   },
   "toc_section_display": true,
   "toc_window_display": true
  }
 },
 "nbformat": 4,
 "nbformat_minor": 5
}
